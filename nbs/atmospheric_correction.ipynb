{
 "cells": [
  {
   "cell_type": "code",
   "execution_count": 11,
   "id": "b749dac2-6b1d-48a0-a580-923370b9a509",
   "metadata": {},
   "outputs": [],
   "source": [
    "import numpy as np\n",
    "import xarray as xr\n",
    "import rasterio as rio\n",
    "import rioxarray\n",
    "from sklearn import linear_model\n",
    "import matplotlib.pyplot as plt\n",
    "import math\n",
    "import pickle\n",
    "from scipy import stats"
   ]
  },
  {
   "cell_type": "markdown",
   "id": "d6559244-9464-43ca-8bda-87712edf3e71",
   "metadata": {},
   "source": [
    "## read in data"
   ]
  },
  {
   "cell_type": "code",
   "execution_count": 2,
   "id": "d40f146e-b4a7-493d-9f91-cc561bf61ae4",
   "metadata": {},
   "outputs": [],
   "source": [
    "data_path = '/mnt/Backups/gbrench/repos/rg_uavsar/data'\n",
    "\n",
    "path_dic = {'swatch_00540':f'{data_path}/swatch_00540/geo',\n",
    "            'swatch_08301':f'{data_path}/swatch_08301/geo',\n",
    "            'swatch_09510':f'{data_path}/swatch_09510/geo',\n",
    "            'swatch_17304_s1':f'{data_path}/swatch_17304_s1/geo',\n",
    "            'swatch_17304_s2':f'{data_path}/swatch_17304_s2/geo',\n",
    "            'swatch_18525':f'{data_path}/swatch_18525/geo',\n",
    "            'swatch_26300':f'{data_path}/swatch_26300/geo',\n",
    "            'swatch_27518':f'{data_path}/swatch_27518/geo'}"
   ]
  },
  {
   "cell_type": "code",
   "execution_count": 3,
   "id": "b3517c3d-b788-4ab3-a9bc-947bbd9b25da",
   "metadata": {},
   "outputs": [],
   "source": [
    "# function to rewrite coordinates from metadata\n",
    "def coord_range(ds):\n",
    "    latrange = np.linspace(float(ds.attrs['Y_FIRST']),\n",
    "                           ((float(ds.attrs['Y_STEP'])*float(ds.attrs['LENGTH']))+float(ds.attrs['Y_FIRST'])),\n",
    "                           int(ds.attrs['LENGTH']))\n",
    "    lonrange = np.linspace(float(ds.attrs['X_FIRST']),\n",
    "                           ((float(ds.attrs['X_STEP'])*float(ds.attrs['WIDTH']))+float(ds.attrs['X_FIRST'])),\n",
    "                           int(ds.attrs['WIDTH']))\n",
    "    return latrange, lonrange\n",
    "\n",
    "def mintpy2d_to_xarray(fn, crs):\n",
    "    ds = xr.open_dataset(fn, engine='h5netcdf', phony_dims='sort')\n",
    "    ds = ds.rename_dims({'phony_dim_0':'y',\n",
    "                         'phony_dim_1':'x'\n",
    "                        })\n",
    "    latrange, lonrange = coord_range(ds)\n",
    "    ds = ds.assign_coords({'y': ('y', latrange),\n",
    "                          'x': ('x', lonrange)})\n",
    "    ds = ds.rio.write_crs(crs)\n",
    "    \n",
    "    return ds"
   ]
  },
  {
   "cell_type": "code",
   "execution_count": 4,
   "id": "f4b12136-a6da-4331-bf4d-f1f9ea011a2f",
   "metadata": {},
   "outputs": [],
   "source": [
    "def open_uavsar(swatch, path):\n",
    "    igram_ds = xr.open_dataset(f'{path}/{swatch}_20230725_20230925_unw_phase_m.tif').squeeze()\n",
    "    cor_ds = xr.open_dataset(f'{path}/{swatch}_20230725_20230925_cor.tif').squeeze()\n",
    "    geom_ds = mintpy2d_to_xarray(f'{path}/geo_geometryRadar.h5', crs='4326')\n",
    "    geom_ds['cor'] = (('y', 'x'), cor_ds.band_data.values)\n",
    "    geom_ds['displacement'] = (('y', 'x'), igram_ds.band_data.values)\n",
    "\n",
    "    # reproject to utm\n",
    "    geom_ds = geom_ds.rio.reproject('EPSG:32613', nodata=np.nan)\n",
    "\n",
    "    # open rock glacier raster\n",
    "    rgi_ds = xr.open_dataset(f'{data_path}/rgi_raster/rgi_raster.tif').squeeze()\n",
    "    rgi_ds = rgi_ds.rio.reproject_match(geom_ds)\n",
    "\n",
    "    geom_ds['rgi'] = (('y', 'x'), rgi_ds.band_data.values)\n",
    "    \n",
    "    return geom_ds"
   ]
  },
  {
   "cell_type": "code",
   "execution_count": 5,
   "id": "a04f8f16-959c-44f7-8023-0af5819a7c9f",
   "metadata": {},
   "outputs": [
    {
     "name": "stdout",
     "output_type": "stream",
     "text": [
      "opening swatch_00540\n",
      "opening swatch_08301\n",
      "opening swatch_09510\n",
      "opening swatch_17304_s1\n",
      "opening swatch_17304_s2\n",
      "opening swatch_18525\n",
      "opening swatch_26300\n",
      "opening swatch_27518\n"
     ]
    }
   ],
   "source": [
    "# open all data\n",
    "ds_dic = {}\n",
    "for key, item in path_dic.items():\n",
    "    print(f'opening {key}')\n",
    "    ds_dic[key] = open_uavsar(key, item)"
   ]
  },
  {
   "cell_type": "markdown",
   "id": "5e3aa269-1eb0-4219-8ab2-43504c1440c8",
   "metadata": {},
   "source": [
    "## atmospheric correction"
   ]
  },
  {
   "cell_type": "code",
   "execution_count": 17,
   "id": "1b9580ea-a216-4171-821d-f1817f9b73ac",
   "metadata": {},
   "outputs": [],
   "source": [
    "# functions to perform multiple reference point atmospheric correction\n",
    "def select_refs(ds, corr_thresh, n_refs):\n",
    "    ref_list = []\n",
    "    ref_counter = 0\n",
    "    while ref_counter < n_refs:\n",
    "        x, y = np.random.randint(0, len(ds.x)), np.random.randint(0, len(ds.y))\n",
    "        if [x, y] not in ref_list:\n",
    "            if ds.cor.isel(x=x, y=y) >= corr_thresh:\n",
    "            # add that ref point can't be in rock glacier body?\n",
    "                ref_list.append([x, y])\n",
    "                ref_counter +=1\n",
    "    return ref_list\n",
    "\n",
    "def select_refs_even_elev(ds, corr_thresh, n_refs, n_intervals=5):\n",
    "    '''\n",
    "    select n reference points evenly from i elevation intervals\n",
    "    '''\n",
    "    # define elevation intervals\n",
    "    ref_list = []\n",
    "    \n",
    "    min_elev = ds.height.min().item()\n",
    "    elev_range = (ds.height.max() - min_elev).item()\n",
    "    interval_range = elev_range/n_intervals\n",
    "    for i in range(0, n_intervals):\n",
    "        interval_elev_min = (i*interval_range)+min_elev\n",
    "        interval_elev_max = ((i+1)*interval_range)+min_elev\n",
    "\n",
    "        # print(f'working on inverval {i+1}, {interval_elev_min}-{interval_elev_max}')\n",
    "        interval_ref_counter = 0\n",
    "        while interval_ref_counter < (n_refs/n_intervals):\n",
    "            x, y = np.random.randint(0, len(ds.x)), np.random.randint(0, len(ds.y))\n",
    "            if ds.height.isel(x=x, y=y) < interval_elev_max and ds.height.isel(x=x, y=y) > interval_elev_min:\n",
    "                if [x, y] not in ref_list:\n",
    "                    if ds.cor.isel(x=x, y=y) >= corr_thresh:\n",
    "                        if ds.rgi.isel(x=x, y=y) != 1:\n",
    "                            ref_list.append([x, y])\n",
    "                            interval_ref_counter +=1\n",
    "    return ref_list\n",
    "\n",
    "def plot_first_scatter(ref_displacement, ref_elevation):\n",
    "    f, ax = plt.subplots()\n",
    "    ax.plot(ref_elevation, ref_displacement, marker='o', linestyle='')\n",
    "    ax.set_xlabel('elevation')\n",
    "    ax.set_ylabel('apparent displacement')\n",
    "    ax.set_title('elevation and displacement of ref points')\n",
    "\n",
    "def sample_refs(ds, refs):\n",
    "    ref_displacement = []\n",
    "    ref_elevation = []\n",
    "    for ref in refs:\n",
    "        ref_elevation.append(ds.height.isel(x=ref[0], y=ref[1]).item())\n",
    "        ref_displacement.append(ds.displacement.isel(x=ref[0], y=ref[1]).item())\n",
    "    return ref_displacement, ref_elevation\n",
    "\n",
    "def linear_fit(ref_displacement, ref_elevation):\n",
    "    model = linear_model.LinearRegression() \n",
    "    inputs = np.array((ref_elevation, ref_displacement)).transpose()\n",
    "    inputs = inputs[~np.isnan(inputs).any(axis=1)]\n",
    "    model.fit(inputs[:, 0].reshape(-1, 1), inputs[:, 1])\n",
    "    fit = [model.coef_.item(), model.intercept_]\n",
    "    return fit\n",
    "\n",
    "def polynomial_fit(ref_displacement, ref_elevation, order=2):\n",
    "    inputs = np.array((ref_elevation, ref_displacement)).transpose()\n",
    "    inputs = inputs[~np.isnan(inputs).any(axis=1)]\n",
    "    fit = np.polyfit(inputs[:, 0], inputs[:, 1], order)\n",
    "    return fit\n",
    "\n",
    "def nmad(data):\n",
    "    \"\"\"Compute the Normalized Median Absolute Deviation of data.\"\"\"\n",
    "    return 1.4826 * stats.median_abs_deviation(data, scale='normal')\n",
    "\n",
    "def binned_polynomial_fit(ref_displacement, ref_elevation, order=2, bin_width=100):\n",
    "    # Remove rows with NaN values\n",
    "    inputs = np.array((ref_elevation, ref_displacement)).transpose()\n",
    "    inputs = inputs[~np.isnan(inputs).any(axis=1)]\n",
    "    \n",
    "    # Define bin edges with a width of bin_width\n",
    "    bin_edges = np.arange(inputs[:, 0].min(), inputs[:, 0].max(), bin_width)\n",
    "\n",
    "    # Digitize the dependent variable, i.e., assign each y to a bin\n",
    "    bins = np.digitize(inputs[:, 0], bin_edges)\n",
    "\n",
    "    # Initialize arrays for medians and nmads\n",
    "    medians = np.full(len(bin_edges) - 1, np.nan)\n",
    "    nmads = np.full(len(bin_edges) - 1, np.nan)\n",
    "\n",
    "    # Compute median and NMAD for each bin\n",
    "    for i in range(1, len(bin_edges)):\n",
    "        if np.any(bins == i):  # Check if bin is not empty\n",
    "            if len(bin_data) > 1:\n",
    "                medians[i-1] = np.median(inputs[:, 1][bins == i])\n",
    "                nmads[i-1] = nmad(inputs[:, 1][bins == i])\n",
    "\n",
    "    # Remove bins with NaN medians or nmads\n",
    "    valid_bins = ~np.isnan(medians) & ~np.isnan(nmads)\n",
    "    bin_medians = medians[valid_bins]\n",
    "    bin_nmads = nmads[valid_bins]\n",
    "    bin_centers = bin_edges[:-1][valid_bins] + bin_width / 2\n",
    "\n",
    "    # Fit the polynomial to the bin medians, weighted by the inverse of the bin NMADs\n",
    "    fit = np.polyfit(bin_centers, bin_medians, order, w=1/bin_nmads)\n",
    "\n",
    "    return fit\n",
    "\n",
    "def correct_igram(ds, fit):\n",
    "    poly = np.poly1d(fit)\n",
    "    ds['displacement_MuRP'] = ds.displacement - poly(ds.height)\n",
    "    # for linear fit: \n",
    "    #slope, intercept = fit\n",
    "    #ds['displacement_MuRP'] = ds.displacement - (ds.height*slope+intercept)\n",
    "    return ds\n",
    "\n",
    "# single function\n",
    "def MuRP(ds, corr_thresh=0.95, n_refs=1000):\n",
    "    '''\n",
    "    Correct unwrapped phase with linear fit to multiple stable reference points\n",
    "    '''\n",
    "    # print('selecting reference points')\n",
    "    # refs = select_refs(ds, corr_thresh, n_refs)\n",
    "    refs = select_refs_even_elev(ds, corr_thresh, n_refs)\n",
    "    \n",
    "    # print('sampling reference points')\n",
    "    ref_displacement, ref_elevation = sample_refs(ds, refs)\n",
    "    # plot_first_scatter(ref_displacement, ref_elevation)\n",
    "    \n",
    "    # print('calculating fits')\n",
    "    fit = binned_polynomial_fit(ref_displacement, ref_elevation)\n",
    "    \n",
    "    # print('correcting interferogram')\n",
    "    ds = correct_igram(ds, fit)\n",
    "    correction_data = [ref_displacement, ref_elevation, fit]\n",
    "\n",
    "    return ds, correction_data"
   ]
  },
  {
   "cell_type": "code",
   "execution_count": 9,
   "id": "2d5acb52-25b1-4233-a729-c5ee68878874",
   "metadata": {},
   "outputs": [],
   "source": [
    "# tiled atmospheric correction\n",
    "def tiled_correction(ds, tile_size=1400, skip_size=700):\n",
    "    xmin=0\n",
    "    xmax=tile_size\n",
    "    ymin=0\n",
    "    ymax=tile_size\n",
    "\n",
    "    correction_data = []\n",
    "    \n",
    "    corrected_array = np.full(ds.displacement.shape, np.nan)\n",
    "\n",
    "    #loop through tiles\n",
    "    for i in range(math.ceil((len(ds.x)/skip_size))):\n",
    "        print(f'column {i}')\n",
    "        for j in range(math.ceil((len(ds.y)/skip_size))):\n",
    "            print(f'row {j}')\n",
    "            ymin = j*skip_size\n",
    "            ymax = ymin+tile_size\n",
    "            xmin = i*skip_size\n",
    "            xmax = xmin+tile_size\n",
    "\n",
    "            tile_ds = ds.isel(x=slice(xmin, xmax), y=slice(ymin, ymax))\n",
    "            \n",
    "            # skip tiles that don't include valid data\n",
    "            if tile_ds.displacement.count() == 0:\n",
    "                continue\n",
    "\n",
    "            # adjust tile to include sufficient data\n",
    "            while tile_ds.displacement.count() < (skip_size**2):\n",
    "                # if too few values, expand tile size by n pixels in each direction\n",
    "                if ymax < len(ds.y)/2:\n",
    "                    ymax += skip_size\n",
    "                else: \n",
    "                    ymin -= skip_size\n",
    "                if xmax < len(ds.x)/2:\n",
    "                    xmax += skip_size\n",
    "                else:\n",
    "                    xmin -= skip_size\n",
    "\n",
    "                tile_ds = ds.isel(x=slice(xmin, xmax), y=slice(ymin, ymax))\n",
    "\n",
    "            print(f'tile extent x: {xmin}, {xmax}, y: {ymin}, {ymax}')\n",
    "\n",
    "            corrected_ds, tile_correction_data = MuRP(tile_ds)\n",
    "            corrected_tile = np.full(ds.displacement.shape, np.nan)\n",
    "            corrected_tile[ymin:ymax, xmin:xmax] = corrected_ds.displacement_MuRP.values\n",
    "\n",
    "            # add tile to corrected array, taking mean where data overlaps\n",
    "            corrected_array = np.nanmean(np.stack([corrected_array, corrected_tile]), axis=0)\n",
    "\n",
    "            # preserve correction data in list\n",
    "            correction_data.append(tile_correction_data)\n",
    "\n",
    "    ds['displacement_MuRP'] = (('y', 'x'), corrected_array)\n",
    "\n",
    "    return ds, correction_data"
   ]
  },
  {
   "cell_type": "code",
   "execution_count": 18,
   "id": "b483ed5f-b591-4d35-b23f-16319fd00dd7",
   "metadata": {
    "scrolled": true
   },
   "outputs": [
    {
     "name": "stdout",
     "output_type": "stream",
     "text": [
      "working on swatch_00540\n",
      "column 0\n",
      "row 0\n",
      "tile extent x: 0, 1400, y: 0, 1400\n"
     ]
    },
    {
     "name": "stderr",
     "output_type": "stream",
     "text": [
      "/tmp/ipykernel_26419/1782889505.py:49: RuntimeWarning: Mean of empty slice\n",
      "  corrected_array = np.nanmean(np.stack([corrected_array, corrected_tile]), axis=0)\n"
     ]
    },
    {
     "name": "stdout",
     "output_type": "stream",
     "text": [
      "row 1\n",
      "tile extent x: 0, 1400, y: 700, 2100\n"
     ]
    },
    {
     "name": "stderr",
     "output_type": "stream",
     "text": [
      "/tmp/ipykernel_26419/1782889505.py:49: RuntimeWarning: Mean of empty slice\n",
      "  corrected_array = np.nanmean(np.stack([corrected_array, corrected_tile]), axis=0)\n"
     ]
    },
    {
     "name": "stdout",
     "output_type": "stream",
     "text": [
      "row 2\n",
      "tile extent x: 0, 1400, y: 1400, 2800\n"
     ]
    },
    {
     "name": "stderr",
     "output_type": "stream",
     "text": [
      "/tmp/ipykernel_26419/1782889505.py:49: RuntimeWarning: Mean of empty slice\n",
      "  corrected_array = np.nanmean(np.stack([corrected_array, corrected_tile]), axis=0)\n"
     ]
    },
    {
     "name": "stdout",
     "output_type": "stream",
     "text": [
      "row 3\n",
      "tile extent x: 0, 1400, y: 2100, 3500\n"
     ]
    },
    {
     "name": "stderr",
     "output_type": "stream",
     "text": [
      "/tmp/ipykernel_26419/1782889505.py:49: RuntimeWarning: Mean of empty slice\n",
      "  corrected_array = np.nanmean(np.stack([corrected_array, corrected_tile]), axis=0)\n"
     ]
    },
    {
     "name": "stdout",
     "output_type": "stream",
     "text": [
      "row 4\n",
      "tile extent x: 0, 1400, y: 2800, 4200\n"
     ]
    },
    {
     "name": "stderr",
     "output_type": "stream",
     "text": [
      "/tmp/ipykernel_26419/1782889505.py:49: RuntimeWarning: Mean of empty slice\n",
      "  corrected_array = np.nanmean(np.stack([corrected_array, corrected_tile]), axis=0)\n"
     ]
    },
    {
     "name": "stdout",
     "output_type": "stream",
     "text": [
      "row 5\n",
      "tile extent x: 0, 1400, y: 3500, 4900\n"
     ]
    },
    {
     "name": "stderr",
     "output_type": "stream",
     "text": [
      "/tmp/ipykernel_26419/1782889505.py:49: RuntimeWarning: Mean of empty slice\n",
      "  corrected_array = np.nanmean(np.stack([corrected_array, corrected_tile]), axis=0)\n"
     ]
    },
    {
     "name": "stdout",
     "output_type": "stream",
     "text": [
      "row 6\n",
      "tile extent x: 0, 1400, y: 4200, 5600\n"
     ]
    },
    {
     "name": "stderr",
     "output_type": "stream",
     "text": [
      "/tmp/ipykernel_26419/1782889505.py:49: RuntimeWarning: Mean of empty slice\n",
      "  corrected_array = np.nanmean(np.stack([corrected_array, corrected_tile]), axis=0)\n"
     ]
    },
    {
     "name": "stdout",
     "output_type": "stream",
     "text": [
      "row 7\n",
      "tile extent x: 0, 1400, y: 4900, 6300\n"
     ]
    },
    {
     "name": "stderr",
     "output_type": "stream",
     "text": [
      "/tmp/ipykernel_26419/1782889505.py:49: RuntimeWarning: Mean of empty slice\n",
      "  corrected_array = np.nanmean(np.stack([corrected_array, corrected_tile]), axis=0)\n"
     ]
    },
    {
     "name": "stdout",
     "output_type": "stream",
     "text": [
      "row 8\n",
      "tile extent x: 0, 1400, y: 5600, 7000\n"
     ]
    },
    {
     "name": "stderr",
     "output_type": "stream",
     "text": [
      "/tmp/ipykernel_26419/1782889505.py:49: RuntimeWarning: Mean of empty slice\n",
      "  corrected_array = np.nanmean(np.stack([corrected_array, corrected_tile]), axis=0)\n"
     ]
    },
    {
     "name": "stdout",
     "output_type": "stream",
     "text": [
      "row 9\n",
      "tile extent x: 0, 1400, y: 6300, 7700\n"
     ]
    },
    {
     "name": "stderr",
     "output_type": "stream",
     "text": [
      "/tmp/ipykernel_26419/1782889505.py:49: RuntimeWarning: Mean of empty slice\n",
      "  corrected_array = np.nanmean(np.stack([corrected_array, corrected_tile]), axis=0)\n"
     ]
    },
    {
     "name": "stdout",
     "output_type": "stream",
     "text": [
      "row 10\n",
      "tile extent x: 0, 1400, y: 7000, 8400\n"
     ]
    },
    {
     "name": "stderr",
     "output_type": "stream",
     "text": [
      "/tmp/ipykernel_26419/1782889505.py:49: RuntimeWarning: Mean of empty slice\n",
      "  corrected_array = np.nanmean(np.stack([corrected_array, corrected_tile]), axis=0)\n"
     ]
    },
    {
     "name": "stdout",
     "output_type": "stream",
     "text": [
      "row 11\n",
      "tile extent x: 0, 1400, y: 7700, 9100\n"
     ]
    },
    {
     "name": "stderr",
     "output_type": "stream",
     "text": [
      "/tmp/ipykernel_26419/1782889505.py:49: RuntimeWarning: Mean of empty slice\n",
      "  corrected_array = np.nanmean(np.stack([corrected_array, corrected_tile]), axis=0)\n"
     ]
    },
    {
     "name": "stdout",
     "output_type": "stream",
     "text": [
      "row 12\n",
      "tile extent x: 0, 1400, y: 8400, 9800\n"
     ]
    },
    {
     "name": "stderr",
     "output_type": "stream",
     "text": [
      "/tmp/ipykernel_26419/1782889505.py:49: RuntimeWarning: Mean of empty slice\n",
      "  corrected_array = np.nanmean(np.stack([corrected_array, corrected_tile]), axis=0)\n"
     ]
    },
    {
     "name": "stdout",
     "output_type": "stream",
     "text": [
      "row 13\n",
      "tile extent x: 0, 2100, y: 8400, 10500\n"
     ]
    },
    {
     "name": "stderr",
     "output_type": "stream",
     "text": [
      "/tmp/ipykernel_26419/1782889505.py:49: RuntimeWarning: Mean of empty slice\n",
      "  corrected_array = np.nanmean(np.stack([corrected_array, corrected_tile]), axis=0)\n"
     ]
    },
    {
     "name": "stdout",
     "output_type": "stream",
     "text": [
      "column 1\n",
      "row 0\n",
      "tile extent x: 700, 2100, y: 0, 1400\n"
     ]
    },
    {
     "name": "stderr",
     "output_type": "stream",
     "text": [
      "/tmp/ipykernel_26419/1782889505.py:49: RuntimeWarning: Mean of empty slice\n",
      "  corrected_array = np.nanmean(np.stack([corrected_array, corrected_tile]), axis=0)\n"
     ]
    },
    {
     "name": "stdout",
     "output_type": "stream",
     "text": [
      "row 1\n",
      "tile extent x: 700, 2100, y: 700, 2100\n"
     ]
    },
    {
     "name": "stderr",
     "output_type": "stream",
     "text": [
      "/tmp/ipykernel_26419/1782889505.py:49: RuntimeWarning: Mean of empty slice\n",
      "  corrected_array = np.nanmean(np.stack([corrected_array, corrected_tile]), axis=0)\n"
     ]
    },
    {
     "name": "stdout",
     "output_type": "stream",
     "text": [
      "row 2\n",
      "tile extent x: 700, 2100, y: 1400, 2800\n"
     ]
    },
    {
     "name": "stderr",
     "output_type": "stream",
     "text": [
      "/tmp/ipykernel_26419/1782889505.py:49: RuntimeWarning: Mean of empty slice\n",
      "  corrected_array = np.nanmean(np.stack([corrected_array, corrected_tile]), axis=0)\n"
     ]
    },
    {
     "name": "stdout",
     "output_type": "stream",
     "text": [
      "row 3\n",
      "tile extent x: 700, 2100, y: 2100, 3500\n"
     ]
    },
    {
     "name": "stderr",
     "output_type": "stream",
     "text": [
      "/tmp/ipykernel_26419/1782889505.py:49: RuntimeWarning: Mean of empty slice\n",
      "  corrected_array = np.nanmean(np.stack([corrected_array, corrected_tile]), axis=0)\n"
     ]
    },
    {
     "name": "stdout",
     "output_type": "stream",
     "text": [
      "row 4\n",
      "tile extent x: 700, 2100, y: 2800, 4200\n"
     ]
    },
    {
     "name": "stderr",
     "output_type": "stream",
     "text": [
      "/tmp/ipykernel_26419/1782889505.py:49: RuntimeWarning: Mean of empty slice\n",
      "  corrected_array = np.nanmean(np.stack([corrected_array, corrected_tile]), axis=0)\n"
     ]
    },
    {
     "name": "stdout",
     "output_type": "stream",
     "text": [
      "row 5\n",
      "tile extent x: 700, 2100, y: 3500, 4900\n"
     ]
    },
    {
     "name": "stderr",
     "output_type": "stream",
     "text": [
      "/tmp/ipykernel_26419/1782889505.py:49: RuntimeWarning: Mean of empty slice\n",
      "  corrected_array = np.nanmean(np.stack([corrected_array, corrected_tile]), axis=0)\n"
     ]
    },
    {
     "name": "stdout",
     "output_type": "stream",
     "text": [
      "row 6\n",
      "tile extent x: 700, 2100, y: 4200, 5600\n"
     ]
    },
    {
     "name": "stderr",
     "output_type": "stream",
     "text": [
      "/tmp/ipykernel_26419/1782889505.py:49: RuntimeWarning: Mean of empty slice\n",
      "  corrected_array = np.nanmean(np.stack([corrected_array, corrected_tile]), axis=0)\n"
     ]
    },
    {
     "name": "stdout",
     "output_type": "stream",
     "text": [
      "row 7\n",
      "tile extent x: 700, 2100, y: 4900, 6300\n"
     ]
    },
    {
     "name": "stderr",
     "output_type": "stream",
     "text": [
      "/tmp/ipykernel_26419/1782889505.py:49: RuntimeWarning: Mean of empty slice\n",
      "  corrected_array = np.nanmean(np.stack([corrected_array, corrected_tile]), axis=0)\n"
     ]
    },
    {
     "name": "stdout",
     "output_type": "stream",
     "text": [
      "row 8\n",
      "tile extent x: 700, 2100, y: 5600, 7000\n"
     ]
    },
    {
     "name": "stderr",
     "output_type": "stream",
     "text": [
      "/tmp/ipykernel_26419/1782889505.py:49: RuntimeWarning: Mean of empty slice\n",
      "  corrected_array = np.nanmean(np.stack([corrected_array, corrected_tile]), axis=0)\n"
     ]
    },
    {
     "name": "stdout",
     "output_type": "stream",
     "text": [
      "row 9\n",
      "tile extent x: 700, 2100, y: 6300, 7700\n"
     ]
    },
    {
     "name": "stderr",
     "output_type": "stream",
     "text": [
      "/tmp/ipykernel_26419/1782889505.py:49: RuntimeWarning: Mean of empty slice\n",
      "  corrected_array = np.nanmean(np.stack([corrected_array, corrected_tile]), axis=0)\n"
     ]
    },
    {
     "name": "stdout",
     "output_type": "stream",
     "text": [
      "row 10\n",
      "tile extent x: 700, 2100, y: 7000, 8400\n"
     ]
    },
    {
     "name": "stderr",
     "output_type": "stream",
     "text": [
      "/tmp/ipykernel_26419/1782889505.py:49: RuntimeWarning: Mean of empty slice\n",
      "  corrected_array = np.nanmean(np.stack([corrected_array, corrected_tile]), axis=0)\n"
     ]
    },
    {
     "name": "stdout",
     "output_type": "stream",
     "text": [
      "row 11\n",
      "tile extent x: 700, 2100, y: 7700, 9100\n"
     ]
    },
    {
     "name": "stderr",
     "output_type": "stream",
     "text": [
      "/tmp/ipykernel_26419/1782889505.py:49: RuntimeWarning: Mean of empty slice\n",
      "  corrected_array = np.nanmean(np.stack([corrected_array, corrected_tile]), axis=0)\n"
     ]
    },
    {
     "name": "stdout",
     "output_type": "stream",
     "text": [
      "row 12\n",
      "tile extent x: 700, 2100, y: 8400, 9800\n"
     ]
    },
    {
     "name": "stderr",
     "output_type": "stream",
     "text": [
      "/tmp/ipykernel_26419/1782889505.py:49: RuntimeWarning: Mean of empty slice\n",
      "  corrected_array = np.nanmean(np.stack([corrected_array, corrected_tile]), axis=0)\n"
     ]
    },
    {
     "name": "stdout",
     "output_type": "stream",
     "text": [
      "row 13\n",
      "tile extent x: 700, 2800, y: 8400, 10500\n"
     ]
    },
    {
     "name": "stderr",
     "output_type": "stream",
     "text": [
      "/tmp/ipykernel_26419/1782889505.py:49: RuntimeWarning: Mean of empty slice\n",
      "  corrected_array = np.nanmean(np.stack([corrected_array, corrected_tile]), axis=0)\n"
     ]
    },
    {
     "name": "stdout",
     "output_type": "stream",
     "text": [
      "column 2\n",
      "row 0\n",
      "tile extent x: 1400, 2800, y: 0, 1400\n"
     ]
    },
    {
     "name": "stderr",
     "output_type": "stream",
     "text": [
      "/tmp/ipykernel_26419/1782889505.py:49: RuntimeWarning: Mean of empty slice\n",
      "  corrected_array = np.nanmean(np.stack([corrected_array, corrected_tile]), axis=0)\n"
     ]
    },
    {
     "name": "stdout",
     "output_type": "stream",
     "text": [
      "row 1\n",
      "tile extent x: 1400, 2800, y: 700, 2100\n"
     ]
    },
    {
     "name": "stderr",
     "output_type": "stream",
     "text": [
      "/tmp/ipykernel_26419/1782889505.py:49: RuntimeWarning: Mean of empty slice\n",
      "  corrected_array = np.nanmean(np.stack([corrected_array, corrected_tile]), axis=0)\n"
     ]
    },
    {
     "name": "stdout",
     "output_type": "stream",
     "text": [
      "row 2\n",
      "tile extent x: 1400, 2800, y: 1400, 2800\n"
     ]
    },
    {
     "name": "stderr",
     "output_type": "stream",
     "text": [
      "/tmp/ipykernel_26419/1782889505.py:49: RuntimeWarning: Mean of empty slice\n",
      "  corrected_array = np.nanmean(np.stack([corrected_array, corrected_tile]), axis=0)\n"
     ]
    },
    {
     "name": "stdout",
     "output_type": "stream",
     "text": [
      "row 3\n",
      "tile extent x: 1400, 2800, y: 2100, 3500\n"
     ]
    },
    {
     "name": "stderr",
     "output_type": "stream",
     "text": [
      "/tmp/ipykernel_26419/1782889505.py:49: RuntimeWarning: Mean of empty slice\n",
      "  corrected_array = np.nanmean(np.stack([corrected_array, corrected_tile]), axis=0)\n"
     ]
    },
    {
     "name": "stdout",
     "output_type": "stream",
     "text": [
      "row 4\n",
      "tile extent x: 1400, 2800, y: 2800, 4200\n"
     ]
    },
    {
     "name": "stderr",
     "output_type": "stream",
     "text": [
      "/tmp/ipykernel_26419/1782889505.py:49: RuntimeWarning: Mean of empty slice\n",
      "  corrected_array = np.nanmean(np.stack([corrected_array, corrected_tile]), axis=0)\n"
     ]
    },
    {
     "name": "stdout",
     "output_type": "stream",
     "text": [
      "row 5\n",
      "tile extent x: 1400, 2800, y: 3500, 4900\n"
     ]
    },
    {
     "name": "stderr",
     "output_type": "stream",
     "text": [
      "/tmp/ipykernel_26419/1782889505.py:49: RuntimeWarning: Mean of empty slice\n",
      "  corrected_array = np.nanmean(np.stack([corrected_array, corrected_tile]), axis=0)\n"
     ]
    },
    {
     "name": "stdout",
     "output_type": "stream",
     "text": [
      "row 6\n",
      "tile extent x: 1400, 2800, y: 4200, 5600\n"
     ]
    },
    {
     "name": "stderr",
     "output_type": "stream",
     "text": [
      "/tmp/ipykernel_26419/1782889505.py:49: RuntimeWarning: Mean of empty slice\n",
      "  corrected_array = np.nanmean(np.stack([corrected_array, corrected_tile]), axis=0)\n"
     ]
    },
    {
     "name": "stdout",
     "output_type": "stream",
     "text": [
      "row 7\n",
      "tile extent x: 1400, 2800, y: 4900, 6300\n"
     ]
    },
    {
     "name": "stderr",
     "output_type": "stream",
     "text": [
      "/tmp/ipykernel_26419/1782889505.py:49: RuntimeWarning: Mean of empty slice\n",
      "  corrected_array = np.nanmean(np.stack([corrected_array, corrected_tile]), axis=0)\n"
     ]
    },
    {
     "name": "stdout",
     "output_type": "stream",
     "text": [
      "row 8\n",
      "tile extent x: 1400, 2800, y: 5600, 7000\n"
     ]
    },
    {
     "name": "stderr",
     "output_type": "stream",
     "text": [
      "/tmp/ipykernel_26419/1782889505.py:49: RuntimeWarning: Mean of empty slice\n",
      "  corrected_array = np.nanmean(np.stack([corrected_array, corrected_tile]), axis=0)\n"
     ]
    },
    {
     "name": "stdout",
     "output_type": "stream",
     "text": [
      "row 9\n",
      "tile extent x: 1400, 2800, y: 6300, 7700\n"
     ]
    },
    {
     "name": "stderr",
     "output_type": "stream",
     "text": [
      "/tmp/ipykernel_26419/1782889505.py:49: RuntimeWarning: Mean of empty slice\n",
      "  corrected_array = np.nanmean(np.stack([corrected_array, corrected_tile]), axis=0)\n"
     ]
    },
    {
     "name": "stdout",
     "output_type": "stream",
     "text": [
      "row 10\n",
      "tile extent x: 1400, 2800, y: 7000, 8400\n"
     ]
    },
    {
     "name": "stderr",
     "output_type": "stream",
     "text": [
      "/tmp/ipykernel_26419/1782889505.py:49: RuntimeWarning: Mean of empty slice\n",
      "  corrected_array = np.nanmean(np.stack([corrected_array, corrected_tile]), axis=0)\n"
     ]
    },
    {
     "name": "stdout",
     "output_type": "stream",
     "text": [
      "row 11\n",
      "tile extent x: 1400, 2800, y: 7700, 9100\n"
     ]
    },
    {
     "name": "stderr",
     "output_type": "stream",
     "text": [
      "/tmp/ipykernel_26419/1782889505.py:49: RuntimeWarning: Mean of empty slice\n",
      "  corrected_array = np.nanmean(np.stack([corrected_array, corrected_tile]), axis=0)\n"
     ]
    },
    {
     "name": "stdout",
     "output_type": "stream",
     "text": [
      "row 12\n",
      "tile extent x: 1400, 2800, y: 8400, 9800\n"
     ]
    },
    {
     "name": "stderr",
     "output_type": "stream",
     "text": [
      "/tmp/ipykernel_26419/1782889505.py:49: RuntimeWarning: Mean of empty slice\n",
      "  corrected_array = np.nanmean(np.stack([corrected_array, corrected_tile]), axis=0)\n"
     ]
    },
    {
     "name": "stdout",
     "output_type": "stream",
     "text": [
      "row 13\n",
      "tile extent x: 700, 2800, y: 8400, 10500\n"
     ]
    },
    {
     "name": "stderr",
     "output_type": "stream",
     "text": [
      "/tmp/ipykernel_26419/1782889505.py:49: RuntimeWarning: Mean of empty slice\n",
      "  corrected_array = np.nanmean(np.stack([corrected_array, corrected_tile]), axis=0)\n"
     ]
    },
    {
     "name": "stdout",
     "output_type": "stream",
     "text": [
      "column 3\n",
      "row 0\n",
      "tile extent x: 2100, 3500, y: 0, 1400\n"
     ]
    },
    {
     "name": "stderr",
     "output_type": "stream",
     "text": [
      "/tmp/ipykernel_26419/1782889505.py:49: RuntimeWarning: Mean of empty slice\n",
      "  corrected_array = np.nanmean(np.stack([corrected_array, corrected_tile]), axis=0)\n"
     ]
    },
    {
     "name": "stdout",
     "output_type": "stream",
     "text": [
      "row 1\n",
      "tile extent x: 2100, 3500, y: 700, 2100\n"
     ]
    },
    {
     "name": "stderr",
     "output_type": "stream",
     "text": [
      "/tmp/ipykernel_26419/1782889505.py:49: RuntimeWarning: Mean of empty slice\n",
      "  corrected_array = np.nanmean(np.stack([corrected_array, corrected_tile]), axis=0)\n"
     ]
    },
    {
     "name": "stdout",
     "output_type": "stream",
     "text": [
      "row 2\n",
      "tile extent x: 2100, 3500, y: 1400, 2800\n"
     ]
    },
    {
     "name": "stderr",
     "output_type": "stream",
     "text": [
      "/tmp/ipykernel_26419/1782889505.py:49: RuntimeWarning: Mean of empty slice\n",
      "  corrected_array = np.nanmean(np.stack([corrected_array, corrected_tile]), axis=0)\n"
     ]
    },
    {
     "name": "stdout",
     "output_type": "stream",
     "text": [
      "row 3\n",
      "tile extent x: 2100, 3500, y: 2100, 3500\n"
     ]
    },
    {
     "name": "stderr",
     "output_type": "stream",
     "text": [
      "/tmp/ipykernel_26419/1782889505.py:49: RuntimeWarning: Mean of empty slice\n",
      "  corrected_array = np.nanmean(np.stack([corrected_array, corrected_tile]), axis=0)\n"
     ]
    },
    {
     "name": "stdout",
     "output_type": "stream",
     "text": [
      "row 4\n",
      "tile extent x: 2100, 3500, y: 2800, 4200\n"
     ]
    },
    {
     "name": "stderr",
     "output_type": "stream",
     "text": [
      "/tmp/ipykernel_26419/1782889505.py:49: RuntimeWarning: Mean of empty slice\n",
      "  corrected_array = np.nanmean(np.stack([corrected_array, corrected_tile]), axis=0)\n"
     ]
    },
    {
     "name": "stdout",
     "output_type": "stream",
     "text": [
      "row 5\n",
      "tile extent x: 2100, 3500, y: 3500, 4900\n"
     ]
    },
    {
     "name": "stderr",
     "output_type": "stream",
     "text": [
      "/tmp/ipykernel_26419/1782889505.py:49: RuntimeWarning: Mean of empty slice\n",
      "  corrected_array = np.nanmean(np.stack([corrected_array, corrected_tile]), axis=0)\n"
     ]
    },
    {
     "name": "stdout",
     "output_type": "stream",
     "text": [
      "row 6\n",
      "tile extent x: 2100, 3500, y: 4200, 5600\n"
     ]
    },
    {
     "name": "stderr",
     "output_type": "stream",
     "text": [
      "/tmp/ipykernel_26419/1782889505.py:49: RuntimeWarning: Mean of empty slice\n",
      "  corrected_array = np.nanmean(np.stack([corrected_array, corrected_tile]), axis=0)\n"
     ]
    },
    {
     "name": "stdout",
     "output_type": "stream",
     "text": [
      "row 7\n",
      "tile extent x: 2100, 3500, y: 4900, 6300\n"
     ]
    },
    {
     "name": "stderr",
     "output_type": "stream",
     "text": [
      "/tmp/ipykernel_26419/1782889505.py:49: RuntimeWarning: Mean of empty slice\n",
      "  corrected_array = np.nanmean(np.stack([corrected_array, corrected_tile]), axis=0)\n"
     ]
    },
    {
     "name": "stdout",
     "output_type": "stream",
     "text": [
      "row 8\n",
      "tile extent x: 2100, 3500, y: 5600, 7000\n"
     ]
    },
    {
     "name": "stderr",
     "output_type": "stream",
     "text": [
      "/tmp/ipykernel_26419/1782889505.py:49: RuntimeWarning: Mean of empty slice\n",
      "  corrected_array = np.nanmean(np.stack([corrected_array, corrected_tile]), axis=0)\n"
     ]
    },
    {
     "name": "stdout",
     "output_type": "stream",
     "text": [
      "row 9\n",
      "tile extent x: 2100, 3500, y: 6300, 7700\n"
     ]
    },
    {
     "name": "stderr",
     "output_type": "stream",
     "text": [
      "/tmp/ipykernel_26419/1782889505.py:49: RuntimeWarning: Mean of empty slice\n",
      "  corrected_array = np.nanmean(np.stack([corrected_array, corrected_tile]), axis=0)\n"
     ]
    },
    {
     "name": "stdout",
     "output_type": "stream",
     "text": [
      "row 10\n",
      "tile extent x: 2100, 3500, y: 7000, 8400\n"
     ]
    },
    {
     "name": "stderr",
     "output_type": "stream",
     "text": [
      "/tmp/ipykernel_26419/1782889505.py:49: RuntimeWarning: Mean of empty slice\n",
      "  corrected_array = np.nanmean(np.stack([corrected_array, corrected_tile]), axis=0)\n"
     ]
    },
    {
     "name": "stdout",
     "output_type": "stream",
     "text": [
      "row 11\n",
      "tile extent x: 2100, 3500, y: 7700, 9100\n"
     ]
    },
    {
     "name": "stderr",
     "output_type": "stream",
     "text": [
      "/tmp/ipykernel_26419/1782889505.py:49: RuntimeWarning: Mean of empty slice\n",
      "  corrected_array = np.nanmean(np.stack([corrected_array, corrected_tile]), axis=0)\n"
     ]
    },
    {
     "name": "stdout",
     "output_type": "stream",
     "text": [
      "row 12\n",
      "tile extent x: 2100, 3500, y: 8400, 9800\n"
     ]
    },
    {
     "name": "stderr",
     "output_type": "stream",
     "text": [
      "/tmp/ipykernel_26419/1782889505.py:49: RuntimeWarning: Mean of empty slice\n",
      "  corrected_array = np.nanmean(np.stack([corrected_array, corrected_tile]), axis=0)\n"
     ]
    },
    {
     "name": "stdout",
     "output_type": "stream",
     "text": [
      "row 13\n",
      "tile extent x: 1400, 3500, y: 8400, 10500\n"
     ]
    },
    {
     "name": "stderr",
     "output_type": "stream",
     "text": [
      "/tmp/ipykernel_26419/1782889505.py:49: RuntimeWarning: Mean of empty slice\n",
      "  corrected_array = np.nanmean(np.stack([corrected_array, corrected_tile]), axis=0)\n"
     ]
    },
    {
     "name": "stdout",
     "output_type": "stream",
     "text": [
      "column 4\n",
      "row 0\n",
      "tile extent x: 2800, 4200, y: 0, 1400\n"
     ]
    },
    {
     "name": "stderr",
     "output_type": "stream",
     "text": [
      "/tmp/ipykernel_26419/1782889505.py:49: RuntimeWarning: Mean of empty slice\n",
      "  corrected_array = np.nanmean(np.stack([corrected_array, corrected_tile]), axis=0)\n"
     ]
    },
    {
     "name": "stdout",
     "output_type": "stream",
     "text": [
      "row 1\n",
      "tile extent x: 2800, 4200, y: 700, 2100\n"
     ]
    },
    {
     "name": "stderr",
     "output_type": "stream",
     "text": [
      "/tmp/ipykernel_26419/1782889505.py:49: RuntimeWarning: Mean of empty slice\n",
      "  corrected_array = np.nanmean(np.stack([corrected_array, corrected_tile]), axis=0)\n"
     ]
    },
    {
     "name": "stdout",
     "output_type": "stream",
     "text": [
      "row 2\n",
      "tile extent x: 2800, 4200, y: 1400, 2800\n"
     ]
    },
    {
     "name": "stderr",
     "output_type": "stream",
     "text": [
      "/tmp/ipykernel_26419/1782889505.py:49: RuntimeWarning: Mean of empty slice\n",
      "  corrected_array = np.nanmean(np.stack([corrected_array, corrected_tile]), axis=0)\n"
     ]
    },
    {
     "name": "stdout",
     "output_type": "stream",
     "text": [
      "row 3\n",
      "tile extent x: 2800, 4200, y: 2100, 3500\n"
     ]
    },
    {
     "name": "stderr",
     "output_type": "stream",
     "text": [
      "/tmp/ipykernel_26419/1782889505.py:49: RuntimeWarning: Mean of empty slice\n",
      "  corrected_array = np.nanmean(np.stack([corrected_array, corrected_tile]), axis=0)\n"
     ]
    },
    {
     "name": "stdout",
     "output_type": "stream",
     "text": [
      "row 4\n",
      "tile extent x: 2800, 4200, y: 2800, 4200\n"
     ]
    },
    {
     "name": "stderr",
     "output_type": "stream",
     "text": [
      "/tmp/ipykernel_26419/1782889505.py:49: RuntimeWarning: Mean of empty slice\n",
      "  corrected_array = np.nanmean(np.stack([corrected_array, corrected_tile]), axis=0)\n"
     ]
    },
    {
     "name": "stdout",
     "output_type": "stream",
     "text": [
      "row 5\n",
      "tile extent x: 2800, 4200, y: 3500, 4900\n"
     ]
    },
    {
     "name": "stderr",
     "output_type": "stream",
     "text": [
      "/tmp/ipykernel_26419/1782889505.py:49: RuntimeWarning: Mean of empty slice\n",
      "  corrected_array = np.nanmean(np.stack([corrected_array, corrected_tile]), axis=0)\n"
     ]
    },
    {
     "name": "stdout",
     "output_type": "stream",
     "text": [
      "row 6\n",
      "tile extent x: 2800, 4200, y: 4200, 5600\n"
     ]
    },
    {
     "name": "stderr",
     "output_type": "stream",
     "text": [
      "/tmp/ipykernel_26419/1782889505.py:49: RuntimeWarning: Mean of empty slice\n",
      "  corrected_array = np.nanmean(np.stack([corrected_array, corrected_tile]), axis=0)\n"
     ]
    },
    {
     "name": "stdout",
     "output_type": "stream",
     "text": [
      "row 7\n",
      "tile extent x: 2800, 4200, y: 4900, 6300\n"
     ]
    },
    {
     "name": "stderr",
     "output_type": "stream",
     "text": [
      "/tmp/ipykernel_26419/1782889505.py:49: RuntimeWarning: Mean of empty slice\n",
      "  corrected_array = np.nanmean(np.stack([corrected_array, corrected_tile]), axis=0)\n"
     ]
    },
    {
     "name": "stdout",
     "output_type": "stream",
     "text": [
      "row 8\n",
      "tile extent x: 2800, 4200, y: 5600, 7000\n"
     ]
    },
    {
     "name": "stderr",
     "output_type": "stream",
     "text": [
      "/tmp/ipykernel_26419/1782889505.py:49: RuntimeWarning: Mean of empty slice\n",
      "  corrected_array = np.nanmean(np.stack([corrected_array, corrected_tile]), axis=0)\n"
     ]
    },
    {
     "name": "stdout",
     "output_type": "stream",
     "text": [
      "row 9\n",
      "tile extent x: 2800, 4200, y: 6300, 7700\n"
     ]
    },
    {
     "name": "stderr",
     "output_type": "stream",
     "text": [
      "/tmp/ipykernel_26419/1782889505.py:49: RuntimeWarning: Mean of empty slice\n",
      "  corrected_array = np.nanmean(np.stack([corrected_array, corrected_tile]), axis=0)\n"
     ]
    },
    {
     "name": "stdout",
     "output_type": "stream",
     "text": [
      "row 10\n",
      "tile extent x: 2800, 4200, y: 7000, 8400\n"
     ]
    },
    {
     "name": "stderr",
     "output_type": "stream",
     "text": [
      "/tmp/ipykernel_26419/1782889505.py:49: RuntimeWarning: Mean of empty slice\n",
      "  corrected_array = np.nanmean(np.stack([corrected_array, corrected_tile]), axis=0)\n"
     ]
    },
    {
     "name": "stdout",
     "output_type": "stream",
     "text": [
      "row 11\n",
      "tile extent x: 2800, 4200, y: 7700, 9100\n"
     ]
    },
    {
     "name": "stderr",
     "output_type": "stream",
     "text": [
      "/tmp/ipykernel_26419/1782889505.py:49: RuntimeWarning: Mean of empty slice\n",
      "  corrected_array = np.nanmean(np.stack([corrected_array, corrected_tile]), axis=0)\n"
     ]
    },
    {
     "name": "stdout",
     "output_type": "stream",
     "text": [
      "row 12\n",
      "tile extent x: 2800, 4200, y: 8400, 9800\n"
     ]
    },
    {
     "name": "stderr",
     "output_type": "stream",
     "text": [
      "/tmp/ipykernel_26419/1782889505.py:49: RuntimeWarning: Mean of empty slice\n",
      "  corrected_array = np.nanmean(np.stack([corrected_array, corrected_tile]), axis=0)\n"
     ]
    },
    {
     "name": "stdout",
     "output_type": "stream",
     "text": [
      "row 13\n",
      "tile extent x: 2100, 4200, y: 8400, 10500\n"
     ]
    },
    {
     "name": "stderr",
     "output_type": "stream",
     "text": [
      "/tmp/ipykernel_26419/1782889505.py:49: RuntimeWarning: Mean of empty slice\n",
      "  corrected_array = np.nanmean(np.stack([corrected_array, corrected_tile]), axis=0)\n"
     ]
    },
    {
     "name": "stdout",
     "output_type": "stream",
     "text": [
      "column 5\n",
      "row 0\n",
      "tile extent x: 3500, 4900, y: 0, 1400\n"
     ]
    },
    {
     "name": "stderr",
     "output_type": "stream",
     "text": [
      "/tmp/ipykernel_26419/1782889505.py:49: RuntimeWarning: Mean of empty slice\n",
      "  corrected_array = np.nanmean(np.stack([corrected_array, corrected_tile]), axis=0)\n"
     ]
    },
    {
     "name": "stdout",
     "output_type": "stream",
     "text": [
      "row 1\n",
      "tile extent x: 3500, 4900, y: 700, 2100\n"
     ]
    },
    {
     "name": "stderr",
     "output_type": "stream",
     "text": [
      "/tmp/ipykernel_26419/1782889505.py:49: RuntimeWarning: Mean of empty slice\n",
      "  corrected_array = np.nanmean(np.stack([corrected_array, corrected_tile]), axis=0)\n"
     ]
    },
    {
     "name": "stdout",
     "output_type": "stream",
     "text": [
      "row 2\n",
      "tile extent x: 3500, 4900, y: 1400, 2800\n"
     ]
    },
    {
     "name": "stderr",
     "output_type": "stream",
     "text": [
      "/tmp/ipykernel_26419/1782889505.py:49: RuntimeWarning: Mean of empty slice\n",
      "  corrected_array = np.nanmean(np.stack([corrected_array, corrected_tile]), axis=0)\n"
     ]
    },
    {
     "name": "stdout",
     "output_type": "stream",
     "text": [
      "row 3\n",
      "tile extent x: 3500, 4900, y: 2100, 3500\n"
     ]
    },
    {
     "name": "stderr",
     "output_type": "stream",
     "text": [
      "/tmp/ipykernel_26419/1782889505.py:49: RuntimeWarning: Mean of empty slice\n",
      "  corrected_array = np.nanmean(np.stack([corrected_array, corrected_tile]), axis=0)\n"
     ]
    },
    {
     "name": "stdout",
     "output_type": "stream",
     "text": [
      "row 4\n",
      "tile extent x: 3500, 4900, y: 2800, 4200\n"
     ]
    },
    {
     "name": "stderr",
     "output_type": "stream",
     "text": [
      "/tmp/ipykernel_26419/1782889505.py:49: RuntimeWarning: Mean of empty slice\n",
      "  corrected_array = np.nanmean(np.stack([corrected_array, corrected_tile]), axis=0)\n"
     ]
    },
    {
     "name": "stdout",
     "output_type": "stream",
     "text": [
      "row 5\n",
      "tile extent x: 3500, 4900, y: 3500, 4900\n"
     ]
    },
    {
     "name": "stderr",
     "output_type": "stream",
     "text": [
      "/tmp/ipykernel_26419/1782889505.py:49: RuntimeWarning: Mean of empty slice\n",
      "  corrected_array = np.nanmean(np.stack([corrected_array, corrected_tile]), axis=0)\n"
     ]
    },
    {
     "name": "stdout",
     "output_type": "stream",
     "text": [
      "row 6\n",
      "tile extent x: 3500, 4900, y: 4200, 5600\n"
     ]
    },
    {
     "name": "stderr",
     "output_type": "stream",
     "text": [
      "/tmp/ipykernel_26419/1782889505.py:49: RuntimeWarning: Mean of empty slice\n",
      "  corrected_array = np.nanmean(np.stack([corrected_array, corrected_tile]), axis=0)\n"
     ]
    },
    {
     "name": "stdout",
     "output_type": "stream",
     "text": [
      "row 7\n",
      "tile extent x: 3500, 4900, y: 4900, 6300\n"
     ]
    },
    {
     "name": "stderr",
     "output_type": "stream",
     "text": [
      "/tmp/ipykernel_26419/1782889505.py:49: RuntimeWarning: Mean of empty slice\n",
      "  corrected_array = np.nanmean(np.stack([corrected_array, corrected_tile]), axis=0)\n"
     ]
    },
    {
     "name": "stdout",
     "output_type": "stream",
     "text": [
      "row 8\n",
      "tile extent x: 3500, 4900, y: 5600, 7000\n"
     ]
    },
    {
     "name": "stderr",
     "output_type": "stream",
     "text": [
      "/tmp/ipykernel_26419/1782889505.py:49: RuntimeWarning: Mean of empty slice\n",
      "  corrected_array = np.nanmean(np.stack([corrected_array, corrected_tile]), axis=0)\n"
     ]
    },
    {
     "name": "stdout",
     "output_type": "stream",
     "text": [
      "row 9\n",
      "tile extent x: 2800, 4900, y: 5600, 7700\n"
     ]
    },
    {
     "name": "stderr",
     "output_type": "stream",
     "text": [
      "/tmp/ipykernel_26419/1782889505.py:49: RuntimeWarning: Mean of empty slice\n",
      "  corrected_array = np.nanmean(np.stack([corrected_array, corrected_tile]), axis=0)\n"
     ]
    },
    {
     "name": "stdout",
     "output_type": "stream",
     "text": [
      "row 10\n",
      "tile extent x: 2800, 4900, y: 6300, 8400\n"
     ]
    },
    {
     "name": "stderr",
     "output_type": "stream",
     "text": [
      "/tmp/ipykernel_26419/1782889505.py:49: RuntimeWarning: Mean of empty slice\n",
      "  corrected_array = np.nanmean(np.stack([corrected_array, corrected_tile]), axis=0)\n"
     ]
    },
    {
     "name": "stdout",
     "output_type": "stream",
     "text": [
      "row 11\n",
      "tile extent x: 2800, 4900, y: 7000, 9100\n"
     ]
    },
    {
     "name": "stderr",
     "output_type": "stream",
     "text": [
      "/tmp/ipykernel_26419/1782889505.py:49: RuntimeWarning: Mean of empty slice\n",
      "  corrected_array = np.nanmean(np.stack([corrected_array, corrected_tile]), axis=0)\n"
     ]
    },
    {
     "name": "stdout",
     "output_type": "stream",
     "text": [
      "row 12\n",
      "tile extent x: 2800, 4900, y: 7700, 9800\n"
     ]
    },
    {
     "name": "stderr",
     "output_type": "stream",
     "text": [
      "/tmp/ipykernel_26419/1782889505.py:49: RuntimeWarning: Mean of empty slice\n",
      "  corrected_array = np.nanmean(np.stack([corrected_array, corrected_tile]), axis=0)\n"
     ]
    },
    {
     "name": "stdout",
     "output_type": "stream",
     "text": [
      "row 13\n",
      "tile extent x: 2800, 4900, y: 8400, 10500\n"
     ]
    },
    {
     "name": "stderr",
     "output_type": "stream",
     "text": [
      "/tmp/ipykernel_26419/1782889505.py:49: RuntimeWarning: Mean of empty slice\n",
      "  corrected_array = np.nanmean(np.stack([corrected_array, corrected_tile]), axis=0)\n"
     ]
    },
    {
     "name": "stdout",
     "output_type": "stream",
     "text": [
      "column 6\n",
      "row 0\n",
      "tile extent x: 3500, 5600, y: 0, 2100\n"
     ]
    },
    {
     "name": "stderr",
     "output_type": "stream",
     "text": [
      "/tmp/ipykernel_26419/1782889505.py:49: RuntimeWarning: Mean of empty slice\n",
      "  corrected_array = np.nanmean(np.stack([corrected_array, corrected_tile]), axis=0)\n"
     ]
    },
    {
     "name": "stdout",
     "output_type": "stream",
     "text": [
      "row 1\n",
      "tile extent x: 3500, 5600, y: 700, 2800\n"
     ]
    },
    {
     "name": "stderr",
     "output_type": "stream",
     "text": [
      "/tmp/ipykernel_26419/1782889505.py:49: RuntimeWarning: Mean of empty slice\n",
      "  corrected_array = np.nanmean(np.stack([corrected_array, corrected_tile]), axis=0)\n"
     ]
    },
    {
     "name": "stdout",
     "output_type": "stream",
     "text": [
      "row 2\n",
      "tile extent x: 3500, 5600, y: 1400, 3500\n"
     ]
    },
    {
     "name": "stderr",
     "output_type": "stream",
     "text": [
      "/tmp/ipykernel_26419/1782889505.py:49: RuntimeWarning: Mean of empty slice\n",
      "  corrected_array = np.nanmean(np.stack([corrected_array, corrected_tile]), axis=0)\n"
     ]
    },
    {
     "name": "stdout",
     "output_type": "stream",
     "text": [
      "row 3\n",
      "tile extent x: 3500, 5600, y: 2100, 4200\n"
     ]
    },
    {
     "name": "stderr",
     "output_type": "stream",
     "text": [
      "/tmp/ipykernel_26419/1782889505.py:49: RuntimeWarning: Mean of empty slice\n",
      "  corrected_array = np.nanmean(np.stack([corrected_array, corrected_tile]), axis=0)\n"
     ]
    },
    {
     "name": "stdout",
     "output_type": "stream",
     "text": [
      "row 4\n",
      "tile extent x: 3500, 5600, y: 2800, 4900\n"
     ]
    },
    {
     "name": "stderr",
     "output_type": "stream",
     "text": [
      "/tmp/ipykernel_26419/1782889505.py:49: RuntimeWarning: Mean of empty slice\n",
      "  corrected_array = np.nanmean(np.stack([corrected_array, corrected_tile]), axis=0)\n"
     ]
    },
    {
     "name": "stdout",
     "output_type": "stream",
     "text": [
      "row 5\n",
      "tile extent x: 3500, 5600, y: 2800, 4900\n"
     ]
    },
    {
     "name": "stderr",
     "output_type": "stream",
     "text": [
      "/tmp/ipykernel_26419/1782889505.py:49: RuntimeWarning: Mean of empty slice\n",
      "  corrected_array = np.nanmean(np.stack([corrected_array, corrected_tile]), axis=0)\n"
     ]
    },
    {
     "name": "stdout",
     "output_type": "stream",
     "text": [
      "row 6\n",
      "row 7\n",
      "tile extent x: 3500, 5600, y: 4200, 6300\n"
     ]
    },
    {
     "name": "stderr",
     "output_type": "stream",
     "text": [
      "/tmp/ipykernel_26419/1782889505.py:49: RuntimeWarning: Mean of empty slice\n",
      "  corrected_array = np.nanmean(np.stack([corrected_array, corrected_tile]), axis=0)\n"
     ]
    },
    {
     "name": "stdout",
     "output_type": "stream",
     "text": [
      "row 8\n",
      "tile extent x: 3500, 5600, y: 4900, 7000\n"
     ]
    },
    {
     "name": "stderr",
     "output_type": "stream",
     "text": [
      "/tmp/ipykernel_26419/1782889505.py:49: RuntimeWarning: Mean of empty slice\n",
      "  corrected_array = np.nanmean(np.stack([corrected_array, corrected_tile]), axis=0)\n"
     ]
    },
    {
     "name": "stdout",
     "output_type": "stream",
     "text": [
      "row 9\n",
      "row 10\n",
      "row 11\n",
      "row 12\n",
      "row 13\n",
      "working on swatch_08301\n",
      "column 0\n",
      "row 0\n",
      "tile extent x: 0, 1400, y: 0, 1400\n"
     ]
    },
    {
     "name": "stderr",
     "output_type": "stream",
     "text": [
      "/tmp/ipykernel_26419/1782889505.py:49: RuntimeWarning: Mean of empty slice\n",
      "  corrected_array = np.nanmean(np.stack([corrected_array, corrected_tile]), axis=0)\n"
     ]
    },
    {
     "name": "stdout",
     "output_type": "stream",
     "text": [
      "row 1\n",
      "tile extent x: 0, 1400, y: 700, 2100\n"
     ]
    },
    {
     "name": "stderr",
     "output_type": "stream",
     "text": [
      "/tmp/ipykernel_26419/1782889505.py:49: RuntimeWarning: Mean of empty slice\n",
      "  corrected_array = np.nanmean(np.stack([corrected_array, corrected_tile]), axis=0)\n"
     ]
    },
    {
     "name": "stdout",
     "output_type": "stream",
     "text": [
      "row 2\n",
      "tile extent x: 0, 1400, y: 1400, 2800\n"
     ]
    },
    {
     "name": "stderr",
     "output_type": "stream",
     "text": [
      "/tmp/ipykernel_26419/1782889505.py:49: RuntimeWarning: Mean of empty slice\n",
      "  corrected_array = np.nanmean(np.stack([corrected_array, corrected_tile]), axis=0)\n"
     ]
    },
    {
     "name": "stdout",
     "output_type": "stream",
     "text": [
      "row 3\n",
      "tile extent x: 0, 1400, y: 2100, 3500\n"
     ]
    },
    {
     "name": "stderr",
     "output_type": "stream",
     "text": [
      "/tmp/ipykernel_26419/1782889505.py:49: RuntimeWarning: Mean of empty slice\n",
      "  corrected_array = np.nanmean(np.stack([corrected_array, corrected_tile]), axis=0)\n"
     ]
    },
    {
     "name": "stdout",
     "output_type": "stream",
     "text": [
      "row 4\n",
      "tile extent x: 0, 1400, y: 2800, 4200\n"
     ]
    },
    {
     "name": "stderr",
     "output_type": "stream",
     "text": [
      "/tmp/ipykernel_26419/1782889505.py:49: RuntimeWarning: Mean of empty slice\n",
      "  corrected_array = np.nanmean(np.stack([corrected_array, corrected_tile]), axis=0)\n"
     ]
    },
    {
     "name": "stdout",
     "output_type": "stream",
     "text": [
      "row 5\n",
      "tile extent x: 0, 1400, y: 3500, 4900\n"
     ]
    },
    {
     "name": "stderr",
     "output_type": "stream",
     "text": [
      "/tmp/ipykernel_26419/1782889505.py:49: RuntimeWarning: Mean of empty slice\n",
      "  corrected_array = np.nanmean(np.stack([corrected_array, corrected_tile]), axis=0)\n"
     ]
    },
    {
     "name": "stdout",
     "output_type": "stream",
     "text": [
      "row 6\n",
      "tile extent x: 0, 2100, y: 3500, 5600\n"
     ]
    },
    {
     "name": "stderr",
     "output_type": "stream",
     "text": [
      "/tmp/ipykernel_26419/1782889505.py:49: RuntimeWarning: Mean of empty slice\n",
      "  corrected_array = np.nanmean(np.stack([corrected_array, corrected_tile]), axis=0)\n"
     ]
    },
    {
     "name": "stdout",
     "output_type": "stream",
     "text": [
      "column 1\n",
      "row 0\n",
      "tile extent x: 700, 2100, y: 0, 1400\n"
     ]
    },
    {
     "name": "stderr",
     "output_type": "stream",
     "text": [
      "/tmp/ipykernel_26419/1782889505.py:49: RuntimeWarning: Mean of empty slice\n",
      "  corrected_array = np.nanmean(np.stack([corrected_array, corrected_tile]), axis=0)\n"
     ]
    },
    {
     "name": "stdout",
     "output_type": "stream",
     "text": [
      "row 1\n",
      "tile extent x: 700, 2100, y: 700, 2100\n"
     ]
    },
    {
     "name": "stderr",
     "output_type": "stream",
     "text": [
      "/tmp/ipykernel_26419/1782889505.py:49: RuntimeWarning: Mean of empty slice\n",
      "  corrected_array = np.nanmean(np.stack([corrected_array, corrected_tile]), axis=0)\n"
     ]
    },
    {
     "name": "stdout",
     "output_type": "stream",
     "text": [
      "row 2\n",
      "tile extent x: 700, 2100, y: 1400, 2800\n"
     ]
    },
    {
     "name": "stderr",
     "output_type": "stream",
     "text": [
      "/tmp/ipykernel_26419/1782889505.py:49: RuntimeWarning: Mean of empty slice\n",
      "  corrected_array = np.nanmean(np.stack([corrected_array, corrected_tile]), axis=0)\n"
     ]
    },
    {
     "name": "stdout",
     "output_type": "stream",
     "text": [
      "row 3\n",
      "tile extent x: 700, 2100, y: 2100, 3500\n"
     ]
    },
    {
     "name": "stderr",
     "output_type": "stream",
     "text": [
      "/tmp/ipykernel_26419/1782889505.py:49: RuntimeWarning: Mean of empty slice\n",
      "  corrected_array = np.nanmean(np.stack([corrected_array, corrected_tile]), axis=0)\n"
     ]
    },
    {
     "name": "stdout",
     "output_type": "stream",
     "text": [
      "row 4\n",
      "tile extent x: 700, 2100, y: 2800, 4200\n"
     ]
    },
    {
     "name": "stderr",
     "output_type": "stream",
     "text": [
      "/tmp/ipykernel_26419/1782889505.py:49: RuntimeWarning: Mean of empty slice\n",
      "  corrected_array = np.nanmean(np.stack([corrected_array, corrected_tile]), axis=0)\n"
     ]
    },
    {
     "name": "stdout",
     "output_type": "stream",
     "text": [
      "row 5\n",
      "tile extent x: 700, 2100, y: 3500, 4900\n"
     ]
    },
    {
     "name": "stderr",
     "output_type": "stream",
     "text": [
      "/tmp/ipykernel_26419/1782889505.py:49: RuntimeWarning: Mean of empty slice\n",
      "  corrected_array = np.nanmean(np.stack([corrected_array, corrected_tile]), axis=0)\n"
     ]
    },
    {
     "name": "stdout",
     "output_type": "stream",
     "text": [
      "row 6\n",
      "tile extent x: 700, 2800, y: 3500, 5600\n"
     ]
    },
    {
     "name": "stderr",
     "output_type": "stream",
     "text": [
      "/tmp/ipykernel_26419/1782889505.py:49: RuntimeWarning: Mean of empty slice\n",
      "  corrected_array = np.nanmean(np.stack([corrected_array, corrected_tile]), axis=0)\n"
     ]
    },
    {
     "name": "stdout",
     "output_type": "stream",
     "text": [
      "column 2\n",
      "row 0\n",
      "tile extent x: 1400, 2800, y: 0, 1400\n"
     ]
    },
    {
     "name": "stderr",
     "output_type": "stream",
     "text": [
      "/tmp/ipykernel_26419/1782889505.py:49: RuntimeWarning: Mean of empty slice\n",
      "  corrected_array = np.nanmean(np.stack([corrected_array, corrected_tile]), axis=0)\n"
     ]
    },
    {
     "name": "stdout",
     "output_type": "stream",
     "text": [
      "row 1\n",
      "tile extent x: 1400, 2800, y: 700, 2100\n"
     ]
    },
    {
     "name": "stderr",
     "output_type": "stream",
     "text": [
      "/tmp/ipykernel_26419/1782889505.py:49: RuntimeWarning: Mean of empty slice\n",
      "  corrected_array = np.nanmean(np.stack([corrected_array, corrected_tile]), axis=0)\n"
     ]
    },
    {
     "name": "stdout",
     "output_type": "stream",
     "text": [
      "row 2\n",
      "tile extent x: 1400, 2800, y: 1400, 2800\n"
     ]
    },
    {
     "name": "stderr",
     "output_type": "stream",
     "text": [
      "/tmp/ipykernel_26419/1782889505.py:49: RuntimeWarning: Mean of empty slice\n",
      "  corrected_array = np.nanmean(np.stack([corrected_array, corrected_tile]), axis=0)\n"
     ]
    },
    {
     "name": "stdout",
     "output_type": "stream",
     "text": [
      "row 3\n",
      "tile extent x: 1400, 2800, y: 2100, 3500\n"
     ]
    },
    {
     "name": "stderr",
     "output_type": "stream",
     "text": [
      "/tmp/ipykernel_26419/1782889505.py:49: RuntimeWarning: Mean of empty slice\n",
      "  corrected_array = np.nanmean(np.stack([corrected_array, corrected_tile]), axis=0)\n"
     ]
    },
    {
     "name": "stdout",
     "output_type": "stream",
     "text": [
      "row 4\n",
      "tile extent x: 1400, 2800, y: 2800, 4200\n"
     ]
    },
    {
     "name": "stderr",
     "output_type": "stream",
     "text": [
      "/tmp/ipykernel_26419/1782889505.py:49: RuntimeWarning: Mean of empty slice\n",
      "  corrected_array = np.nanmean(np.stack([corrected_array, corrected_tile]), axis=0)\n"
     ]
    },
    {
     "name": "stdout",
     "output_type": "stream",
     "text": [
      "row 5\n",
      "tile extent x: 1400, 2800, y: 3500, 4900\n"
     ]
    },
    {
     "name": "stderr",
     "output_type": "stream",
     "text": [
      "/tmp/ipykernel_26419/1782889505.py:49: RuntimeWarning: Mean of empty slice\n",
      "  corrected_array = np.nanmean(np.stack([corrected_array, corrected_tile]), axis=0)\n"
     ]
    },
    {
     "name": "stdout",
     "output_type": "stream",
     "text": [
      "row 6\n",
      "tile extent x: 1400, 3500, y: 3500, 5600\n"
     ]
    },
    {
     "name": "stderr",
     "output_type": "stream",
     "text": [
      "/tmp/ipykernel_26419/1782889505.py:49: RuntimeWarning: Mean of empty slice\n",
      "  corrected_array = np.nanmean(np.stack([corrected_array, corrected_tile]), axis=0)\n"
     ]
    },
    {
     "name": "stdout",
     "output_type": "stream",
     "text": [
      "column 3\n",
      "row 0\n",
      "tile extent x: 2100, 3500, y: 0, 1400\n"
     ]
    },
    {
     "name": "stderr",
     "output_type": "stream",
     "text": [
      "/tmp/ipykernel_26419/1782889505.py:49: RuntimeWarning: Mean of empty slice\n",
      "  corrected_array = np.nanmean(np.stack([corrected_array, corrected_tile]), axis=0)\n"
     ]
    },
    {
     "name": "stdout",
     "output_type": "stream",
     "text": [
      "row 1\n",
      "tile extent x: 2100, 3500, y: 700, 2100\n"
     ]
    },
    {
     "name": "stderr",
     "output_type": "stream",
     "text": [
      "/tmp/ipykernel_26419/1782889505.py:49: RuntimeWarning: Mean of empty slice\n",
      "  corrected_array = np.nanmean(np.stack([corrected_array, corrected_tile]), axis=0)\n"
     ]
    },
    {
     "name": "stdout",
     "output_type": "stream",
     "text": [
      "row 2\n",
      "tile extent x: 2100, 3500, y: 1400, 2800\n"
     ]
    },
    {
     "name": "stderr",
     "output_type": "stream",
     "text": [
      "/tmp/ipykernel_26419/1782889505.py:49: RuntimeWarning: Mean of empty slice\n",
      "  corrected_array = np.nanmean(np.stack([corrected_array, corrected_tile]), axis=0)\n"
     ]
    },
    {
     "name": "stdout",
     "output_type": "stream",
     "text": [
      "row 3\n",
      "tile extent x: 2100, 3500, y: 2100, 3500\n"
     ]
    },
    {
     "name": "stderr",
     "output_type": "stream",
     "text": [
      "/tmp/ipykernel_26419/1782889505.py:49: RuntimeWarning: Mean of empty slice\n",
      "  corrected_array = np.nanmean(np.stack([corrected_array, corrected_tile]), axis=0)\n"
     ]
    },
    {
     "name": "stdout",
     "output_type": "stream",
     "text": [
      "row 4\n",
      "tile extent x: 2100, 3500, y: 2800, 4200\n"
     ]
    },
    {
     "name": "stderr",
     "output_type": "stream",
     "text": [
      "/tmp/ipykernel_26419/1782889505.py:49: RuntimeWarning: Mean of empty slice\n",
      "  corrected_array = np.nanmean(np.stack([corrected_array, corrected_tile]), axis=0)\n"
     ]
    },
    {
     "name": "stdout",
     "output_type": "stream",
     "text": [
      "row 5\n",
      "tile extent x: 2100, 3500, y: 3500, 4900\n"
     ]
    },
    {
     "name": "stderr",
     "output_type": "stream",
     "text": [
      "/tmp/ipykernel_26419/1782889505.py:49: RuntimeWarning: Mean of empty slice\n",
      "  corrected_array = np.nanmean(np.stack([corrected_array, corrected_tile]), axis=0)\n"
     ]
    },
    {
     "name": "stdout",
     "output_type": "stream",
     "text": [
      "row 6\n",
      "tile extent x: 2100, 4200, y: 3500, 5600\n"
     ]
    },
    {
     "name": "stderr",
     "output_type": "stream",
     "text": [
      "/tmp/ipykernel_26419/1782889505.py:49: RuntimeWarning: Mean of empty slice\n",
      "  corrected_array = np.nanmean(np.stack([corrected_array, corrected_tile]), axis=0)\n"
     ]
    },
    {
     "name": "stdout",
     "output_type": "stream",
     "text": [
      "column 4\n",
      "row 0\n",
      "tile extent x: 2800, 4200, y: 0, 1400\n"
     ]
    },
    {
     "name": "stderr",
     "output_type": "stream",
     "text": [
      "/tmp/ipykernel_26419/1782889505.py:49: RuntimeWarning: Mean of empty slice\n",
      "  corrected_array = np.nanmean(np.stack([corrected_array, corrected_tile]), axis=0)\n"
     ]
    },
    {
     "name": "stdout",
     "output_type": "stream",
     "text": [
      "row 1\n",
      "tile extent x: 2800, 4200, y: 700, 2100\n"
     ]
    },
    {
     "name": "stderr",
     "output_type": "stream",
     "text": [
      "/tmp/ipykernel_26419/1782889505.py:49: RuntimeWarning: Mean of empty slice\n",
      "  corrected_array = np.nanmean(np.stack([corrected_array, corrected_tile]), axis=0)\n"
     ]
    },
    {
     "name": "stdout",
     "output_type": "stream",
     "text": [
      "row 2\n",
      "tile extent x: 2800, 4200, y: 1400, 2800\n"
     ]
    },
    {
     "name": "stderr",
     "output_type": "stream",
     "text": [
      "/tmp/ipykernel_26419/1782889505.py:49: RuntimeWarning: Mean of empty slice\n",
      "  corrected_array = np.nanmean(np.stack([corrected_array, corrected_tile]), axis=0)\n"
     ]
    },
    {
     "name": "stdout",
     "output_type": "stream",
     "text": [
      "row 3\n",
      "tile extent x: 2800, 4200, y: 2100, 3500\n"
     ]
    },
    {
     "name": "stderr",
     "output_type": "stream",
     "text": [
      "/tmp/ipykernel_26419/1782889505.py:49: RuntimeWarning: Mean of empty slice\n",
      "  corrected_array = np.nanmean(np.stack([corrected_array, corrected_tile]), axis=0)\n"
     ]
    },
    {
     "name": "stdout",
     "output_type": "stream",
     "text": [
      "row 4\n",
      "tile extent x: 2800, 4200, y: 2800, 4200\n"
     ]
    },
    {
     "name": "stderr",
     "output_type": "stream",
     "text": [
      "/tmp/ipykernel_26419/1782889505.py:49: RuntimeWarning: Mean of empty slice\n",
      "  corrected_array = np.nanmean(np.stack([corrected_array, corrected_tile]), axis=0)\n"
     ]
    },
    {
     "name": "stdout",
     "output_type": "stream",
     "text": [
      "row 5\n",
      "tile extent x: 2800, 4200, y: 3500, 4900\n"
     ]
    },
    {
     "name": "stderr",
     "output_type": "stream",
     "text": [
      "/tmp/ipykernel_26419/1782889505.py:49: RuntimeWarning: Mean of empty slice\n",
      "  corrected_array = np.nanmean(np.stack([corrected_array, corrected_tile]), axis=0)\n"
     ]
    },
    {
     "name": "stdout",
     "output_type": "stream",
     "text": [
      "row 6\n",
      "tile extent x: 2800, 4900, y: 3500, 5600\n"
     ]
    },
    {
     "name": "stderr",
     "output_type": "stream",
     "text": [
      "/tmp/ipykernel_26419/1782889505.py:49: RuntimeWarning: Mean of empty slice\n",
      "  corrected_array = np.nanmean(np.stack([corrected_array, corrected_tile]), axis=0)\n"
     ]
    },
    {
     "name": "stdout",
     "output_type": "stream",
     "text": [
      "column 5\n",
      "row 0\n",
      "tile extent x: 3500, 4900, y: 0, 1400\n"
     ]
    },
    {
     "name": "stderr",
     "output_type": "stream",
     "text": [
      "/tmp/ipykernel_26419/1782889505.py:49: RuntimeWarning: Mean of empty slice\n",
      "  corrected_array = np.nanmean(np.stack([corrected_array, corrected_tile]), axis=0)\n"
     ]
    },
    {
     "name": "stdout",
     "output_type": "stream",
     "text": [
      "row 1\n",
      "tile extent x: 3500, 4900, y: 700, 2100\n"
     ]
    },
    {
     "name": "stderr",
     "output_type": "stream",
     "text": [
      "/tmp/ipykernel_26419/1782889505.py:49: RuntimeWarning: Mean of empty slice\n",
      "  corrected_array = np.nanmean(np.stack([corrected_array, corrected_tile]), axis=0)\n"
     ]
    },
    {
     "name": "stdout",
     "output_type": "stream",
     "text": [
      "row 2\n",
      "tile extent x: 3500, 4900, y: 1400, 2800\n"
     ]
    },
    {
     "name": "stderr",
     "output_type": "stream",
     "text": [
      "/tmp/ipykernel_26419/1782889505.py:49: RuntimeWarning: Mean of empty slice\n",
      "  corrected_array = np.nanmean(np.stack([corrected_array, corrected_tile]), axis=0)\n"
     ]
    },
    {
     "name": "stdout",
     "output_type": "stream",
     "text": [
      "row 3\n",
      "tile extent x: 3500, 4900, y: 2100, 3500\n"
     ]
    },
    {
     "name": "stderr",
     "output_type": "stream",
     "text": [
      "/tmp/ipykernel_26419/1782889505.py:49: RuntimeWarning: Mean of empty slice\n",
      "  corrected_array = np.nanmean(np.stack([corrected_array, corrected_tile]), axis=0)\n"
     ]
    },
    {
     "name": "stdout",
     "output_type": "stream",
     "text": [
      "row 4\n",
      "tile extent x: 3500, 4900, y: 2800, 4200\n"
     ]
    },
    {
     "name": "stderr",
     "output_type": "stream",
     "text": [
      "/tmp/ipykernel_26419/1782889505.py:49: RuntimeWarning: Mean of empty slice\n",
      "  corrected_array = np.nanmean(np.stack([corrected_array, corrected_tile]), axis=0)\n"
     ]
    },
    {
     "name": "stdout",
     "output_type": "stream",
     "text": [
      "row 5\n",
      "tile extent x: 3500, 4900, y: 3500, 4900\n"
     ]
    },
    {
     "name": "stderr",
     "output_type": "stream",
     "text": [
      "/tmp/ipykernel_26419/1782889505.py:49: RuntimeWarning: Mean of empty slice\n",
      "  corrected_array = np.nanmean(np.stack([corrected_array, corrected_tile]), axis=0)\n"
     ]
    },
    {
     "name": "stdout",
     "output_type": "stream",
     "text": [
      "row 6\n",
      "tile extent x: 2800, 4900, y: 3500, 5600\n"
     ]
    },
    {
     "name": "stderr",
     "output_type": "stream",
     "text": [
      "/tmp/ipykernel_26419/1782889505.py:49: RuntimeWarning: Mean of empty slice\n",
      "  corrected_array = np.nanmean(np.stack([corrected_array, corrected_tile]), axis=0)\n"
     ]
    },
    {
     "name": "stdout",
     "output_type": "stream",
     "text": [
      "column 6\n",
      "row 0\n",
      "tile extent x: 4200, 5600, y: 0, 1400\n"
     ]
    },
    {
     "name": "stderr",
     "output_type": "stream",
     "text": [
      "/tmp/ipykernel_26419/1782889505.py:49: RuntimeWarning: Mean of empty slice\n",
      "  corrected_array = np.nanmean(np.stack([corrected_array, corrected_tile]), axis=0)\n"
     ]
    },
    {
     "name": "stdout",
     "output_type": "stream",
     "text": [
      "row 1\n",
      "tile extent x: 4200, 5600, y: 700, 2100\n"
     ]
    },
    {
     "name": "stderr",
     "output_type": "stream",
     "text": [
      "/tmp/ipykernel_26419/1782889505.py:49: RuntimeWarning: Mean of empty slice\n",
      "  corrected_array = np.nanmean(np.stack([corrected_array, corrected_tile]), axis=0)\n"
     ]
    },
    {
     "name": "stdout",
     "output_type": "stream",
     "text": [
      "row 2\n",
      "tile extent x: 4200, 5600, y: 1400, 2800\n"
     ]
    },
    {
     "name": "stderr",
     "output_type": "stream",
     "text": [
      "/tmp/ipykernel_26419/1782889505.py:49: RuntimeWarning: Mean of empty slice\n",
      "  corrected_array = np.nanmean(np.stack([corrected_array, corrected_tile]), axis=0)\n"
     ]
    },
    {
     "name": "stdout",
     "output_type": "stream",
     "text": [
      "row 3\n",
      "tile extent x: 4200, 5600, y: 2100, 3500\n"
     ]
    },
    {
     "name": "stderr",
     "output_type": "stream",
     "text": [
      "/tmp/ipykernel_26419/1782889505.py:49: RuntimeWarning: Mean of empty slice\n",
      "  corrected_array = np.nanmean(np.stack([corrected_array, corrected_tile]), axis=0)\n"
     ]
    },
    {
     "name": "stdout",
     "output_type": "stream",
     "text": [
      "row 4\n",
      "tile extent x: 4200, 5600, y: 2800, 4200\n"
     ]
    },
    {
     "name": "stderr",
     "output_type": "stream",
     "text": [
      "/tmp/ipykernel_26419/1782889505.py:49: RuntimeWarning: Mean of empty slice\n",
      "  corrected_array = np.nanmean(np.stack([corrected_array, corrected_tile]), axis=0)\n"
     ]
    },
    {
     "name": "stdout",
     "output_type": "stream",
     "text": [
      "row 5\n",
      "tile extent x: 4200, 5600, y: 3500, 4900\n"
     ]
    },
    {
     "name": "stderr",
     "output_type": "stream",
     "text": [
      "/tmp/ipykernel_26419/1782889505.py:49: RuntimeWarning: Mean of empty slice\n",
      "  corrected_array = np.nanmean(np.stack([corrected_array, corrected_tile]), axis=0)\n"
     ]
    },
    {
     "name": "stdout",
     "output_type": "stream",
     "text": [
      "row 6\n",
      "column 7\n",
      "row 0\n",
      "tile extent x: 4900, 6300, y: 0, 1400\n"
     ]
    },
    {
     "name": "stderr",
     "output_type": "stream",
     "text": [
      "/tmp/ipykernel_26419/1782889505.py:49: RuntimeWarning: Mean of empty slice\n",
      "  corrected_array = np.nanmean(np.stack([corrected_array, corrected_tile]), axis=0)\n"
     ]
    },
    {
     "name": "stdout",
     "output_type": "stream",
     "text": [
      "row 1\n",
      "tile extent x: 4900, 6300, y: 700, 2100\n"
     ]
    },
    {
     "name": "stderr",
     "output_type": "stream",
     "text": [
      "/tmp/ipykernel_26419/1782889505.py:49: RuntimeWarning: Mean of empty slice\n",
      "  corrected_array = np.nanmean(np.stack([corrected_array, corrected_tile]), axis=0)\n"
     ]
    },
    {
     "name": "stdout",
     "output_type": "stream",
     "text": [
      "row 2\n",
      "tile extent x: 4900, 6300, y: 1400, 2800\n"
     ]
    },
    {
     "name": "stderr",
     "output_type": "stream",
     "text": [
      "/tmp/ipykernel_26419/1782889505.py:49: RuntimeWarning: Mean of empty slice\n",
      "  corrected_array = np.nanmean(np.stack([corrected_array, corrected_tile]), axis=0)\n"
     ]
    },
    {
     "name": "stdout",
     "output_type": "stream",
     "text": [
      "row 3\n",
      "tile extent x: 4900, 6300, y: 2100, 3500\n"
     ]
    },
    {
     "name": "stderr",
     "output_type": "stream",
     "text": [
      "/tmp/ipykernel_26419/1782889505.py:49: RuntimeWarning: Mean of empty slice\n",
      "  corrected_array = np.nanmean(np.stack([corrected_array, corrected_tile]), axis=0)\n"
     ]
    },
    {
     "name": "stdout",
     "output_type": "stream",
     "text": [
      "row 4\n",
      "tile extent x: 4900, 6300, y: 2800, 4200\n"
     ]
    },
    {
     "name": "stderr",
     "output_type": "stream",
     "text": [
      "/tmp/ipykernel_26419/1782889505.py:49: RuntimeWarning: Mean of empty slice\n",
      "  corrected_array = np.nanmean(np.stack([corrected_array, corrected_tile]), axis=0)\n"
     ]
    },
    {
     "name": "stdout",
     "output_type": "stream",
     "text": [
      "row 5\n",
      "tile extent x: 4200, 6300, y: 2800, 4900\n"
     ]
    },
    {
     "name": "stderr",
     "output_type": "stream",
     "text": [
      "/tmp/ipykernel_26419/1782889505.py:49: RuntimeWarning: Mean of empty slice\n",
      "  corrected_array = np.nanmean(np.stack([corrected_array, corrected_tile]), axis=0)\n"
     ]
    },
    {
     "name": "stdout",
     "output_type": "stream",
     "text": [
      "row 6\n",
      "column 8\n",
      "row 0\n",
      "tile extent x: 5600, 7000, y: 0, 1400\n"
     ]
    },
    {
     "name": "stderr",
     "output_type": "stream",
     "text": [
      "/tmp/ipykernel_26419/1782889505.py:49: RuntimeWarning: Mean of empty slice\n",
      "  corrected_array = np.nanmean(np.stack([corrected_array, corrected_tile]), axis=0)\n"
     ]
    },
    {
     "name": "stdout",
     "output_type": "stream",
     "text": [
      "row 1\n",
      "tile extent x: 5600, 7000, y: 700, 2100\n"
     ]
    },
    {
     "name": "stderr",
     "output_type": "stream",
     "text": [
      "/tmp/ipykernel_26419/1782889505.py:49: RuntimeWarning: Mean of empty slice\n",
      "  corrected_array = np.nanmean(np.stack([corrected_array, corrected_tile]), axis=0)\n"
     ]
    },
    {
     "name": "stdout",
     "output_type": "stream",
     "text": [
      "row 2\n",
      "tile extent x: 5600, 7000, y: 1400, 2800\n"
     ]
    },
    {
     "name": "stderr",
     "output_type": "stream",
     "text": [
      "/tmp/ipykernel_26419/1782889505.py:49: RuntimeWarning: Mean of empty slice\n",
      "  corrected_array = np.nanmean(np.stack([corrected_array, corrected_tile]), axis=0)\n"
     ]
    },
    {
     "name": "stdout",
     "output_type": "stream",
     "text": [
      "row 3\n",
      "tile extent x: 5600, 7000, y: 2100, 3500\n"
     ]
    },
    {
     "name": "stderr",
     "output_type": "stream",
     "text": [
      "/tmp/ipykernel_26419/1782889505.py:49: RuntimeWarning: Mean of empty slice\n",
      "  corrected_array = np.nanmean(np.stack([corrected_array, corrected_tile]), axis=0)\n"
     ]
    },
    {
     "name": "stdout",
     "output_type": "stream",
     "text": [
      "row 4\n",
      "tile extent x: 5600, 7000, y: 2800, 4200\n"
     ]
    },
    {
     "name": "stderr",
     "output_type": "stream",
     "text": [
      "/tmp/ipykernel_26419/1782889505.py:49: RuntimeWarning: Mean of empty slice\n",
      "  corrected_array = np.nanmean(np.stack([corrected_array, corrected_tile]), axis=0)\n"
     ]
    },
    {
     "name": "stdout",
     "output_type": "stream",
     "text": [
      "row 5\n",
      "tile extent x: 4900, 7000, y: 2800, 4900\n"
     ]
    },
    {
     "name": "stderr",
     "output_type": "stream",
     "text": [
      "/tmp/ipykernel_26419/1782889505.py:49: RuntimeWarning: Mean of empty slice\n",
      "  corrected_array = np.nanmean(np.stack([corrected_array, corrected_tile]), axis=0)\n"
     ]
    },
    {
     "name": "stdout",
     "output_type": "stream",
     "text": [
      "row 6\n",
      "column 9\n",
      "row 0\n",
      "tile extent x: 6300, 7700, y: 0, 1400\n"
     ]
    },
    {
     "name": "stderr",
     "output_type": "stream",
     "text": [
      "/tmp/ipykernel_26419/1782889505.py:49: RuntimeWarning: Mean of empty slice\n",
      "  corrected_array = np.nanmean(np.stack([corrected_array, corrected_tile]), axis=0)\n"
     ]
    },
    {
     "name": "stdout",
     "output_type": "stream",
     "text": [
      "row 1\n",
      "tile extent x: 6300, 7700, y: 700, 2100\n"
     ]
    },
    {
     "name": "stderr",
     "output_type": "stream",
     "text": [
      "/tmp/ipykernel_26419/1782889505.py:49: RuntimeWarning: Mean of empty slice\n",
      "  corrected_array = np.nanmean(np.stack([corrected_array, corrected_tile]), axis=0)\n"
     ]
    },
    {
     "name": "stdout",
     "output_type": "stream",
     "text": [
      "row 2\n",
      "tile extent x: 6300, 7700, y: 1400, 2800\n"
     ]
    },
    {
     "name": "stderr",
     "output_type": "stream",
     "text": [
      "/tmp/ipykernel_26419/1782889505.py:49: RuntimeWarning: Mean of empty slice\n",
      "  corrected_array = np.nanmean(np.stack([corrected_array, corrected_tile]), axis=0)\n"
     ]
    },
    {
     "name": "stdout",
     "output_type": "stream",
     "text": [
      "row 3\n",
      "tile extent x: 6300, 7700, y: 2100, 3500\n"
     ]
    },
    {
     "name": "stderr",
     "output_type": "stream",
     "text": [
      "/tmp/ipykernel_26419/1782889505.py:49: RuntimeWarning: Mean of empty slice\n",
      "  corrected_array = np.nanmean(np.stack([corrected_array, corrected_tile]), axis=0)\n"
     ]
    },
    {
     "name": "stdout",
     "output_type": "stream",
     "text": [
      "row 4\n",
      "tile extent x: 6300, 7700, y: 2800, 4200\n"
     ]
    },
    {
     "name": "stderr",
     "output_type": "stream",
     "text": [
      "/tmp/ipykernel_26419/1782889505.py:49: RuntimeWarning: Mean of empty slice\n",
      "  corrected_array = np.nanmean(np.stack([corrected_array, corrected_tile]), axis=0)\n"
     ]
    },
    {
     "name": "stdout",
     "output_type": "stream",
     "text": [
      "row 5\n",
      "tile extent x: 5600, 7700, y: 2800, 4900\n"
     ]
    },
    {
     "name": "stderr",
     "output_type": "stream",
     "text": [
      "/tmp/ipykernel_26419/1782889505.py:49: RuntimeWarning: Mean of empty slice\n",
      "  corrected_array = np.nanmean(np.stack([corrected_array, corrected_tile]), axis=0)\n"
     ]
    },
    {
     "name": "stdout",
     "output_type": "stream",
     "text": [
      "row 6\n",
      "column 10\n",
      "row 0\n",
      "tile extent x: 7000, 8400, y: 0, 1400\n"
     ]
    },
    {
     "name": "stderr",
     "output_type": "stream",
     "text": [
      "/tmp/ipykernel_26419/1782889505.py:49: RuntimeWarning: Mean of empty slice\n",
      "  corrected_array = np.nanmean(np.stack([corrected_array, corrected_tile]), axis=0)\n"
     ]
    },
    {
     "name": "stdout",
     "output_type": "stream",
     "text": [
      "row 1\n",
      "tile extent x: 7000, 8400, y: 700, 2100\n"
     ]
    },
    {
     "name": "stderr",
     "output_type": "stream",
     "text": [
      "/tmp/ipykernel_26419/1782889505.py:49: RuntimeWarning: Mean of empty slice\n",
      "  corrected_array = np.nanmean(np.stack([corrected_array, corrected_tile]), axis=0)\n"
     ]
    },
    {
     "name": "stdout",
     "output_type": "stream",
     "text": [
      "row 2\n",
      "tile extent x: 7000, 8400, y: 1400, 2800\n"
     ]
    },
    {
     "name": "stderr",
     "output_type": "stream",
     "text": [
      "/tmp/ipykernel_26419/1782889505.py:49: RuntimeWarning: Mean of empty slice\n",
      "  corrected_array = np.nanmean(np.stack([corrected_array, corrected_tile]), axis=0)\n"
     ]
    },
    {
     "name": "stdout",
     "output_type": "stream",
     "text": [
      "row 3\n",
      "tile extent x: 7000, 8400, y: 2100, 3500\n"
     ]
    },
    {
     "name": "stderr",
     "output_type": "stream",
     "text": [
      "/tmp/ipykernel_26419/1782889505.py:49: RuntimeWarning: Mean of empty slice\n",
      "  corrected_array = np.nanmean(np.stack([corrected_array, corrected_tile]), axis=0)\n"
     ]
    },
    {
     "name": "stdout",
     "output_type": "stream",
     "text": [
      "row 4\n",
      "tile extent x: 7000, 8400, y: 2800, 4200\n"
     ]
    },
    {
     "name": "stderr",
     "output_type": "stream",
     "text": [
      "/tmp/ipykernel_26419/1782889505.py:49: RuntimeWarning: Mean of empty slice\n",
      "  corrected_array = np.nanmean(np.stack([corrected_array, corrected_tile]), axis=0)\n"
     ]
    },
    {
     "name": "stdout",
     "output_type": "stream",
     "text": [
      "row 5\n",
      "tile extent x: 6300, 8400, y: 2800, 4900\n"
     ]
    },
    {
     "name": "stderr",
     "output_type": "stream",
     "text": [
      "/tmp/ipykernel_26419/1782889505.py:49: RuntimeWarning: Mean of empty slice\n",
      "  corrected_array = np.nanmean(np.stack([corrected_array, corrected_tile]), axis=0)\n"
     ]
    },
    {
     "name": "stdout",
     "output_type": "stream",
     "text": [
      "row 6\n",
      "column 11\n",
      "row 0\n",
      "tile extent x: 7700, 9100, y: 0, 1400\n"
     ]
    },
    {
     "name": "stderr",
     "output_type": "stream",
     "text": [
      "/tmp/ipykernel_26419/1782889505.py:49: RuntimeWarning: Mean of empty slice\n",
      "  corrected_array = np.nanmean(np.stack([corrected_array, corrected_tile]), axis=0)\n"
     ]
    },
    {
     "name": "stdout",
     "output_type": "stream",
     "text": [
      "row 1\n",
      "tile extent x: 7700, 9100, y: 700, 2100\n"
     ]
    },
    {
     "name": "stderr",
     "output_type": "stream",
     "text": [
      "/tmp/ipykernel_26419/1782889505.py:49: RuntimeWarning: Mean of empty slice\n",
      "  corrected_array = np.nanmean(np.stack([corrected_array, corrected_tile]), axis=0)\n"
     ]
    },
    {
     "name": "stdout",
     "output_type": "stream",
     "text": [
      "row 2\n",
      "tile extent x: 7700, 9100, y: 1400, 2800\n"
     ]
    },
    {
     "name": "stderr",
     "output_type": "stream",
     "text": [
      "/tmp/ipykernel_26419/1782889505.py:49: RuntimeWarning: Mean of empty slice\n",
      "  corrected_array = np.nanmean(np.stack([corrected_array, corrected_tile]), axis=0)\n"
     ]
    },
    {
     "name": "stdout",
     "output_type": "stream",
     "text": [
      "row 3\n",
      "tile extent x: 7700, 9100, y: 2100, 3500\n"
     ]
    },
    {
     "name": "stderr",
     "output_type": "stream",
     "text": [
      "/tmp/ipykernel_26419/1782889505.py:49: RuntimeWarning: Mean of empty slice\n",
      "  corrected_array = np.nanmean(np.stack([corrected_array, corrected_tile]), axis=0)\n"
     ]
    },
    {
     "name": "stdout",
     "output_type": "stream",
     "text": [
      "row 4\n",
      "tile extent x: 7700, 9100, y: 2800, 4200\n"
     ]
    },
    {
     "name": "stderr",
     "output_type": "stream",
     "text": [
      "/tmp/ipykernel_26419/1782889505.py:49: RuntimeWarning: Mean of empty slice\n",
      "  corrected_array = np.nanmean(np.stack([corrected_array, corrected_tile]), axis=0)\n"
     ]
    },
    {
     "name": "stdout",
     "output_type": "stream",
     "text": [
      "row 5\n",
      "tile extent x: 7000, 9100, y: 2800, 4900\n"
     ]
    },
    {
     "name": "stderr",
     "output_type": "stream",
     "text": [
      "/tmp/ipykernel_26419/1782889505.py:49: RuntimeWarning: Mean of empty slice\n",
      "  corrected_array = np.nanmean(np.stack([corrected_array, corrected_tile]), axis=0)\n"
     ]
    },
    {
     "name": "stdout",
     "output_type": "stream",
     "text": [
      "row 6\n",
      "column 12\n",
      "row 0\n",
      "tile extent x: 7700, 9800, y: 0, 2100\n"
     ]
    },
    {
     "name": "stderr",
     "output_type": "stream",
     "text": [
      "/tmp/ipykernel_26419/1782889505.py:49: RuntimeWarning: Mean of empty slice\n",
      "  corrected_array = np.nanmean(np.stack([corrected_array, corrected_tile]), axis=0)\n"
     ]
    },
    {
     "name": "stdout",
     "output_type": "stream",
     "text": [
      "row 1\n",
      "tile extent x: 7700, 9800, y: 700, 2800\n"
     ]
    },
    {
     "name": "stderr",
     "output_type": "stream",
     "text": [
      "/tmp/ipykernel_26419/1782889505.py:49: RuntimeWarning: Mean of empty slice\n",
      "  corrected_array = np.nanmean(np.stack([corrected_array, corrected_tile]), axis=0)\n"
     ]
    },
    {
     "name": "stdout",
     "output_type": "stream",
     "text": [
      "row 2\n",
      "tile extent x: 7700, 9800, y: 700, 2800\n"
     ]
    },
    {
     "name": "stderr",
     "output_type": "stream",
     "text": [
      "/tmp/ipykernel_26419/1782889505.py:49: RuntimeWarning: Mean of empty slice\n",
      "  corrected_array = np.nanmean(np.stack([corrected_array, corrected_tile]), axis=0)\n"
     ]
    },
    {
     "name": "stdout",
     "output_type": "stream",
     "text": [
      "row 3\n",
      "tile extent x: 7700, 9800, y: 1400, 3500\n"
     ]
    },
    {
     "name": "stderr",
     "output_type": "stream",
     "text": [
      "/tmp/ipykernel_26419/1782889505.py:49: RuntimeWarning: Mean of empty slice\n",
      "  corrected_array = np.nanmean(np.stack([corrected_array, corrected_tile]), axis=0)\n"
     ]
    },
    {
     "name": "stdout",
     "output_type": "stream",
     "text": [
      "row 4\n",
      "tile extent x: 7700, 9800, y: 2100, 4200\n"
     ]
    },
    {
     "name": "stderr",
     "output_type": "stream",
     "text": [
      "/tmp/ipykernel_26419/1782889505.py:49: RuntimeWarning: Mean of empty slice\n",
      "  corrected_array = np.nanmean(np.stack([corrected_array, corrected_tile]), axis=0)\n"
     ]
    },
    {
     "name": "stdout",
     "output_type": "stream",
     "text": [
      "row 5\n",
      "tile extent x: 7700, 9800, y: 2800, 4900\n"
     ]
    },
    {
     "name": "stderr",
     "output_type": "stream",
     "text": [
      "/tmp/ipykernel_26419/1782889505.py:49: RuntimeWarning: Mean of empty slice\n",
      "  corrected_array = np.nanmean(np.stack([corrected_array, corrected_tile]), axis=0)\n"
     ]
    },
    {
     "name": "stdout",
     "output_type": "stream",
     "text": [
      "row 6\n",
      "working on swatch_09510\n",
      "column 0\n",
      "row 0\n",
      "tile extent x: 0, 1400, y: 0, 1400\n"
     ]
    },
    {
     "name": "stderr",
     "output_type": "stream",
     "text": [
      "/tmp/ipykernel_26419/1782889505.py:49: RuntimeWarning: Mean of empty slice\n",
      "  corrected_array = np.nanmean(np.stack([corrected_array, corrected_tile]), axis=0)\n"
     ]
    },
    {
     "name": "stdout",
     "output_type": "stream",
     "text": [
      "row 1\n",
      "tile extent x: 0, 1400, y: 700, 2100\n"
     ]
    },
    {
     "name": "stderr",
     "output_type": "stream",
     "text": [
      "/tmp/ipykernel_26419/1782889505.py:49: RuntimeWarning: Mean of empty slice\n",
      "  corrected_array = np.nanmean(np.stack([corrected_array, corrected_tile]), axis=0)\n"
     ]
    },
    {
     "name": "stdout",
     "output_type": "stream",
     "text": [
      "row 2\n",
      "tile extent x: 0, 1400, y: 1400, 2800\n"
     ]
    },
    {
     "name": "stderr",
     "output_type": "stream",
     "text": [
      "/tmp/ipykernel_26419/1782889505.py:49: RuntimeWarning: Mean of empty slice\n",
      "  corrected_array = np.nanmean(np.stack([corrected_array, corrected_tile]), axis=0)\n"
     ]
    },
    {
     "name": "stdout",
     "output_type": "stream",
     "text": [
      "row 3\n",
      "tile extent x: 0, 1400, y: 2100, 3500\n"
     ]
    },
    {
     "name": "stderr",
     "output_type": "stream",
     "text": [
      "/tmp/ipykernel_26419/1782889505.py:49: RuntimeWarning: Mean of empty slice\n",
      "  corrected_array = np.nanmean(np.stack([corrected_array, corrected_tile]), axis=0)\n"
     ]
    },
    {
     "name": "stdout",
     "output_type": "stream",
     "text": [
      "row 4\n",
      "tile extent x: 0, 1400, y: 2800, 4200\n"
     ]
    },
    {
     "name": "stderr",
     "output_type": "stream",
     "text": [
      "/tmp/ipykernel_26419/1782889505.py:49: RuntimeWarning: Mean of empty slice\n",
      "  corrected_array = np.nanmean(np.stack([corrected_array, corrected_tile]), axis=0)\n"
     ]
    },
    {
     "name": "stdout",
     "output_type": "stream",
     "text": [
      "row 5\n",
      "tile extent x: 0, 2100, y: 2800, 4900\n"
     ]
    },
    {
     "name": "stderr",
     "output_type": "stream",
     "text": [
      "/tmp/ipykernel_26419/1782889505.py:49: RuntimeWarning: Mean of empty slice\n",
      "  corrected_array = np.nanmean(np.stack([corrected_array, corrected_tile]), axis=0)\n"
     ]
    },
    {
     "name": "stdout",
     "output_type": "stream",
     "text": [
      "row 6\n",
      "column 1\n",
      "row 0\n",
      "tile extent x: 700, 2100, y: 0, 1400\n"
     ]
    },
    {
     "name": "stderr",
     "output_type": "stream",
     "text": [
      "/tmp/ipykernel_26419/1782889505.py:49: RuntimeWarning: Mean of empty slice\n",
      "  corrected_array = np.nanmean(np.stack([corrected_array, corrected_tile]), axis=0)\n"
     ]
    },
    {
     "name": "stdout",
     "output_type": "stream",
     "text": [
      "row 1\n",
      "tile extent x: 700, 2100, y: 700, 2100\n"
     ]
    },
    {
     "name": "stderr",
     "output_type": "stream",
     "text": [
      "/tmp/ipykernel_26419/1782889505.py:49: RuntimeWarning: Mean of empty slice\n",
      "  corrected_array = np.nanmean(np.stack([corrected_array, corrected_tile]), axis=0)\n"
     ]
    },
    {
     "name": "stdout",
     "output_type": "stream",
     "text": [
      "row 2\n",
      "tile extent x: 700, 2100, y: 1400, 2800\n"
     ]
    },
    {
     "name": "stderr",
     "output_type": "stream",
     "text": [
      "/tmp/ipykernel_26419/1782889505.py:49: RuntimeWarning: Mean of empty slice\n",
      "  corrected_array = np.nanmean(np.stack([corrected_array, corrected_tile]), axis=0)\n"
     ]
    },
    {
     "name": "stdout",
     "output_type": "stream",
     "text": [
      "row 3\n",
      "tile extent x: 700, 2100, y: 2100, 3500\n"
     ]
    },
    {
     "name": "stderr",
     "output_type": "stream",
     "text": [
      "/tmp/ipykernel_26419/1782889505.py:49: RuntimeWarning: Mean of empty slice\n",
      "  corrected_array = np.nanmean(np.stack([corrected_array, corrected_tile]), axis=0)\n"
     ]
    },
    {
     "name": "stdout",
     "output_type": "stream",
     "text": [
      "row 4\n",
      "tile extent x: 700, 2100, y: 2800, 4200\n"
     ]
    },
    {
     "name": "stderr",
     "output_type": "stream",
     "text": [
      "/tmp/ipykernel_26419/1782889505.py:49: RuntimeWarning: Mean of empty slice\n",
      "  corrected_array = np.nanmean(np.stack([corrected_array, corrected_tile]), axis=0)\n"
     ]
    },
    {
     "name": "stdout",
     "output_type": "stream",
     "text": [
      "row 5\n",
      "tile extent x: 700, 2800, y: 2800, 4900\n"
     ]
    },
    {
     "name": "stderr",
     "output_type": "stream",
     "text": [
      "/tmp/ipykernel_26419/1782889505.py:49: RuntimeWarning: Mean of empty slice\n",
      "  corrected_array = np.nanmean(np.stack([corrected_array, corrected_tile]), axis=0)\n"
     ]
    },
    {
     "name": "stdout",
     "output_type": "stream",
     "text": [
      "row 6\n",
      "column 2\n",
      "row 0\n",
      "tile extent x: 1400, 2800, y: 0, 1400\n"
     ]
    },
    {
     "name": "stderr",
     "output_type": "stream",
     "text": [
      "/tmp/ipykernel_26419/1782889505.py:49: RuntimeWarning: Mean of empty slice\n",
      "  corrected_array = np.nanmean(np.stack([corrected_array, corrected_tile]), axis=0)\n"
     ]
    },
    {
     "name": "stdout",
     "output_type": "stream",
     "text": [
      "row 1\n",
      "tile extent x: 1400, 2800, y: 700, 2100\n"
     ]
    },
    {
     "name": "stderr",
     "output_type": "stream",
     "text": [
      "/tmp/ipykernel_26419/1782889505.py:49: RuntimeWarning: Mean of empty slice\n",
      "  corrected_array = np.nanmean(np.stack([corrected_array, corrected_tile]), axis=0)\n"
     ]
    },
    {
     "name": "stdout",
     "output_type": "stream",
     "text": [
      "row 2\n",
      "tile extent x: 1400, 2800, y: 1400, 2800\n"
     ]
    },
    {
     "name": "stderr",
     "output_type": "stream",
     "text": [
      "/tmp/ipykernel_26419/1782889505.py:49: RuntimeWarning: Mean of empty slice\n",
      "  corrected_array = np.nanmean(np.stack([corrected_array, corrected_tile]), axis=0)\n"
     ]
    },
    {
     "name": "stdout",
     "output_type": "stream",
     "text": [
      "row 3\n",
      "tile extent x: 1400, 2800, y: 2100, 3500\n"
     ]
    },
    {
     "name": "stderr",
     "output_type": "stream",
     "text": [
      "/tmp/ipykernel_26419/1782889505.py:49: RuntimeWarning: Mean of empty slice\n",
      "  corrected_array = np.nanmean(np.stack([corrected_array, corrected_tile]), axis=0)\n"
     ]
    },
    {
     "name": "stdout",
     "output_type": "stream",
     "text": [
      "row 4\n",
      "tile extent x: 1400, 2800, y: 2800, 4200\n"
     ]
    },
    {
     "name": "stderr",
     "output_type": "stream",
     "text": [
      "/tmp/ipykernel_26419/1782889505.py:49: RuntimeWarning: Mean of empty slice\n",
      "  corrected_array = np.nanmean(np.stack([corrected_array, corrected_tile]), axis=0)\n"
     ]
    },
    {
     "name": "stdout",
     "output_type": "stream",
     "text": [
      "row 5\n",
      "tile extent x: 1400, 3500, y: 2800, 4900\n"
     ]
    },
    {
     "name": "stderr",
     "output_type": "stream",
     "text": [
      "/tmp/ipykernel_26419/1782889505.py:49: RuntimeWarning: Mean of empty slice\n",
      "  corrected_array = np.nanmean(np.stack([corrected_array, corrected_tile]), axis=0)\n"
     ]
    },
    {
     "name": "stdout",
     "output_type": "stream",
     "text": [
      "row 6\n",
      "column 3\n",
      "row 0\n",
      "tile extent x: 2100, 3500, y: 0, 1400\n"
     ]
    },
    {
     "name": "stderr",
     "output_type": "stream",
     "text": [
      "/tmp/ipykernel_26419/1782889505.py:49: RuntimeWarning: Mean of empty slice\n",
      "  corrected_array = np.nanmean(np.stack([corrected_array, corrected_tile]), axis=0)\n"
     ]
    },
    {
     "name": "stdout",
     "output_type": "stream",
     "text": [
      "row 1\n",
      "tile extent x: 2100, 3500, y: 700, 2100\n"
     ]
    },
    {
     "name": "stderr",
     "output_type": "stream",
     "text": [
      "/tmp/ipykernel_26419/1782889505.py:49: RuntimeWarning: Mean of empty slice\n",
      "  corrected_array = np.nanmean(np.stack([corrected_array, corrected_tile]), axis=0)\n"
     ]
    },
    {
     "name": "stdout",
     "output_type": "stream",
     "text": [
      "row 2\n",
      "tile extent x: 2100, 3500, y: 1400, 2800\n"
     ]
    },
    {
     "name": "stderr",
     "output_type": "stream",
     "text": [
      "/tmp/ipykernel_26419/1782889505.py:49: RuntimeWarning: Mean of empty slice\n",
      "  corrected_array = np.nanmean(np.stack([corrected_array, corrected_tile]), axis=0)\n"
     ]
    },
    {
     "name": "stdout",
     "output_type": "stream",
     "text": [
      "row 3\n",
      "tile extent x: 2100, 3500, y: 2100, 3500\n"
     ]
    },
    {
     "name": "stderr",
     "output_type": "stream",
     "text": [
      "/tmp/ipykernel_26419/1782889505.py:49: RuntimeWarning: Mean of empty slice\n",
      "  corrected_array = np.nanmean(np.stack([corrected_array, corrected_tile]), axis=0)\n"
     ]
    },
    {
     "name": "stdout",
     "output_type": "stream",
     "text": [
      "row 4\n",
      "tile extent x: 2100, 3500, y: 2800, 4200\n"
     ]
    },
    {
     "name": "stderr",
     "output_type": "stream",
     "text": [
      "/tmp/ipykernel_26419/1782889505.py:49: RuntimeWarning: Mean of empty slice\n",
      "  corrected_array = np.nanmean(np.stack([corrected_array, corrected_tile]), axis=0)\n"
     ]
    },
    {
     "name": "stdout",
     "output_type": "stream",
     "text": [
      "row 5\n",
      "tile extent x: 2100, 4200, y: 2800, 4900\n"
     ]
    },
    {
     "name": "stderr",
     "output_type": "stream",
     "text": [
      "/tmp/ipykernel_26419/1782889505.py:49: RuntimeWarning: Mean of empty slice\n",
      "  corrected_array = np.nanmean(np.stack([corrected_array, corrected_tile]), axis=0)\n"
     ]
    },
    {
     "name": "stdout",
     "output_type": "stream",
     "text": [
      "row 6\n",
      "column 4\n",
      "row 0\n",
      "tile extent x: 2800, 4200, y: 0, 1400\n"
     ]
    },
    {
     "name": "stderr",
     "output_type": "stream",
     "text": [
      "/tmp/ipykernel_26419/1782889505.py:49: RuntimeWarning: Mean of empty slice\n",
      "  corrected_array = np.nanmean(np.stack([corrected_array, corrected_tile]), axis=0)\n"
     ]
    },
    {
     "name": "stdout",
     "output_type": "stream",
     "text": [
      "row 1\n",
      "tile extent x: 2800, 4200, y: 700, 2100\n"
     ]
    },
    {
     "name": "stderr",
     "output_type": "stream",
     "text": [
      "/tmp/ipykernel_26419/1782889505.py:49: RuntimeWarning: Mean of empty slice\n",
      "  corrected_array = np.nanmean(np.stack([corrected_array, corrected_tile]), axis=0)\n"
     ]
    },
    {
     "name": "stdout",
     "output_type": "stream",
     "text": [
      "row 2\n",
      "tile extent x: 2800, 4200, y: 1400, 2800\n"
     ]
    },
    {
     "name": "stderr",
     "output_type": "stream",
     "text": [
      "/tmp/ipykernel_26419/1782889505.py:49: RuntimeWarning: Mean of empty slice\n",
      "  corrected_array = np.nanmean(np.stack([corrected_array, corrected_tile]), axis=0)\n"
     ]
    },
    {
     "name": "stdout",
     "output_type": "stream",
     "text": [
      "row 3\n",
      "tile extent x: 2800, 4200, y: 2100, 3500\n"
     ]
    },
    {
     "name": "stderr",
     "output_type": "stream",
     "text": [
      "/tmp/ipykernel_26419/1782889505.py:49: RuntimeWarning: Mean of empty slice\n",
      "  corrected_array = np.nanmean(np.stack([corrected_array, corrected_tile]), axis=0)\n"
     ]
    },
    {
     "name": "stdout",
     "output_type": "stream",
     "text": [
      "row 4\n",
      "tile extent x: 2800, 4200, y: 2800, 4200\n"
     ]
    },
    {
     "name": "stderr",
     "output_type": "stream",
     "text": [
      "/tmp/ipykernel_26419/1782889505.py:49: RuntimeWarning: Mean of empty slice\n",
      "  corrected_array = np.nanmean(np.stack([corrected_array, corrected_tile]), axis=0)\n"
     ]
    },
    {
     "name": "stdout",
     "output_type": "stream",
     "text": [
      "row 5\n",
      "tile extent x: 2800, 4900, y: 2800, 4900\n"
     ]
    },
    {
     "name": "stderr",
     "output_type": "stream",
     "text": [
      "/tmp/ipykernel_26419/1782889505.py:49: RuntimeWarning: Mean of empty slice\n",
      "  corrected_array = np.nanmean(np.stack([corrected_array, corrected_tile]), axis=0)\n"
     ]
    },
    {
     "name": "stdout",
     "output_type": "stream",
     "text": [
      "row 6\n",
      "column 5\n",
      "row 0\n",
      "tile extent x: 3500, 4900, y: 0, 1400\n"
     ]
    },
    {
     "name": "stderr",
     "output_type": "stream",
     "text": [
      "/tmp/ipykernel_26419/1782889505.py:49: RuntimeWarning: Mean of empty slice\n",
      "  corrected_array = np.nanmean(np.stack([corrected_array, corrected_tile]), axis=0)\n"
     ]
    },
    {
     "name": "stdout",
     "output_type": "stream",
     "text": [
      "row 1\n",
      "tile extent x: 3500, 4900, y: 700, 2100\n"
     ]
    },
    {
     "name": "stderr",
     "output_type": "stream",
     "text": [
      "/tmp/ipykernel_26419/1782889505.py:49: RuntimeWarning: Mean of empty slice\n",
      "  corrected_array = np.nanmean(np.stack([corrected_array, corrected_tile]), axis=0)\n"
     ]
    },
    {
     "name": "stdout",
     "output_type": "stream",
     "text": [
      "row 2\n",
      "tile extent x: 3500, 4900, y: 1400, 2800\n"
     ]
    },
    {
     "name": "stderr",
     "output_type": "stream",
     "text": [
      "/tmp/ipykernel_26419/1782889505.py:49: RuntimeWarning: Mean of empty slice\n",
      "  corrected_array = np.nanmean(np.stack([corrected_array, corrected_tile]), axis=0)\n"
     ]
    },
    {
     "name": "stdout",
     "output_type": "stream",
     "text": [
      "row 3\n",
      "tile extent x: 3500, 4900, y: 2100, 3500\n"
     ]
    },
    {
     "name": "stderr",
     "output_type": "stream",
     "text": [
      "/tmp/ipykernel_26419/1782889505.py:49: RuntimeWarning: Mean of empty slice\n",
      "  corrected_array = np.nanmean(np.stack([corrected_array, corrected_tile]), axis=0)\n"
     ]
    },
    {
     "name": "stdout",
     "output_type": "stream",
     "text": [
      "row 4\n",
      "tile extent x: 3500, 4900, y: 2800, 4200\n"
     ]
    },
    {
     "name": "stderr",
     "output_type": "stream",
     "text": [
      "/tmp/ipykernel_26419/1782889505.py:49: RuntimeWarning: Mean of empty slice\n",
      "  corrected_array = np.nanmean(np.stack([corrected_array, corrected_tile]), axis=0)\n"
     ]
    },
    {
     "name": "stdout",
     "output_type": "stream",
     "text": [
      "row 5\n",
      "tile extent x: 2800, 4900, y: 2800, 4900\n"
     ]
    },
    {
     "name": "stderr",
     "output_type": "stream",
     "text": [
      "/tmp/ipykernel_26419/1782889505.py:49: RuntimeWarning: Mean of empty slice\n",
      "  corrected_array = np.nanmean(np.stack([corrected_array, corrected_tile]), axis=0)\n"
     ]
    },
    {
     "name": "stdout",
     "output_type": "stream",
     "text": [
      "row 6\n",
      "column 6\n",
      "row 0\n",
      "tile extent x: 4200, 5600, y: 0, 1400\n"
     ]
    },
    {
     "name": "stderr",
     "output_type": "stream",
     "text": [
      "/tmp/ipykernel_26419/1782889505.py:49: RuntimeWarning: Mean of empty slice\n",
      "  corrected_array = np.nanmean(np.stack([corrected_array, corrected_tile]), axis=0)\n"
     ]
    },
    {
     "name": "stdout",
     "output_type": "stream",
     "text": [
      "row 1\n",
      "tile extent x: 4200, 5600, y: 700, 2100\n"
     ]
    },
    {
     "name": "stderr",
     "output_type": "stream",
     "text": [
      "/tmp/ipykernel_26419/1782889505.py:49: RuntimeWarning: Mean of empty slice\n",
      "  corrected_array = np.nanmean(np.stack([corrected_array, corrected_tile]), axis=0)\n"
     ]
    },
    {
     "name": "stdout",
     "output_type": "stream",
     "text": [
      "row 2\n",
      "tile extent x: 4200, 5600, y: 1400, 2800\n"
     ]
    },
    {
     "name": "stderr",
     "output_type": "stream",
     "text": [
      "/tmp/ipykernel_26419/1782889505.py:49: RuntimeWarning: Mean of empty slice\n",
      "  corrected_array = np.nanmean(np.stack([corrected_array, corrected_tile]), axis=0)\n"
     ]
    },
    {
     "name": "stdout",
     "output_type": "stream",
     "text": [
      "row 3\n",
      "tile extent x: 4200, 5600, y: 2100, 3500\n"
     ]
    },
    {
     "name": "stderr",
     "output_type": "stream",
     "text": [
      "/tmp/ipykernel_26419/1782889505.py:49: RuntimeWarning: Mean of empty slice\n",
      "  corrected_array = np.nanmean(np.stack([corrected_array, corrected_tile]), axis=0)\n"
     ]
    },
    {
     "name": "stdout",
     "output_type": "stream",
     "text": [
      "row 4\n",
      "tile extent x: 4200, 5600, y: 2800, 4200\n"
     ]
    },
    {
     "name": "stderr",
     "output_type": "stream",
     "text": [
      "/tmp/ipykernel_26419/1782889505.py:49: RuntimeWarning: Mean of empty slice\n",
      "  corrected_array = np.nanmean(np.stack([corrected_array, corrected_tile]), axis=0)\n"
     ]
    },
    {
     "name": "stdout",
     "output_type": "stream",
     "text": [
      "row 5\n",
      "tile extent x: 3500, 5600, y: 2800, 4900\n"
     ]
    },
    {
     "name": "stderr",
     "output_type": "stream",
     "text": [
      "/tmp/ipykernel_26419/1782889505.py:49: RuntimeWarning: Mean of empty slice\n",
      "  corrected_array = np.nanmean(np.stack([corrected_array, corrected_tile]), axis=0)\n"
     ]
    },
    {
     "name": "stdout",
     "output_type": "stream",
     "text": [
      "row 6\n",
      "column 7\n",
      "row 0\n",
      "tile extent x: 4900, 6300, y: 0, 1400\n"
     ]
    },
    {
     "name": "stderr",
     "output_type": "stream",
     "text": [
      "/tmp/ipykernel_26419/1782889505.py:49: RuntimeWarning: Mean of empty slice\n",
      "  corrected_array = np.nanmean(np.stack([corrected_array, corrected_tile]), axis=0)\n"
     ]
    },
    {
     "name": "stdout",
     "output_type": "stream",
     "text": [
      "row 1\n",
      "tile extent x: 4900, 6300, y: 700, 2100\n"
     ]
    },
    {
     "name": "stderr",
     "output_type": "stream",
     "text": [
      "/tmp/ipykernel_26419/1782889505.py:49: RuntimeWarning: Mean of empty slice\n",
      "  corrected_array = np.nanmean(np.stack([corrected_array, corrected_tile]), axis=0)\n"
     ]
    },
    {
     "name": "stdout",
     "output_type": "stream",
     "text": [
      "row 2\n",
      "tile extent x: 4900, 6300, y: 1400, 2800\n"
     ]
    },
    {
     "name": "stderr",
     "output_type": "stream",
     "text": [
      "/tmp/ipykernel_26419/1782889505.py:49: RuntimeWarning: Mean of empty slice\n",
      "  corrected_array = np.nanmean(np.stack([corrected_array, corrected_tile]), axis=0)\n"
     ]
    },
    {
     "name": "stdout",
     "output_type": "stream",
     "text": [
      "row 3\n",
      "tile extent x: 4900, 6300, y: 2100, 3500\n"
     ]
    },
    {
     "name": "stderr",
     "output_type": "stream",
     "text": [
      "/tmp/ipykernel_26419/1782889505.py:49: RuntimeWarning: Mean of empty slice\n",
      "  corrected_array = np.nanmean(np.stack([corrected_array, corrected_tile]), axis=0)\n"
     ]
    },
    {
     "name": "stdout",
     "output_type": "stream",
     "text": [
      "row 4\n",
      "tile extent x: 4900, 6300, y: 2800, 4200\n"
     ]
    },
    {
     "name": "stderr",
     "output_type": "stream",
     "text": [
      "/tmp/ipykernel_26419/1782889505.py:49: RuntimeWarning: Mean of empty slice\n",
      "  corrected_array = np.nanmean(np.stack([corrected_array, corrected_tile]), axis=0)\n"
     ]
    },
    {
     "name": "stdout",
     "output_type": "stream",
     "text": [
      "row 5\n",
      "tile extent x: 4900, 6300, y: 3500, 4900\n"
     ]
    },
    {
     "name": "stderr",
     "output_type": "stream",
     "text": [
      "/tmp/ipykernel_26419/1782889505.py:49: RuntimeWarning: Mean of empty slice\n",
      "  corrected_array = np.nanmean(np.stack([corrected_array, corrected_tile]), axis=0)\n"
     ]
    },
    {
     "name": "stdout",
     "output_type": "stream",
     "text": [
      "row 6\n",
      "column 8\n",
      "row 0\n",
      "tile extent x: 5600, 7000, y: 0, 1400\n"
     ]
    },
    {
     "name": "stderr",
     "output_type": "stream",
     "text": [
      "/tmp/ipykernel_26419/1782889505.py:49: RuntimeWarning: Mean of empty slice\n",
      "  corrected_array = np.nanmean(np.stack([corrected_array, corrected_tile]), axis=0)\n"
     ]
    },
    {
     "name": "stdout",
     "output_type": "stream",
     "text": [
      "row 1\n",
      "tile extent x: 5600, 7000, y: 700, 2100\n"
     ]
    },
    {
     "name": "stderr",
     "output_type": "stream",
     "text": [
      "/tmp/ipykernel_26419/1782889505.py:49: RuntimeWarning: Mean of empty slice\n",
      "  corrected_array = np.nanmean(np.stack([corrected_array, corrected_tile]), axis=0)\n"
     ]
    },
    {
     "name": "stdout",
     "output_type": "stream",
     "text": [
      "row 2\n",
      "tile extent x: 5600, 7000, y: 1400, 2800\n"
     ]
    },
    {
     "name": "stderr",
     "output_type": "stream",
     "text": [
      "/tmp/ipykernel_26419/1782889505.py:49: RuntimeWarning: Mean of empty slice\n",
      "  corrected_array = np.nanmean(np.stack([corrected_array, corrected_tile]), axis=0)\n"
     ]
    },
    {
     "name": "stdout",
     "output_type": "stream",
     "text": [
      "row 3\n",
      "tile extent x: 5600, 7000, y: 2100, 3500\n"
     ]
    },
    {
     "name": "stderr",
     "output_type": "stream",
     "text": [
      "/tmp/ipykernel_26419/1782889505.py:49: RuntimeWarning: Mean of empty slice\n",
      "  corrected_array = np.nanmean(np.stack([corrected_array, corrected_tile]), axis=0)\n"
     ]
    },
    {
     "name": "stdout",
     "output_type": "stream",
     "text": [
      "row 4\n",
      "tile extent x: 5600, 7000, y: 2800, 4200\n"
     ]
    },
    {
     "name": "stderr",
     "output_type": "stream",
     "text": [
      "/tmp/ipykernel_26419/1782889505.py:49: RuntimeWarning: Mean of empty slice\n",
      "  corrected_array = np.nanmean(np.stack([corrected_array, corrected_tile]), axis=0)\n"
     ]
    },
    {
     "name": "stdout",
     "output_type": "stream",
     "text": [
      "row 5\n",
      "tile extent x: 5600, 7000, y: 3500, 4900\n"
     ]
    },
    {
     "name": "stderr",
     "output_type": "stream",
     "text": [
      "/tmp/ipykernel_26419/1782889505.py:49: RuntimeWarning: Mean of empty slice\n",
      "  corrected_array = np.nanmean(np.stack([corrected_array, corrected_tile]), axis=0)\n"
     ]
    },
    {
     "name": "stdout",
     "output_type": "stream",
     "text": [
      "row 6\n",
      "tile extent x: 4900, 7000, y: 3500, 5600\n"
     ]
    },
    {
     "name": "stderr",
     "output_type": "stream",
     "text": [
      "/tmp/ipykernel_26419/1782889505.py:49: RuntimeWarning: Mean of empty slice\n",
      "  corrected_array = np.nanmean(np.stack([corrected_array, corrected_tile]), axis=0)\n"
     ]
    },
    {
     "name": "stdout",
     "output_type": "stream",
     "text": [
      "column 9\n",
      "row 0\n",
      "tile extent x: 6300, 7700, y: 0, 1400\n"
     ]
    },
    {
     "name": "stderr",
     "output_type": "stream",
     "text": [
      "/tmp/ipykernel_26419/1782889505.py:49: RuntimeWarning: Mean of empty slice\n",
      "  corrected_array = np.nanmean(np.stack([corrected_array, corrected_tile]), axis=0)\n"
     ]
    },
    {
     "name": "stdout",
     "output_type": "stream",
     "text": [
      "row 1\n",
      "tile extent x: 6300, 7700, y: 700, 2100\n"
     ]
    },
    {
     "name": "stderr",
     "output_type": "stream",
     "text": [
      "/tmp/ipykernel_26419/1782889505.py:49: RuntimeWarning: Mean of empty slice\n",
      "  corrected_array = np.nanmean(np.stack([corrected_array, corrected_tile]), axis=0)\n"
     ]
    },
    {
     "name": "stdout",
     "output_type": "stream",
     "text": [
      "row 2\n",
      "tile extent x: 6300, 7700, y: 1400, 2800\n"
     ]
    },
    {
     "name": "stderr",
     "output_type": "stream",
     "text": [
      "/tmp/ipykernel_26419/1782889505.py:49: RuntimeWarning: Mean of empty slice\n",
      "  corrected_array = np.nanmean(np.stack([corrected_array, corrected_tile]), axis=0)\n"
     ]
    },
    {
     "name": "stdout",
     "output_type": "stream",
     "text": [
      "row 3\n",
      "tile extent x: 6300, 7700, y: 2100, 3500\n"
     ]
    },
    {
     "name": "stderr",
     "output_type": "stream",
     "text": [
      "/tmp/ipykernel_26419/1782889505.py:49: RuntimeWarning: Mean of empty slice\n",
      "  corrected_array = np.nanmean(np.stack([corrected_array, corrected_tile]), axis=0)\n"
     ]
    },
    {
     "name": "stdout",
     "output_type": "stream",
     "text": [
      "row 4\n",
      "tile extent x: 6300, 7700, y: 2800, 4200\n"
     ]
    },
    {
     "name": "stderr",
     "output_type": "stream",
     "text": [
      "/tmp/ipykernel_26419/1782889505.py:49: RuntimeWarning: Mean of empty slice\n",
      "  corrected_array = np.nanmean(np.stack([corrected_array, corrected_tile]), axis=0)\n"
     ]
    },
    {
     "name": "stdout",
     "output_type": "stream",
     "text": [
      "row 5\n",
      "tile extent x: 6300, 7700, y: 3500, 4900\n"
     ]
    },
    {
     "name": "stderr",
     "output_type": "stream",
     "text": [
      "/tmp/ipykernel_26419/1782889505.py:49: RuntimeWarning: Mean of empty slice\n",
      "  corrected_array = np.nanmean(np.stack([corrected_array, corrected_tile]), axis=0)\n"
     ]
    },
    {
     "name": "stdout",
     "output_type": "stream",
     "text": [
      "row 6\n",
      "tile extent x: 5600, 7700, y: 3500, 5600\n"
     ]
    },
    {
     "name": "stderr",
     "output_type": "stream",
     "text": [
      "/tmp/ipykernel_26419/1782889505.py:49: RuntimeWarning: Mean of empty slice\n",
      "  corrected_array = np.nanmean(np.stack([corrected_array, corrected_tile]), axis=0)\n"
     ]
    },
    {
     "name": "stdout",
     "output_type": "stream",
     "text": [
      "column 10\n",
      "row 0\n",
      "tile extent x: 7000, 8400, y: 0, 1400\n"
     ]
    },
    {
     "name": "stderr",
     "output_type": "stream",
     "text": [
      "/tmp/ipykernel_26419/3363805308.py:101: RankWarning: Polyfit may be poorly conditioned\n",
      "  fit = np.polyfit(bin_centers, bin_medians, order, w=1/bin_nmads)\n",
      "/tmp/ipykernel_26419/1782889505.py:49: RuntimeWarning: Mean of empty slice\n",
      "  corrected_array = np.nanmean(np.stack([corrected_array, corrected_tile]), axis=0)\n"
     ]
    },
    {
     "name": "stdout",
     "output_type": "stream",
     "text": [
      "row 1\n",
      "tile extent x: 7000, 8400, y: 700, 2100\n"
     ]
    },
    {
     "name": "stderr",
     "output_type": "stream",
     "text": [
      "/tmp/ipykernel_26419/3363805308.py:101: RankWarning: Polyfit may be poorly conditioned\n",
      "  fit = np.polyfit(bin_centers, bin_medians, order, w=1/bin_nmads)\n",
      "/tmp/ipykernel_26419/1782889505.py:49: RuntimeWarning: Mean of empty slice\n",
      "  corrected_array = np.nanmean(np.stack([corrected_array, corrected_tile]), axis=0)\n"
     ]
    },
    {
     "name": "stdout",
     "output_type": "stream",
     "text": [
      "row 2\n",
      "tile extent x: 7000, 8400, y: 1400, 2800\n"
     ]
    },
    {
     "name": "stderr",
     "output_type": "stream",
     "text": [
      "/tmp/ipykernel_26419/1782889505.py:49: RuntimeWarning: Mean of empty slice\n",
      "  corrected_array = np.nanmean(np.stack([corrected_array, corrected_tile]), axis=0)\n"
     ]
    },
    {
     "name": "stdout",
     "output_type": "stream",
     "text": [
      "row 3\n",
      "tile extent x: 7000, 8400, y: 2100, 3500\n"
     ]
    },
    {
     "name": "stderr",
     "output_type": "stream",
     "text": [
      "/tmp/ipykernel_26419/3363805308.py:101: RankWarning: Polyfit may be poorly conditioned\n",
      "  fit = np.polyfit(bin_centers, bin_medians, order, w=1/bin_nmads)\n",
      "/tmp/ipykernel_26419/1782889505.py:49: RuntimeWarning: Mean of empty slice\n",
      "  corrected_array = np.nanmean(np.stack([corrected_array, corrected_tile]), axis=0)\n"
     ]
    },
    {
     "name": "stdout",
     "output_type": "stream",
     "text": [
      "row 4\n",
      "tile extent x: 7000, 8400, y: 2800, 4200\n"
     ]
    },
    {
     "name": "stderr",
     "output_type": "stream",
     "text": [
      "/tmp/ipykernel_26419/1782889505.py:49: RuntimeWarning: Mean of empty slice\n",
      "  corrected_array = np.nanmean(np.stack([corrected_array, corrected_tile]), axis=0)\n"
     ]
    },
    {
     "name": "stdout",
     "output_type": "stream",
     "text": [
      "row 5\n",
      "tile extent x: 7000, 8400, y: 3500, 4900\n"
     ]
    },
    {
     "name": "stderr",
     "output_type": "stream",
     "text": [
      "/tmp/ipykernel_26419/1782889505.py:49: RuntimeWarning: Mean of empty slice\n",
      "  corrected_array = np.nanmean(np.stack([corrected_array, corrected_tile]), axis=0)\n"
     ]
    },
    {
     "name": "stdout",
     "output_type": "stream",
     "text": [
      "row 6\n",
      "tile extent x: 6300, 8400, y: 3500, 5600\n"
     ]
    },
    {
     "name": "stderr",
     "output_type": "stream",
     "text": [
      "/tmp/ipykernel_26419/1782889505.py:49: RuntimeWarning: Mean of empty slice\n",
      "  corrected_array = np.nanmean(np.stack([corrected_array, corrected_tile]), axis=0)\n"
     ]
    },
    {
     "name": "stdout",
     "output_type": "stream",
     "text": [
      "column 11\n",
      "row 0\n",
      "tile extent x: 7700, 9100, y: 0, 1400\n"
     ]
    },
    {
     "name": "stderr",
     "output_type": "stream",
     "text": [
      "/tmp/ipykernel_26419/3363805308.py:101: RankWarning: Polyfit may be poorly conditioned\n",
      "  fit = np.polyfit(bin_centers, bin_medians, order, w=1/bin_nmads)\n",
      "/tmp/ipykernel_26419/1782889505.py:49: RuntimeWarning: Mean of empty slice\n",
      "  corrected_array = np.nanmean(np.stack([corrected_array, corrected_tile]), axis=0)\n"
     ]
    },
    {
     "name": "stdout",
     "output_type": "stream",
     "text": [
      "row 1\n",
      "tile extent x: 7700, 9100, y: 700, 2100\n"
     ]
    },
    {
     "name": "stderr",
     "output_type": "stream",
     "text": [
      "/tmp/ipykernel_26419/1782889505.py:49: RuntimeWarning: Mean of empty slice\n",
      "  corrected_array = np.nanmean(np.stack([corrected_array, corrected_tile]), axis=0)\n"
     ]
    },
    {
     "name": "stdout",
     "output_type": "stream",
     "text": [
      "row 2\n",
      "tile extent x: 7700, 9100, y: 1400, 2800\n"
     ]
    },
    {
     "name": "stderr",
     "output_type": "stream",
     "text": [
      "/tmp/ipykernel_26419/1782889505.py:49: RuntimeWarning: Mean of empty slice\n",
      "  corrected_array = np.nanmean(np.stack([corrected_array, corrected_tile]), axis=0)\n"
     ]
    },
    {
     "name": "stdout",
     "output_type": "stream",
     "text": [
      "row 3\n",
      "tile extent x: 7700, 9100, y: 2100, 3500\n"
     ]
    },
    {
     "name": "stderr",
     "output_type": "stream",
     "text": [
      "/tmp/ipykernel_26419/3363805308.py:101: RankWarning: Polyfit may be poorly conditioned\n",
      "  fit = np.polyfit(bin_centers, bin_medians, order, w=1/bin_nmads)\n",
      "/tmp/ipykernel_26419/1782889505.py:49: RuntimeWarning: Mean of empty slice\n",
      "  corrected_array = np.nanmean(np.stack([corrected_array, corrected_tile]), axis=0)\n"
     ]
    },
    {
     "name": "stdout",
     "output_type": "stream",
     "text": [
      "row 4\n",
      "tile extent x: 7700, 9100, y: 2800, 4200\n"
     ]
    },
    {
     "name": "stderr",
     "output_type": "stream",
     "text": [
      "/tmp/ipykernel_26419/3363805308.py:101: RankWarning: Polyfit may be poorly conditioned\n",
      "  fit = np.polyfit(bin_centers, bin_medians, order, w=1/bin_nmads)\n",
      "/tmp/ipykernel_26419/1782889505.py:49: RuntimeWarning: Mean of empty slice\n",
      "  corrected_array = np.nanmean(np.stack([corrected_array, corrected_tile]), axis=0)\n"
     ]
    },
    {
     "name": "stdout",
     "output_type": "stream",
     "text": [
      "row 5\n",
      "tile extent x: 7700, 9100, y: 3500, 4900\n"
     ]
    },
    {
     "name": "stderr",
     "output_type": "stream",
     "text": [
      "/tmp/ipykernel_26419/3363805308.py:101: RankWarning: Polyfit may be poorly conditioned\n",
      "  fit = np.polyfit(bin_centers, bin_medians, order, w=1/bin_nmads)\n",
      "/tmp/ipykernel_26419/1782889505.py:49: RuntimeWarning: Mean of empty slice\n",
      "  corrected_array = np.nanmean(np.stack([corrected_array, corrected_tile]), axis=0)\n"
     ]
    },
    {
     "name": "stdout",
     "output_type": "stream",
     "text": [
      "row 6\n",
      "tile extent x: 7000, 9100, y: 3500, 5600\n"
     ]
    },
    {
     "name": "stderr",
     "output_type": "stream",
     "text": [
      "/tmp/ipykernel_26419/1782889505.py:49: RuntimeWarning: Mean of empty slice\n",
      "  corrected_array = np.nanmean(np.stack([corrected_array, corrected_tile]), axis=0)\n"
     ]
    },
    {
     "name": "stdout",
     "output_type": "stream",
     "text": [
      "column 12\n",
      "row 0\n",
      "tile extent x: 7700, 9800, y: 0, 2100\n"
     ]
    },
    {
     "name": "stderr",
     "output_type": "stream",
     "text": [
      "/tmp/ipykernel_26419/1782889505.py:49: RuntimeWarning: Mean of empty slice\n",
      "  corrected_array = np.nanmean(np.stack([corrected_array, corrected_tile]), axis=0)\n"
     ]
    },
    {
     "name": "stdout",
     "output_type": "stream",
     "text": [
      "row 1\n",
      "tile extent x: 7700, 9800, y: 700, 2800\n"
     ]
    },
    {
     "name": "stderr",
     "output_type": "stream",
     "text": [
      "/tmp/ipykernel_26419/1782889505.py:49: RuntimeWarning: Mean of empty slice\n",
      "  corrected_array = np.nanmean(np.stack([corrected_array, corrected_tile]), axis=0)\n"
     ]
    },
    {
     "name": "stdout",
     "output_type": "stream",
     "text": [
      "row 2\n",
      "tile extent x: 7700, 9800, y: 700, 2800\n"
     ]
    },
    {
     "name": "stderr",
     "output_type": "stream",
     "text": [
      "/tmp/ipykernel_26419/1782889505.py:49: RuntimeWarning: Mean of empty slice\n",
      "  corrected_array = np.nanmean(np.stack([corrected_array, corrected_tile]), axis=0)\n"
     ]
    },
    {
     "name": "stdout",
     "output_type": "stream",
     "text": [
      "row 3\n",
      "tile extent x: 7700, 9800, y: 1400, 3500\n"
     ]
    },
    {
     "name": "stderr",
     "output_type": "stream",
     "text": [
      "/tmp/ipykernel_26419/1782889505.py:49: RuntimeWarning: Mean of empty slice\n",
      "  corrected_array = np.nanmean(np.stack([corrected_array, corrected_tile]), axis=0)\n"
     ]
    },
    {
     "name": "stdout",
     "output_type": "stream",
     "text": [
      "row 4\n",
      "tile extent x: 7700, 9800, y: 2100, 4200\n"
     ]
    },
    {
     "name": "stderr",
     "output_type": "stream",
     "text": [
      "/tmp/ipykernel_26419/1782889505.py:49: RuntimeWarning: Mean of empty slice\n",
      "  corrected_array = np.nanmean(np.stack([corrected_array, corrected_tile]), axis=0)\n"
     ]
    },
    {
     "name": "stdout",
     "output_type": "stream",
     "text": [
      "row 5\n",
      "tile extent x: 7700, 9800, y: 2800, 4900\n"
     ]
    },
    {
     "name": "stderr",
     "output_type": "stream",
     "text": [
      "/tmp/ipykernel_26419/3363805308.py:101: RankWarning: Polyfit may be poorly conditioned\n",
      "  fit = np.polyfit(bin_centers, bin_medians, order, w=1/bin_nmads)\n",
      "/tmp/ipykernel_26419/1782889505.py:49: RuntimeWarning: Mean of empty slice\n",
      "  corrected_array = np.nanmean(np.stack([corrected_array, corrected_tile]), axis=0)\n"
     ]
    },
    {
     "name": "stdout",
     "output_type": "stream",
     "text": [
      "row 6\n",
      "working on swatch_17304_s1\n",
      "column 0\n",
      "row 0\n",
      "tile extent x: 0, 1400, y: 0, 1400\n"
     ]
    },
    {
     "name": "stderr",
     "output_type": "stream",
     "text": [
      "/tmp/ipykernel_26419/1782889505.py:49: RuntimeWarning: Mean of empty slice\n",
      "  corrected_array = np.nanmean(np.stack([corrected_array, corrected_tile]), axis=0)\n"
     ]
    },
    {
     "name": "stdout",
     "output_type": "stream",
     "text": [
      "row 1\n",
      "tile extent x: 0, 1400, y: 700, 2100\n"
     ]
    },
    {
     "name": "stderr",
     "output_type": "stream",
     "text": [
      "/tmp/ipykernel_26419/1782889505.py:49: RuntimeWarning: Mean of empty slice\n",
      "  corrected_array = np.nanmean(np.stack([corrected_array, corrected_tile]), axis=0)\n"
     ]
    },
    {
     "name": "stdout",
     "output_type": "stream",
     "text": [
      "row 2\n",
      "tile extent x: 0, 1400, y: 1400, 2800\n"
     ]
    },
    {
     "name": "stderr",
     "output_type": "stream",
     "text": [
      "/tmp/ipykernel_26419/1782889505.py:49: RuntimeWarning: Mean of empty slice\n",
      "  corrected_array = np.nanmean(np.stack([corrected_array, corrected_tile]), axis=0)\n"
     ]
    },
    {
     "name": "stdout",
     "output_type": "stream",
     "text": [
      "row 3\n",
      "tile extent x: 0, 1400, y: 2100, 3500\n"
     ]
    },
    {
     "name": "stderr",
     "output_type": "stream",
     "text": [
      "/tmp/ipykernel_26419/1782889505.py:49: RuntimeWarning: Mean of empty slice\n",
      "  corrected_array = np.nanmean(np.stack([corrected_array, corrected_tile]), axis=0)\n"
     ]
    },
    {
     "name": "stdout",
     "output_type": "stream",
     "text": [
      "row 4\n",
      "tile extent x: 0, 1400, y: 2800, 4200\n"
     ]
    },
    {
     "name": "stderr",
     "output_type": "stream",
     "text": [
      "/tmp/ipykernel_26419/1782889505.py:49: RuntimeWarning: Mean of empty slice\n",
      "  corrected_array = np.nanmean(np.stack([corrected_array, corrected_tile]), axis=0)\n"
     ]
    },
    {
     "name": "stdout",
     "output_type": "stream",
     "text": [
      "row 5\n",
      "tile extent x: 0, 1400, y: 3500, 4900\n"
     ]
    },
    {
     "name": "stderr",
     "output_type": "stream",
     "text": [
      "/tmp/ipykernel_26419/1782889505.py:49: RuntimeWarning: Mean of empty slice\n",
      "  corrected_array = np.nanmean(np.stack([corrected_array, corrected_tile]), axis=0)\n"
     ]
    },
    {
     "name": "stdout",
     "output_type": "stream",
     "text": [
      "row 6\n",
      "tile extent x: 0, 1400, y: 4200, 5600\n"
     ]
    },
    {
     "name": "stderr",
     "output_type": "stream",
     "text": [
      "/tmp/ipykernel_26419/1782889505.py:49: RuntimeWarning: Mean of empty slice\n",
      "  corrected_array = np.nanmean(np.stack([corrected_array, corrected_tile]), axis=0)\n"
     ]
    },
    {
     "name": "stdout",
     "output_type": "stream",
     "text": [
      "row 7\n",
      "tile extent x: 0, 1400, y: 4900, 6300\n"
     ]
    },
    {
     "name": "stderr",
     "output_type": "stream",
     "text": [
      "/tmp/ipykernel_26419/1782889505.py:49: RuntimeWarning: Mean of empty slice\n",
      "  corrected_array = np.nanmean(np.stack([corrected_array, corrected_tile]), axis=0)\n"
     ]
    },
    {
     "name": "stdout",
     "output_type": "stream",
     "text": [
      "row 8\n",
      "tile extent x: 0, 1400, y: 5600, 7000\n"
     ]
    },
    {
     "name": "stderr",
     "output_type": "stream",
     "text": [
      "/tmp/ipykernel_26419/1782889505.py:49: RuntimeWarning: Mean of empty slice\n",
      "  corrected_array = np.nanmean(np.stack([corrected_array, corrected_tile]), axis=0)\n"
     ]
    },
    {
     "name": "stdout",
     "output_type": "stream",
     "text": [
      "row 9\n",
      "tile extent x: 0, 2100, y: 5600, 7700\n"
     ]
    },
    {
     "name": "stderr",
     "output_type": "stream",
     "text": [
      "/tmp/ipykernel_26419/1782889505.py:49: RuntimeWarning: Mean of empty slice\n",
      "  corrected_array = np.nanmean(np.stack([corrected_array, corrected_tile]), axis=0)\n"
     ]
    },
    {
     "name": "stdout",
     "output_type": "stream",
     "text": [
      "row 10\n",
      "tile extent x: 0, 2100, y: 6300, 8400\n"
     ]
    },
    {
     "name": "stderr",
     "output_type": "stream",
     "text": [
      "/tmp/ipykernel_26419/1782889505.py:49: RuntimeWarning: Mean of empty slice\n",
      "  corrected_array = np.nanmean(np.stack([corrected_array, corrected_tile]), axis=0)\n"
     ]
    },
    {
     "name": "stdout",
     "output_type": "stream",
     "text": [
      "row 11\n",
      "tile extent x: 0, 2100, y: 7000, 9100\n"
     ]
    },
    {
     "name": "stderr",
     "output_type": "stream",
     "text": [
      "/tmp/ipykernel_26419/1782889505.py:49: RuntimeWarning: Mean of empty slice\n",
      "  corrected_array = np.nanmean(np.stack([corrected_array, corrected_tile]), axis=0)\n"
     ]
    },
    {
     "name": "stdout",
     "output_type": "stream",
     "text": [
      "column 1\n",
      "row 0\n",
      "tile extent x: 700, 2100, y: 0, 1400\n"
     ]
    },
    {
     "name": "stderr",
     "output_type": "stream",
     "text": [
      "/tmp/ipykernel_26419/1782889505.py:49: RuntimeWarning: Mean of empty slice\n",
      "  corrected_array = np.nanmean(np.stack([corrected_array, corrected_tile]), axis=0)\n"
     ]
    },
    {
     "name": "stdout",
     "output_type": "stream",
     "text": [
      "row 1\n",
      "tile extent x: 700, 2100, y: 700, 2100\n"
     ]
    },
    {
     "name": "stderr",
     "output_type": "stream",
     "text": [
      "/tmp/ipykernel_26419/1782889505.py:49: RuntimeWarning: Mean of empty slice\n",
      "  corrected_array = np.nanmean(np.stack([corrected_array, corrected_tile]), axis=0)\n"
     ]
    },
    {
     "name": "stdout",
     "output_type": "stream",
     "text": [
      "row 2\n",
      "tile extent x: 700, 2100, y: 1400, 2800\n"
     ]
    },
    {
     "name": "stderr",
     "output_type": "stream",
     "text": [
      "/tmp/ipykernel_26419/1782889505.py:49: RuntimeWarning: Mean of empty slice\n",
      "  corrected_array = np.nanmean(np.stack([corrected_array, corrected_tile]), axis=0)\n"
     ]
    },
    {
     "name": "stdout",
     "output_type": "stream",
     "text": [
      "row 3\n",
      "tile extent x: 700, 2100, y: 2100, 3500\n"
     ]
    },
    {
     "name": "stderr",
     "output_type": "stream",
     "text": [
      "/tmp/ipykernel_26419/1782889505.py:49: RuntimeWarning: Mean of empty slice\n",
      "  corrected_array = np.nanmean(np.stack([corrected_array, corrected_tile]), axis=0)\n"
     ]
    },
    {
     "name": "stdout",
     "output_type": "stream",
     "text": [
      "row 4\n",
      "tile extent x: 700, 2100, y: 2800, 4200\n"
     ]
    },
    {
     "name": "stderr",
     "output_type": "stream",
     "text": [
      "/tmp/ipykernel_26419/1782889505.py:49: RuntimeWarning: Mean of empty slice\n",
      "  corrected_array = np.nanmean(np.stack([corrected_array, corrected_tile]), axis=0)\n"
     ]
    },
    {
     "name": "stdout",
     "output_type": "stream",
     "text": [
      "row 6\n",
      "tile extent x: 700, 2100, y: 4200, 5600\n"
     ]
    },
    {
     "name": "stderr",
     "output_type": "stream",
     "text": [
      "/tmp/ipykernel_26419/1782889505.py:49: RuntimeWarning: Mean of empty slice\n",
      "  corrected_array = np.nanmean(np.stack([corrected_array, corrected_tile]), axis=0)\n"
     ]
    },
    {
     "name": "stdout",
     "output_type": "stream",
     "text": [
      "row 7\n",
      "tile extent x: 700, 2100, y: 4900, 6300\n"
     ]
    },
    {
     "name": "stderr",
     "output_type": "stream",
     "text": [
      "/tmp/ipykernel_26419/1782889505.py:49: RuntimeWarning: Mean of empty slice\n",
      "  corrected_array = np.nanmean(np.stack([corrected_array, corrected_tile]), axis=0)\n"
     ]
    },
    {
     "name": "stdout",
     "output_type": "stream",
     "text": [
      "row 8\n",
      "tile extent x: 700, 2100, y: 5600, 7000\n"
     ]
    },
    {
     "name": "stderr",
     "output_type": "stream",
     "text": [
      "/tmp/ipykernel_26419/1782889505.py:49: RuntimeWarning: Mean of empty slice\n",
      "  corrected_array = np.nanmean(np.stack([corrected_array, corrected_tile]), axis=0)\n"
     ]
    },
    {
     "name": "stdout",
     "output_type": "stream",
     "text": [
      "row 9\n",
      "tile extent x: 700, 2100, y: 6300, 7700\n"
     ]
    },
    {
     "name": "stderr",
     "output_type": "stream",
     "text": [
      "/tmp/ipykernel_26419/1782889505.py:49: RuntimeWarning: Mean of empty slice\n",
      "  corrected_array = np.nanmean(np.stack([corrected_array, corrected_tile]), axis=0)\n"
     ]
    },
    {
     "name": "stdout",
     "output_type": "stream",
     "text": [
      "row 10\n",
      "tile extent x: 700, 2100, y: 7000, 8400\n"
     ]
    },
    {
     "name": "stderr",
     "output_type": "stream",
     "text": [
      "/tmp/ipykernel_26419/1782889505.py:49: RuntimeWarning: Mean of empty slice\n",
      "  corrected_array = np.nanmean(np.stack([corrected_array, corrected_tile]), axis=0)\n"
     ]
    },
    {
     "name": "stdout",
     "output_type": "stream",
     "text": [
      "row 11\n",
      "tile extent x: 700, 2800, y: 7000, 9100\n"
     ]
    },
    {
     "name": "stderr",
     "output_type": "stream",
     "text": [
      "/tmp/ipykernel_26419/1782889505.py:49: RuntimeWarning: Mean of empty slice\n",
      "  corrected_array = np.nanmean(np.stack([corrected_array, corrected_tile]), axis=0)\n"
     ]
    },
    {
     "name": "stdout",
     "output_type": "stream",
     "text": [
      "column 2\n",
      "row 0\n",
      "tile extent x: 1400, 2800, y: 0, 1400\n"
     ]
    },
    {
     "name": "stderr",
     "output_type": "stream",
     "text": [
      "/tmp/ipykernel_26419/1782889505.py:49: RuntimeWarning: Mean of empty slice\n",
      "  corrected_array = np.nanmean(np.stack([corrected_array, corrected_tile]), axis=0)\n"
     ]
    },
    {
     "name": "stdout",
     "output_type": "stream",
     "text": [
      "row 1\n",
      "tile extent x: 1400, 2800, y: 700, 2100\n"
     ]
    },
    {
     "name": "stderr",
     "output_type": "stream",
     "text": [
      "/tmp/ipykernel_26419/1782889505.py:49: RuntimeWarning: Mean of empty slice\n",
      "  corrected_array = np.nanmean(np.stack([corrected_array, corrected_tile]), axis=0)\n"
     ]
    },
    {
     "name": "stdout",
     "output_type": "stream",
     "text": [
      "row 2\n",
      "tile extent x: 1400, 2800, y: 1400, 2800\n"
     ]
    },
    {
     "name": "stderr",
     "output_type": "stream",
     "text": [
      "/tmp/ipykernel_26419/1782889505.py:49: RuntimeWarning: Mean of empty slice\n",
      "  corrected_array = np.nanmean(np.stack([corrected_array, corrected_tile]), axis=0)\n"
     ]
    },
    {
     "name": "stdout",
     "output_type": "stream",
     "text": [
      "row 3\n",
      "tile extent x: 1400, 2800, y: 2100, 3500\n"
     ]
    },
    {
     "name": "stderr",
     "output_type": "stream",
     "text": [
      "/tmp/ipykernel_26419/1782889505.py:49: RuntimeWarning: Mean of empty slice\n",
      "  corrected_array = np.nanmean(np.stack([corrected_array, corrected_tile]), axis=0)\n"
     ]
    },
    {
     "name": "stdout",
     "output_type": "stream",
     "text": [
      "row 4\n",
      "tile extent x: 1400, 2800, y: 2800, 4200\n"
     ]
    },
    {
     "name": "stderr",
     "output_type": "stream",
     "text": [
      "/tmp/ipykernel_26419/1782889505.py:49: RuntimeWarning: Mean of empty slice\n",
      "  corrected_array = np.nanmean(np.stack([corrected_array, corrected_tile]), axis=0)\n"
     ]
    },
    {
     "name": "stdout",
     "output_type": "stream",
     "text": [
      "row 5\n",
      "tile extent x: 1400, 2800, y: 3500, 4900\n"
     ]
    },
    {
     "name": "stderr",
     "output_type": "stream",
     "text": [
      "/tmp/ipykernel_26419/1782889505.py:49: RuntimeWarning: Mean of empty slice\n",
      "  corrected_array = np.nanmean(np.stack([corrected_array, corrected_tile]), axis=0)\n"
     ]
    },
    {
     "name": "stdout",
     "output_type": "stream",
     "text": [
      "row 6\n",
      "tile extent x: 1400, 2800, y: 4200, 5600\n"
     ]
    },
    {
     "name": "stderr",
     "output_type": "stream",
     "text": [
      "/tmp/ipykernel_26419/1782889505.py:49: RuntimeWarning: Mean of empty slice\n",
      "  corrected_array = np.nanmean(np.stack([corrected_array, corrected_tile]), axis=0)\n"
     ]
    },
    {
     "name": "stdout",
     "output_type": "stream",
     "text": [
      "row 7\n",
      "tile extent x: 1400, 2800, y: 4900, 6300\n"
     ]
    },
    {
     "name": "stderr",
     "output_type": "stream",
     "text": [
      "/tmp/ipykernel_26419/1782889505.py:49: RuntimeWarning: Mean of empty slice\n",
      "  corrected_array = np.nanmean(np.stack([corrected_array, corrected_tile]), axis=0)\n"
     ]
    },
    {
     "name": "stdout",
     "output_type": "stream",
     "text": [
      "row 8\n",
      "tile extent x: 1400, 2800, y: 5600, 7000\n"
     ]
    },
    {
     "name": "stderr",
     "output_type": "stream",
     "text": [
      "/tmp/ipykernel_26419/1782889505.py:49: RuntimeWarning: Mean of empty slice\n",
      "  corrected_array = np.nanmean(np.stack([corrected_array, corrected_tile]), axis=0)\n"
     ]
    },
    {
     "name": "stdout",
     "output_type": "stream",
     "text": [
      "row 9\n",
      "tile extent x: 1400, 2800, y: 6300, 7700\n"
     ]
    },
    {
     "name": "stderr",
     "output_type": "stream",
     "text": [
      "/tmp/ipykernel_26419/1782889505.py:49: RuntimeWarning: Mean of empty slice\n",
      "  corrected_array = np.nanmean(np.stack([corrected_array, corrected_tile]), axis=0)\n"
     ]
    },
    {
     "name": "stdout",
     "output_type": "stream",
     "text": [
      "row 10\n",
      "tile extent x: 1400, 2800, y: 7000, 8400\n"
     ]
    },
    {
     "name": "stderr",
     "output_type": "stream",
     "text": [
      "/tmp/ipykernel_26419/1782889505.py:49: RuntimeWarning: Mean of empty slice\n",
      "  corrected_array = np.nanmean(np.stack([corrected_array, corrected_tile]), axis=0)\n"
     ]
    },
    {
     "name": "stdout",
     "output_type": "stream",
     "text": [
      "row 11\n",
      "tile extent x: 700, 2800, y: 7000, 9100\n"
     ]
    },
    {
     "name": "stderr",
     "output_type": "stream",
     "text": [
      "/tmp/ipykernel_26419/1782889505.py:49: RuntimeWarning: Mean of empty slice\n",
      "  corrected_array = np.nanmean(np.stack([corrected_array, corrected_tile]), axis=0)\n"
     ]
    },
    {
     "name": "stdout",
     "output_type": "stream",
     "text": [
      "column 3\n",
      "row 0\n",
      "tile extent x: 2100, 3500, y: 0, 1400\n"
     ]
    },
    {
     "name": "stderr",
     "output_type": "stream",
     "text": [
      "/tmp/ipykernel_26419/1782889505.py:49: RuntimeWarning: Mean of empty slice\n",
      "  corrected_array = np.nanmean(np.stack([corrected_array, corrected_tile]), axis=0)\n"
     ]
    },
    {
     "name": "stdout",
     "output_type": "stream",
     "text": [
      "row 1\n",
      "tile extent x: 2100, 3500, y: 700, 2100\n"
     ]
    },
    {
     "name": "stderr",
     "output_type": "stream",
     "text": [
      "/tmp/ipykernel_26419/1782889505.py:49: RuntimeWarning: Mean of empty slice\n",
      "  corrected_array = np.nanmean(np.stack([corrected_array, corrected_tile]), axis=0)\n"
     ]
    },
    {
     "name": "stdout",
     "output_type": "stream",
     "text": [
      "row 2\n",
      "tile extent x: 2100, 3500, y: 1400, 2800\n"
     ]
    },
    {
     "name": "stderr",
     "output_type": "stream",
     "text": [
      "/tmp/ipykernel_26419/1782889505.py:49: RuntimeWarning: Mean of empty slice\n",
      "  corrected_array = np.nanmean(np.stack([corrected_array, corrected_tile]), axis=0)\n"
     ]
    },
    {
     "name": "stdout",
     "output_type": "stream",
     "text": [
      "row 3\n",
      "tile extent x: 2100, 3500, y: 2100, 3500\n"
     ]
    },
    {
     "name": "stderr",
     "output_type": "stream",
     "text": [
      "/tmp/ipykernel_26419/1782889505.py:49: RuntimeWarning: Mean of empty slice\n",
      "  corrected_array = np.nanmean(np.stack([corrected_array, corrected_tile]), axis=0)\n"
     ]
    },
    {
     "name": "stdout",
     "output_type": "stream",
     "text": [
      "row 4\n",
      "tile extent x: 2100, 3500, y: 2800, 4200\n"
     ]
    },
    {
     "name": "stderr",
     "output_type": "stream",
     "text": [
      "/tmp/ipykernel_26419/1782889505.py:49: RuntimeWarning: Mean of empty slice\n",
      "  corrected_array = np.nanmean(np.stack([corrected_array, corrected_tile]), axis=0)\n"
     ]
    },
    {
     "name": "stdout",
     "output_type": "stream",
     "text": [
      "row 5\n",
      "tile extent x: 2100, 3500, y: 3500, 4900\n"
     ]
    },
    {
     "name": "stderr",
     "output_type": "stream",
     "text": [
      "/tmp/ipykernel_26419/1782889505.py:49: RuntimeWarning: Mean of empty slice\n",
      "  corrected_array = np.nanmean(np.stack([corrected_array, corrected_tile]), axis=0)\n"
     ]
    },
    {
     "name": "stdout",
     "output_type": "stream",
     "text": [
      "row 6\n",
      "tile extent x: 2100, 3500, y: 4200, 5600\n"
     ]
    },
    {
     "name": "stderr",
     "output_type": "stream",
     "text": [
      "/tmp/ipykernel_26419/1782889505.py:49: RuntimeWarning: Mean of empty slice\n",
      "  corrected_array = np.nanmean(np.stack([corrected_array, corrected_tile]), axis=0)\n"
     ]
    },
    {
     "name": "stdout",
     "output_type": "stream",
     "text": [
      "row 7\n",
      "tile extent x: 2100, 3500, y: 4900, 6300\n"
     ]
    },
    {
     "name": "stderr",
     "output_type": "stream",
     "text": [
      "/tmp/ipykernel_26419/1782889505.py:49: RuntimeWarning: Mean of empty slice\n",
      "  corrected_array = np.nanmean(np.stack([corrected_array, corrected_tile]), axis=0)\n"
     ]
    },
    {
     "name": "stdout",
     "output_type": "stream",
     "text": [
      "row 8\n",
      "tile extent x: 2100, 3500, y: 5600, 7000\n"
     ]
    },
    {
     "name": "stderr",
     "output_type": "stream",
     "text": [
      "/tmp/ipykernel_26419/1782889505.py:49: RuntimeWarning: Mean of empty slice\n",
      "  corrected_array = np.nanmean(np.stack([corrected_array, corrected_tile]), axis=0)\n"
     ]
    },
    {
     "name": "stdout",
     "output_type": "stream",
     "text": [
      "row 9\n",
      "tile extent x: 2100, 3500, y: 6300, 7700\n"
     ]
    },
    {
     "name": "stderr",
     "output_type": "stream",
     "text": [
      "/tmp/ipykernel_26419/1782889505.py:49: RuntimeWarning: Mean of empty slice\n",
      "  corrected_array = np.nanmean(np.stack([corrected_array, corrected_tile]), axis=0)\n"
     ]
    },
    {
     "name": "stdout",
     "output_type": "stream",
     "text": [
      "row 10\n",
      "tile extent x: 2100, 3500, y: 7000, 8400\n"
     ]
    },
    {
     "name": "stderr",
     "output_type": "stream",
     "text": [
      "/tmp/ipykernel_26419/1782889505.py:49: RuntimeWarning: Mean of empty slice\n",
      "  corrected_array = np.nanmean(np.stack([corrected_array, corrected_tile]), axis=0)\n"
     ]
    },
    {
     "name": "stdout",
     "output_type": "stream",
     "text": [
      "row 11\n",
      "column 4\n",
      "row 0\n",
      "tile extent x: 2800, 4200, y: 0, 1400\n"
     ]
    },
    {
     "name": "stderr",
     "output_type": "stream",
     "text": [
      "/tmp/ipykernel_26419/1782889505.py:49: RuntimeWarning: Mean of empty slice\n",
      "  corrected_array = np.nanmean(np.stack([corrected_array, corrected_tile]), axis=0)\n"
     ]
    },
    {
     "name": "stdout",
     "output_type": "stream",
     "text": [
      "row 1\n",
      "tile extent x: 2800, 4200, y: 700, 2100\n"
     ]
    },
    {
     "name": "stderr",
     "output_type": "stream",
     "text": [
      "/tmp/ipykernel_26419/1782889505.py:49: RuntimeWarning: Mean of empty slice\n",
      "  corrected_array = np.nanmean(np.stack([corrected_array, corrected_tile]), axis=0)\n"
     ]
    },
    {
     "name": "stdout",
     "output_type": "stream",
     "text": [
      "row 2\n",
      "tile extent x: 2800, 4200, y: 1400, 2800\n"
     ]
    },
    {
     "name": "stderr",
     "output_type": "stream",
     "text": [
      "/tmp/ipykernel_26419/1782889505.py:49: RuntimeWarning: Mean of empty slice\n",
      "  corrected_array = np.nanmean(np.stack([corrected_array, corrected_tile]), axis=0)\n"
     ]
    },
    {
     "name": "stdout",
     "output_type": "stream",
     "text": [
      "row 3\n",
      "tile extent x: 2800, 4200, y: 2100, 3500\n"
     ]
    },
    {
     "name": "stderr",
     "output_type": "stream",
     "text": [
      "/tmp/ipykernel_26419/1782889505.py:49: RuntimeWarning: Mean of empty slice\n",
      "  corrected_array = np.nanmean(np.stack([corrected_array, corrected_tile]), axis=0)\n"
     ]
    },
    {
     "name": "stdout",
     "output_type": "stream",
     "text": [
      "row 4\n",
      "tile extent x: 2800, 4200, y: 2800, 4200\n"
     ]
    },
    {
     "name": "stderr",
     "output_type": "stream",
     "text": [
      "/tmp/ipykernel_26419/1782889505.py:49: RuntimeWarning: Mean of empty slice\n",
      "  corrected_array = np.nanmean(np.stack([corrected_array, corrected_tile]), axis=0)\n"
     ]
    },
    {
     "name": "stdout",
     "output_type": "stream",
     "text": [
      "row 5\n",
      "tile extent x: 2800, 4200, y: 3500, 4900\n"
     ]
    },
    {
     "name": "stderr",
     "output_type": "stream",
     "text": [
      "/tmp/ipykernel_26419/1782889505.py:49: RuntimeWarning: Mean of empty slice\n",
      "  corrected_array = np.nanmean(np.stack([corrected_array, corrected_tile]), axis=0)\n"
     ]
    },
    {
     "name": "stdout",
     "output_type": "stream",
     "text": [
      "row 6\n",
      "tile extent x: 2800, 4200, y: 4200, 5600\n"
     ]
    },
    {
     "name": "stderr",
     "output_type": "stream",
     "text": [
      "/tmp/ipykernel_26419/1782889505.py:49: RuntimeWarning: Mean of empty slice\n",
      "  corrected_array = np.nanmean(np.stack([corrected_array, corrected_tile]), axis=0)\n"
     ]
    },
    {
     "name": "stdout",
     "output_type": "stream",
     "text": [
      "row 7\n",
      "tile extent x: 2800, 4200, y: 4900, 6300\n"
     ]
    },
    {
     "name": "stderr",
     "output_type": "stream",
     "text": [
      "/tmp/ipykernel_26419/1782889505.py:49: RuntimeWarning: Mean of empty slice\n",
      "  corrected_array = np.nanmean(np.stack([corrected_array, corrected_tile]), axis=0)\n"
     ]
    },
    {
     "name": "stdout",
     "output_type": "stream",
     "text": [
      "row 8\n",
      "tile extent x: 2800, 4200, y: 5600, 7000\n"
     ]
    },
    {
     "name": "stderr",
     "output_type": "stream",
     "text": [
      "/tmp/ipykernel_26419/1782889505.py:49: RuntimeWarning: Mean of empty slice\n",
      "  corrected_array = np.nanmean(np.stack([corrected_array, corrected_tile]), axis=0)\n"
     ]
    },
    {
     "name": "stdout",
     "output_type": "stream",
     "text": [
      "row 9\n",
      "tile extent x: 2800, 4200, y: 6300, 7700\n"
     ]
    },
    {
     "name": "stderr",
     "output_type": "stream",
     "text": [
      "/tmp/ipykernel_26419/1782889505.py:49: RuntimeWarning: Mean of empty slice\n",
      "  corrected_array = np.nanmean(np.stack([corrected_array, corrected_tile]), axis=0)\n"
     ]
    },
    {
     "name": "stdout",
     "output_type": "stream",
     "text": [
      "row 10\n",
      "tile extent x: 2800, 4200, y: 7000, 8400\n"
     ]
    },
    {
     "name": "stderr",
     "output_type": "stream",
     "text": [
      "/tmp/ipykernel_26419/1782889505.py:49: RuntimeWarning: Mean of empty slice\n",
      "  corrected_array = np.nanmean(np.stack([corrected_array, corrected_tile]), axis=0)\n"
     ]
    },
    {
     "name": "stdout",
     "output_type": "stream",
     "text": [
      "row 11\n",
      "column 5\n",
      "row 0\n",
      "tile extent x: 3500, 4900, y: 0, 1400\n"
     ]
    },
    {
     "name": "stderr",
     "output_type": "stream",
     "text": [
      "/tmp/ipykernel_26419/1782889505.py:49: RuntimeWarning: Mean of empty slice\n",
      "  corrected_array = np.nanmean(np.stack([corrected_array, corrected_tile]), axis=0)\n"
     ]
    },
    {
     "name": "stdout",
     "output_type": "stream",
     "text": [
      "row 1\n",
      "tile extent x: 3500, 4900, y: 700, 2100\n"
     ]
    },
    {
     "name": "stderr",
     "output_type": "stream",
     "text": [
      "/tmp/ipykernel_26419/1782889505.py:49: RuntimeWarning: Mean of empty slice\n",
      "  corrected_array = np.nanmean(np.stack([corrected_array, corrected_tile]), axis=0)\n"
     ]
    },
    {
     "name": "stdout",
     "output_type": "stream",
     "text": [
      "row 2\n",
      "tile extent x: 3500, 4900, y: 1400, 2800\n"
     ]
    },
    {
     "name": "stderr",
     "output_type": "stream",
     "text": [
      "/tmp/ipykernel_26419/1782889505.py:49: RuntimeWarning: Mean of empty slice\n",
      "  corrected_array = np.nanmean(np.stack([corrected_array, corrected_tile]), axis=0)\n"
     ]
    },
    {
     "name": "stdout",
     "output_type": "stream",
     "text": [
      "row 3\n",
      "tile extent x: 3500, 4900, y: 2100, 3500\n"
     ]
    },
    {
     "name": "stderr",
     "output_type": "stream",
     "text": [
      "/tmp/ipykernel_26419/1782889505.py:49: RuntimeWarning: Mean of empty slice\n",
      "  corrected_array = np.nanmean(np.stack([corrected_array, corrected_tile]), axis=0)\n"
     ]
    },
    {
     "name": "stdout",
     "output_type": "stream",
     "text": [
      "row 4\n",
      "tile extent x: 3500, 4900, y: 2800, 4200\n"
     ]
    },
    {
     "name": "stderr",
     "output_type": "stream",
     "text": [
      "/tmp/ipykernel_26419/3363805308.py:101: RankWarning: Polyfit may be poorly conditioned\n",
      "  fit = np.polyfit(bin_centers, bin_medians, order, w=1/bin_nmads)\n",
      "/tmp/ipykernel_26419/1782889505.py:49: RuntimeWarning: Mean of empty slice\n",
      "  corrected_array = np.nanmean(np.stack([corrected_array, corrected_tile]), axis=0)\n"
     ]
    },
    {
     "name": "stdout",
     "output_type": "stream",
     "text": [
      "row 5\n",
      "tile extent x: 3500, 4900, y: 3500, 4900\n"
     ]
    },
    {
     "name": "stderr",
     "output_type": "stream",
     "text": [
      "/tmp/ipykernel_26419/1782889505.py:49: RuntimeWarning: Mean of empty slice\n",
      "  corrected_array = np.nanmean(np.stack([corrected_array, corrected_tile]), axis=0)\n"
     ]
    },
    {
     "name": "stdout",
     "output_type": "stream",
     "text": [
      "row 6\n",
      "tile extent x: 3500, 4900, y: 4200, 5600\n"
     ]
    },
    {
     "name": "stderr",
     "output_type": "stream",
     "text": [
      "/tmp/ipykernel_26419/1782889505.py:49: RuntimeWarning: Mean of empty slice\n",
      "  corrected_array = np.nanmean(np.stack([corrected_array, corrected_tile]), axis=0)\n"
     ]
    },
    {
     "name": "stdout",
     "output_type": "stream",
     "text": [
      "row 7\n",
      "tile extent x: 3500, 4900, y: 4900, 6300\n"
     ]
    },
    {
     "name": "stderr",
     "output_type": "stream",
     "text": [
      "/tmp/ipykernel_26419/1782889505.py:49: RuntimeWarning: Mean of empty slice\n",
      "  corrected_array = np.nanmean(np.stack([corrected_array, corrected_tile]), axis=0)\n"
     ]
    },
    {
     "name": "stdout",
     "output_type": "stream",
     "text": [
      "row 8\n",
      "tile extent x: 3500, 4900, y: 5600, 7000\n"
     ]
    },
    {
     "name": "stderr",
     "output_type": "stream",
     "text": [
      "/tmp/ipykernel_26419/1782889505.py:49: RuntimeWarning: Mean of empty slice\n",
      "  corrected_array = np.nanmean(np.stack([corrected_array, corrected_tile]), axis=0)\n"
     ]
    },
    {
     "name": "stdout",
     "output_type": "stream",
     "text": [
      "row 9\n",
      "tile extent x: 3500, 4900, y: 6300, 7700\n"
     ]
    },
    {
     "name": "stderr",
     "output_type": "stream",
     "text": [
      "/tmp/ipykernel_26419/1782889505.py:49: RuntimeWarning: Mean of empty slice\n",
      "  corrected_array = np.nanmean(np.stack([corrected_array, corrected_tile]), axis=0)\n"
     ]
    },
    {
     "name": "stdout",
     "output_type": "stream",
     "text": [
      "row 10\n",
      "tile extent x: 3500, 4900, y: 7000, 8400\n"
     ]
    },
    {
     "name": "stderr",
     "output_type": "stream",
     "text": [
      "/tmp/ipykernel_26419/1782889505.py:49: RuntimeWarning: Mean of empty slice\n",
      "  corrected_array = np.nanmean(np.stack([corrected_array, corrected_tile]), axis=0)\n"
     ]
    },
    {
     "name": "stdout",
     "output_type": "stream",
     "text": [
      "row 11\n",
      "column 6\n",
      "row 0\n",
      "row 1\n",
      "row 2\n",
      "row 3\n",
      "tile extent x: 3500, 5600, y: 2100, 4200\n"
     ]
    },
    {
     "name": "stderr",
     "output_type": "stream",
     "text": [
      "/tmp/ipykernel_26419/1782889505.py:49: RuntimeWarning: Mean of empty slice\n",
      "  corrected_array = np.nanmean(np.stack([corrected_array, corrected_tile]), axis=0)\n"
     ]
    },
    {
     "name": "stdout",
     "output_type": "stream",
     "text": [
      "row 4\n",
      "tile extent x: 3500, 5600, y: 2100, 4200\n"
     ]
    },
    {
     "name": "stderr",
     "output_type": "stream",
     "text": [
      "/tmp/ipykernel_26419/1782889505.py:49: RuntimeWarning: Mean of empty slice\n",
      "  corrected_array = np.nanmean(np.stack([corrected_array, corrected_tile]), axis=0)\n"
     ]
    },
    {
     "name": "stdout",
     "output_type": "stream",
     "text": [
      "row 5\n",
      "tile extent x: 3500, 5600, y: 2800, 4900\n"
     ]
    },
    {
     "name": "stderr",
     "output_type": "stream",
     "text": [
      "/tmp/ipykernel_26419/1782889505.py:49: RuntimeWarning: Mean of empty slice\n",
      "  corrected_array = np.nanmean(np.stack([corrected_array, corrected_tile]), axis=0)\n"
     ]
    },
    {
     "name": "stdout",
     "output_type": "stream",
     "text": [
      "row 6\n",
      "tile extent x: 3500, 5600, y: 3500, 5600\n"
     ]
    },
    {
     "name": "stderr",
     "output_type": "stream",
     "text": [
      "/tmp/ipykernel_26419/1782889505.py:49: RuntimeWarning: Mean of empty slice\n",
      "  corrected_array = np.nanmean(np.stack([corrected_array, corrected_tile]), axis=0)\n"
     ]
    },
    {
     "name": "stdout",
     "output_type": "stream",
     "text": [
      "row 7\n",
      "tile extent x: 3500, 5600, y: 4200, 6300\n"
     ]
    },
    {
     "name": "stderr",
     "output_type": "stream",
     "text": [
      "/tmp/ipykernel_26419/1782889505.py:49: RuntimeWarning: Mean of empty slice\n",
      "  corrected_array = np.nanmean(np.stack([corrected_array, corrected_tile]), axis=0)\n"
     ]
    },
    {
     "name": "stdout",
     "output_type": "stream",
     "text": [
      "row 8\n",
      "tile extent x: 4200, 5600, y: 5600, 7000\n"
     ]
    },
    {
     "name": "stderr",
     "output_type": "stream",
     "text": [
      "/tmp/ipykernel_26419/1782889505.py:49: RuntimeWarning: Mean of empty slice\n",
      "  corrected_array = np.nanmean(np.stack([corrected_array, corrected_tile]), axis=0)\n"
     ]
    },
    {
     "name": "stdout",
     "output_type": "stream",
     "text": [
      "row 9\n",
      "tile extent x: 3500, 5600, y: 5600, 7700\n"
     ]
    },
    {
     "name": "stderr",
     "output_type": "stream",
     "text": [
      "/tmp/ipykernel_26419/1782889505.py:49: RuntimeWarning: Mean of empty slice\n",
      "  corrected_array = np.nanmean(np.stack([corrected_array, corrected_tile]), axis=0)\n"
     ]
    },
    {
     "name": "stdout",
     "output_type": "stream",
     "text": [
      "row 10\n",
      "tile extent x: 3500, 5600, y: 6300, 8400\n"
     ]
    },
    {
     "name": "stderr",
     "output_type": "stream",
     "text": [
      "/tmp/ipykernel_26419/1782889505.py:49: RuntimeWarning: Mean of empty slice\n",
      "  corrected_array = np.nanmean(np.stack([corrected_array, corrected_tile]), axis=0)\n"
     ]
    },
    {
     "name": "stdout",
     "output_type": "stream",
     "text": [
      "row 11\n",
      "working on swatch_17304_s2\n",
      "column 0\n",
      "row 0\n",
      "tile extent x: 0, 1400, y: 0, 1400\n"
     ]
    },
    {
     "name": "stderr",
     "output_type": "stream",
     "text": [
      "/tmp/ipykernel_26419/1782889505.py:49: RuntimeWarning: Mean of empty slice\n",
      "  corrected_array = np.nanmean(np.stack([corrected_array, corrected_tile]), axis=0)\n"
     ]
    },
    {
     "name": "stdout",
     "output_type": "stream",
     "text": [
      "row 1\n",
      "tile extent x: 0, 1400, y: 700, 2100\n"
     ]
    },
    {
     "name": "stderr",
     "output_type": "stream",
     "text": [
      "/tmp/ipykernel_26419/1782889505.py:49: RuntimeWarning: Mean of empty slice\n",
      "  corrected_array = np.nanmean(np.stack([corrected_array, corrected_tile]), axis=0)\n"
     ]
    },
    {
     "name": "stdout",
     "output_type": "stream",
     "text": [
      "row 2\n",
      "tile extent x: 0, 1400, y: 1400, 2800\n"
     ]
    },
    {
     "name": "stderr",
     "output_type": "stream",
     "text": [
      "/tmp/ipykernel_26419/1782889505.py:49: RuntimeWarning: Mean of empty slice\n",
      "  corrected_array = np.nanmean(np.stack([corrected_array, corrected_tile]), axis=0)\n"
     ]
    },
    {
     "name": "stdout",
     "output_type": "stream",
     "text": [
      "row 3\n",
      "tile extent x: 0, 1400, y: 2100, 3500\n"
     ]
    },
    {
     "name": "stderr",
     "output_type": "stream",
     "text": [
      "/tmp/ipykernel_26419/1782889505.py:49: RuntimeWarning: Mean of empty slice\n",
      "  corrected_array = np.nanmean(np.stack([corrected_array, corrected_tile]), axis=0)\n"
     ]
    },
    {
     "name": "stdout",
     "output_type": "stream",
     "text": [
      "row 4\n",
      "tile extent x: 0, 1400, y: 2800, 4200\n"
     ]
    },
    {
     "name": "stderr",
     "output_type": "stream",
     "text": [
      "/tmp/ipykernel_26419/1782889505.py:49: RuntimeWarning: Mean of empty slice\n",
      "  corrected_array = np.nanmean(np.stack([corrected_array, corrected_tile]), axis=0)\n"
     ]
    },
    {
     "name": "stdout",
     "output_type": "stream",
     "text": [
      "row 5\n",
      "tile extent x: 0, 1400, y: 3500, 4900\n"
     ]
    },
    {
     "name": "stderr",
     "output_type": "stream",
     "text": [
      "/tmp/ipykernel_26419/1782889505.py:49: RuntimeWarning: Mean of empty slice\n",
      "  corrected_array = np.nanmean(np.stack([corrected_array, corrected_tile]), axis=0)\n"
     ]
    },
    {
     "name": "stdout",
     "output_type": "stream",
     "text": [
      "row 6\n",
      "tile extent x: 0, 1400, y: 4200, 5600\n"
     ]
    },
    {
     "name": "stderr",
     "output_type": "stream",
     "text": [
      "/tmp/ipykernel_26419/1782889505.py:49: RuntimeWarning: Mean of empty slice\n",
      "  corrected_array = np.nanmean(np.stack([corrected_array, corrected_tile]), axis=0)\n"
     ]
    },
    {
     "name": "stdout",
     "output_type": "stream",
     "text": [
      "row 7\n",
      "tile extent x: 0, 1400, y: 4900, 6300\n"
     ]
    },
    {
     "name": "stderr",
     "output_type": "stream",
     "text": [
      "/tmp/ipykernel_26419/1782889505.py:49: RuntimeWarning: Mean of empty slice\n",
      "  corrected_array = np.nanmean(np.stack([corrected_array, corrected_tile]), axis=0)\n"
     ]
    },
    {
     "name": "stdout",
     "output_type": "stream",
     "text": [
      "row 8\n",
      "tile extent x: 0, 1400, y: 5600, 7000\n"
     ]
    },
    {
     "name": "stderr",
     "output_type": "stream",
     "text": [
      "/tmp/ipykernel_26419/1782889505.py:49: RuntimeWarning: Mean of empty slice\n",
      "  corrected_array = np.nanmean(np.stack([corrected_array, corrected_tile]), axis=0)\n"
     ]
    },
    {
     "name": "stdout",
     "output_type": "stream",
     "text": [
      "row 9\n",
      "tile extent x: 0, 2100, y: 5600, 7700\n"
     ]
    },
    {
     "name": "stderr",
     "output_type": "stream",
     "text": [
      "/tmp/ipykernel_26419/1782889505.py:49: RuntimeWarning: Mean of empty slice\n",
      "  corrected_array = np.nanmean(np.stack([corrected_array, corrected_tile]), axis=0)\n"
     ]
    },
    {
     "name": "stdout",
     "output_type": "stream",
     "text": [
      "column 1\n",
      "row 0\n",
      "tile extent x: 700, 2100, y: 0, 1400\n"
     ]
    },
    {
     "name": "stderr",
     "output_type": "stream",
     "text": [
      "/tmp/ipykernel_26419/1782889505.py:49: RuntimeWarning: Mean of empty slice\n",
      "  corrected_array = np.nanmean(np.stack([corrected_array, corrected_tile]), axis=0)\n"
     ]
    },
    {
     "name": "stdout",
     "output_type": "stream",
     "text": [
      "row 1\n",
      "tile extent x: 700, 2100, y: 700, 2100\n"
     ]
    },
    {
     "name": "stderr",
     "output_type": "stream",
     "text": [
      "/tmp/ipykernel_26419/1782889505.py:49: RuntimeWarning: Mean of empty slice\n",
      "  corrected_array = np.nanmean(np.stack([corrected_array, corrected_tile]), axis=0)\n"
     ]
    },
    {
     "name": "stdout",
     "output_type": "stream",
     "text": [
      "row 2\n",
      "tile extent x: 700, 2100, y: 1400, 2800\n"
     ]
    },
    {
     "name": "stderr",
     "output_type": "stream",
     "text": [
      "/tmp/ipykernel_26419/1782889505.py:49: RuntimeWarning: Mean of empty slice\n",
      "  corrected_array = np.nanmean(np.stack([corrected_array, corrected_tile]), axis=0)\n"
     ]
    },
    {
     "name": "stdout",
     "output_type": "stream",
     "text": [
      "row 3\n",
      "tile extent x: 700, 2100, y: 2100, 3500\n"
     ]
    },
    {
     "name": "stderr",
     "output_type": "stream",
     "text": [
      "/tmp/ipykernel_26419/1782889505.py:49: RuntimeWarning: Mean of empty slice\n",
      "  corrected_array = np.nanmean(np.stack([corrected_array, corrected_tile]), axis=0)\n"
     ]
    },
    {
     "name": "stdout",
     "output_type": "stream",
     "text": [
      "row 4\n",
      "tile extent x: 700, 2100, y: 2800, 4200\n"
     ]
    },
    {
     "name": "stderr",
     "output_type": "stream",
     "text": [
      "/tmp/ipykernel_26419/1782889505.py:49: RuntimeWarning: Mean of empty slice\n",
      "  corrected_array = np.nanmean(np.stack([corrected_array, corrected_tile]), axis=0)\n"
     ]
    },
    {
     "name": "stdout",
     "output_type": "stream",
     "text": [
      "row 5\n",
      "tile extent x: 700, 2100, y: 3500, 4900\n"
     ]
    },
    {
     "name": "stderr",
     "output_type": "stream",
     "text": [
      "/tmp/ipykernel_26419/1782889505.py:49: RuntimeWarning: Mean of empty slice\n",
      "  corrected_array = np.nanmean(np.stack([corrected_array, corrected_tile]), axis=0)\n"
     ]
    },
    {
     "name": "stdout",
     "output_type": "stream",
     "text": [
      "row 6\n",
      "tile extent x: 700, 2100, y: 4200, 5600\n"
     ]
    },
    {
     "name": "stderr",
     "output_type": "stream",
     "text": [
      "/tmp/ipykernel_26419/1782889505.py:49: RuntimeWarning: Mean of empty slice\n",
      "  corrected_array = np.nanmean(np.stack([corrected_array, corrected_tile]), axis=0)\n"
     ]
    },
    {
     "name": "stdout",
     "output_type": "stream",
     "text": [
      "row 7\n",
      "tile extent x: 700, 2100, y: 4900, 6300\n"
     ]
    },
    {
     "name": "stderr",
     "output_type": "stream",
     "text": [
      "/tmp/ipykernel_26419/1782889505.py:49: RuntimeWarning: Mean of empty slice\n",
      "  corrected_array = np.nanmean(np.stack([corrected_array, corrected_tile]), axis=0)\n"
     ]
    },
    {
     "name": "stdout",
     "output_type": "stream",
     "text": [
      "row 8\n",
      "tile extent x: 700, 2100, y: 5600, 7000\n"
     ]
    },
    {
     "name": "stderr",
     "output_type": "stream",
     "text": [
      "/tmp/ipykernel_26419/1782889505.py:49: RuntimeWarning: Mean of empty slice\n",
      "  corrected_array = np.nanmean(np.stack([corrected_array, corrected_tile]), axis=0)\n"
     ]
    },
    {
     "name": "stdout",
     "output_type": "stream",
     "text": [
      "row 9\n",
      "tile extent x: 700, 2800, y: 5600, 7700\n"
     ]
    },
    {
     "name": "stderr",
     "output_type": "stream",
     "text": [
      "/tmp/ipykernel_26419/1782889505.py:49: RuntimeWarning: Mean of empty slice\n",
      "  corrected_array = np.nanmean(np.stack([corrected_array, corrected_tile]), axis=0)\n"
     ]
    },
    {
     "name": "stdout",
     "output_type": "stream",
     "text": [
      "column 2\n",
      "row 0\n",
      "tile extent x: 1400, 2800, y: 0, 1400\n"
     ]
    },
    {
     "name": "stderr",
     "output_type": "stream",
     "text": [
      "/tmp/ipykernel_26419/1782889505.py:49: RuntimeWarning: Mean of empty slice\n",
      "  corrected_array = np.nanmean(np.stack([corrected_array, corrected_tile]), axis=0)\n"
     ]
    },
    {
     "name": "stdout",
     "output_type": "stream",
     "text": [
      "row 1\n",
      "tile extent x: 1400, 2800, y: 700, 2100\n"
     ]
    },
    {
     "name": "stderr",
     "output_type": "stream",
     "text": [
      "/tmp/ipykernel_26419/1782889505.py:49: RuntimeWarning: Mean of empty slice\n",
      "  corrected_array = np.nanmean(np.stack([corrected_array, corrected_tile]), axis=0)\n"
     ]
    },
    {
     "name": "stdout",
     "output_type": "stream",
     "text": [
      "row 2\n",
      "tile extent x: 1400, 2800, y: 1400, 2800\n"
     ]
    },
    {
     "name": "stderr",
     "output_type": "stream",
     "text": [
      "/tmp/ipykernel_26419/1782889505.py:49: RuntimeWarning: Mean of empty slice\n",
      "  corrected_array = np.nanmean(np.stack([corrected_array, corrected_tile]), axis=0)\n"
     ]
    },
    {
     "name": "stdout",
     "output_type": "stream",
     "text": [
      "row 3\n",
      "tile extent x: 1400, 2800, y: 2100, 3500\n"
     ]
    },
    {
     "name": "stderr",
     "output_type": "stream",
     "text": [
      "/tmp/ipykernel_26419/1782889505.py:49: RuntimeWarning: Mean of empty slice\n",
      "  corrected_array = np.nanmean(np.stack([corrected_array, corrected_tile]), axis=0)\n"
     ]
    },
    {
     "name": "stdout",
     "output_type": "stream",
     "text": [
      "row 4\n",
      "tile extent x: 1400, 2800, y: 2800, 4200\n"
     ]
    },
    {
     "name": "stderr",
     "output_type": "stream",
     "text": [
      "/tmp/ipykernel_26419/1782889505.py:49: RuntimeWarning: Mean of empty slice\n",
      "  corrected_array = np.nanmean(np.stack([corrected_array, corrected_tile]), axis=0)\n"
     ]
    },
    {
     "name": "stdout",
     "output_type": "stream",
     "text": [
      "row 5\n",
      "tile extent x: 1400, 2800, y: 3500, 4900\n"
     ]
    },
    {
     "name": "stderr",
     "output_type": "stream",
     "text": [
      "/tmp/ipykernel_26419/1782889505.py:49: RuntimeWarning: Mean of empty slice\n",
      "  corrected_array = np.nanmean(np.stack([corrected_array, corrected_tile]), axis=0)\n"
     ]
    },
    {
     "name": "stdout",
     "output_type": "stream",
     "text": [
      "row 6\n",
      "tile extent x: 1400, 2800, y: 4200, 5600\n"
     ]
    },
    {
     "name": "stderr",
     "output_type": "stream",
     "text": [
      "/tmp/ipykernel_26419/1782889505.py:49: RuntimeWarning: Mean of empty slice\n",
      "  corrected_array = np.nanmean(np.stack([corrected_array, corrected_tile]), axis=0)\n"
     ]
    },
    {
     "name": "stdout",
     "output_type": "stream",
     "text": [
      "row 7\n",
      "tile extent x: 1400, 2800, y: 4900, 6300\n"
     ]
    },
    {
     "name": "stderr",
     "output_type": "stream",
     "text": [
      "/tmp/ipykernel_26419/1782889505.py:49: RuntimeWarning: Mean of empty slice\n",
      "  corrected_array = np.nanmean(np.stack([corrected_array, corrected_tile]), axis=0)\n"
     ]
    },
    {
     "name": "stdout",
     "output_type": "stream",
     "text": [
      "row 8\n",
      "tile extent x: 1400, 2800, y: 5600, 7000\n"
     ]
    },
    {
     "name": "stderr",
     "output_type": "stream",
     "text": [
      "/tmp/ipykernel_26419/1782889505.py:49: RuntimeWarning: Mean of empty slice\n",
      "  corrected_array = np.nanmean(np.stack([corrected_array, corrected_tile]), axis=0)\n"
     ]
    },
    {
     "name": "stdout",
     "output_type": "stream",
     "text": [
      "row 9\n",
      "tile extent x: 700, 2800, y: 5600, 7700\n"
     ]
    },
    {
     "name": "stderr",
     "output_type": "stream",
     "text": [
      "/tmp/ipykernel_26419/1782889505.py:49: RuntimeWarning: Mean of empty slice\n",
      "  corrected_array = np.nanmean(np.stack([corrected_array, corrected_tile]), axis=0)\n"
     ]
    },
    {
     "name": "stdout",
     "output_type": "stream",
     "text": [
      "column 3\n",
      "row 0\n",
      "tile extent x: 2100, 3500, y: 0, 1400\n"
     ]
    },
    {
     "name": "stderr",
     "output_type": "stream",
     "text": [
      "/tmp/ipykernel_26419/1782889505.py:49: RuntimeWarning: Mean of empty slice\n",
      "  corrected_array = np.nanmean(np.stack([corrected_array, corrected_tile]), axis=0)\n"
     ]
    },
    {
     "name": "stdout",
     "output_type": "stream",
     "text": [
      "row 1\n",
      "tile extent x: 2100, 3500, y: 700, 2100\n"
     ]
    },
    {
     "name": "stderr",
     "output_type": "stream",
     "text": [
      "/tmp/ipykernel_26419/1782889505.py:49: RuntimeWarning: Mean of empty slice\n",
      "  corrected_array = np.nanmean(np.stack([corrected_array, corrected_tile]), axis=0)\n"
     ]
    },
    {
     "name": "stdout",
     "output_type": "stream",
     "text": [
      "row 2\n",
      "tile extent x: 2100, 3500, y: 1400, 2800\n"
     ]
    },
    {
     "name": "stderr",
     "output_type": "stream",
     "text": [
      "/tmp/ipykernel_26419/1782889505.py:49: RuntimeWarning: Mean of empty slice\n",
      "  corrected_array = np.nanmean(np.stack([corrected_array, corrected_tile]), axis=0)\n"
     ]
    },
    {
     "name": "stdout",
     "output_type": "stream",
     "text": [
      "row 3\n",
      "tile extent x: 2100, 3500, y: 2100, 3500\n"
     ]
    },
    {
     "name": "stderr",
     "output_type": "stream",
     "text": [
      "/tmp/ipykernel_26419/1782889505.py:49: RuntimeWarning: Mean of empty slice\n",
      "  corrected_array = np.nanmean(np.stack([corrected_array, corrected_tile]), axis=0)\n"
     ]
    },
    {
     "name": "stdout",
     "output_type": "stream",
     "text": [
      "row 4\n",
      "tile extent x: 2100, 3500, y: 2800, 4200\n"
     ]
    },
    {
     "name": "stderr",
     "output_type": "stream",
     "text": [
      "/tmp/ipykernel_26419/1782889505.py:49: RuntimeWarning: Mean of empty slice\n",
      "  corrected_array = np.nanmean(np.stack([corrected_array, corrected_tile]), axis=0)\n"
     ]
    },
    {
     "name": "stdout",
     "output_type": "stream",
     "text": [
      "row 5\n",
      "tile extent x: 2100, 3500, y: 3500, 4900\n"
     ]
    },
    {
     "name": "stderr",
     "output_type": "stream",
     "text": [
      "/tmp/ipykernel_26419/1782889505.py:49: RuntimeWarning: Mean of empty slice\n",
      "  corrected_array = np.nanmean(np.stack([corrected_array, corrected_tile]), axis=0)\n"
     ]
    },
    {
     "name": "stdout",
     "output_type": "stream",
     "text": [
      "row 6\n",
      "tile extent x: 2100, 3500, y: 4200, 5600\n"
     ]
    },
    {
     "name": "stderr",
     "output_type": "stream",
     "text": [
      "/tmp/ipykernel_26419/1782889505.py:49: RuntimeWarning: Mean of empty slice\n",
      "  corrected_array = np.nanmean(np.stack([corrected_array, corrected_tile]), axis=0)\n"
     ]
    },
    {
     "name": "stdout",
     "output_type": "stream",
     "text": [
      "row 7\n",
      "tile extent x: 2100, 3500, y: 4900, 6300\n"
     ]
    },
    {
     "name": "stderr",
     "output_type": "stream",
     "text": [
      "/tmp/ipykernel_26419/1782889505.py:49: RuntimeWarning: Mean of empty slice\n",
      "  corrected_array = np.nanmean(np.stack([corrected_array, corrected_tile]), axis=0)\n"
     ]
    },
    {
     "name": "stdout",
     "output_type": "stream",
     "text": [
      "row 8\n",
      "tile extent x: 2100, 3500, y: 5600, 7000\n"
     ]
    },
    {
     "name": "stderr",
     "output_type": "stream",
     "text": [
      "/tmp/ipykernel_26419/1782889505.py:49: RuntimeWarning: Mean of empty slice\n",
      "  corrected_array = np.nanmean(np.stack([corrected_array, corrected_tile]), axis=0)\n"
     ]
    },
    {
     "name": "stdout",
     "output_type": "stream",
     "text": [
      "row 9\n",
      "tile extent x: 1400, 3500, y: 5600, 7700\n"
     ]
    },
    {
     "name": "stderr",
     "output_type": "stream",
     "text": [
      "/tmp/ipykernel_26419/1782889505.py:49: RuntimeWarning: Mean of empty slice\n",
      "  corrected_array = np.nanmean(np.stack([corrected_array, corrected_tile]), axis=0)\n"
     ]
    },
    {
     "name": "stdout",
     "output_type": "stream",
     "text": [
      "column 4\n",
      "row 0\n",
      "tile extent x: 2800, 4200, y: 0, 1400\n"
     ]
    },
    {
     "name": "stderr",
     "output_type": "stream",
     "text": [
      "/tmp/ipykernel_26419/1782889505.py:49: RuntimeWarning: Mean of empty slice\n",
      "  corrected_array = np.nanmean(np.stack([corrected_array, corrected_tile]), axis=0)\n"
     ]
    },
    {
     "name": "stdout",
     "output_type": "stream",
     "text": [
      "row 1\n",
      "tile extent x: 2800, 4200, y: 700, 2100\n"
     ]
    },
    {
     "name": "stderr",
     "output_type": "stream",
     "text": [
      "/tmp/ipykernel_26419/1782889505.py:49: RuntimeWarning: Mean of empty slice\n",
      "  corrected_array = np.nanmean(np.stack([corrected_array, corrected_tile]), axis=0)\n"
     ]
    },
    {
     "name": "stdout",
     "output_type": "stream",
     "text": [
      "row 2\n",
      "tile extent x: 2800, 4200, y: 1400, 2800\n"
     ]
    },
    {
     "name": "stderr",
     "output_type": "stream",
     "text": [
      "/tmp/ipykernel_26419/1782889505.py:49: RuntimeWarning: Mean of empty slice\n",
      "  corrected_array = np.nanmean(np.stack([corrected_array, corrected_tile]), axis=0)\n"
     ]
    },
    {
     "name": "stdout",
     "output_type": "stream",
     "text": [
      "row 3\n",
      "tile extent x: 2800, 4200, y: 2100, 3500\n"
     ]
    },
    {
     "name": "stderr",
     "output_type": "stream",
     "text": [
      "/tmp/ipykernel_26419/1782889505.py:49: RuntimeWarning: Mean of empty slice\n",
      "  corrected_array = np.nanmean(np.stack([corrected_array, corrected_tile]), axis=0)\n"
     ]
    },
    {
     "name": "stdout",
     "output_type": "stream",
     "text": [
      "row 4\n",
      "tile extent x: 2800, 4200, y: 2800, 4200\n"
     ]
    },
    {
     "name": "stderr",
     "output_type": "stream",
     "text": [
      "/tmp/ipykernel_26419/1782889505.py:49: RuntimeWarning: Mean of empty slice\n",
      "  corrected_array = np.nanmean(np.stack([corrected_array, corrected_tile]), axis=0)\n"
     ]
    },
    {
     "name": "stdout",
     "output_type": "stream",
     "text": [
      "row 5\n",
      "tile extent x: 2800, 4200, y: 3500, 4900\n"
     ]
    },
    {
     "name": "stderr",
     "output_type": "stream",
     "text": [
      "/tmp/ipykernel_26419/1782889505.py:49: RuntimeWarning: Mean of empty slice\n",
      "  corrected_array = np.nanmean(np.stack([corrected_array, corrected_tile]), axis=0)\n"
     ]
    },
    {
     "name": "stdout",
     "output_type": "stream",
     "text": [
      "row 6\n",
      "tile extent x: 2800, 4200, y: 4200, 5600\n"
     ]
    },
    {
     "name": "stderr",
     "output_type": "stream",
     "text": [
      "/tmp/ipykernel_26419/1782889505.py:49: RuntimeWarning: Mean of empty slice\n",
      "  corrected_array = np.nanmean(np.stack([corrected_array, corrected_tile]), axis=0)\n"
     ]
    },
    {
     "name": "stdout",
     "output_type": "stream",
     "text": [
      "row 7\n",
      "tile extent x: 2800, 4200, y: 4900, 6300\n"
     ]
    },
    {
     "name": "stderr",
     "output_type": "stream",
     "text": [
      "/tmp/ipykernel_26419/1782889505.py:49: RuntimeWarning: Mean of empty slice\n",
      "  corrected_array = np.nanmean(np.stack([corrected_array, corrected_tile]), axis=0)\n"
     ]
    },
    {
     "name": "stdout",
     "output_type": "stream",
     "text": [
      "row 8\n",
      "tile extent x: 2800, 4200, y: 5600, 7000\n"
     ]
    },
    {
     "name": "stderr",
     "output_type": "stream",
     "text": [
      "/tmp/ipykernel_26419/1782889505.py:49: RuntimeWarning: Mean of empty slice\n",
      "  corrected_array = np.nanmean(np.stack([corrected_array, corrected_tile]), axis=0)\n"
     ]
    },
    {
     "name": "stdout",
     "output_type": "stream",
     "text": [
      "row 9\n",
      "tile extent x: 2100, 4200, y: 5600, 7700\n"
     ]
    },
    {
     "name": "stderr",
     "output_type": "stream",
     "text": [
      "/tmp/ipykernel_26419/1782889505.py:49: RuntimeWarning: Mean of empty slice\n",
      "  corrected_array = np.nanmean(np.stack([corrected_array, corrected_tile]), axis=0)\n"
     ]
    },
    {
     "name": "stdout",
     "output_type": "stream",
     "text": [
      "column 5\n",
      "row 0\n",
      "tile extent x: 2800, 4900, y: 0, 2100\n"
     ]
    },
    {
     "name": "stderr",
     "output_type": "stream",
     "text": [
      "/tmp/ipykernel_26419/1782889505.py:49: RuntimeWarning: Mean of empty slice\n",
      "  corrected_array = np.nanmean(np.stack([corrected_array, corrected_tile]), axis=0)\n"
     ]
    },
    {
     "name": "stdout",
     "output_type": "stream",
     "text": [
      "row 1\n",
      "tile extent x: 2800, 4900, y: 700, 2800\n"
     ]
    },
    {
     "name": "stderr",
     "output_type": "stream",
     "text": [
      "/tmp/ipykernel_26419/1782889505.py:49: RuntimeWarning: Mean of empty slice\n",
      "  corrected_array = np.nanmean(np.stack([corrected_array, corrected_tile]), axis=0)\n"
     ]
    },
    {
     "name": "stdout",
     "output_type": "stream",
     "text": [
      "row 2\n",
      "tile extent x: 2800, 4900, y: 1400, 3500\n"
     ]
    },
    {
     "name": "stderr",
     "output_type": "stream",
     "text": [
      "/tmp/ipykernel_26419/1782889505.py:49: RuntimeWarning: Mean of empty slice\n",
      "  corrected_array = np.nanmean(np.stack([corrected_array, corrected_tile]), axis=0)\n"
     ]
    },
    {
     "name": "stdout",
     "output_type": "stream",
     "text": [
      "row 3\n",
      "tile extent x: 3500, 4900, y: 2100, 3500\n"
     ]
    },
    {
     "name": "stderr",
     "output_type": "stream",
     "text": [
      "/tmp/ipykernel_26419/1782889505.py:49: RuntimeWarning: Mean of empty slice\n",
      "  corrected_array = np.nanmean(np.stack([corrected_array, corrected_tile]), axis=0)\n"
     ]
    },
    {
     "name": "stdout",
     "output_type": "stream",
     "text": [
      "row 4\n",
      "tile extent x: 3500, 4900, y: 2800, 4200\n"
     ]
    },
    {
     "name": "stderr",
     "output_type": "stream",
     "text": [
      "/tmp/ipykernel_26419/1782889505.py:49: RuntimeWarning: Mean of empty slice\n",
      "  corrected_array = np.nanmean(np.stack([corrected_array, corrected_tile]), axis=0)\n"
     ]
    },
    {
     "name": "stdout",
     "output_type": "stream",
     "text": [
      "row 5\n",
      "tile extent x: 3500, 4900, y: 3500, 4900\n"
     ]
    },
    {
     "name": "stderr",
     "output_type": "stream",
     "text": [
      "/tmp/ipykernel_26419/1782889505.py:49: RuntimeWarning: Mean of empty slice\n",
      "  corrected_array = np.nanmean(np.stack([corrected_array, corrected_tile]), axis=0)\n"
     ]
    },
    {
     "name": "stdout",
     "output_type": "stream",
     "text": [
      "row 6\n",
      "tile extent x: 3500, 4900, y: 4200, 5600\n"
     ]
    },
    {
     "name": "stderr",
     "output_type": "stream",
     "text": [
      "/tmp/ipykernel_26419/1782889505.py:49: RuntimeWarning: Mean of empty slice\n",
      "  corrected_array = np.nanmean(np.stack([corrected_array, corrected_tile]), axis=0)\n"
     ]
    },
    {
     "name": "stdout",
     "output_type": "stream",
     "text": [
      "row 7\n",
      "tile extent x: 3500, 4900, y: 4900, 6300\n"
     ]
    },
    {
     "name": "stderr",
     "output_type": "stream",
     "text": [
      "/tmp/ipykernel_26419/1782889505.py:49: RuntimeWarning: Mean of empty slice\n",
      "  corrected_array = np.nanmean(np.stack([corrected_array, corrected_tile]), axis=0)\n"
     ]
    },
    {
     "name": "stdout",
     "output_type": "stream",
     "text": [
      "row 8\n",
      "tile extent x: 2800, 4900, y: 4900, 7000\n"
     ]
    },
    {
     "name": "stderr",
     "output_type": "stream",
     "text": [
      "/tmp/ipykernel_26419/1782889505.py:49: RuntimeWarning: Mean of empty slice\n",
      "  corrected_array = np.nanmean(np.stack([corrected_array, corrected_tile]), axis=0)\n"
     ]
    },
    {
     "name": "stdout",
     "output_type": "stream",
     "text": [
      "row 9\n",
      "column 6\n",
      "row 0\n",
      "row 1\n",
      "row 2\n",
      "row 3\n",
      "row 4\n",
      "row 5\n",
      "row 6\n",
      "row 7\n",
      "row 8\n",
      "row 9\n",
      "working on swatch_18525\n",
      "column 0\n",
      "row 0\n",
      "tile extent x: 0, 1400, y: 0, 1400\n"
     ]
    },
    {
     "name": "stderr",
     "output_type": "stream",
     "text": [
      "/tmp/ipykernel_26419/1782889505.py:49: RuntimeWarning: Mean of empty slice\n",
      "  corrected_array = np.nanmean(np.stack([corrected_array, corrected_tile]), axis=0)\n"
     ]
    },
    {
     "name": "stdout",
     "output_type": "stream",
     "text": [
      "row 1\n",
      "tile extent x: 0, 1400, y: 700, 2100\n"
     ]
    },
    {
     "name": "stderr",
     "output_type": "stream",
     "text": [
      "/tmp/ipykernel_26419/1782889505.py:49: RuntimeWarning: Mean of empty slice\n",
      "  corrected_array = np.nanmean(np.stack([corrected_array, corrected_tile]), axis=0)\n"
     ]
    },
    {
     "name": "stdout",
     "output_type": "stream",
     "text": [
      "row 2\n",
      "tile extent x: 0, 1400, y: 1400, 2800\n"
     ]
    },
    {
     "name": "stderr",
     "output_type": "stream",
     "text": [
      "/tmp/ipykernel_26419/1782889505.py:49: RuntimeWarning: Mean of empty slice\n",
      "  corrected_array = np.nanmean(np.stack([corrected_array, corrected_tile]), axis=0)\n"
     ]
    },
    {
     "name": "stdout",
     "output_type": "stream",
     "text": [
      "row 3\n",
      "tile extent x: 0, 1400, y: 2100, 3500\n"
     ]
    },
    {
     "name": "stderr",
     "output_type": "stream",
     "text": [
      "/tmp/ipykernel_26419/1782889505.py:49: RuntimeWarning: Mean of empty slice\n",
      "  corrected_array = np.nanmean(np.stack([corrected_array, corrected_tile]), axis=0)\n"
     ]
    },
    {
     "name": "stdout",
     "output_type": "stream",
     "text": [
      "row 4\n",
      "tile extent x: 0, 1400, y: 2800, 4200\n"
     ]
    },
    {
     "name": "stderr",
     "output_type": "stream",
     "text": [
      "/tmp/ipykernel_26419/1782889505.py:49: RuntimeWarning: Mean of empty slice\n",
      "  corrected_array = np.nanmean(np.stack([corrected_array, corrected_tile]), axis=0)\n"
     ]
    },
    {
     "name": "stdout",
     "output_type": "stream",
     "text": [
      "row 5\n",
      "tile extent x: 0, 1400, y: 3500, 4900\n"
     ]
    },
    {
     "name": "stderr",
     "output_type": "stream",
     "text": [
      "/tmp/ipykernel_26419/1782889505.py:49: RuntimeWarning: Mean of empty slice\n",
      "  corrected_array = np.nanmean(np.stack([corrected_array, corrected_tile]), axis=0)\n"
     ]
    },
    {
     "name": "stdout",
     "output_type": "stream",
     "text": [
      "row 6\n",
      "tile extent x: 0, 1400, y: 4200, 5600\n"
     ]
    },
    {
     "name": "stderr",
     "output_type": "stream",
     "text": [
      "/tmp/ipykernel_26419/1782889505.py:49: RuntimeWarning: Mean of empty slice\n",
      "  corrected_array = np.nanmean(np.stack([corrected_array, corrected_tile]), axis=0)\n"
     ]
    },
    {
     "name": "stdout",
     "output_type": "stream",
     "text": [
      "row 7\n",
      "tile extent x: 0, 1400, y: 4900, 6300\n"
     ]
    },
    {
     "name": "stderr",
     "output_type": "stream",
     "text": [
      "/tmp/ipykernel_26419/1782889505.py:49: RuntimeWarning: Mean of empty slice\n",
      "  corrected_array = np.nanmean(np.stack([corrected_array, corrected_tile]), axis=0)\n"
     ]
    },
    {
     "name": "stdout",
     "output_type": "stream",
     "text": [
      "row 8\n",
      "tile extent x: 0, 1400, y: 5600, 7000\n"
     ]
    },
    {
     "name": "stderr",
     "output_type": "stream",
     "text": [
      "/tmp/ipykernel_26419/1782889505.py:49: RuntimeWarning: Mean of empty slice\n",
      "  corrected_array = np.nanmean(np.stack([corrected_array, corrected_tile]), axis=0)\n"
     ]
    },
    {
     "name": "stdout",
     "output_type": "stream",
     "text": [
      "row 9\n",
      "tile extent x: 0, 1400, y: 6300, 7700\n"
     ]
    },
    {
     "name": "stderr",
     "output_type": "stream",
     "text": [
      "/tmp/ipykernel_26419/1782889505.py:49: RuntimeWarning: Mean of empty slice\n",
      "  corrected_array = np.nanmean(np.stack([corrected_array, corrected_tile]), axis=0)\n"
     ]
    },
    {
     "name": "stdout",
     "output_type": "stream",
     "text": [
      "row 10\n",
      "tile extent x: 0, 1400, y: 7000, 8400\n"
     ]
    },
    {
     "name": "stderr",
     "output_type": "stream",
     "text": [
      "/tmp/ipykernel_26419/1782889505.py:49: RuntimeWarning: Mean of empty slice\n",
      "  corrected_array = np.nanmean(np.stack([corrected_array, corrected_tile]), axis=0)\n"
     ]
    },
    {
     "name": "stdout",
     "output_type": "stream",
     "text": [
      "row 11\n",
      "tile extent x: 0, 1400, y: 7700, 9100\n"
     ]
    },
    {
     "name": "stderr",
     "output_type": "stream",
     "text": [
      "/tmp/ipykernel_26419/1782889505.py:49: RuntimeWarning: Mean of empty slice\n",
      "  corrected_array = np.nanmean(np.stack([corrected_array, corrected_tile]), axis=0)\n"
     ]
    },
    {
     "name": "stdout",
     "output_type": "stream",
     "text": [
      "row 12\n",
      "tile extent x: 0, 1400, y: 8400, 9800\n"
     ]
    },
    {
     "name": "stderr",
     "output_type": "stream",
     "text": [
      "/tmp/ipykernel_26419/1782889505.py:49: RuntimeWarning: Mean of empty slice\n",
      "  corrected_array = np.nanmean(np.stack([corrected_array, corrected_tile]), axis=0)\n"
     ]
    },
    {
     "name": "stdout",
     "output_type": "stream",
     "text": [
      "row 13\n",
      "tile extent x: 0, 2100, y: 8400, 10500\n"
     ]
    },
    {
     "name": "stderr",
     "output_type": "stream",
     "text": [
      "/tmp/ipykernel_26419/1782889505.py:49: RuntimeWarning: Mean of empty slice\n",
      "  corrected_array = np.nanmean(np.stack([corrected_array, corrected_tile]), axis=0)\n"
     ]
    },
    {
     "name": "stdout",
     "output_type": "stream",
     "text": [
      "column 1\n",
      "row 0\n",
      "tile extent x: 700, 2100, y: 0, 1400\n"
     ]
    },
    {
     "name": "stderr",
     "output_type": "stream",
     "text": [
      "/tmp/ipykernel_26419/1782889505.py:49: RuntimeWarning: Mean of empty slice\n",
      "  corrected_array = np.nanmean(np.stack([corrected_array, corrected_tile]), axis=0)\n"
     ]
    },
    {
     "name": "stdout",
     "output_type": "stream",
     "text": [
      "row 1\n",
      "tile extent x: 700, 2100, y: 700, 2100\n"
     ]
    },
    {
     "name": "stderr",
     "output_type": "stream",
     "text": [
      "/tmp/ipykernel_26419/1782889505.py:49: RuntimeWarning: Mean of empty slice\n",
      "  corrected_array = np.nanmean(np.stack([corrected_array, corrected_tile]), axis=0)\n"
     ]
    },
    {
     "name": "stdout",
     "output_type": "stream",
     "text": [
      "row 2\n",
      "tile extent x: 700, 2100, y: 1400, 2800\n"
     ]
    },
    {
     "name": "stderr",
     "output_type": "stream",
     "text": [
      "/tmp/ipykernel_26419/1782889505.py:49: RuntimeWarning: Mean of empty slice\n",
      "  corrected_array = np.nanmean(np.stack([corrected_array, corrected_tile]), axis=0)\n"
     ]
    },
    {
     "name": "stdout",
     "output_type": "stream",
     "text": [
      "row 3\n",
      "tile extent x: 700, 2100, y: 2100, 3500\n"
     ]
    },
    {
     "name": "stderr",
     "output_type": "stream",
     "text": [
      "/tmp/ipykernel_26419/1782889505.py:49: RuntimeWarning: Mean of empty slice\n",
      "  corrected_array = np.nanmean(np.stack([corrected_array, corrected_tile]), axis=0)\n"
     ]
    },
    {
     "name": "stdout",
     "output_type": "stream",
     "text": [
      "row 4\n",
      "tile extent x: 700, 2100, y: 2800, 4200\n"
     ]
    },
    {
     "name": "stderr",
     "output_type": "stream",
     "text": [
      "/tmp/ipykernel_26419/1782889505.py:49: RuntimeWarning: Mean of empty slice\n",
      "  corrected_array = np.nanmean(np.stack([corrected_array, corrected_tile]), axis=0)\n"
     ]
    },
    {
     "name": "stdout",
     "output_type": "stream",
     "text": [
      "row 5\n",
      "tile extent x: 700, 2100, y: 3500, 4900\n"
     ]
    },
    {
     "name": "stderr",
     "output_type": "stream",
     "text": [
      "/tmp/ipykernel_26419/1782889505.py:49: RuntimeWarning: Mean of empty slice\n",
      "  corrected_array = np.nanmean(np.stack([corrected_array, corrected_tile]), axis=0)\n"
     ]
    },
    {
     "name": "stdout",
     "output_type": "stream",
     "text": [
      "row 6\n",
      "tile extent x: 700, 2100, y: 4200, 5600\n"
     ]
    },
    {
     "name": "stderr",
     "output_type": "stream",
     "text": [
      "/tmp/ipykernel_26419/1782889505.py:49: RuntimeWarning: Mean of empty slice\n",
      "  corrected_array = np.nanmean(np.stack([corrected_array, corrected_tile]), axis=0)\n"
     ]
    },
    {
     "name": "stdout",
     "output_type": "stream",
     "text": [
      "row 7\n",
      "tile extent x: 700, 2100, y: 4900, 6300\n"
     ]
    },
    {
     "name": "stderr",
     "output_type": "stream",
     "text": [
      "/tmp/ipykernel_26419/1782889505.py:49: RuntimeWarning: Mean of empty slice\n",
      "  corrected_array = np.nanmean(np.stack([corrected_array, corrected_tile]), axis=0)\n"
     ]
    },
    {
     "name": "stdout",
     "output_type": "stream",
     "text": [
      "row 8\n",
      "tile extent x: 700, 2100, y: 5600, 7000\n"
     ]
    },
    {
     "name": "stderr",
     "output_type": "stream",
     "text": [
      "/tmp/ipykernel_26419/1782889505.py:49: RuntimeWarning: Mean of empty slice\n",
      "  corrected_array = np.nanmean(np.stack([corrected_array, corrected_tile]), axis=0)\n"
     ]
    },
    {
     "name": "stdout",
     "output_type": "stream",
     "text": [
      "row 9\n",
      "tile extent x: 700, 2100, y: 6300, 7700\n"
     ]
    },
    {
     "name": "stderr",
     "output_type": "stream",
     "text": [
      "/tmp/ipykernel_26419/1782889505.py:49: RuntimeWarning: Mean of empty slice\n",
      "  corrected_array = np.nanmean(np.stack([corrected_array, corrected_tile]), axis=0)\n"
     ]
    },
    {
     "name": "stdout",
     "output_type": "stream",
     "text": [
      "row 10\n",
      "tile extent x: 700, 2100, y: 7000, 8400\n"
     ]
    },
    {
     "name": "stderr",
     "output_type": "stream",
     "text": [
      "/tmp/ipykernel_26419/1782889505.py:49: RuntimeWarning: Mean of empty slice\n",
      "  corrected_array = np.nanmean(np.stack([corrected_array, corrected_tile]), axis=0)\n"
     ]
    },
    {
     "name": "stdout",
     "output_type": "stream",
     "text": [
      "row 11\n",
      "tile extent x: 700, 2100, y: 7700, 9100\n"
     ]
    },
    {
     "name": "stderr",
     "output_type": "stream",
     "text": [
      "/tmp/ipykernel_26419/1782889505.py:49: RuntimeWarning: Mean of empty slice\n",
      "  corrected_array = np.nanmean(np.stack([corrected_array, corrected_tile]), axis=0)\n"
     ]
    },
    {
     "name": "stdout",
     "output_type": "stream",
     "text": [
      "row 12\n",
      "tile extent x: 700, 2100, y: 8400, 9800\n"
     ]
    },
    {
     "name": "stderr",
     "output_type": "stream",
     "text": [
      "/tmp/ipykernel_26419/1782889505.py:49: RuntimeWarning: Mean of empty slice\n",
      "  corrected_array = np.nanmean(np.stack([corrected_array, corrected_tile]), axis=0)\n"
     ]
    },
    {
     "name": "stdout",
     "output_type": "stream",
     "text": [
      "row 13\n",
      "tile extent x: 700, 2800, y: 8400, 10500\n"
     ]
    },
    {
     "name": "stderr",
     "output_type": "stream",
     "text": [
      "/tmp/ipykernel_26419/1782889505.py:49: RuntimeWarning: Mean of empty slice\n",
      "  corrected_array = np.nanmean(np.stack([corrected_array, corrected_tile]), axis=0)\n"
     ]
    },
    {
     "name": "stdout",
     "output_type": "stream",
     "text": [
      "column 2\n",
      "row 0\n",
      "tile extent x: 1400, 2800, y: 0, 1400\n"
     ]
    },
    {
     "name": "stderr",
     "output_type": "stream",
     "text": [
      "/tmp/ipykernel_26419/1782889505.py:49: RuntimeWarning: Mean of empty slice\n",
      "  corrected_array = np.nanmean(np.stack([corrected_array, corrected_tile]), axis=0)\n"
     ]
    },
    {
     "name": "stdout",
     "output_type": "stream",
     "text": [
      "row 1\n",
      "tile extent x: 1400, 2800, y: 700, 2100\n"
     ]
    },
    {
     "name": "stderr",
     "output_type": "stream",
     "text": [
      "/tmp/ipykernel_26419/1782889505.py:49: RuntimeWarning: Mean of empty slice\n",
      "  corrected_array = np.nanmean(np.stack([corrected_array, corrected_tile]), axis=0)\n"
     ]
    },
    {
     "name": "stdout",
     "output_type": "stream",
     "text": [
      "row 2\n",
      "tile extent x: 1400, 2800, y: 1400, 2800\n"
     ]
    },
    {
     "name": "stderr",
     "output_type": "stream",
     "text": [
      "/tmp/ipykernel_26419/1782889505.py:49: RuntimeWarning: Mean of empty slice\n",
      "  corrected_array = np.nanmean(np.stack([corrected_array, corrected_tile]), axis=0)\n"
     ]
    },
    {
     "name": "stdout",
     "output_type": "stream",
     "text": [
      "row 3\n",
      "tile extent x: 1400, 2800, y: 2100, 3500\n"
     ]
    },
    {
     "name": "stderr",
     "output_type": "stream",
     "text": [
      "/tmp/ipykernel_26419/1782889505.py:49: RuntimeWarning: Mean of empty slice\n",
      "  corrected_array = np.nanmean(np.stack([corrected_array, corrected_tile]), axis=0)\n"
     ]
    },
    {
     "name": "stdout",
     "output_type": "stream",
     "text": [
      "row 4\n",
      "tile extent x: 1400, 2800, y: 2800, 4200\n"
     ]
    },
    {
     "name": "stderr",
     "output_type": "stream",
     "text": [
      "/tmp/ipykernel_26419/1782889505.py:49: RuntimeWarning: Mean of empty slice\n",
      "  corrected_array = np.nanmean(np.stack([corrected_array, corrected_tile]), axis=0)\n"
     ]
    },
    {
     "name": "stdout",
     "output_type": "stream",
     "text": [
      "row 5\n",
      "tile extent x: 1400, 2800, y: 3500, 4900\n"
     ]
    },
    {
     "name": "stderr",
     "output_type": "stream",
     "text": [
      "/tmp/ipykernel_26419/1782889505.py:49: RuntimeWarning: Mean of empty slice\n",
      "  corrected_array = np.nanmean(np.stack([corrected_array, corrected_tile]), axis=0)\n"
     ]
    },
    {
     "name": "stdout",
     "output_type": "stream",
     "text": [
      "row 6\n",
      "tile extent x: 1400, 2800, y: 4200, 5600\n"
     ]
    },
    {
     "name": "stderr",
     "output_type": "stream",
     "text": [
      "/tmp/ipykernel_26419/1782889505.py:49: RuntimeWarning: Mean of empty slice\n",
      "  corrected_array = np.nanmean(np.stack([corrected_array, corrected_tile]), axis=0)\n"
     ]
    },
    {
     "name": "stdout",
     "output_type": "stream",
     "text": [
      "row 7\n",
      "tile extent x: 1400, 2800, y: 4900, 6300\n"
     ]
    },
    {
     "name": "stderr",
     "output_type": "stream",
     "text": [
      "/tmp/ipykernel_26419/1782889505.py:49: RuntimeWarning: Mean of empty slice\n",
      "  corrected_array = np.nanmean(np.stack([corrected_array, corrected_tile]), axis=0)\n"
     ]
    },
    {
     "name": "stdout",
     "output_type": "stream",
     "text": [
      "row 8\n",
      "tile extent x: 1400, 2800, y: 5600, 7000\n"
     ]
    },
    {
     "name": "stderr",
     "output_type": "stream",
     "text": [
      "/tmp/ipykernel_26419/1782889505.py:49: RuntimeWarning: Mean of empty slice\n",
      "  corrected_array = np.nanmean(np.stack([corrected_array, corrected_tile]), axis=0)\n"
     ]
    },
    {
     "name": "stdout",
     "output_type": "stream",
     "text": [
      "row 9\n",
      "tile extent x: 1400, 2800, y: 6300, 7700\n"
     ]
    },
    {
     "name": "stderr",
     "output_type": "stream",
     "text": [
      "/tmp/ipykernel_26419/1782889505.py:49: RuntimeWarning: Mean of empty slice\n",
      "  corrected_array = np.nanmean(np.stack([corrected_array, corrected_tile]), axis=0)\n"
     ]
    },
    {
     "name": "stdout",
     "output_type": "stream",
     "text": [
      "row 10\n",
      "tile extent x: 1400, 2800, y: 7000, 8400\n"
     ]
    },
    {
     "name": "stderr",
     "output_type": "stream",
     "text": [
      "/tmp/ipykernel_26419/1782889505.py:49: RuntimeWarning: Mean of empty slice\n",
      "  corrected_array = np.nanmean(np.stack([corrected_array, corrected_tile]), axis=0)\n"
     ]
    },
    {
     "name": "stdout",
     "output_type": "stream",
     "text": [
      "row 11\n",
      "tile extent x: 1400, 2800, y: 7700, 9100\n"
     ]
    },
    {
     "name": "stderr",
     "output_type": "stream",
     "text": [
      "/tmp/ipykernel_26419/1782889505.py:49: RuntimeWarning: Mean of empty slice\n",
      "  corrected_array = np.nanmean(np.stack([corrected_array, corrected_tile]), axis=0)\n"
     ]
    },
    {
     "name": "stdout",
     "output_type": "stream",
     "text": [
      "row 12\n",
      "tile extent x: 1400, 2800, y: 8400, 9800\n"
     ]
    },
    {
     "name": "stderr",
     "output_type": "stream",
     "text": [
      "/tmp/ipykernel_26419/1782889505.py:49: RuntimeWarning: Mean of empty slice\n",
      "  corrected_array = np.nanmean(np.stack([corrected_array, corrected_tile]), axis=0)\n"
     ]
    },
    {
     "name": "stdout",
     "output_type": "stream",
     "text": [
      "row 13\n",
      "tile extent x: 1400, 2800, y: 9100, 10500\n"
     ]
    },
    {
     "name": "stderr",
     "output_type": "stream",
     "text": [
      "/tmp/ipykernel_26419/1782889505.py:49: RuntimeWarning: Mean of empty slice\n",
      "  corrected_array = np.nanmean(np.stack([corrected_array, corrected_tile]), axis=0)\n"
     ]
    },
    {
     "name": "stdout",
     "output_type": "stream",
     "text": [
      "column 3\n",
      "row 0\n",
      "tile extent x: 2100, 3500, y: 0, 1400\n"
     ]
    },
    {
     "name": "stderr",
     "output_type": "stream",
     "text": [
      "/tmp/ipykernel_26419/1782889505.py:49: RuntimeWarning: Mean of empty slice\n",
      "  corrected_array = np.nanmean(np.stack([corrected_array, corrected_tile]), axis=0)\n"
     ]
    },
    {
     "name": "stdout",
     "output_type": "stream",
     "text": [
      "row 1\n",
      "tile extent x: 2100, 3500, y: 700, 2100\n"
     ]
    },
    {
     "name": "stderr",
     "output_type": "stream",
     "text": [
      "/tmp/ipykernel_26419/1782889505.py:49: RuntimeWarning: Mean of empty slice\n",
      "  corrected_array = np.nanmean(np.stack([corrected_array, corrected_tile]), axis=0)\n"
     ]
    },
    {
     "name": "stdout",
     "output_type": "stream",
     "text": [
      "row 2\n",
      "tile extent x: 2100, 3500, y: 1400, 2800\n"
     ]
    },
    {
     "name": "stderr",
     "output_type": "stream",
     "text": [
      "/tmp/ipykernel_26419/1782889505.py:49: RuntimeWarning: Mean of empty slice\n",
      "  corrected_array = np.nanmean(np.stack([corrected_array, corrected_tile]), axis=0)\n"
     ]
    },
    {
     "name": "stdout",
     "output_type": "stream",
     "text": [
      "row 3\n",
      "tile extent x: 2100, 3500, y: 2100, 3500\n"
     ]
    },
    {
     "name": "stderr",
     "output_type": "stream",
     "text": [
      "/tmp/ipykernel_26419/1782889505.py:49: RuntimeWarning: Mean of empty slice\n",
      "  corrected_array = np.nanmean(np.stack([corrected_array, corrected_tile]), axis=0)\n"
     ]
    },
    {
     "name": "stdout",
     "output_type": "stream",
     "text": [
      "row 4\n",
      "tile extent x: 2100, 3500, y: 2800, 4200\n"
     ]
    },
    {
     "name": "stderr",
     "output_type": "stream",
     "text": [
      "/tmp/ipykernel_26419/1782889505.py:49: RuntimeWarning: Mean of empty slice\n",
      "  corrected_array = np.nanmean(np.stack([corrected_array, corrected_tile]), axis=0)\n"
     ]
    },
    {
     "name": "stdout",
     "output_type": "stream",
     "text": [
      "row 5\n",
      "tile extent x: 2100, 3500, y: 3500, 4900\n"
     ]
    },
    {
     "name": "stderr",
     "output_type": "stream",
     "text": [
      "/tmp/ipykernel_26419/1782889505.py:49: RuntimeWarning: Mean of empty slice\n",
      "  corrected_array = np.nanmean(np.stack([corrected_array, corrected_tile]), axis=0)\n"
     ]
    },
    {
     "name": "stdout",
     "output_type": "stream",
     "text": [
      "row 6\n",
      "tile extent x: 2100, 3500, y: 4200, 5600\n"
     ]
    },
    {
     "name": "stderr",
     "output_type": "stream",
     "text": [
      "/tmp/ipykernel_26419/1782889505.py:49: RuntimeWarning: Mean of empty slice\n",
      "  corrected_array = np.nanmean(np.stack([corrected_array, corrected_tile]), axis=0)\n"
     ]
    },
    {
     "name": "stdout",
     "output_type": "stream",
     "text": [
      "row 7\n",
      "tile extent x: 2100, 3500, y: 4900, 6300\n"
     ]
    },
    {
     "name": "stderr",
     "output_type": "stream",
     "text": [
      "/tmp/ipykernel_26419/1782889505.py:49: RuntimeWarning: Mean of empty slice\n",
      "  corrected_array = np.nanmean(np.stack([corrected_array, corrected_tile]), axis=0)\n"
     ]
    },
    {
     "name": "stdout",
     "output_type": "stream",
     "text": [
      "row 8\n",
      "tile extent x: 2100, 3500, y: 5600, 7000\n"
     ]
    },
    {
     "name": "stderr",
     "output_type": "stream",
     "text": [
      "/tmp/ipykernel_26419/1782889505.py:49: RuntimeWarning: Mean of empty slice\n",
      "  corrected_array = np.nanmean(np.stack([corrected_array, corrected_tile]), axis=0)\n"
     ]
    },
    {
     "name": "stdout",
     "output_type": "stream",
     "text": [
      "row 9\n",
      "tile extent x: 2100, 3500, y: 6300, 7700\n"
     ]
    },
    {
     "name": "stderr",
     "output_type": "stream",
     "text": [
      "/tmp/ipykernel_26419/1782889505.py:49: RuntimeWarning: Mean of empty slice\n",
      "  corrected_array = np.nanmean(np.stack([corrected_array, corrected_tile]), axis=0)\n"
     ]
    },
    {
     "name": "stdout",
     "output_type": "stream",
     "text": [
      "row 10\n",
      "tile extent x: 2100, 3500, y: 7000, 8400\n"
     ]
    },
    {
     "name": "stderr",
     "output_type": "stream",
     "text": [
      "/tmp/ipykernel_26419/1782889505.py:49: RuntimeWarning: Mean of empty slice\n",
      "  corrected_array = np.nanmean(np.stack([corrected_array, corrected_tile]), axis=0)\n"
     ]
    },
    {
     "name": "stdout",
     "output_type": "stream",
     "text": [
      "row 11\n",
      "tile extent x: 2100, 3500, y: 7700, 9100\n"
     ]
    },
    {
     "name": "stderr",
     "output_type": "stream",
     "text": [
      "/tmp/ipykernel_26419/1782889505.py:49: RuntimeWarning: Mean of empty slice\n",
      "  corrected_array = np.nanmean(np.stack([corrected_array, corrected_tile]), axis=0)\n"
     ]
    },
    {
     "name": "stdout",
     "output_type": "stream",
     "text": [
      "row 12\n",
      "tile extent x: 2100, 3500, y: 8400, 9800\n"
     ]
    },
    {
     "name": "stderr",
     "output_type": "stream",
     "text": [
      "/tmp/ipykernel_26419/1782889505.py:49: RuntimeWarning: Mean of empty slice\n",
      "  corrected_array = np.nanmean(np.stack([corrected_array, corrected_tile]), axis=0)\n"
     ]
    },
    {
     "name": "stdout",
     "output_type": "stream",
     "text": [
      "row 13\n",
      "tile extent x: 2100, 3500, y: 9100, 10500\n"
     ]
    },
    {
     "name": "stderr",
     "output_type": "stream",
     "text": [
      "/tmp/ipykernel_26419/1782889505.py:49: RuntimeWarning: Mean of empty slice\n",
      "  corrected_array = np.nanmean(np.stack([corrected_array, corrected_tile]), axis=0)\n"
     ]
    },
    {
     "name": "stdout",
     "output_type": "stream",
     "text": [
      "column 4\n",
      "row 0\n",
      "tile extent x: 2800, 4200, y: 0, 1400\n"
     ]
    },
    {
     "name": "stderr",
     "output_type": "stream",
     "text": [
      "/tmp/ipykernel_26419/1782889505.py:49: RuntimeWarning: Mean of empty slice\n",
      "  corrected_array = np.nanmean(np.stack([corrected_array, corrected_tile]), axis=0)\n"
     ]
    },
    {
     "name": "stdout",
     "output_type": "stream",
     "text": [
      "row 1\n",
      "tile extent x: 2800, 4200, y: 700, 2100\n"
     ]
    },
    {
     "name": "stderr",
     "output_type": "stream",
     "text": [
      "/tmp/ipykernel_26419/1782889505.py:49: RuntimeWarning: Mean of empty slice\n",
      "  corrected_array = np.nanmean(np.stack([corrected_array, corrected_tile]), axis=0)\n"
     ]
    },
    {
     "name": "stdout",
     "output_type": "stream",
     "text": [
      "row 2\n",
      "tile extent x: 2800, 4200, y: 1400, 2800\n"
     ]
    },
    {
     "name": "stderr",
     "output_type": "stream",
     "text": [
      "/tmp/ipykernel_26419/1782889505.py:49: RuntimeWarning: Mean of empty slice\n",
      "  corrected_array = np.nanmean(np.stack([corrected_array, corrected_tile]), axis=0)\n"
     ]
    },
    {
     "name": "stdout",
     "output_type": "stream",
     "text": [
      "row 3\n",
      "tile extent x: 2800, 4200, y: 2100, 3500\n"
     ]
    },
    {
     "name": "stderr",
     "output_type": "stream",
     "text": [
      "/tmp/ipykernel_26419/1782889505.py:49: RuntimeWarning: Mean of empty slice\n",
      "  corrected_array = np.nanmean(np.stack([corrected_array, corrected_tile]), axis=0)\n"
     ]
    },
    {
     "name": "stdout",
     "output_type": "stream",
     "text": [
      "row 4\n",
      "tile extent x: 2800, 4200, y: 2800, 4200\n"
     ]
    },
    {
     "name": "stderr",
     "output_type": "stream",
     "text": [
      "/tmp/ipykernel_26419/1782889505.py:49: RuntimeWarning: Mean of empty slice\n",
      "  corrected_array = np.nanmean(np.stack([corrected_array, corrected_tile]), axis=0)\n"
     ]
    },
    {
     "name": "stdout",
     "output_type": "stream",
     "text": [
      "row 5\n",
      "tile extent x: 2800, 4200, y: 3500, 4900\n"
     ]
    },
    {
     "name": "stderr",
     "output_type": "stream",
     "text": [
      "/tmp/ipykernel_26419/1782889505.py:49: RuntimeWarning: Mean of empty slice\n",
      "  corrected_array = np.nanmean(np.stack([corrected_array, corrected_tile]), axis=0)\n"
     ]
    },
    {
     "name": "stdout",
     "output_type": "stream",
     "text": [
      "row 6\n",
      "tile extent x: 2800, 4200, y: 4200, 5600\n"
     ]
    },
    {
     "name": "stderr",
     "output_type": "stream",
     "text": [
      "/tmp/ipykernel_26419/1782889505.py:49: RuntimeWarning: Mean of empty slice\n",
      "  corrected_array = np.nanmean(np.stack([corrected_array, corrected_tile]), axis=0)\n"
     ]
    },
    {
     "name": "stdout",
     "output_type": "stream",
     "text": [
      "row 7\n",
      "tile extent x: 2800, 4200, y: 4900, 6300\n"
     ]
    },
    {
     "name": "stderr",
     "output_type": "stream",
     "text": [
      "/tmp/ipykernel_26419/1782889505.py:49: RuntimeWarning: Mean of empty slice\n",
      "  corrected_array = np.nanmean(np.stack([corrected_array, corrected_tile]), axis=0)\n"
     ]
    },
    {
     "name": "stdout",
     "output_type": "stream",
     "text": [
      "row 8\n",
      "tile extent x: 2800, 4200, y: 5600, 7000\n"
     ]
    },
    {
     "name": "stderr",
     "output_type": "stream",
     "text": [
      "/tmp/ipykernel_26419/1782889505.py:49: RuntimeWarning: Mean of empty slice\n",
      "  corrected_array = np.nanmean(np.stack([corrected_array, corrected_tile]), axis=0)\n"
     ]
    },
    {
     "name": "stdout",
     "output_type": "stream",
     "text": [
      "row 9\n",
      "tile extent x: 2800, 4200, y: 6300, 7700\n"
     ]
    },
    {
     "name": "stderr",
     "output_type": "stream",
     "text": [
      "/tmp/ipykernel_26419/1782889505.py:49: RuntimeWarning: Mean of empty slice\n",
      "  corrected_array = np.nanmean(np.stack([corrected_array, corrected_tile]), axis=0)\n"
     ]
    },
    {
     "name": "stdout",
     "output_type": "stream",
     "text": [
      "row 10\n",
      "tile extent x: 2800, 4200, y: 7000, 8400\n"
     ]
    },
    {
     "name": "stderr",
     "output_type": "stream",
     "text": [
      "/tmp/ipykernel_26419/1782889505.py:49: RuntimeWarning: Mean of empty slice\n",
      "  corrected_array = np.nanmean(np.stack([corrected_array, corrected_tile]), axis=0)\n"
     ]
    },
    {
     "name": "stdout",
     "output_type": "stream",
     "text": [
      "row 11\n",
      "tile extent x: 2800, 4200, y: 7700, 9100\n"
     ]
    },
    {
     "name": "stderr",
     "output_type": "stream",
     "text": [
      "/tmp/ipykernel_26419/1782889505.py:49: RuntimeWarning: Mean of empty slice\n",
      "  corrected_array = np.nanmean(np.stack([corrected_array, corrected_tile]), axis=0)\n"
     ]
    },
    {
     "name": "stdout",
     "output_type": "stream",
     "text": [
      "row 12\n",
      "tile extent x: 2800, 4200, y: 8400, 9800\n"
     ]
    },
    {
     "name": "stderr",
     "output_type": "stream",
     "text": [
      "/tmp/ipykernel_26419/1782889505.py:49: RuntimeWarning: Mean of empty slice\n",
      "  corrected_array = np.nanmean(np.stack([corrected_array, corrected_tile]), axis=0)\n"
     ]
    },
    {
     "name": "stdout",
     "output_type": "stream",
     "text": [
      "row 13\n",
      "tile extent x: 2100, 4200, y: 8400, 10500\n"
     ]
    },
    {
     "name": "stderr",
     "output_type": "stream",
     "text": [
      "/tmp/ipykernel_26419/1782889505.py:49: RuntimeWarning: Mean of empty slice\n",
      "  corrected_array = np.nanmean(np.stack([corrected_array, corrected_tile]), axis=0)\n"
     ]
    },
    {
     "name": "stdout",
     "output_type": "stream",
     "text": [
      "column 5\n",
      "row 0\n",
      "tile extent x: 3500, 4900, y: 0, 1400\n"
     ]
    },
    {
     "name": "stderr",
     "output_type": "stream",
     "text": [
      "/tmp/ipykernel_26419/1782889505.py:49: RuntimeWarning: Mean of empty slice\n",
      "  corrected_array = np.nanmean(np.stack([corrected_array, corrected_tile]), axis=0)\n"
     ]
    },
    {
     "name": "stdout",
     "output_type": "stream",
     "text": [
      "row 1\n",
      "tile extent x: 3500, 4900, y: 700, 2100\n"
     ]
    },
    {
     "name": "stderr",
     "output_type": "stream",
     "text": [
      "/tmp/ipykernel_26419/1782889505.py:49: RuntimeWarning: Mean of empty slice\n",
      "  corrected_array = np.nanmean(np.stack([corrected_array, corrected_tile]), axis=0)\n"
     ]
    },
    {
     "name": "stdout",
     "output_type": "stream",
     "text": [
      "row 2\n",
      "tile extent x: 3500, 4900, y: 1400, 2800\n"
     ]
    },
    {
     "name": "stderr",
     "output_type": "stream",
     "text": [
      "/tmp/ipykernel_26419/1782889505.py:49: RuntimeWarning: Mean of empty slice\n",
      "  corrected_array = np.nanmean(np.stack([corrected_array, corrected_tile]), axis=0)\n"
     ]
    },
    {
     "name": "stdout",
     "output_type": "stream",
     "text": [
      "row 3\n",
      "tile extent x: 3500, 4900, y: 2100, 3500\n"
     ]
    },
    {
     "name": "stderr",
     "output_type": "stream",
     "text": [
      "/tmp/ipykernel_26419/1782889505.py:49: RuntimeWarning: Mean of empty slice\n",
      "  corrected_array = np.nanmean(np.stack([corrected_array, corrected_tile]), axis=0)\n"
     ]
    },
    {
     "name": "stdout",
     "output_type": "stream",
     "text": [
      "row 4\n",
      "tile extent x: 3500, 4900, y: 2800, 4200\n"
     ]
    },
    {
     "name": "stderr",
     "output_type": "stream",
     "text": [
      "/tmp/ipykernel_26419/1782889505.py:49: RuntimeWarning: Mean of empty slice\n",
      "  corrected_array = np.nanmean(np.stack([corrected_array, corrected_tile]), axis=0)\n"
     ]
    },
    {
     "name": "stdout",
     "output_type": "stream",
     "text": [
      "row 5\n",
      "tile extent x: 3500, 4900, y: 3500, 4900\n"
     ]
    },
    {
     "name": "stderr",
     "output_type": "stream",
     "text": [
      "/tmp/ipykernel_26419/1782889505.py:49: RuntimeWarning: Mean of empty slice\n",
      "  corrected_array = np.nanmean(np.stack([corrected_array, corrected_tile]), axis=0)\n"
     ]
    },
    {
     "name": "stdout",
     "output_type": "stream",
     "text": [
      "row 6\n",
      "tile extent x: 3500, 4900, y: 4200, 5600\n"
     ]
    },
    {
     "name": "stderr",
     "output_type": "stream",
     "text": [
      "/tmp/ipykernel_26419/1782889505.py:49: RuntimeWarning: Mean of empty slice\n",
      "  corrected_array = np.nanmean(np.stack([corrected_array, corrected_tile]), axis=0)\n"
     ]
    },
    {
     "name": "stdout",
     "output_type": "stream",
     "text": [
      "row 7\n",
      "tile extent x: 3500, 4900, y: 4900, 6300\n"
     ]
    },
    {
     "name": "stderr",
     "output_type": "stream",
     "text": [
      "/tmp/ipykernel_26419/1782889505.py:49: RuntimeWarning: Mean of empty slice\n",
      "  corrected_array = np.nanmean(np.stack([corrected_array, corrected_tile]), axis=0)\n"
     ]
    },
    {
     "name": "stdout",
     "output_type": "stream",
     "text": [
      "row 8\n",
      "tile extent x: 3500, 4900, y: 5600, 7000\n"
     ]
    },
    {
     "name": "stderr",
     "output_type": "stream",
     "text": [
      "/tmp/ipykernel_26419/1782889505.py:49: RuntimeWarning: Mean of empty slice\n",
      "  corrected_array = np.nanmean(np.stack([corrected_array, corrected_tile]), axis=0)\n"
     ]
    },
    {
     "name": "stdout",
     "output_type": "stream",
     "text": [
      "row 9\n",
      "tile extent x: 2800, 4900, y: 5600, 7700\n"
     ]
    },
    {
     "name": "stderr",
     "output_type": "stream",
     "text": [
      "/tmp/ipykernel_26419/1782889505.py:49: RuntimeWarning: Mean of empty slice\n",
      "  corrected_array = np.nanmean(np.stack([corrected_array, corrected_tile]), axis=0)\n"
     ]
    },
    {
     "name": "stdout",
     "output_type": "stream",
     "text": [
      "row 10\n",
      "tile extent x: 2800, 4900, y: 6300, 8400\n"
     ]
    },
    {
     "name": "stderr",
     "output_type": "stream",
     "text": [
      "/tmp/ipykernel_26419/1782889505.py:49: RuntimeWarning: Mean of empty slice\n",
      "  corrected_array = np.nanmean(np.stack([corrected_array, corrected_tile]), axis=0)\n"
     ]
    },
    {
     "name": "stdout",
     "output_type": "stream",
     "text": [
      "row 11\n",
      "tile extent x: 2800, 4900, y: 7000, 9100\n"
     ]
    },
    {
     "name": "stderr",
     "output_type": "stream",
     "text": [
      "/tmp/ipykernel_26419/1782889505.py:49: RuntimeWarning: Mean of empty slice\n",
      "  corrected_array = np.nanmean(np.stack([corrected_array, corrected_tile]), axis=0)\n"
     ]
    },
    {
     "name": "stdout",
     "output_type": "stream",
     "text": [
      "row 12\n",
      "tile extent x: 2800, 4900, y: 7700, 9800\n"
     ]
    },
    {
     "name": "stderr",
     "output_type": "stream",
     "text": [
      "/tmp/ipykernel_26419/1782889505.py:49: RuntimeWarning: Mean of empty slice\n",
      "  corrected_array = np.nanmean(np.stack([corrected_array, corrected_tile]), axis=0)\n"
     ]
    },
    {
     "name": "stdout",
     "output_type": "stream",
     "text": [
      "row 13\n",
      "tile extent x: 2800, 4900, y: 8400, 10500\n"
     ]
    },
    {
     "name": "stderr",
     "output_type": "stream",
     "text": [
      "/tmp/ipykernel_26419/1782889505.py:49: RuntimeWarning: Mean of empty slice\n",
      "  corrected_array = np.nanmean(np.stack([corrected_array, corrected_tile]), axis=0)\n"
     ]
    },
    {
     "name": "stdout",
     "output_type": "stream",
     "text": [
      "column 6\n",
      "row 0\n",
      "tile extent x: 3500, 5600, y: 0, 2100\n"
     ]
    },
    {
     "name": "stderr",
     "output_type": "stream",
     "text": [
      "/tmp/ipykernel_26419/1782889505.py:49: RuntimeWarning: Mean of empty slice\n",
      "  corrected_array = np.nanmean(np.stack([corrected_array, corrected_tile]), axis=0)\n"
     ]
    },
    {
     "name": "stdout",
     "output_type": "stream",
     "text": [
      "row 1\n",
      "tile extent x: 3500, 5600, y: 700, 2800\n"
     ]
    },
    {
     "name": "stderr",
     "output_type": "stream",
     "text": [
      "/tmp/ipykernel_26419/1782889505.py:49: RuntimeWarning: Mean of empty slice\n",
      "  corrected_array = np.nanmean(np.stack([corrected_array, corrected_tile]), axis=0)\n"
     ]
    },
    {
     "name": "stdout",
     "output_type": "stream",
     "text": [
      "row 2\n",
      "tile extent x: 3500, 5600, y: 1400, 3500\n"
     ]
    },
    {
     "name": "stderr",
     "output_type": "stream",
     "text": [
      "/tmp/ipykernel_26419/1782889505.py:49: RuntimeWarning: Mean of empty slice\n",
      "  corrected_array = np.nanmean(np.stack([corrected_array, corrected_tile]), axis=0)\n"
     ]
    },
    {
     "name": "stdout",
     "output_type": "stream",
     "text": [
      "row 3\n",
      "tile extent x: 3500, 5600, y: 2100, 4200\n"
     ]
    },
    {
     "name": "stderr",
     "output_type": "stream",
     "text": [
      "/tmp/ipykernel_26419/1782889505.py:49: RuntimeWarning: Mean of empty slice\n",
      "  corrected_array = np.nanmean(np.stack([corrected_array, corrected_tile]), axis=0)\n"
     ]
    },
    {
     "name": "stdout",
     "output_type": "stream",
     "text": [
      "row 4\n",
      "tile extent x: 3500, 5600, y: 2800, 4900\n"
     ]
    },
    {
     "name": "stderr",
     "output_type": "stream",
     "text": [
      "/tmp/ipykernel_26419/1782889505.py:49: RuntimeWarning: Mean of empty slice\n",
      "  corrected_array = np.nanmean(np.stack([corrected_array, corrected_tile]), axis=0)\n"
     ]
    },
    {
     "name": "stdout",
     "output_type": "stream",
     "text": [
      "row 5\n",
      "tile extent x: 3500, 5600, y: 2800, 4900\n"
     ]
    },
    {
     "name": "stderr",
     "output_type": "stream",
     "text": [
      "/tmp/ipykernel_26419/1782889505.py:49: RuntimeWarning: Mean of empty slice\n",
      "  corrected_array = np.nanmean(np.stack([corrected_array, corrected_tile]), axis=0)\n"
     ]
    },
    {
     "name": "stdout",
     "output_type": "stream",
     "text": [
      "row 6\n",
      "row 7\n",
      "row 8\n",
      "row 9\n",
      "row 10\n",
      "row 11\n",
      "row 12\n",
      "row 13\n",
      "working on swatch_26300\n",
      "column 0\n",
      "row 0\n",
      "tile extent x: 0, 2100, y: 0, 2100\n"
     ]
    },
    {
     "name": "stderr",
     "output_type": "stream",
     "text": [
      "/tmp/ipykernel_26419/1782889505.py:49: RuntimeWarning: Mean of empty slice\n",
      "  corrected_array = np.nanmean(np.stack([corrected_array, corrected_tile]), axis=0)\n"
     ]
    },
    {
     "name": "stdout",
     "output_type": "stream",
     "text": [
      "row 1\n",
      "tile extent x: 0, 1400, y: 700, 2100\n"
     ]
    },
    {
     "name": "stderr",
     "output_type": "stream",
     "text": [
      "/tmp/ipykernel_26419/1782889505.py:49: RuntimeWarning: Mean of empty slice\n",
      "  corrected_array = np.nanmean(np.stack([corrected_array, corrected_tile]), axis=0)\n"
     ]
    },
    {
     "name": "stdout",
     "output_type": "stream",
     "text": [
      "row 2\n",
      "tile extent x: 0, 1400, y: 1400, 2800\n"
     ]
    },
    {
     "name": "stderr",
     "output_type": "stream",
     "text": [
      "/tmp/ipykernel_26419/1782889505.py:49: RuntimeWarning: Mean of empty slice\n",
      "  corrected_array = np.nanmean(np.stack([corrected_array, corrected_tile]), axis=0)\n"
     ]
    },
    {
     "name": "stdout",
     "output_type": "stream",
     "text": [
      "row 3\n",
      "tile extent x: 0, 1400, y: 2100, 3500\n"
     ]
    },
    {
     "name": "stderr",
     "output_type": "stream",
     "text": [
      "/tmp/ipykernel_26419/1782889505.py:49: RuntimeWarning: Mean of empty slice\n",
      "  corrected_array = np.nanmean(np.stack([corrected_array, corrected_tile]), axis=0)\n"
     ]
    },
    {
     "name": "stdout",
     "output_type": "stream",
     "text": [
      "row 4\n",
      "tile extent x: 0, 1400, y: 2800, 4200\n"
     ]
    },
    {
     "name": "stderr",
     "output_type": "stream",
     "text": [
      "/tmp/ipykernel_26419/1782889505.py:49: RuntimeWarning: Mean of empty slice\n",
      "  corrected_array = np.nanmean(np.stack([corrected_array, corrected_tile]), axis=0)\n"
     ]
    },
    {
     "name": "stdout",
     "output_type": "stream",
     "text": [
      "row 5\n",
      "tile extent x: 0, 1400, y: 3500, 4900\n"
     ]
    },
    {
     "name": "stderr",
     "output_type": "stream",
     "text": [
      "/tmp/ipykernel_26419/1782889505.py:49: RuntimeWarning: Mean of empty slice\n",
      "  corrected_array = np.nanmean(np.stack([corrected_array, corrected_tile]), axis=0)\n"
     ]
    },
    {
     "name": "stdout",
     "output_type": "stream",
     "text": [
      "row 6\n",
      "tile extent x: 0, 1400, y: 4200, 5600\n"
     ]
    },
    {
     "name": "stderr",
     "output_type": "stream",
     "text": [
      "/tmp/ipykernel_26419/1782889505.py:49: RuntimeWarning: Mean of empty slice\n",
      "  corrected_array = np.nanmean(np.stack([corrected_array, corrected_tile]), axis=0)\n"
     ]
    },
    {
     "name": "stdout",
     "output_type": "stream",
     "text": [
      "column 1\n",
      "row 0\n",
      "tile extent x: 700, 2100, y: 0, 1400\n"
     ]
    },
    {
     "name": "stderr",
     "output_type": "stream",
     "text": [
      "/tmp/ipykernel_26419/1782889505.py:49: RuntimeWarning: Mean of empty slice\n",
      "  corrected_array = np.nanmean(np.stack([corrected_array, corrected_tile]), axis=0)\n"
     ]
    },
    {
     "name": "stdout",
     "output_type": "stream",
     "text": [
      "row 1\n",
      "tile extent x: 700, 2100, y: 700, 2100\n"
     ]
    },
    {
     "name": "stderr",
     "output_type": "stream",
     "text": [
      "/tmp/ipykernel_26419/1782889505.py:49: RuntimeWarning: Mean of empty slice\n",
      "  corrected_array = np.nanmean(np.stack([corrected_array, corrected_tile]), axis=0)\n"
     ]
    },
    {
     "name": "stdout",
     "output_type": "stream",
     "text": [
      "row 2\n",
      "tile extent x: 700, 2100, y: 1400, 2800\n"
     ]
    },
    {
     "name": "stderr",
     "output_type": "stream",
     "text": [
      "/tmp/ipykernel_26419/1782889505.py:49: RuntimeWarning: Mean of empty slice\n",
      "  corrected_array = np.nanmean(np.stack([corrected_array, corrected_tile]), axis=0)\n"
     ]
    },
    {
     "name": "stdout",
     "output_type": "stream",
     "text": [
      "row 3\n",
      "tile extent x: 700, 2100, y: 2100, 3500\n"
     ]
    },
    {
     "name": "stderr",
     "output_type": "stream",
     "text": [
      "/tmp/ipykernel_26419/1782889505.py:49: RuntimeWarning: Mean of empty slice\n",
      "  corrected_array = np.nanmean(np.stack([corrected_array, corrected_tile]), axis=0)\n"
     ]
    },
    {
     "name": "stdout",
     "output_type": "stream",
     "text": [
      "row 4\n",
      "tile extent x: 700, 2100, y: 2800, 4200\n"
     ]
    },
    {
     "name": "stderr",
     "output_type": "stream",
     "text": [
      "/tmp/ipykernel_26419/1782889505.py:49: RuntimeWarning: Mean of empty slice\n",
      "  corrected_array = np.nanmean(np.stack([corrected_array, corrected_tile]), axis=0)\n"
     ]
    },
    {
     "name": "stdout",
     "output_type": "stream",
     "text": [
      "row 5\n",
      "tile extent x: 700, 2100, y: 3500, 4900\n"
     ]
    },
    {
     "name": "stderr",
     "output_type": "stream",
     "text": [
      "/tmp/ipykernel_26419/1782889505.py:49: RuntimeWarning: Mean of empty slice\n",
      "  corrected_array = np.nanmean(np.stack([corrected_array, corrected_tile]), axis=0)\n"
     ]
    },
    {
     "name": "stdout",
     "output_type": "stream",
     "text": [
      "row 6\n",
      "tile extent x: 700, 2100, y: 4200, 5600\n"
     ]
    },
    {
     "name": "stderr",
     "output_type": "stream",
     "text": [
      "/tmp/ipykernel_26419/1782889505.py:49: RuntimeWarning: Mean of empty slice\n",
      "  corrected_array = np.nanmean(np.stack([corrected_array, corrected_tile]), axis=0)\n"
     ]
    },
    {
     "name": "stdout",
     "output_type": "stream",
     "text": [
      "column 2\n",
      "row 0\n",
      "tile extent x: 1400, 2800, y: 0, 1400\n"
     ]
    },
    {
     "name": "stderr",
     "output_type": "stream",
     "text": [
      "/tmp/ipykernel_26419/1782889505.py:49: RuntimeWarning: Mean of empty slice\n",
      "  corrected_array = np.nanmean(np.stack([corrected_array, corrected_tile]), axis=0)\n"
     ]
    },
    {
     "name": "stdout",
     "output_type": "stream",
     "text": [
      "row 1\n",
      "tile extent x: 1400, 2800, y: 700, 2100\n"
     ]
    },
    {
     "name": "stderr",
     "output_type": "stream",
     "text": [
      "/tmp/ipykernel_26419/1782889505.py:49: RuntimeWarning: Mean of empty slice\n",
      "  corrected_array = np.nanmean(np.stack([corrected_array, corrected_tile]), axis=0)\n"
     ]
    },
    {
     "name": "stdout",
     "output_type": "stream",
     "text": [
      "row 2\n",
      "tile extent x: 1400, 2800, y: 1400, 2800\n"
     ]
    },
    {
     "name": "stderr",
     "output_type": "stream",
     "text": [
      "/tmp/ipykernel_26419/1782889505.py:49: RuntimeWarning: Mean of empty slice\n",
      "  corrected_array = np.nanmean(np.stack([corrected_array, corrected_tile]), axis=0)\n"
     ]
    },
    {
     "name": "stdout",
     "output_type": "stream",
     "text": [
      "row 3\n",
      "tile extent x: 1400, 2800, y: 2100, 3500\n"
     ]
    },
    {
     "name": "stderr",
     "output_type": "stream",
     "text": [
      "/tmp/ipykernel_26419/1782889505.py:49: RuntimeWarning: Mean of empty slice\n",
      "  corrected_array = np.nanmean(np.stack([corrected_array, corrected_tile]), axis=0)\n"
     ]
    },
    {
     "name": "stdout",
     "output_type": "stream",
     "text": [
      "row 4\n",
      "tile extent x: 1400, 2800, y: 2800, 4200\n"
     ]
    },
    {
     "name": "stderr",
     "output_type": "stream",
     "text": [
      "/tmp/ipykernel_26419/1782889505.py:49: RuntimeWarning: Mean of empty slice\n",
      "  corrected_array = np.nanmean(np.stack([corrected_array, corrected_tile]), axis=0)\n"
     ]
    },
    {
     "name": "stdout",
     "output_type": "stream",
     "text": [
      "row 5\n",
      "tile extent x: 1400, 2800, y: 3500, 4900\n"
     ]
    },
    {
     "name": "stderr",
     "output_type": "stream",
     "text": [
      "/tmp/ipykernel_26419/1782889505.py:49: RuntimeWarning: Mean of empty slice\n",
      "  corrected_array = np.nanmean(np.stack([corrected_array, corrected_tile]), axis=0)\n"
     ]
    },
    {
     "name": "stdout",
     "output_type": "stream",
     "text": [
      "row 6\n",
      "tile extent x: 1400, 2800, y: 4200, 5600\n"
     ]
    },
    {
     "name": "stderr",
     "output_type": "stream",
     "text": [
      "/tmp/ipykernel_26419/1782889505.py:49: RuntimeWarning: Mean of empty slice\n",
      "  corrected_array = np.nanmean(np.stack([corrected_array, corrected_tile]), axis=0)\n"
     ]
    },
    {
     "name": "stdout",
     "output_type": "stream",
     "text": [
      "column 3\n",
      "row 0\n",
      "tile extent x: 2100, 3500, y: 0, 1400\n"
     ]
    },
    {
     "name": "stderr",
     "output_type": "stream",
     "text": [
      "/tmp/ipykernel_26419/1782889505.py:49: RuntimeWarning: Mean of empty slice\n",
      "  corrected_array = np.nanmean(np.stack([corrected_array, corrected_tile]), axis=0)\n"
     ]
    },
    {
     "name": "stdout",
     "output_type": "stream",
     "text": [
      "row 1\n",
      "tile extent x: 2100, 3500, y: 700, 2100\n"
     ]
    },
    {
     "name": "stderr",
     "output_type": "stream",
     "text": [
      "/tmp/ipykernel_26419/1782889505.py:49: RuntimeWarning: Mean of empty slice\n",
      "  corrected_array = np.nanmean(np.stack([corrected_array, corrected_tile]), axis=0)\n"
     ]
    },
    {
     "name": "stdout",
     "output_type": "stream",
     "text": [
      "row 2\n",
      "tile extent x: 2100, 3500, y: 1400, 2800\n"
     ]
    },
    {
     "name": "stderr",
     "output_type": "stream",
     "text": [
      "/tmp/ipykernel_26419/1782889505.py:49: RuntimeWarning: Mean of empty slice\n",
      "  corrected_array = np.nanmean(np.stack([corrected_array, corrected_tile]), axis=0)\n"
     ]
    },
    {
     "name": "stdout",
     "output_type": "stream",
     "text": [
      "row 3\n",
      "tile extent x: 2100, 3500, y: 2100, 3500\n"
     ]
    },
    {
     "name": "stderr",
     "output_type": "stream",
     "text": [
      "/tmp/ipykernel_26419/1782889505.py:49: RuntimeWarning: Mean of empty slice\n",
      "  corrected_array = np.nanmean(np.stack([corrected_array, corrected_tile]), axis=0)\n"
     ]
    },
    {
     "name": "stdout",
     "output_type": "stream",
     "text": [
      "row 4\n",
      "tile extent x: 2100, 3500, y: 2800, 4200\n"
     ]
    },
    {
     "name": "stderr",
     "output_type": "stream",
     "text": [
      "/tmp/ipykernel_26419/1782889505.py:49: RuntimeWarning: Mean of empty slice\n",
      "  corrected_array = np.nanmean(np.stack([corrected_array, corrected_tile]), axis=0)\n"
     ]
    },
    {
     "name": "stdout",
     "output_type": "stream",
     "text": [
      "row 5\n",
      "tile extent x: 2100, 3500, y: 3500, 4900\n"
     ]
    },
    {
     "name": "stderr",
     "output_type": "stream",
     "text": [
      "/tmp/ipykernel_26419/1782889505.py:49: RuntimeWarning: Mean of empty slice\n",
      "  corrected_array = np.nanmean(np.stack([corrected_array, corrected_tile]), axis=0)\n"
     ]
    },
    {
     "name": "stdout",
     "output_type": "stream",
     "text": [
      "row 6\n",
      "tile extent x: 2100, 4200, y: 3500, 5600\n"
     ]
    },
    {
     "name": "stderr",
     "output_type": "stream",
     "text": [
      "/tmp/ipykernel_26419/1782889505.py:49: RuntimeWarning: Mean of empty slice\n",
      "  corrected_array = np.nanmean(np.stack([corrected_array, corrected_tile]), axis=0)\n"
     ]
    },
    {
     "name": "stdout",
     "output_type": "stream",
     "text": [
      "column 4\n",
      "row 0\n",
      "tile extent x: 2800, 4200, y: 0, 1400\n"
     ]
    },
    {
     "name": "stderr",
     "output_type": "stream",
     "text": [
      "/tmp/ipykernel_26419/1782889505.py:49: RuntimeWarning: Mean of empty slice\n",
      "  corrected_array = np.nanmean(np.stack([corrected_array, corrected_tile]), axis=0)\n"
     ]
    },
    {
     "name": "stdout",
     "output_type": "stream",
     "text": [
      "row 1\n",
      "tile extent x: 2800, 4200, y: 700, 2100\n"
     ]
    },
    {
     "name": "stderr",
     "output_type": "stream",
     "text": [
      "/tmp/ipykernel_26419/1782889505.py:49: RuntimeWarning: Mean of empty slice\n",
      "  corrected_array = np.nanmean(np.stack([corrected_array, corrected_tile]), axis=0)\n"
     ]
    },
    {
     "name": "stdout",
     "output_type": "stream",
     "text": [
      "row 2\n",
      "tile extent x: 2800, 4200, y: 1400, 2800\n"
     ]
    },
    {
     "name": "stderr",
     "output_type": "stream",
     "text": [
      "/tmp/ipykernel_26419/1782889505.py:49: RuntimeWarning: Mean of empty slice\n",
      "  corrected_array = np.nanmean(np.stack([corrected_array, corrected_tile]), axis=0)\n"
     ]
    },
    {
     "name": "stdout",
     "output_type": "stream",
     "text": [
      "row 3\n",
      "tile extent x: 2800, 4200, y: 2100, 3500\n"
     ]
    },
    {
     "name": "stderr",
     "output_type": "stream",
     "text": [
      "/tmp/ipykernel_26419/1782889505.py:49: RuntimeWarning: Mean of empty slice\n",
      "  corrected_array = np.nanmean(np.stack([corrected_array, corrected_tile]), axis=0)\n"
     ]
    },
    {
     "name": "stdout",
     "output_type": "stream",
     "text": [
      "row 4\n",
      "tile extent x: 2800, 4200, y: 2800, 4200\n"
     ]
    },
    {
     "name": "stderr",
     "output_type": "stream",
     "text": [
      "/tmp/ipykernel_26419/1782889505.py:49: RuntimeWarning: Mean of empty slice\n",
      "  corrected_array = np.nanmean(np.stack([corrected_array, corrected_tile]), axis=0)\n"
     ]
    },
    {
     "name": "stdout",
     "output_type": "stream",
     "text": [
      "row 5\n",
      "tile extent x: 2800, 4200, y: 3500, 4900\n"
     ]
    },
    {
     "name": "stderr",
     "output_type": "stream",
     "text": [
      "/tmp/ipykernel_26419/1782889505.py:49: RuntimeWarning: Mean of empty slice\n",
      "  corrected_array = np.nanmean(np.stack([corrected_array, corrected_tile]), axis=0)\n"
     ]
    },
    {
     "name": "stdout",
     "output_type": "stream",
     "text": [
      "row 6\n",
      "tile extent x: 2800, 4900, y: 3500, 5600\n"
     ]
    },
    {
     "name": "stderr",
     "output_type": "stream",
     "text": [
      "/tmp/ipykernel_26419/1782889505.py:49: RuntimeWarning: Mean of empty slice\n",
      "  corrected_array = np.nanmean(np.stack([corrected_array, corrected_tile]), axis=0)\n"
     ]
    },
    {
     "name": "stdout",
     "output_type": "stream",
     "text": [
      "column 5\n",
      "row 0\n",
      "tile extent x: 3500, 4900, y: 0, 1400\n"
     ]
    },
    {
     "name": "stderr",
     "output_type": "stream",
     "text": [
      "/tmp/ipykernel_26419/1782889505.py:49: RuntimeWarning: Mean of empty slice\n",
      "  corrected_array = np.nanmean(np.stack([corrected_array, corrected_tile]), axis=0)\n"
     ]
    },
    {
     "name": "stdout",
     "output_type": "stream",
     "text": [
      "row 1\n",
      "tile extent x: 3500, 4900, y: 700, 2100\n"
     ]
    },
    {
     "name": "stderr",
     "output_type": "stream",
     "text": [
      "/tmp/ipykernel_26419/1782889505.py:49: RuntimeWarning: Mean of empty slice\n",
      "  corrected_array = np.nanmean(np.stack([corrected_array, corrected_tile]), axis=0)\n"
     ]
    },
    {
     "name": "stdout",
     "output_type": "stream",
     "text": [
      "row 2\n",
      "tile extent x: 3500, 4900, y: 1400, 2800\n"
     ]
    },
    {
     "name": "stderr",
     "output_type": "stream",
     "text": [
      "/tmp/ipykernel_26419/1782889505.py:49: RuntimeWarning: Mean of empty slice\n",
      "  corrected_array = np.nanmean(np.stack([corrected_array, corrected_tile]), axis=0)\n"
     ]
    },
    {
     "name": "stdout",
     "output_type": "stream",
     "text": [
      "row 3\n",
      "tile extent x: 3500, 4900, y: 2100, 3500\n"
     ]
    },
    {
     "name": "stderr",
     "output_type": "stream",
     "text": [
      "/tmp/ipykernel_26419/1782889505.py:49: RuntimeWarning: Mean of empty slice\n",
      "  corrected_array = np.nanmean(np.stack([corrected_array, corrected_tile]), axis=0)\n"
     ]
    },
    {
     "name": "stdout",
     "output_type": "stream",
     "text": [
      "row 4\n",
      "tile extent x: 3500, 4900, y: 2800, 4200\n"
     ]
    },
    {
     "name": "stderr",
     "output_type": "stream",
     "text": [
      "/tmp/ipykernel_26419/1782889505.py:49: RuntimeWarning: Mean of empty slice\n",
      "  corrected_array = np.nanmean(np.stack([corrected_array, corrected_tile]), axis=0)\n"
     ]
    },
    {
     "name": "stdout",
     "output_type": "stream",
     "text": [
      "row 5\n",
      "tile extent x: 3500, 4900, y: 3500, 4900\n"
     ]
    },
    {
     "name": "stderr",
     "output_type": "stream",
     "text": [
      "/tmp/ipykernel_26419/1782889505.py:49: RuntimeWarning: Mean of empty slice\n",
      "  corrected_array = np.nanmean(np.stack([corrected_array, corrected_tile]), axis=0)\n"
     ]
    },
    {
     "name": "stdout",
     "output_type": "stream",
     "text": [
      "row 6\n",
      "tile extent x: 2800, 4900, y: 3500, 5600\n"
     ]
    },
    {
     "name": "stderr",
     "output_type": "stream",
     "text": [
      "/tmp/ipykernel_26419/1782889505.py:49: RuntimeWarning: Mean of empty slice\n",
      "  corrected_array = np.nanmean(np.stack([corrected_array, corrected_tile]), axis=0)\n"
     ]
    },
    {
     "name": "stdout",
     "output_type": "stream",
     "text": [
      "column 6\n",
      "row 0\n",
      "tile extent x: 4200, 5600, y: 0, 1400\n"
     ]
    },
    {
     "name": "stderr",
     "output_type": "stream",
     "text": [
      "/tmp/ipykernel_26419/1782889505.py:49: RuntimeWarning: Mean of empty slice\n",
      "  corrected_array = np.nanmean(np.stack([corrected_array, corrected_tile]), axis=0)\n"
     ]
    },
    {
     "name": "stdout",
     "output_type": "stream",
     "text": [
      "row 1\n",
      "tile extent x: 4200, 5600, y: 700, 2100\n"
     ]
    },
    {
     "name": "stderr",
     "output_type": "stream",
     "text": [
      "/tmp/ipykernel_26419/1782889505.py:49: RuntimeWarning: Mean of empty slice\n",
      "  corrected_array = np.nanmean(np.stack([corrected_array, corrected_tile]), axis=0)\n"
     ]
    },
    {
     "name": "stdout",
     "output_type": "stream",
     "text": [
      "row 2\n",
      "tile extent x: 4200, 5600, y: 1400, 2800\n"
     ]
    },
    {
     "name": "stderr",
     "output_type": "stream",
     "text": [
      "/tmp/ipykernel_26419/1782889505.py:49: RuntimeWarning: Mean of empty slice\n",
      "  corrected_array = np.nanmean(np.stack([corrected_array, corrected_tile]), axis=0)\n"
     ]
    },
    {
     "name": "stdout",
     "output_type": "stream",
     "text": [
      "row 3\n",
      "tile extent x: 4200, 5600, y: 2100, 3500\n"
     ]
    },
    {
     "name": "stderr",
     "output_type": "stream",
     "text": [
      "/tmp/ipykernel_26419/1782889505.py:49: RuntimeWarning: Mean of empty slice\n",
      "  corrected_array = np.nanmean(np.stack([corrected_array, corrected_tile]), axis=0)\n"
     ]
    },
    {
     "name": "stdout",
     "output_type": "stream",
     "text": [
      "row 4\n",
      "tile extent x: 4200, 5600, y: 2800, 4200\n"
     ]
    },
    {
     "name": "stderr",
     "output_type": "stream",
     "text": [
      "/tmp/ipykernel_26419/1782889505.py:49: RuntimeWarning: Mean of empty slice\n",
      "  corrected_array = np.nanmean(np.stack([corrected_array, corrected_tile]), axis=0)\n"
     ]
    },
    {
     "name": "stdout",
     "output_type": "stream",
     "text": [
      "row 5\n",
      "tile extent x: 4200, 5600, y: 3500, 4900\n"
     ]
    },
    {
     "name": "stderr",
     "output_type": "stream",
     "text": [
      "/tmp/ipykernel_26419/1782889505.py:49: RuntimeWarning: Mean of empty slice\n",
      "  corrected_array = np.nanmean(np.stack([corrected_array, corrected_tile]), axis=0)\n"
     ]
    },
    {
     "name": "stdout",
     "output_type": "stream",
     "text": [
      "row 6\n",
      "tile extent x: 3500, 5600, y: 3500, 5600\n"
     ]
    },
    {
     "name": "stderr",
     "output_type": "stream",
     "text": [
      "/tmp/ipykernel_26419/1782889505.py:49: RuntimeWarning: Mean of empty slice\n",
      "  corrected_array = np.nanmean(np.stack([corrected_array, corrected_tile]), axis=0)\n"
     ]
    },
    {
     "name": "stdout",
     "output_type": "stream",
     "text": [
      "column 7\n",
      "row 0\n",
      "tile extent x: 4900, 6300, y: 0, 1400\n"
     ]
    },
    {
     "name": "stderr",
     "output_type": "stream",
     "text": [
      "/tmp/ipykernel_26419/1782889505.py:49: RuntimeWarning: Mean of empty slice\n",
      "  corrected_array = np.nanmean(np.stack([corrected_array, corrected_tile]), axis=0)\n"
     ]
    },
    {
     "name": "stdout",
     "output_type": "stream",
     "text": [
      "row 1\n",
      "tile extent x: 4900, 6300, y: 700, 2100\n"
     ]
    },
    {
     "name": "stderr",
     "output_type": "stream",
     "text": [
      "/tmp/ipykernel_26419/1782889505.py:49: RuntimeWarning: Mean of empty slice\n",
      "  corrected_array = np.nanmean(np.stack([corrected_array, corrected_tile]), axis=0)\n"
     ]
    },
    {
     "name": "stdout",
     "output_type": "stream",
     "text": [
      "row 2\n",
      "tile extent x: 4900, 6300, y: 1400, 2800\n"
     ]
    },
    {
     "name": "stderr",
     "output_type": "stream",
     "text": [
      "/tmp/ipykernel_26419/1782889505.py:49: RuntimeWarning: Mean of empty slice\n",
      "  corrected_array = np.nanmean(np.stack([corrected_array, corrected_tile]), axis=0)\n"
     ]
    },
    {
     "name": "stdout",
     "output_type": "stream",
     "text": [
      "row 3\n",
      "tile extent x: 4900, 6300, y: 2100, 3500\n"
     ]
    },
    {
     "name": "stderr",
     "output_type": "stream",
     "text": [
      "/tmp/ipykernel_26419/1782889505.py:49: RuntimeWarning: Mean of empty slice\n",
      "  corrected_array = np.nanmean(np.stack([corrected_array, corrected_tile]), axis=0)\n"
     ]
    },
    {
     "name": "stdout",
     "output_type": "stream",
     "text": [
      "row 4\n",
      "tile extent x: 4900, 6300, y: 2800, 4200\n"
     ]
    },
    {
     "name": "stderr",
     "output_type": "stream",
     "text": [
      "/tmp/ipykernel_26419/1782889505.py:49: RuntimeWarning: Mean of empty slice\n",
      "  corrected_array = np.nanmean(np.stack([corrected_array, corrected_tile]), axis=0)\n"
     ]
    },
    {
     "name": "stdout",
     "output_type": "stream",
     "text": [
      "row 5\n",
      "tile extent x: 4900, 6300, y: 3500, 4900\n"
     ]
    },
    {
     "name": "stderr",
     "output_type": "stream",
     "text": [
      "/tmp/ipykernel_26419/1782889505.py:49: RuntimeWarning: Mean of empty slice\n",
      "  corrected_array = np.nanmean(np.stack([corrected_array, corrected_tile]), axis=0)\n"
     ]
    },
    {
     "name": "stdout",
     "output_type": "stream",
     "text": [
      "row 6\n",
      "tile extent x: 4200, 6300, y: 3500, 5600\n"
     ]
    },
    {
     "name": "stderr",
     "output_type": "stream",
     "text": [
      "/tmp/ipykernel_26419/1782889505.py:49: RuntimeWarning: Mean of empty slice\n",
      "  corrected_array = np.nanmean(np.stack([corrected_array, corrected_tile]), axis=0)\n"
     ]
    },
    {
     "name": "stdout",
     "output_type": "stream",
     "text": [
      "column 8\n",
      "row 0\n",
      "tile extent x: 5600, 7000, y: 0, 1400\n"
     ]
    },
    {
     "name": "stderr",
     "output_type": "stream",
     "text": [
      "/tmp/ipykernel_26419/1782889505.py:49: RuntimeWarning: Mean of empty slice\n",
      "  corrected_array = np.nanmean(np.stack([corrected_array, corrected_tile]), axis=0)\n"
     ]
    },
    {
     "name": "stdout",
     "output_type": "stream",
     "text": [
      "row 1\n",
      "tile extent x: 5600, 7000, y: 700, 2100\n"
     ]
    },
    {
     "name": "stderr",
     "output_type": "stream",
     "text": [
      "/tmp/ipykernel_26419/1782889505.py:49: RuntimeWarning: Mean of empty slice\n",
      "  corrected_array = np.nanmean(np.stack([corrected_array, corrected_tile]), axis=0)\n"
     ]
    },
    {
     "name": "stdout",
     "output_type": "stream",
     "text": [
      "row 2\n",
      "tile extent x: 5600, 7000, y: 1400, 2800\n"
     ]
    },
    {
     "name": "stderr",
     "output_type": "stream",
     "text": [
      "/tmp/ipykernel_26419/1782889505.py:49: RuntimeWarning: Mean of empty slice\n",
      "  corrected_array = np.nanmean(np.stack([corrected_array, corrected_tile]), axis=0)\n"
     ]
    },
    {
     "name": "stdout",
     "output_type": "stream",
     "text": [
      "row 3\n",
      "tile extent x: 5600, 7000, y: 2100, 3500\n"
     ]
    },
    {
     "name": "stderr",
     "output_type": "stream",
     "text": [
      "/tmp/ipykernel_26419/1782889505.py:49: RuntimeWarning: Mean of empty slice\n",
      "  corrected_array = np.nanmean(np.stack([corrected_array, corrected_tile]), axis=0)\n"
     ]
    },
    {
     "name": "stdout",
     "output_type": "stream",
     "text": [
      "row 4\n",
      "tile extent x: 5600, 7000, y: 2800, 4200\n"
     ]
    },
    {
     "name": "stderr",
     "output_type": "stream",
     "text": [
      "/tmp/ipykernel_26419/1782889505.py:49: RuntimeWarning: Mean of empty slice\n",
      "  corrected_array = np.nanmean(np.stack([corrected_array, corrected_tile]), axis=0)\n"
     ]
    },
    {
     "name": "stdout",
     "output_type": "stream",
     "text": [
      "row 5\n",
      "tile extent x: 5600, 7000, y: 3500, 4900\n"
     ]
    },
    {
     "name": "stderr",
     "output_type": "stream",
     "text": [
      "/tmp/ipykernel_26419/1782889505.py:49: RuntimeWarning: Mean of empty slice\n",
      "  corrected_array = np.nanmean(np.stack([corrected_array, corrected_tile]), axis=0)\n"
     ]
    },
    {
     "name": "stdout",
     "output_type": "stream",
     "text": [
      "row 6\n",
      "tile extent x: 4900, 7000, y: 3500, 5600\n"
     ]
    },
    {
     "name": "stderr",
     "output_type": "stream",
     "text": [
      "/tmp/ipykernel_26419/1782889505.py:49: RuntimeWarning: Mean of empty slice\n",
      "  corrected_array = np.nanmean(np.stack([corrected_array, corrected_tile]), axis=0)\n"
     ]
    },
    {
     "name": "stdout",
     "output_type": "stream",
     "text": [
      "column 9\n",
      "row 0\n",
      "tile extent x: 6300, 7700, y: 0, 1400\n"
     ]
    },
    {
     "name": "stderr",
     "output_type": "stream",
     "text": [
      "/tmp/ipykernel_26419/1782889505.py:49: RuntimeWarning: Mean of empty slice\n",
      "  corrected_array = np.nanmean(np.stack([corrected_array, corrected_tile]), axis=0)\n"
     ]
    },
    {
     "name": "stdout",
     "output_type": "stream",
     "text": [
      "row 1\n",
      "tile extent x: 6300, 7700, y: 700, 2100\n"
     ]
    },
    {
     "name": "stderr",
     "output_type": "stream",
     "text": [
      "/tmp/ipykernel_26419/1782889505.py:49: RuntimeWarning: Mean of empty slice\n",
      "  corrected_array = np.nanmean(np.stack([corrected_array, corrected_tile]), axis=0)\n"
     ]
    },
    {
     "name": "stdout",
     "output_type": "stream",
     "text": [
      "row 2\n",
      "tile extent x: 6300, 7700, y: 1400, 2800\n"
     ]
    },
    {
     "name": "stderr",
     "output_type": "stream",
     "text": [
      "/tmp/ipykernel_26419/1782889505.py:49: RuntimeWarning: Mean of empty slice\n",
      "  corrected_array = np.nanmean(np.stack([corrected_array, corrected_tile]), axis=0)\n"
     ]
    },
    {
     "name": "stdout",
     "output_type": "stream",
     "text": [
      "row 3\n",
      "tile extent x: 6300, 7700, y: 2100, 3500\n"
     ]
    },
    {
     "name": "stderr",
     "output_type": "stream",
     "text": [
      "/tmp/ipykernel_26419/1782889505.py:49: RuntimeWarning: Mean of empty slice\n",
      "  corrected_array = np.nanmean(np.stack([corrected_array, corrected_tile]), axis=0)\n"
     ]
    },
    {
     "name": "stdout",
     "output_type": "stream",
     "text": [
      "row 4\n",
      "tile extent x: 6300, 7700, y: 2800, 4200\n"
     ]
    },
    {
     "name": "stderr",
     "output_type": "stream",
     "text": [
      "/tmp/ipykernel_26419/1782889505.py:49: RuntimeWarning: Mean of empty slice\n",
      "  corrected_array = np.nanmean(np.stack([corrected_array, corrected_tile]), axis=0)\n"
     ]
    },
    {
     "name": "stdout",
     "output_type": "stream",
     "text": [
      "row 5\n",
      "tile extent x: 6300, 7700, y: 3500, 4900\n"
     ]
    },
    {
     "name": "stderr",
     "output_type": "stream",
     "text": [
      "/tmp/ipykernel_26419/1782889505.py:49: RuntimeWarning: Mean of empty slice\n",
      "  corrected_array = np.nanmean(np.stack([corrected_array, corrected_tile]), axis=0)\n"
     ]
    },
    {
     "name": "stdout",
     "output_type": "stream",
     "text": [
      "row 6\n",
      "column 10\n",
      "row 0\n",
      "tile extent x: 7000, 8400, y: 0, 1400\n"
     ]
    },
    {
     "name": "stderr",
     "output_type": "stream",
     "text": [
      "/tmp/ipykernel_26419/1782889505.py:49: RuntimeWarning: Mean of empty slice\n",
      "  corrected_array = np.nanmean(np.stack([corrected_array, corrected_tile]), axis=0)\n"
     ]
    },
    {
     "name": "stdout",
     "output_type": "stream",
     "text": [
      "row 1\n",
      "tile extent x: 7000, 8400, y: 700, 2100\n"
     ]
    },
    {
     "name": "stderr",
     "output_type": "stream",
     "text": [
      "/tmp/ipykernel_26419/1782889505.py:49: RuntimeWarning: Mean of empty slice\n",
      "  corrected_array = np.nanmean(np.stack([corrected_array, corrected_tile]), axis=0)\n"
     ]
    },
    {
     "name": "stdout",
     "output_type": "stream",
     "text": [
      "row 2\n",
      "tile extent x: 7000, 8400, y: 1400, 2800\n"
     ]
    },
    {
     "name": "stderr",
     "output_type": "stream",
     "text": [
      "/tmp/ipykernel_26419/1782889505.py:49: RuntimeWarning: Mean of empty slice\n",
      "  corrected_array = np.nanmean(np.stack([corrected_array, corrected_tile]), axis=0)\n"
     ]
    },
    {
     "name": "stdout",
     "output_type": "stream",
     "text": [
      "row 3\n",
      "tile extent x: 7000, 8400, y: 2100, 3500\n"
     ]
    },
    {
     "name": "stderr",
     "output_type": "stream",
     "text": [
      "/tmp/ipykernel_26419/1782889505.py:49: RuntimeWarning: Mean of empty slice\n",
      "  corrected_array = np.nanmean(np.stack([corrected_array, corrected_tile]), axis=0)\n"
     ]
    },
    {
     "name": "stdout",
     "output_type": "stream",
     "text": [
      "row 4\n",
      "tile extent x: 7000, 8400, y: 2800, 4200\n"
     ]
    },
    {
     "name": "stderr",
     "output_type": "stream",
     "text": [
      "/tmp/ipykernel_26419/1782889505.py:49: RuntimeWarning: Mean of empty slice\n",
      "  corrected_array = np.nanmean(np.stack([corrected_array, corrected_tile]), axis=0)\n"
     ]
    },
    {
     "name": "stdout",
     "output_type": "stream",
     "text": [
      "row 5\n",
      "tile extent x: 7000, 8400, y: 3500, 4900\n"
     ]
    },
    {
     "name": "stderr",
     "output_type": "stream",
     "text": [
      "/tmp/ipykernel_26419/1782889505.py:49: RuntimeWarning: Mean of empty slice\n",
      "  corrected_array = np.nanmean(np.stack([corrected_array, corrected_tile]), axis=0)\n"
     ]
    },
    {
     "name": "stdout",
     "output_type": "stream",
     "text": [
      "row 6\n",
      "column 11\n",
      "row 0\n",
      "tile extent x: 7700, 9100, y: 0, 1400\n"
     ]
    },
    {
     "name": "stderr",
     "output_type": "stream",
     "text": [
      "/tmp/ipykernel_26419/1782889505.py:49: RuntimeWarning: Mean of empty slice\n",
      "  corrected_array = np.nanmean(np.stack([corrected_array, corrected_tile]), axis=0)\n"
     ]
    },
    {
     "name": "stdout",
     "output_type": "stream",
     "text": [
      "row 1\n",
      "tile extent x: 7700, 9100, y: 700, 2100\n"
     ]
    },
    {
     "name": "stderr",
     "output_type": "stream",
     "text": [
      "/tmp/ipykernel_26419/1782889505.py:49: RuntimeWarning: Mean of empty slice\n",
      "  corrected_array = np.nanmean(np.stack([corrected_array, corrected_tile]), axis=0)\n"
     ]
    },
    {
     "name": "stdout",
     "output_type": "stream",
     "text": [
      "row 2\n",
      "tile extent x: 7700, 9100, y: 1400, 2800\n"
     ]
    },
    {
     "name": "stderr",
     "output_type": "stream",
     "text": [
      "/tmp/ipykernel_26419/1782889505.py:49: RuntimeWarning: Mean of empty slice\n",
      "  corrected_array = np.nanmean(np.stack([corrected_array, corrected_tile]), axis=0)\n"
     ]
    },
    {
     "name": "stdout",
     "output_type": "stream",
     "text": [
      "row 3\n",
      "tile extent x: 7700, 9100, y: 2100, 3500\n"
     ]
    },
    {
     "name": "stderr",
     "output_type": "stream",
     "text": [
      "/tmp/ipykernel_26419/1782889505.py:49: RuntimeWarning: Mean of empty slice\n",
      "  corrected_array = np.nanmean(np.stack([corrected_array, corrected_tile]), axis=0)\n"
     ]
    },
    {
     "name": "stdout",
     "output_type": "stream",
     "text": [
      "row 4\n",
      "tile extent x: 7700, 9100, y: 2800, 4200\n"
     ]
    },
    {
     "name": "stderr",
     "output_type": "stream",
     "text": [
      "/tmp/ipykernel_26419/1782889505.py:49: RuntimeWarning: Mean of empty slice\n",
      "  corrected_array = np.nanmean(np.stack([corrected_array, corrected_tile]), axis=0)\n"
     ]
    },
    {
     "name": "stdout",
     "output_type": "stream",
     "text": [
      "row 5\n",
      "tile extent x: 7700, 9100, y: 3500, 4900\n"
     ]
    },
    {
     "name": "stderr",
     "output_type": "stream",
     "text": [
      "/tmp/ipykernel_26419/1782889505.py:49: RuntimeWarning: Mean of empty slice\n",
      "  corrected_array = np.nanmean(np.stack([corrected_array, corrected_tile]), axis=0)\n"
     ]
    },
    {
     "name": "stdout",
     "output_type": "stream",
     "text": [
      "row 6\n",
      "column 12\n",
      "row 0\n",
      "tile extent x: 7700, 9800, y: 0, 2100\n"
     ]
    },
    {
     "name": "stderr",
     "output_type": "stream",
     "text": [
      "/tmp/ipykernel_26419/1782889505.py:49: RuntimeWarning: Mean of empty slice\n",
      "  corrected_array = np.nanmean(np.stack([corrected_array, corrected_tile]), axis=0)\n"
     ]
    },
    {
     "name": "stdout",
     "output_type": "stream",
     "text": [
      "row 1\n",
      "tile extent x: 7700, 9800, y: 700, 2800\n"
     ]
    },
    {
     "name": "stderr",
     "output_type": "stream",
     "text": [
      "/tmp/ipykernel_26419/1782889505.py:49: RuntimeWarning: Mean of empty slice\n",
      "  corrected_array = np.nanmean(np.stack([corrected_array, corrected_tile]), axis=0)\n"
     ]
    },
    {
     "name": "stdout",
     "output_type": "stream",
     "text": [
      "row 2\n",
      "tile extent x: 7700, 9800, y: 700, 2800\n"
     ]
    },
    {
     "name": "stderr",
     "output_type": "stream",
     "text": [
      "/tmp/ipykernel_26419/1782889505.py:49: RuntimeWarning: Mean of empty slice\n",
      "  corrected_array = np.nanmean(np.stack([corrected_array, corrected_tile]), axis=0)\n"
     ]
    },
    {
     "name": "stdout",
     "output_type": "stream",
     "text": [
      "row 3\n",
      "tile extent x: 8400, 9800, y: 2100, 3500\n"
     ]
    },
    {
     "name": "stderr",
     "output_type": "stream",
     "text": [
      "/tmp/ipykernel_26419/1782889505.py:49: RuntimeWarning: Mean of empty slice\n",
      "  corrected_array = np.nanmean(np.stack([corrected_array, corrected_tile]), axis=0)\n"
     ]
    },
    {
     "name": "stdout",
     "output_type": "stream",
     "text": [
      "row 4\n",
      "tile extent x: 8400, 9800, y: 2800, 4200\n"
     ]
    },
    {
     "name": "stderr",
     "output_type": "stream",
     "text": [
      "/tmp/ipykernel_26419/1782889505.py:49: RuntimeWarning: Mean of empty slice\n",
      "  corrected_array = np.nanmean(np.stack([corrected_array, corrected_tile]), axis=0)\n"
     ]
    },
    {
     "name": "stdout",
     "output_type": "stream",
     "text": [
      "row 5\n",
      "tile extent x: 7700, 9800, y: 2800, 4900\n"
     ]
    },
    {
     "name": "stderr",
     "output_type": "stream",
     "text": [
      "/tmp/ipykernel_26419/1782889505.py:49: RuntimeWarning: Mean of empty slice\n",
      "  corrected_array = np.nanmean(np.stack([corrected_array, corrected_tile]), axis=0)\n"
     ]
    },
    {
     "name": "stdout",
     "output_type": "stream",
     "text": [
      "row 6\n",
      "working on swatch_27518\n",
      "column 0\n",
      "row 0\n",
      "tile extent x: 0, 1400, y: 0, 1400\n"
     ]
    },
    {
     "name": "stderr",
     "output_type": "stream",
     "text": [
      "/tmp/ipykernel_26419/1782889505.py:49: RuntimeWarning: Mean of empty slice\n",
      "  corrected_array = np.nanmean(np.stack([corrected_array, corrected_tile]), axis=0)\n"
     ]
    },
    {
     "name": "stdout",
     "output_type": "stream",
     "text": [
      "row 1\n",
      "tile extent x: 0, 1400, y: 700, 2100\n"
     ]
    },
    {
     "name": "stderr",
     "output_type": "stream",
     "text": [
      "/tmp/ipykernel_26419/1782889505.py:49: RuntimeWarning: Mean of empty slice\n",
      "  corrected_array = np.nanmean(np.stack([corrected_array, corrected_tile]), axis=0)\n"
     ]
    },
    {
     "name": "stdout",
     "output_type": "stream",
     "text": [
      "row 2\n",
      "tile extent x: 0, 1400, y: 1400, 2800\n"
     ]
    },
    {
     "name": "stderr",
     "output_type": "stream",
     "text": [
      "/tmp/ipykernel_26419/1782889505.py:49: RuntimeWarning: Mean of empty slice\n",
      "  corrected_array = np.nanmean(np.stack([corrected_array, corrected_tile]), axis=0)\n"
     ]
    },
    {
     "name": "stdout",
     "output_type": "stream",
     "text": [
      "row 3\n",
      "tile extent x: 0, 1400, y: 2100, 3500\n"
     ]
    },
    {
     "name": "stderr",
     "output_type": "stream",
     "text": [
      "/tmp/ipykernel_26419/1782889505.py:49: RuntimeWarning: Mean of empty slice\n",
      "  corrected_array = np.nanmean(np.stack([corrected_array, corrected_tile]), axis=0)\n"
     ]
    },
    {
     "name": "stdout",
     "output_type": "stream",
     "text": [
      "row 4\n",
      "tile extent x: 0, 1400, y: 2800, 4200\n"
     ]
    },
    {
     "name": "stderr",
     "output_type": "stream",
     "text": [
      "/tmp/ipykernel_26419/1782889505.py:49: RuntimeWarning: Mean of empty slice\n",
      "  corrected_array = np.nanmean(np.stack([corrected_array, corrected_tile]), axis=0)\n"
     ]
    },
    {
     "name": "stdout",
     "output_type": "stream",
     "text": [
      "row 5\n",
      "tile extent x: 0, 2100, y: 2800, 4900\n"
     ]
    },
    {
     "name": "stderr",
     "output_type": "stream",
     "text": [
      "/tmp/ipykernel_26419/1782889505.py:49: RuntimeWarning: Mean of empty slice\n",
      "  corrected_array = np.nanmean(np.stack([corrected_array, corrected_tile]), axis=0)\n"
     ]
    },
    {
     "name": "stdout",
     "output_type": "stream",
     "text": [
      "row 6\n",
      "column 1\n",
      "row 0\n",
      "tile extent x: 700, 2100, y: 0, 1400\n"
     ]
    },
    {
     "name": "stderr",
     "output_type": "stream",
     "text": [
      "/tmp/ipykernel_26419/1782889505.py:49: RuntimeWarning: Mean of empty slice\n",
      "  corrected_array = np.nanmean(np.stack([corrected_array, corrected_tile]), axis=0)\n"
     ]
    },
    {
     "name": "stdout",
     "output_type": "stream",
     "text": [
      "row 1\n",
      "tile extent x: 700, 2100, y: 700, 2100\n"
     ]
    },
    {
     "name": "stderr",
     "output_type": "stream",
     "text": [
      "/tmp/ipykernel_26419/1782889505.py:49: RuntimeWarning: Mean of empty slice\n",
      "  corrected_array = np.nanmean(np.stack([corrected_array, corrected_tile]), axis=0)\n"
     ]
    },
    {
     "name": "stdout",
     "output_type": "stream",
     "text": [
      "row 2\n",
      "tile extent x: 700, 2100, y: 1400, 2800\n"
     ]
    },
    {
     "name": "stderr",
     "output_type": "stream",
     "text": [
      "/tmp/ipykernel_26419/1782889505.py:49: RuntimeWarning: Mean of empty slice\n",
      "  corrected_array = np.nanmean(np.stack([corrected_array, corrected_tile]), axis=0)\n"
     ]
    },
    {
     "name": "stdout",
     "output_type": "stream",
     "text": [
      "row 3\n",
      "tile extent x: 700, 2100, y: 2100, 3500\n"
     ]
    },
    {
     "name": "stderr",
     "output_type": "stream",
     "text": [
      "/tmp/ipykernel_26419/1782889505.py:49: RuntimeWarning: Mean of empty slice\n",
      "  corrected_array = np.nanmean(np.stack([corrected_array, corrected_tile]), axis=0)\n"
     ]
    },
    {
     "name": "stdout",
     "output_type": "stream",
     "text": [
      "row 4\n",
      "tile extent x: 700, 2100, y: 2800, 4200\n"
     ]
    },
    {
     "name": "stderr",
     "output_type": "stream",
     "text": [
      "/tmp/ipykernel_26419/1782889505.py:49: RuntimeWarning: Mean of empty slice\n",
      "  corrected_array = np.nanmean(np.stack([corrected_array, corrected_tile]), axis=0)\n"
     ]
    },
    {
     "name": "stdout",
     "output_type": "stream",
     "text": [
      "row 5\n",
      "tile extent x: 700, 2100, y: 3500, 4900\n"
     ]
    },
    {
     "name": "stderr",
     "output_type": "stream",
     "text": [
      "/tmp/ipykernel_26419/1782889505.py:49: RuntimeWarning: Mean of empty slice\n",
      "  corrected_array = np.nanmean(np.stack([corrected_array, corrected_tile]), axis=0)\n"
     ]
    },
    {
     "name": "stdout",
     "output_type": "stream",
     "text": [
      "row 6\n",
      "column 2\n",
      "row 0\n",
      "tile extent x: 1400, 2800, y: 0, 1400\n"
     ]
    },
    {
     "name": "stderr",
     "output_type": "stream",
     "text": [
      "/tmp/ipykernel_26419/1782889505.py:49: RuntimeWarning: Mean of empty slice\n",
      "  corrected_array = np.nanmean(np.stack([corrected_array, corrected_tile]), axis=0)\n"
     ]
    },
    {
     "name": "stdout",
     "output_type": "stream",
     "text": [
      "row 1\n",
      "tile extent x: 1400, 2800, y: 700, 2100\n"
     ]
    },
    {
     "name": "stderr",
     "output_type": "stream",
     "text": [
      "/tmp/ipykernel_26419/1782889505.py:49: RuntimeWarning: Mean of empty slice\n",
      "  corrected_array = np.nanmean(np.stack([corrected_array, corrected_tile]), axis=0)\n"
     ]
    },
    {
     "name": "stdout",
     "output_type": "stream",
     "text": [
      "row 2\n",
      "tile extent x: 1400, 2800, y: 1400, 2800\n"
     ]
    },
    {
     "name": "stderr",
     "output_type": "stream",
     "text": [
      "/tmp/ipykernel_26419/1782889505.py:49: RuntimeWarning: Mean of empty slice\n",
      "  corrected_array = np.nanmean(np.stack([corrected_array, corrected_tile]), axis=0)\n"
     ]
    },
    {
     "name": "stdout",
     "output_type": "stream",
     "text": [
      "row 3\n",
      "tile extent x: 1400, 2800, y: 2100, 3500\n"
     ]
    },
    {
     "name": "stderr",
     "output_type": "stream",
     "text": [
      "/tmp/ipykernel_26419/1782889505.py:49: RuntimeWarning: Mean of empty slice\n",
      "  corrected_array = np.nanmean(np.stack([corrected_array, corrected_tile]), axis=0)\n"
     ]
    },
    {
     "name": "stdout",
     "output_type": "stream",
     "text": [
      "row 4\n",
      "tile extent x: 1400, 2800, y: 2800, 4200\n"
     ]
    },
    {
     "name": "stderr",
     "output_type": "stream",
     "text": [
      "/tmp/ipykernel_26419/1782889505.py:49: RuntimeWarning: Mean of empty slice\n",
      "  corrected_array = np.nanmean(np.stack([corrected_array, corrected_tile]), axis=0)\n"
     ]
    },
    {
     "name": "stdout",
     "output_type": "stream",
     "text": [
      "row 5\n",
      "tile extent x: 1400, 2800, y: 3500, 4900\n"
     ]
    },
    {
     "name": "stderr",
     "output_type": "stream",
     "text": [
      "/tmp/ipykernel_26419/1782889505.py:49: RuntimeWarning: Mean of empty slice\n",
      "  corrected_array = np.nanmean(np.stack([corrected_array, corrected_tile]), axis=0)\n"
     ]
    },
    {
     "name": "stdout",
     "output_type": "stream",
     "text": [
      "row 6\n",
      "column 3\n",
      "row 0\n",
      "tile extent x: 2100, 3500, y: 0, 1400\n"
     ]
    },
    {
     "name": "stderr",
     "output_type": "stream",
     "text": [
      "/tmp/ipykernel_26419/1782889505.py:49: RuntimeWarning: Mean of empty slice\n",
      "  corrected_array = np.nanmean(np.stack([corrected_array, corrected_tile]), axis=0)\n"
     ]
    },
    {
     "name": "stdout",
     "output_type": "stream",
     "text": [
      "row 1\n",
      "tile extent x: 2100, 3500, y: 700, 2100\n"
     ]
    },
    {
     "name": "stderr",
     "output_type": "stream",
     "text": [
      "/tmp/ipykernel_26419/1782889505.py:49: RuntimeWarning: Mean of empty slice\n",
      "  corrected_array = np.nanmean(np.stack([corrected_array, corrected_tile]), axis=0)\n"
     ]
    },
    {
     "name": "stdout",
     "output_type": "stream",
     "text": [
      "row 2\n",
      "tile extent x: 2100, 3500, y: 1400, 2800\n"
     ]
    },
    {
     "name": "stderr",
     "output_type": "stream",
     "text": [
      "/tmp/ipykernel_26419/1782889505.py:49: RuntimeWarning: Mean of empty slice\n",
      "  corrected_array = np.nanmean(np.stack([corrected_array, corrected_tile]), axis=0)\n"
     ]
    },
    {
     "name": "stdout",
     "output_type": "stream",
     "text": [
      "row 3\n",
      "tile extent x: 2100, 3500, y: 2100, 3500\n"
     ]
    },
    {
     "name": "stderr",
     "output_type": "stream",
     "text": [
      "/tmp/ipykernel_26419/1782889505.py:49: RuntimeWarning: Mean of empty slice\n",
      "  corrected_array = np.nanmean(np.stack([corrected_array, corrected_tile]), axis=0)\n"
     ]
    },
    {
     "name": "stdout",
     "output_type": "stream",
     "text": [
      "row 4\n",
      "tile extent x: 2100, 3500, y: 2800, 4200\n"
     ]
    },
    {
     "name": "stderr",
     "output_type": "stream",
     "text": [
      "/tmp/ipykernel_26419/1782889505.py:49: RuntimeWarning: Mean of empty slice\n",
      "  corrected_array = np.nanmean(np.stack([corrected_array, corrected_tile]), axis=0)\n"
     ]
    },
    {
     "name": "stdout",
     "output_type": "stream",
     "text": [
      "row 5\n",
      "tile extent x: 2100, 3500, y: 3500, 4900\n"
     ]
    },
    {
     "name": "stderr",
     "output_type": "stream",
     "text": [
      "/tmp/ipykernel_26419/1782889505.py:49: RuntimeWarning: Mean of empty slice\n",
      "  corrected_array = np.nanmean(np.stack([corrected_array, corrected_tile]), axis=0)\n"
     ]
    },
    {
     "name": "stdout",
     "output_type": "stream",
     "text": [
      "row 6\n",
      "column 4\n",
      "row 0\n",
      "tile extent x: 2800, 4200, y: 0, 1400\n"
     ]
    },
    {
     "name": "stderr",
     "output_type": "stream",
     "text": [
      "/tmp/ipykernel_26419/1782889505.py:49: RuntimeWarning: Mean of empty slice\n",
      "  corrected_array = np.nanmean(np.stack([corrected_array, corrected_tile]), axis=0)\n"
     ]
    },
    {
     "name": "stdout",
     "output_type": "stream",
     "text": [
      "row 1\n",
      "tile extent x: 2800, 4200, y: 700, 2100\n"
     ]
    },
    {
     "name": "stderr",
     "output_type": "stream",
     "text": [
      "/tmp/ipykernel_26419/1782889505.py:49: RuntimeWarning: Mean of empty slice\n",
      "  corrected_array = np.nanmean(np.stack([corrected_array, corrected_tile]), axis=0)\n"
     ]
    },
    {
     "name": "stdout",
     "output_type": "stream",
     "text": [
      "row 2\n",
      "tile extent x: 2800, 4200, y: 1400, 2800\n"
     ]
    },
    {
     "name": "stderr",
     "output_type": "stream",
     "text": [
      "/tmp/ipykernel_26419/1782889505.py:49: RuntimeWarning: Mean of empty slice\n",
      "  corrected_array = np.nanmean(np.stack([corrected_array, corrected_tile]), axis=0)\n"
     ]
    },
    {
     "name": "stdout",
     "output_type": "stream",
     "text": [
      "row 3\n",
      "tile extent x: 2800, 4200, y: 2100, 3500\n"
     ]
    },
    {
     "name": "stderr",
     "output_type": "stream",
     "text": [
      "/tmp/ipykernel_26419/1782889505.py:49: RuntimeWarning: Mean of empty slice\n",
      "  corrected_array = np.nanmean(np.stack([corrected_array, corrected_tile]), axis=0)\n"
     ]
    },
    {
     "name": "stdout",
     "output_type": "stream",
     "text": [
      "row 4\n",
      "tile extent x: 2800, 4200, y: 2800, 4200\n"
     ]
    },
    {
     "name": "stderr",
     "output_type": "stream",
     "text": [
      "/tmp/ipykernel_26419/1782889505.py:49: RuntimeWarning: Mean of empty slice\n",
      "  corrected_array = np.nanmean(np.stack([corrected_array, corrected_tile]), axis=0)\n"
     ]
    },
    {
     "name": "stdout",
     "output_type": "stream",
     "text": [
      "row 5\n",
      "tile extent x: 2800, 4200, y: 3500, 4900\n"
     ]
    },
    {
     "name": "stderr",
     "output_type": "stream",
     "text": [
      "/tmp/ipykernel_26419/1782889505.py:49: RuntimeWarning: Mean of empty slice\n",
      "  corrected_array = np.nanmean(np.stack([corrected_array, corrected_tile]), axis=0)\n"
     ]
    },
    {
     "name": "stdout",
     "output_type": "stream",
     "text": [
      "row 6\n",
      "tile extent x: 2800, 4900, y: 3500, 5600\n"
     ]
    },
    {
     "name": "stderr",
     "output_type": "stream",
     "text": [
      "/tmp/ipykernel_26419/1782889505.py:49: RuntimeWarning: Mean of empty slice\n",
      "  corrected_array = np.nanmean(np.stack([corrected_array, corrected_tile]), axis=0)\n"
     ]
    },
    {
     "name": "stdout",
     "output_type": "stream",
     "text": [
      "column 5\n",
      "row 0\n",
      "tile extent x: 3500, 4900, y: 0, 1400\n"
     ]
    },
    {
     "name": "stderr",
     "output_type": "stream",
     "text": [
      "/tmp/ipykernel_26419/1782889505.py:49: RuntimeWarning: Mean of empty slice\n",
      "  corrected_array = np.nanmean(np.stack([corrected_array, corrected_tile]), axis=0)\n"
     ]
    },
    {
     "name": "stdout",
     "output_type": "stream",
     "text": [
      "row 1\n",
      "tile extent x: 3500, 4900, y: 700, 2100\n"
     ]
    },
    {
     "name": "stderr",
     "output_type": "stream",
     "text": [
      "/tmp/ipykernel_26419/1782889505.py:49: RuntimeWarning: Mean of empty slice\n",
      "  corrected_array = np.nanmean(np.stack([corrected_array, corrected_tile]), axis=0)\n"
     ]
    },
    {
     "name": "stdout",
     "output_type": "stream",
     "text": [
      "row 2\n",
      "tile extent x: 3500, 4900, y: 1400, 2800\n"
     ]
    },
    {
     "name": "stderr",
     "output_type": "stream",
     "text": [
      "/tmp/ipykernel_26419/1782889505.py:49: RuntimeWarning: Mean of empty slice\n",
      "  corrected_array = np.nanmean(np.stack([corrected_array, corrected_tile]), axis=0)\n"
     ]
    },
    {
     "name": "stdout",
     "output_type": "stream",
     "text": [
      "row 3\n",
      "tile extent x: 3500, 4900, y: 2100, 3500\n"
     ]
    },
    {
     "name": "stderr",
     "output_type": "stream",
     "text": [
      "/tmp/ipykernel_26419/1782889505.py:49: RuntimeWarning: Mean of empty slice\n",
      "  corrected_array = np.nanmean(np.stack([corrected_array, corrected_tile]), axis=0)\n"
     ]
    },
    {
     "name": "stdout",
     "output_type": "stream",
     "text": [
      "row 4\n",
      "tile extent x: 3500, 4900, y: 2800, 4200\n"
     ]
    },
    {
     "name": "stderr",
     "output_type": "stream",
     "text": [
      "/tmp/ipykernel_26419/1782889505.py:49: RuntimeWarning: Mean of empty slice\n",
      "  corrected_array = np.nanmean(np.stack([corrected_array, corrected_tile]), axis=0)\n"
     ]
    },
    {
     "name": "stdout",
     "output_type": "stream",
     "text": [
      "row 5\n",
      "tile extent x: 3500, 4900, y: 3500, 4900\n"
     ]
    },
    {
     "name": "stderr",
     "output_type": "stream",
     "text": [
      "/tmp/ipykernel_26419/1782889505.py:49: RuntimeWarning: Mean of empty slice\n",
      "  corrected_array = np.nanmean(np.stack([corrected_array, corrected_tile]), axis=0)\n"
     ]
    },
    {
     "name": "stdout",
     "output_type": "stream",
     "text": [
      "row 6\n",
      "tile extent x: 2800, 4900, y: 3500, 5600\n"
     ]
    },
    {
     "name": "stderr",
     "output_type": "stream",
     "text": [
      "/tmp/ipykernel_26419/1782889505.py:49: RuntimeWarning: Mean of empty slice\n",
      "  corrected_array = np.nanmean(np.stack([corrected_array, corrected_tile]), axis=0)\n"
     ]
    },
    {
     "name": "stdout",
     "output_type": "stream",
     "text": [
      "column 6\n",
      "row 0\n",
      "tile extent x: 4200, 5600, y: 0, 1400\n"
     ]
    },
    {
     "name": "stderr",
     "output_type": "stream",
     "text": [
      "/tmp/ipykernel_26419/1782889505.py:49: RuntimeWarning: Mean of empty slice\n",
      "  corrected_array = np.nanmean(np.stack([corrected_array, corrected_tile]), axis=0)\n"
     ]
    },
    {
     "name": "stdout",
     "output_type": "stream",
     "text": [
      "row 1\n",
      "tile extent x: 4200, 5600, y: 700, 2100\n"
     ]
    },
    {
     "name": "stderr",
     "output_type": "stream",
     "text": [
      "/tmp/ipykernel_26419/1782889505.py:49: RuntimeWarning: Mean of empty slice\n",
      "  corrected_array = np.nanmean(np.stack([corrected_array, corrected_tile]), axis=0)\n"
     ]
    },
    {
     "name": "stdout",
     "output_type": "stream",
     "text": [
      "row 2\n",
      "tile extent x: 4200, 5600, y: 1400, 2800\n"
     ]
    },
    {
     "name": "stderr",
     "output_type": "stream",
     "text": [
      "/tmp/ipykernel_26419/1782889505.py:49: RuntimeWarning: Mean of empty slice\n",
      "  corrected_array = np.nanmean(np.stack([corrected_array, corrected_tile]), axis=0)\n"
     ]
    },
    {
     "name": "stdout",
     "output_type": "stream",
     "text": [
      "row 3\n",
      "tile extent x: 4200, 5600, y: 2100, 3500\n"
     ]
    },
    {
     "name": "stderr",
     "output_type": "stream",
     "text": [
      "/tmp/ipykernel_26419/1782889505.py:49: RuntimeWarning: Mean of empty slice\n",
      "  corrected_array = np.nanmean(np.stack([corrected_array, corrected_tile]), axis=0)\n"
     ]
    },
    {
     "name": "stdout",
     "output_type": "stream",
     "text": [
      "row 4\n",
      "tile extent x: 4200, 5600, y: 2800, 4200\n"
     ]
    },
    {
     "name": "stderr",
     "output_type": "stream",
     "text": [
      "/tmp/ipykernel_26419/1782889505.py:49: RuntimeWarning: Mean of empty slice\n",
      "  corrected_array = np.nanmean(np.stack([corrected_array, corrected_tile]), axis=0)\n"
     ]
    },
    {
     "name": "stdout",
     "output_type": "stream",
     "text": [
      "row 5\n",
      "tile extent x: 4200, 5600, y: 3500, 4900\n"
     ]
    },
    {
     "name": "stderr",
     "output_type": "stream",
     "text": [
      "/tmp/ipykernel_26419/1782889505.py:49: RuntimeWarning: Mean of empty slice\n",
      "  corrected_array = np.nanmean(np.stack([corrected_array, corrected_tile]), axis=0)\n"
     ]
    },
    {
     "name": "stdout",
     "output_type": "stream",
     "text": [
      "row 6\n",
      "tile extent x: 3500, 5600, y: 3500, 5600\n"
     ]
    },
    {
     "name": "stderr",
     "output_type": "stream",
     "text": [
      "/tmp/ipykernel_26419/1782889505.py:49: RuntimeWarning: Mean of empty slice\n",
      "  corrected_array = np.nanmean(np.stack([corrected_array, corrected_tile]), axis=0)\n"
     ]
    },
    {
     "name": "stdout",
     "output_type": "stream",
     "text": [
      "column 7\n",
      "row 0\n",
      "tile extent x: 4900, 6300, y: 0, 1400\n"
     ]
    },
    {
     "name": "stderr",
     "output_type": "stream",
     "text": [
      "/tmp/ipykernel_26419/1782889505.py:49: RuntimeWarning: Mean of empty slice\n",
      "  corrected_array = np.nanmean(np.stack([corrected_array, corrected_tile]), axis=0)\n"
     ]
    },
    {
     "name": "stdout",
     "output_type": "stream",
     "text": [
      "row 1\n",
      "tile extent x: 4900, 6300, y: 700, 2100\n"
     ]
    },
    {
     "name": "stderr",
     "output_type": "stream",
     "text": [
      "/tmp/ipykernel_26419/1782889505.py:49: RuntimeWarning: Mean of empty slice\n",
      "  corrected_array = np.nanmean(np.stack([corrected_array, corrected_tile]), axis=0)\n"
     ]
    },
    {
     "name": "stdout",
     "output_type": "stream",
     "text": [
      "row 2\n",
      "tile extent x: 4900, 6300, y: 1400, 2800\n"
     ]
    },
    {
     "name": "stderr",
     "output_type": "stream",
     "text": [
      "/tmp/ipykernel_26419/1782889505.py:49: RuntimeWarning: Mean of empty slice\n",
      "  corrected_array = np.nanmean(np.stack([corrected_array, corrected_tile]), axis=0)\n"
     ]
    },
    {
     "name": "stdout",
     "output_type": "stream",
     "text": [
      "row 3\n",
      "tile extent x: 4900, 6300, y: 2100, 3500\n"
     ]
    },
    {
     "name": "stderr",
     "output_type": "stream",
     "text": [
      "/tmp/ipykernel_26419/1782889505.py:49: RuntimeWarning: Mean of empty slice\n",
      "  corrected_array = np.nanmean(np.stack([corrected_array, corrected_tile]), axis=0)\n"
     ]
    },
    {
     "name": "stdout",
     "output_type": "stream",
     "text": [
      "row 4\n",
      "tile extent x: 4900, 6300, y: 2800, 4200\n"
     ]
    },
    {
     "name": "stderr",
     "output_type": "stream",
     "text": [
      "/tmp/ipykernel_26419/1782889505.py:49: RuntimeWarning: Mean of empty slice\n",
      "  corrected_array = np.nanmean(np.stack([corrected_array, corrected_tile]), axis=0)\n"
     ]
    },
    {
     "name": "stdout",
     "output_type": "stream",
     "text": [
      "row 5\n",
      "tile extent x: 4900, 6300, y: 3500, 4900\n"
     ]
    },
    {
     "name": "stderr",
     "output_type": "stream",
     "text": [
      "/tmp/ipykernel_26419/1782889505.py:49: RuntimeWarning: Mean of empty slice\n",
      "  corrected_array = np.nanmean(np.stack([corrected_array, corrected_tile]), axis=0)\n"
     ]
    },
    {
     "name": "stdout",
     "output_type": "stream",
     "text": [
      "row 6\n",
      "tile extent x: 4200, 6300, y: 3500, 5600\n"
     ]
    },
    {
     "name": "stderr",
     "output_type": "stream",
     "text": [
      "/tmp/ipykernel_26419/1782889505.py:49: RuntimeWarning: Mean of empty slice\n",
      "  corrected_array = np.nanmean(np.stack([corrected_array, corrected_tile]), axis=0)\n"
     ]
    },
    {
     "name": "stdout",
     "output_type": "stream",
     "text": [
      "column 8\n",
      "row 0\n",
      "tile extent x: 5600, 7000, y: 0, 1400\n"
     ]
    },
    {
     "name": "stderr",
     "output_type": "stream",
     "text": [
      "/tmp/ipykernel_26419/1782889505.py:49: RuntimeWarning: Mean of empty slice\n",
      "  corrected_array = np.nanmean(np.stack([corrected_array, corrected_tile]), axis=0)\n"
     ]
    },
    {
     "name": "stdout",
     "output_type": "stream",
     "text": [
      "row 1\n",
      "tile extent x: 5600, 7000, y: 700, 2100\n"
     ]
    },
    {
     "name": "stderr",
     "output_type": "stream",
     "text": [
      "/tmp/ipykernel_26419/1782889505.py:49: RuntimeWarning: Mean of empty slice\n",
      "  corrected_array = np.nanmean(np.stack([corrected_array, corrected_tile]), axis=0)\n"
     ]
    },
    {
     "name": "stdout",
     "output_type": "stream",
     "text": [
      "row 2\n",
      "tile extent x: 5600, 7000, y: 1400, 2800\n"
     ]
    },
    {
     "name": "stderr",
     "output_type": "stream",
     "text": [
      "/tmp/ipykernel_26419/1782889505.py:49: RuntimeWarning: Mean of empty slice\n",
      "  corrected_array = np.nanmean(np.stack([corrected_array, corrected_tile]), axis=0)\n"
     ]
    },
    {
     "name": "stdout",
     "output_type": "stream",
     "text": [
      "row 3\n",
      "tile extent x: 5600, 7000, y: 2100, 3500\n"
     ]
    },
    {
     "name": "stderr",
     "output_type": "stream",
     "text": [
      "/tmp/ipykernel_26419/1782889505.py:49: RuntimeWarning: Mean of empty slice\n",
      "  corrected_array = np.nanmean(np.stack([corrected_array, corrected_tile]), axis=0)\n"
     ]
    },
    {
     "name": "stdout",
     "output_type": "stream",
     "text": [
      "row 4\n",
      "tile extent x: 5600, 7000, y: 2800, 4200\n"
     ]
    },
    {
     "name": "stderr",
     "output_type": "stream",
     "text": [
      "/tmp/ipykernel_26419/1782889505.py:49: RuntimeWarning: Mean of empty slice\n",
      "  corrected_array = np.nanmean(np.stack([corrected_array, corrected_tile]), axis=0)\n"
     ]
    },
    {
     "name": "stdout",
     "output_type": "stream",
     "text": [
      "row 5\n",
      "tile extent x: 5600, 7000, y: 3500, 4900\n"
     ]
    },
    {
     "name": "stderr",
     "output_type": "stream",
     "text": [
      "/tmp/ipykernel_26419/1782889505.py:49: RuntimeWarning: Mean of empty slice\n",
      "  corrected_array = np.nanmean(np.stack([corrected_array, corrected_tile]), axis=0)\n"
     ]
    },
    {
     "name": "stdout",
     "output_type": "stream",
     "text": [
      "row 6\n",
      "tile extent x: 4900, 7000, y: 3500, 5600\n"
     ]
    },
    {
     "name": "stderr",
     "output_type": "stream",
     "text": [
      "/tmp/ipykernel_26419/1782889505.py:49: RuntimeWarning: Mean of empty slice\n",
      "  corrected_array = np.nanmean(np.stack([corrected_array, corrected_tile]), axis=0)\n"
     ]
    },
    {
     "name": "stdout",
     "output_type": "stream",
     "text": [
      "column 9\n",
      "row 0\n",
      "tile extent x: 6300, 7700, y: 0, 1400\n"
     ]
    },
    {
     "name": "stderr",
     "output_type": "stream",
     "text": [
      "/tmp/ipykernel_26419/1782889505.py:49: RuntimeWarning: Mean of empty slice\n",
      "  corrected_array = np.nanmean(np.stack([corrected_array, corrected_tile]), axis=0)\n"
     ]
    },
    {
     "name": "stdout",
     "output_type": "stream",
     "text": [
      "row 1\n",
      "tile extent x: 6300, 7700, y: 700, 2100\n"
     ]
    },
    {
     "name": "stderr",
     "output_type": "stream",
     "text": [
      "/tmp/ipykernel_26419/1782889505.py:49: RuntimeWarning: Mean of empty slice\n",
      "  corrected_array = np.nanmean(np.stack([corrected_array, corrected_tile]), axis=0)\n"
     ]
    },
    {
     "name": "stdout",
     "output_type": "stream",
     "text": [
      "row 2\n",
      "tile extent x: 6300, 7700, y: 1400, 2800\n"
     ]
    },
    {
     "name": "stderr",
     "output_type": "stream",
     "text": [
      "/tmp/ipykernel_26419/1782889505.py:49: RuntimeWarning: Mean of empty slice\n",
      "  corrected_array = np.nanmean(np.stack([corrected_array, corrected_tile]), axis=0)\n"
     ]
    },
    {
     "name": "stdout",
     "output_type": "stream",
     "text": [
      "row 3\n",
      "tile extent x: 6300, 7700, y: 2100, 3500\n"
     ]
    },
    {
     "name": "stderr",
     "output_type": "stream",
     "text": [
      "/tmp/ipykernel_26419/1782889505.py:49: RuntimeWarning: Mean of empty slice\n",
      "  corrected_array = np.nanmean(np.stack([corrected_array, corrected_tile]), axis=0)\n"
     ]
    },
    {
     "name": "stdout",
     "output_type": "stream",
     "text": [
      "row 4\n",
      "tile extent x: 6300, 7700, y: 2800, 4200\n"
     ]
    },
    {
     "name": "stderr",
     "output_type": "stream",
     "text": [
      "/tmp/ipykernel_26419/1782889505.py:49: RuntimeWarning: Mean of empty slice\n",
      "  corrected_array = np.nanmean(np.stack([corrected_array, corrected_tile]), axis=0)\n"
     ]
    },
    {
     "name": "stdout",
     "output_type": "stream",
     "text": [
      "row 5\n",
      "tile extent x: 6300, 7700, y: 3500, 4900\n"
     ]
    },
    {
     "name": "stderr",
     "output_type": "stream",
     "text": [
      "/tmp/ipykernel_26419/1782889505.py:49: RuntimeWarning: Mean of empty slice\n",
      "  corrected_array = np.nanmean(np.stack([corrected_array, corrected_tile]), axis=0)\n"
     ]
    },
    {
     "name": "stdout",
     "output_type": "stream",
     "text": [
      "row 6\n",
      "tile extent x: 5600, 7700, y: 3500, 5600\n"
     ]
    },
    {
     "name": "stderr",
     "output_type": "stream",
     "text": [
      "/tmp/ipykernel_26419/1782889505.py:49: RuntimeWarning: Mean of empty slice\n",
      "  corrected_array = np.nanmean(np.stack([corrected_array, corrected_tile]), axis=0)\n"
     ]
    },
    {
     "name": "stdout",
     "output_type": "stream",
     "text": [
      "column 10\n",
      "row 0\n",
      "tile extent x: 7000, 8400, y: 0, 1400\n"
     ]
    },
    {
     "name": "stderr",
     "output_type": "stream",
     "text": [
      "/tmp/ipykernel_26419/1782889505.py:49: RuntimeWarning: Mean of empty slice\n",
      "  corrected_array = np.nanmean(np.stack([corrected_array, corrected_tile]), axis=0)\n"
     ]
    },
    {
     "name": "stdout",
     "output_type": "stream",
     "text": [
      "row 1\n",
      "tile extent x: 7000, 8400, y: 700, 2100\n"
     ]
    },
    {
     "name": "stderr",
     "output_type": "stream",
     "text": [
      "/tmp/ipykernel_26419/1782889505.py:49: RuntimeWarning: Mean of empty slice\n",
      "  corrected_array = np.nanmean(np.stack([corrected_array, corrected_tile]), axis=0)\n"
     ]
    },
    {
     "name": "stdout",
     "output_type": "stream",
     "text": [
      "row 2\n",
      "tile extent x: 7000, 8400, y: 1400, 2800\n"
     ]
    },
    {
     "name": "stderr",
     "output_type": "stream",
     "text": [
      "/tmp/ipykernel_26419/1782889505.py:49: RuntimeWarning: Mean of empty slice\n",
      "  corrected_array = np.nanmean(np.stack([corrected_array, corrected_tile]), axis=0)\n"
     ]
    },
    {
     "name": "stdout",
     "output_type": "stream",
     "text": [
      "row 3\n",
      "tile extent x: 7000, 8400, y: 2100, 3500\n"
     ]
    },
    {
     "name": "stderr",
     "output_type": "stream",
     "text": [
      "/tmp/ipykernel_26419/3363805308.py:101: RankWarning: Polyfit may be poorly conditioned\n",
      "  fit = np.polyfit(bin_centers, bin_medians, order, w=1/bin_nmads)\n",
      "/tmp/ipykernel_26419/1782889505.py:49: RuntimeWarning: Mean of empty slice\n",
      "  corrected_array = np.nanmean(np.stack([corrected_array, corrected_tile]), axis=0)\n"
     ]
    },
    {
     "name": "stdout",
     "output_type": "stream",
     "text": [
      "row 4\n",
      "tile extent x: 7000, 8400, y: 2800, 4200\n"
     ]
    },
    {
     "name": "stderr",
     "output_type": "stream",
     "text": [
      "/tmp/ipykernel_26419/1782889505.py:49: RuntimeWarning: Mean of empty slice\n",
      "  corrected_array = np.nanmean(np.stack([corrected_array, corrected_tile]), axis=0)\n"
     ]
    },
    {
     "name": "stdout",
     "output_type": "stream",
     "text": [
      "row 5\n",
      "tile extent x: 7000, 8400, y: 3500, 4900\n"
     ]
    },
    {
     "name": "stderr",
     "output_type": "stream",
     "text": [
      "/tmp/ipykernel_26419/1782889505.py:49: RuntimeWarning: Mean of empty slice\n",
      "  corrected_array = np.nanmean(np.stack([corrected_array, corrected_tile]), axis=0)\n"
     ]
    },
    {
     "name": "stdout",
     "output_type": "stream",
     "text": [
      "row 6\n",
      "tile extent x: 7000, 8400, y: 4200, 5600\n"
     ]
    },
    {
     "name": "stderr",
     "output_type": "stream",
     "text": [
      "/tmp/ipykernel_26419/1782889505.py:49: RuntimeWarning: Mean of empty slice\n",
      "  corrected_array = np.nanmean(np.stack([corrected_array, corrected_tile]), axis=0)\n"
     ]
    },
    {
     "name": "stdout",
     "output_type": "stream",
     "text": [
      "column 11\n",
      "row 0\n",
      "tile extent x: 7000, 9100, y: 0, 2100\n"
     ]
    },
    {
     "name": "stderr",
     "output_type": "stream",
     "text": [
      "/tmp/ipykernel_26419/1782889505.py:49: RuntimeWarning: Mean of empty slice\n",
      "  corrected_array = np.nanmean(np.stack([corrected_array, corrected_tile]), axis=0)\n"
     ]
    },
    {
     "name": "stdout",
     "output_type": "stream",
     "text": [
      "row 1\n",
      "tile extent x: 7700, 9100, y: 700, 2100\n"
     ]
    },
    {
     "name": "stderr",
     "output_type": "stream",
     "text": [
      "/tmp/ipykernel_26419/1782889505.py:49: RuntimeWarning: Mean of empty slice\n",
      "  corrected_array = np.nanmean(np.stack([corrected_array, corrected_tile]), axis=0)\n"
     ]
    },
    {
     "name": "stdout",
     "output_type": "stream",
     "text": [
      "row 2\n",
      "tile extent x: 7700, 9100, y: 1400, 2800\n"
     ]
    },
    {
     "name": "stderr",
     "output_type": "stream",
     "text": [
      "/tmp/ipykernel_26419/3363805308.py:101: RankWarning: Polyfit may be poorly conditioned\n",
      "  fit = np.polyfit(bin_centers, bin_medians, order, w=1/bin_nmads)\n",
      "/tmp/ipykernel_26419/1782889505.py:49: RuntimeWarning: Mean of empty slice\n",
      "  corrected_array = np.nanmean(np.stack([corrected_array, corrected_tile]), axis=0)\n"
     ]
    },
    {
     "name": "stdout",
     "output_type": "stream",
     "text": [
      "row 3\n",
      "tile extent x: 7700, 9100, y: 2100, 3500\n"
     ]
    },
    {
     "name": "stderr",
     "output_type": "stream",
     "text": [
      "/tmp/ipykernel_26419/3363805308.py:101: RankWarning: Polyfit may be poorly conditioned\n",
      "  fit = np.polyfit(bin_centers, bin_medians, order, w=1/bin_nmads)\n",
      "/tmp/ipykernel_26419/1782889505.py:49: RuntimeWarning: Mean of empty slice\n",
      "  corrected_array = np.nanmean(np.stack([corrected_array, corrected_tile]), axis=0)\n"
     ]
    },
    {
     "name": "stdout",
     "output_type": "stream",
     "text": [
      "row 4\n",
      "tile extent x: 7700, 9100, y: 2800, 4200\n"
     ]
    },
    {
     "name": "stderr",
     "output_type": "stream",
     "text": [
      "/tmp/ipykernel_26419/3363805308.py:101: RankWarning: Polyfit may be poorly conditioned\n",
      "  fit = np.polyfit(bin_centers, bin_medians, order, w=1/bin_nmads)\n",
      "/tmp/ipykernel_26419/1782889505.py:49: RuntimeWarning: Mean of empty slice\n",
      "  corrected_array = np.nanmean(np.stack([corrected_array, corrected_tile]), axis=0)\n"
     ]
    },
    {
     "name": "stdout",
     "output_type": "stream",
     "text": [
      "row 5\n",
      "tile extent x: 7700, 9100, y: 3500, 4900\n"
     ]
    },
    {
     "name": "stderr",
     "output_type": "stream",
     "text": [
      "/tmp/ipykernel_26419/3363805308.py:101: RankWarning: Polyfit may be poorly conditioned\n",
      "  fit = np.polyfit(bin_centers, bin_medians, order, w=1/bin_nmads)\n",
      "/tmp/ipykernel_26419/1782889505.py:49: RuntimeWarning: Mean of empty slice\n",
      "  corrected_array = np.nanmean(np.stack([corrected_array, corrected_tile]), axis=0)\n"
     ]
    },
    {
     "name": "stdout",
     "output_type": "stream",
     "text": [
      "row 6\n",
      "tile extent x: 7000, 9100, y: 3500, 5600\n"
     ]
    },
    {
     "name": "stderr",
     "output_type": "stream",
     "text": [
      "/tmp/ipykernel_26419/1782889505.py:49: RuntimeWarning: Mean of empty slice\n",
      "  corrected_array = np.nanmean(np.stack([corrected_array, corrected_tile]), axis=0)\n"
     ]
    },
    {
     "name": "stdout",
     "output_type": "stream",
     "text": [
      "column 12\n",
      "row 0\n",
      "tile extent x: 7700, 9800, y: 0, 2100\n"
     ]
    },
    {
     "name": "stderr",
     "output_type": "stream",
     "text": [
      "/tmp/ipykernel_26419/1782889505.py:49: RuntimeWarning: Mean of empty slice\n",
      "  corrected_array = np.nanmean(np.stack([corrected_array, corrected_tile]), axis=0)\n"
     ]
    },
    {
     "name": "stdout",
     "output_type": "stream",
     "text": [
      "row 1\n",
      "tile extent x: 7700, 9800, y: 700, 2800\n"
     ]
    },
    {
     "name": "stderr",
     "output_type": "stream",
     "text": [
      "/tmp/ipykernel_26419/1782889505.py:49: RuntimeWarning: Mean of empty slice\n",
      "  corrected_array = np.nanmean(np.stack([corrected_array, corrected_tile]), axis=0)\n"
     ]
    },
    {
     "name": "stdout",
     "output_type": "stream",
     "text": [
      "row 2\n",
      "tile extent x: 7700, 9800, y: 700, 2800\n"
     ]
    },
    {
     "name": "stderr",
     "output_type": "stream",
     "text": [
      "/tmp/ipykernel_26419/1782889505.py:49: RuntimeWarning: Mean of empty slice\n",
      "  corrected_array = np.nanmean(np.stack([corrected_array, corrected_tile]), axis=0)\n"
     ]
    },
    {
     "name": "stdout",
     "output_type": "stream",
     "text": [
      "row 3\n",
      "tile extent x: 7700, 9800, y: 1400, 3500\n"
     ]
    },
    {
     "name": "stderr",
     "output_type": "stream",
     "text": [
      "/tmp/ipykernel_26419/3363805308.py:101: RankWarning: Polyfit may be poorly conditioned\n",
      "  fit = np.polyfit(bin_centers, bin_medians, order, w=1/bin_nmads)\n",
      "/tmp/ipykernel_26419/1782889505.py:49: RuntimeWarning: Mean of empty slice\n",
      "  corrected_array = np.nanmean(np.stack([corrected_array, corrected_tile]), axis=0)\n"
     ]
    },
    {
     "name": "stdout",
     "output_type": "stream",
     "text": [
      "row 4\n",
      "tile extent x: 7700, 9800, y: 2100, 4200\n"
     ]
    },
    {
     "name": "stderr",
     "output_type": "stream",
     "text": [
      "/tmp/ipykernel_26419/1782889505.py:49: RuntimeWarning: Mean of empty slice\n",
      "  corrected_array = np.nanmean(np.stack([corrected_array, corrected_tile]), axis=0)\n"
     ]
    },
    {
     "name": "stdout",
     "output_type": "stream",
     "text": [
      "row 5\n",
      "tile extent x: 7700, 9800, y: 2800, 4900\n"
     ]
    },
    {
     "name": "stderr",
     "output_type": "stream",
     "text": [
      "/tmp/ipykernel_26419/1782889505.py:49: RuntimeWarning: Mean of empty slice\n",
      "  corrected_array = np.nanmean(np.stack([corrected_array, corrected_tile]), axis=0)\n"
     ]
    },
    {
     "name": "stdout",
     "output_type": "stream",
     "text": [
      "row 6\n",
      "tile extent x: 7700, 9800, y: 3500, 5600\n"
     ]
    },
    {
     "name": "stderr",
     "output_type": "stream",
     "text": [
      "/tmp/ipykernel_26419/3363805308.py:101: RankWarning: Polyfit may be poorly conditioned\n",
      "  fit = np.polyfit(bin_centers, bin_medians, order, w=1/bin_nmads)\n",
      "/tmp/ipykernel_26419/1782889505.py:49: RuntimeWarning: Mean of empty slice\n",
      "  corrected_array = np.nanmean(np.stack([corrected_array, corrected_tile]), axis=0)\n"
     ]
    }
   ],
   "source": [
    "# correct all interferograms\n",
    "for key, ds in ds_dic.items():\n",
    "    print(f'working on {key}')\n",
    "    ds_corrected, correction_data = tiled_correction(ds)\n",
    "    pickle.dump(correction_data, open(f'{path_dic[key]}/correction_data.pkl', \"wb\"))\n",
    "    ds_corrected.displacement_MuRP.rio.to_raster(f'{path_dic[key]}/{key}_20230725_20230925_displacement_MuRP.tif', compress=\"LZW\")\n",
    "    ds_corrected.to_netcdf(f'{path_dic[key]}/{key}_20230725_20230925.nc')"
   ]
  }
 ],
 "metadata": {
  "kernelspec": {
   "display_name": "Python 3 (ipykernel)",
   "language": "python",
   "name": "python3"
  },
  "language_info": {
   "codemirror_mode": {
    "name": "ipython",
    "version": 3
   },
   "file_extension": ".py",
   "mimetype": "text/x-python",
   "name": "python",
   "nbconvert_exporter": "python",
   "pygments_lexer": "ipython3",
   "version": "3.11.6"
  }
 },
 "nbformat": 4,
 "nbformat_minor": 5
}
