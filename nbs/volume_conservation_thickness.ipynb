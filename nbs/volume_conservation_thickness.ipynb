{
 "cells": [
  {
   "cell_type": "code",
   "execution_count": 1,
   "id": "3687a5a7-139a-471d-b3ec-d9afd8fe49e8",
   "metadata": {},
   "outputs": [],
   "source": [
    "import numpy as np\n",
    "import xarray as xr\n",
    "import rasterio as rio\n",
    "import rioxarray\n",
    "import matplotlib.pyplot as plt\n",
    "import xdem \n",
    "import scipy.sparse as sp\n",
    "import scipy.sparse.linalg as spla\n",
    "from scipy.optimize import lsq_linear\n",
    "import cvxpy as cp\n",
    "import geopandas as gpd\n",
    "import seaborn as sns\n",
    "import scipy.interpolate as interp"
   ]
  },
  {
   "cell_type": "markdown",
   "id": "4c93059a-6312-4eaf-956f-6ce5071a9463",
   "metadata": {},
   "source": [
    "## open datasets"
   ]
  },
  {
   "cell_type": "code",
   "execution_count": 2,
   "id": "01db6eeb-9910-47cd-ad63-b0da3f65f9d7",
   "metadata": {},
   "outputs": [],
   "source": [
    "data_path = '/mnt/Backups/gbrench/repos/rg_uavsar/data'\n",
    "\n",
    "# open data \n",
    "ds = xr.open_dataset(f'{data_path}/combined/stack_20230725_20230925.zarr', chunks='auto', engine='zarr')\n",
    "ds = ds.rio.write_crs('EPSG:32613')\n",
    "\n",
    "ns_da = xr.open_dataarray(f'{data_path}/combined/ns_disp.tif').squeeze()\n",
    "ew_da =xr.open_dataarray(f'{data_path}/combined/ew_disp.tif').squeeze()\n",
    "ud_da =xr.open_dataarray(f'{data_path}/combined/ud_disp.tif').squeeze()\n",
    "\n",
    "ds['ns_displacement'] = (('y', 'x'), ns_da.values)\n",
    "ds['ew_displacement'] = (('y', 'x'), ew_da.values)\n",
    "ds['ud_displacement'] = (('y', 'x'), ud_da.values)"
   ]
  },
  {
   "cell_type": "code",
   "execution_count": 3,
   "id": "a2b8752c-25a2-46dc-a7dc-bf8318736af3",
   "metadata": {},
   "outputs": [],
   "source": [
    "# calculate total displacement and velocity\n",
    "ds['total_displacement'] = np.sqrt(ds.ns_displacement**2 + ds.ew_displacement**2 + ds.ud_displacement**2)\n",
    "ds['ns_velocity'] = (ds['ns_displacement']/62)*365.25\n",
    "ds['ew_velocity'] = (ds['ew_displacement']/62)*365.25\n",
    "ds['ud_velocity'] = (ds['ud_displacement']/62)*365.25\n",
    "ds['total_velocity'] = (ds['total_displacement']/62)*365.25"
   ]
  },
  {
   "cell_type": "code",
   "execution_count": 4,
   "id": "f2a49f74-7614-473c-a383-611c9f65702c",
   "metadata": {},
   "outputs": [],
   "source": [
    "ds['elevation'] = ds.height.mean(dim='swatch')"
   ]
  },
  {
   "cell_type": "code",
   "execution_count": 5,
   "id": "ea1e271d-5fea-4e09-b7fa-2480e2898ac6",
   "metadata": {},
   "outputs": [
    {
     "name": "stderr",
     "output_type": "stream",
     "text": [
      "/mnt/Backups/gbrench/sw/miniconda3/envs/insar/lib/python3.11/site-packages/geoutils/raster/raster.py:1891: UserWarning: Setting default nodata -99999 to mask non-finite values found in the array, as no nodata value was defined.\n",
      "  warnings.warn(\n"
     ]
    }
   ],
   "source": [
    "transform = (5.322144725472049309, 0.0, ds.elevation.isel(x=0, y=0).x.item(), 0.0, 5.322144725472049309, ds.elevation.isel(x=0, y=0).x.item())\n",
    "# load to xdem\n",
    "dem = xdem.DEM.from_array(ds.elevation.values, transform, crs='EPSG:32613')\n",
    "# calculate slope \n",
    "ds['slope'] = (('y', 'x'), xdem.terrain.slope(dem).data.data)"
   ]
  },
  {
   "cell_type": "markdown",
   "id": "f13a10cc-383c-46ba-8841-4201d6d6045d",
   "metadata": {},
   "source": [
    "## first pass: single rock glacier"
   ]
  },
  {
   "cell_type": "code",
   "execution_count": 6,
   "id": "c32d804b-34b2-4325-89b6-0ff1c8e434aa",
   "metadata": {},
   "outputs": [],
   "source": [
    "rg_fn = f'../mapping/polygons/example_rg1.shp'\n",
    "rg_gdf = gpd.read_file(rg_fn)"
   ]
  },
  {
   "cell_type": "code",
   "execution_count": 7,
   "id": "d2564cd1-19d7-4145-9d7e-39c5cb5c4e83",
   "metadata": {},
   "outputs": [],
   "source": [
    "# clip to rock glacier bounds\n",
    "minx, miny, maxx, maxy = rg_gdf.total_bounds\n",
    "padding = 100 # pad by 100 m\n",
    "rg_ds = ds.rio.clip_box(minx=minx-padding, miny=miny-padding, maxx=maxx+padding, maxy=maxy+padding)\n",
    "rg_ds = rg_ds.fillna(0)"
   ]
  },
  {
   "cell_type": "code",
   "execution_count": 8,
   "id": "81fc40b7-4763-424b-a56d-68151c0e4b3a",
   "metadata": {},
   "outputs": [],
   "source": [
    "# create mask\n",
    "mask = ~rg_ds.elevation.rio.clip(rg_gdf.geometry.values, crs=rg_gdf.crs, drop=False).isnull()\n",
    "rg_ds['mask'] = (('y', 'x'), mask.values)"
   ]
  },
  {
   "cell_type": "code",
   "execution_count": null,
   "id": "9f3dc99f-c53e-42c9-8856-08c5204c0bc6",
   "metadata": {},
   "outputs": [],
   "source": [
    "# # simple approach with linear least squares\n",
    "# # Calculate the vector of horizontal components of landslide surface velocity\n",
    "# rg_ds['usurf'] = np.sqrt(rg_ds['ew_velocity']**2 + rg_ds['ns_velocity']**2)\n",
    "\n",
    "# # Define the constant f\n",
    "# f = 0.75\n",
    "\n",
    "# # Define the matrices and vectors for the linear system\n",
    "# u_d = rg_ds['ud_velocity'].values.flatten()\n",
    "# X = sp.diags([f * rg_ds['usurf'].values.flatten()], [0])\n",
    "# b = rg_ds['usurf'].values.flatten() * rg_ds['slope'].values.flatten() - u_d\n",
    "\n",
    "# # Define the regularization parameter and matrix\n",
    "# lambda_ = 1\n",
    "# T = sp.eye(len(u_d))  # Identity matrix for simplicity\n",
    "# nabla2 = sp.diags([1, -2, 1], [-1, 0, 1], shape=(len(u_d), len(u_d)))\n",
    "\n",
    "# # Define the system of equations\n",
    "# A = sp.vstack([X, lambda_ * T @ nabla2])\n",
    "# b = np.hstack([b, np.zeros(len(u_d))])\n",
    "\n",
    "# # Solve the system with nonnegative constraints\n",
    "# result = lsq_linear(A, b, bounds=(0, np.inf))\n",
    "\n",
    "# # Reshape the solution to the original grid shape\n",
    "# thickness = result.x.reshape(rg_ds['total_displacement'].shape)\n",
    "\n",
    "# # Add the thickness to the dataset\n",
    "# rg_ds['thickness'] = (('y', 'x'), thickness)"
   ]
  },
  {
   "cell_type": "code",
   "execution_count": 64,
   "id": "8cc5f9d3-47bb-486f-b0b0-479659826436",
   "metadata": {},
   "outputs": [],
   "source": [
    "def calculate_b_vector(u_surf, slope, ud_velocity):\n",
    "    dzdxy = np.tan(np.radians(slope))\n",
    "    bg = u_surf*dzdxy-ud_velocity\n",
    "\n",
    "    return bg\n",
    "\n",
    "def create_matrix_and_vector(u, v, bg, mask):\n",
    "    # Apply mask\n",
    "    u = mask * u\n",
    "    v = mask * v\n",
    "    bg = mask * bg\n",
    "\n",
    "    # Reshape arrays to vectors\n",
    "    b = bg.flatten()\n",
    "\n",
    "    # Calculate A matrix\n",
    "    A = calculate_A_matrix(u, v)\n",
    "\n",
    "    return A, b\n",
    "\n",
    "def calculate_A_matrix(u, v):\n",
    "    # Sizes\n",
    "    nr, nc = u.shape\n",
    "    lenh = nr * nc\n",
    "\n",
    "    # Reshape arrays to vectors\n",
    "    u = u.flatten()\n",
    "    v = v.flatten()\n",
    "\n",
    "   # Create vectors for diagonals of matrix A\n",
    "    d = np.ones(lenh)\n",
    "    d1cy = sp.diags([d, 2 * d, d, -d, -2 * d, -d], [-nr - 1, -1, nr - 1, -nr + 1, 1, nr + 1], shape=(lenh, lenh))\n",
    "    d1cx = sp.diags([-d, -2 * d, -d, d, 2 * d, d], [-nr - 1, -nr, -nr + 1, nr - 1, nr, nr + 1], shape=(lenh, lenh))\n",
    "    uv0 = d1cx @ u + d1cy @ v\n",
    "\n",
    "    # Rest of diagonals\n",
    "    d1 = np.concatenate([(-u[nr + 1:] + v[nr + 1:]), np.zeros(nr + 1)])\n",
    "    d2 = np.concatenate([-2 * u[nr:], np.zeros(nr)])\n",
    "    d3 = np.concatenate([(-u[nr - 1:] - v[nr - 1:]), np.zeros(nr - 1)])\n",
    "    d4 = np.concatenate([2 * v[1:], [0]])\n",
    "    d5 = np.concatenate([[0], -2 * v[:-1]])\n",
    "    d6 = np.concatenate([np.zeros(nr - 1), (u[:lenh - nr + 1] + v[:lenh - nr + 1])])\n",
    "    d7 = np.concatenate([np.zeros(nr), 2 * u[:lenh - nr]])\n",
    "    d8 = np.concatenate([np.zeros(nr + 1), (u[:lenh - nr - 1] - v[:lenh - nr - 1])])\n",
    "\n",
    "    # Put all diagonals together to create A\n",
    "    A = sp.diags([d1, d2, d3, d4, uv0, d5, d6, d7, d8], [-nr - 1, -nr, -nr + 1, -1, 0, 1, nr - 1, nr, nr + 1], shape=(lenh, lenh))\n",
    "\n",
    "    return A.toarray()\n",
    "\n",
    "def generalized_cross_validation(A, b, m, arange, numpts, plots):\n",
    "    av = 10 ** np.linspace(arange[0], arange[1], numpts)\n",
    "    nr, nc = m.shape\n",
    "    lenh = nr * nc\n",
    "    h = np.zeros((nr, nc, numpts))\n",
    "    g = np.zeros(numpts)\n",
    "    mpts = A.shape[0]\n",
    "\n",
    "    for k in range(numpts):\n",
    "        print(f'iteration {k+1}/{numpts}, damping: {av[k]}')\n",
    "        htemp, ri, _, B = solve_lagrangian(A, b, m, av[k])\n",
    "        h[:, :, k] = htemp\n",
    "        AA = A @ np.linalg.inv(A.T @ A + (av[k] ** 2) * B.T @ B) @ A.T\n",
    "        I = np.eye(mpts)\n",
    "        g[k] = mpts * (ri ** 2) / (np.trace(I - AA) ** 2)\n",
    "\n",
    "    aq = np.linspace(np.log10(min(av)), np.log10(max(av)), 10000)\n",
    "    gq = np.interp(aq, np.log10(av), g)\n",
    "    abest = 10 ** aq[np.argmin(gq)]\n",
    "    hbest = solve_lagrangian(A, b, m, abest)[0]\n",
    "\n",
    "    if plots:\n",
    "        plt.figure()\n",
    "        plt.semilogx(av, g, '-ok')\n",
    "        plt.semilogx(10 ** aq, gq, 'r')\n",
    "        plt.semilogx(abest, min(gq), 'xb')\n",
    "        plt.xlabel('Damping Parameter')\n",
    "        plt.ylabel('G Function')\n",
    "        plt.show()\n",
    "\n",
    "    return h, hbest, g, av, abest\n",
    "\n",
    "def solve_lagrangian(A, b, m, a):\n",
    "    nr, nc = m.shape\n",
    "    lenh = nr * nc\n",
    "    m = m.flatten()\n",
    "\n",
    "    # Create smoothing matrix from finite difference approximation of Laplacian\n",
    "    d = np.ones(lenh)\n",
    "    B = sp.diags([0.5 * d, d, 0.5 * d, d, -6 * d, d, 0.5 * d, d, 0.5 * d],\n",
    "                 [-nr - 1, -nr, -nr + 1, -1, 0, 1, nr - 1, nr, nr + 1], shape=(lenh, lenh))\n",
    "\n",
    "    # Set constraints\n",
    "    hmax = 9999  # Set maximum h\n",
    "    hlow = 0.1  # Tolerance for h in stable terrain\n",
    "    lb = np.zeros(lenh)  # h >= 0 everywhere\n",
    "    ub = hlow + hmax * m  # h < hlow in stable terrain only\n",
    "\n",
    "    # Invert for h with non-negative constraints\n",
    "    h = cp.Variable(lenh)\n",
    "    objective = cp.Minimize(cp.norm(A @ h - b) + a * cp.norm(B @ h))\n",
    "    constraints = [h >= lb, h <= ub]\n",
    "    prob = cp.Problem(objective, constraints)\n",
    "    prob.solve()\n",
    "\n",
    "    rnorm = np.linalg.norm(A @ h.value - b)\n",
    "    snorm = np.linalg.norm(B @ h.value)\n",
    "    \n",
    "\n",
    "    h = h.value.reshape(nr, nc)\n",
    "    lb = lb.reshape(nr, nc)\n",
    "    ub = ubreshape(nr, nc)\n",
    "    return h, rnorm, snorm, B, lb, ub"
   ]
  },
  {
   "cell_type": "code",
   "execution_count": null,
   "id": "6af10f51-e28d-429f-8331-e6f82a4daf8b",
   "metadata": {},
   "outputs": [],
   "source": [
    "rg_ds['u_surf'] = np.sqrt(rg_ds['ew_velocity']**2 + rg_ds['ns_velocity']**2)\n",
    "\n",
    "# Define the constant f\n",
    "f = 0.75\n",
    "\n",
    "# Calculate b vector\n",
    "bg = calculate_b_vector(rg_ds['u_surf'].values, rg_ds['slope'].values, rg_ds['ud_velocity'].values)\n",
    "\n",
    "# Create matrix A and vector b\n",
    "A, b = create_matrix_and_vector(rg_ds['ew_velocity'].values, rg_ds['ns_velocity'].values, bg, rg_ds['mask'].values)\n",
    "\n",
    "# Solve the system with nonnegative constraints\n",
    "result = lsq_linear(A, b, bounds=(0, np.inf))\n",
    "\n",
    "# Reshape the solution to the original grid shape\n",
    "thickness = result.x.reshape(rg_ds['total_displacement'].shape)\n",
    "\n",
    "# # test solving\n",
    "# hbest, rnorm, snorm, B, lb, ub = solve_lagrangian(A, b, rg_ds['mask'].values, 1)\n",
    "\n",
    "# # Use generalized cross-validation to select the best damping parameter\n",
    "# numpts = 2\n",
    "# arange = [-1, 0] # powers of 10\n",
    "# h, hbest, g, av, abest = generalized_cross_validation(A, b, rg_ds['mask'].values, arange, numpts, plots=False)\n",
    "\n",
    "# Add the thickness to the dataset\n",
    "rg_ds['thickness'] = (('y', 'x'), thickness)"
   ]
  },
  {
   "cell_type": "code",
   "execution_count": null,
   "id": "b6dc2080-431f-4b1c-80fe-4a7912c7562a",
   "metadata": {},
   "outputs": [],
   "source": [
    "#rg_ds = rg_ds.rio.clip(rg_gdf.geometry.values, crs=rg_gdf.crs, drop=True)"
   ]
  },
  {
   "cell_type": "code",
   "execution_count": 76,
   "id": "280f4771-a5e0-4aaf-a5d9-160408a47511",
   "metadata": {
    "scrolled": true
   },
   "outputs": [
    {
     "data": {
      "text/plain": [
       "(9800.0, 10000.0)"
      ]
     },
     "execution_count": 76,
     "metadata": {},
     "output_type": "execute_result"
    },
    {
     "data": {
      "image/png": "[encoded data removed]",
      "text/plain": [
       "<Figure size 800x800 with 2 Axes>"
      ]
     },
     "metadata": {},
     "output_type": "display_data"
    }
   ],
   "source": [
    "# Spy plot\n",
    "f, ax = plt.subplots(1, 2, figsize=(8, 8))\n",
    "ax[0].spy(A, markersize=1)\n",
    "ax[0].set_xlim(9800, 10000)\n",
    "ax[0].set_ylim(9800, 10000)\n",
    "ax[1].plot(b, np.arange(len(b)), markersize=1)\n",
    "ax[1].set_ylim(9800, 10000)"
   ]
  },
  {
   "cell_type": "code",
   "execution_count": null,
   "id": "0256e332-3c41-4f9c-b11d-cd33a560b499",
   "metadata": {},
   "outputs": [],
   "source": [
    "sns.set_theme()\n",
    "f, ax = plt.subplots()\n",
    "#ax.imshow(b.reshape(bg.shape), vmin=0, vmax=0.2, cmap='Reds')\n",
    "rg_ds.thickness.plot(ax=ax, vmin=0, vmax=0.1, cmap='Blues')\n",
    "ax.set_aspect('equal')"
   ]
  },
  {
   "cell_type": "code",
   "execution_count": null,
   "id": "4eadbdaa-38d5-4e78-a87e-964e0df36019",
   "metadata": {},
   "outputs": [],
   "source": [
    "rg_ds.thickness.rio.to_raster(f'{data_path}/combined/rg1_volume_thickness.tif', compress='LZW')"
   ]
  }
 ],
 "metadata": {
  "kernelspec": {
   "display_name": "Python 3 (ipykernel)",
   "language": "python",
   "name": "python3"
  },
  "language_info": {
   "codemirror_mode": {
    "name": "ipython",
    "version": 3
   },
   "file_extension": ".py",
   "mimetype": "text/x-python",
   "name": "python",
   "nbconvert_exporter": "python",
   "pygments_lexer": "ipython3",
   "version": "3.11.6"
  }
 },
 "nbformat": 4,
 "nbformat_minor": 5
}
