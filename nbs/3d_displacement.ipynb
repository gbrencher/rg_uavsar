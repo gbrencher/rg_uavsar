{
 "cells": [
  {
   "cell_type": "code",
   "execution_count": 12,
   "id": "b749dac2-6b1d-48a0-a580-923370b9a509",
   "metadata": {},
   "outputs": [],
   "source": [
    "import numpy as np\n",
    "import xarray as xr\n",
    "import rasterio as rio\n",
    "import rioxarray"
   ]
  },
  {
   "cell_type": "markdown",
   "id": "d6559244-9464-43ca-8bda-87712edf3e71",
   "metadata": {},
   "source": [
    "## read in data"
   ]
  },
  {
   "cell_type": "code",
   "execution_count": 2,
   "id": "d40f146e-b4a7-493d-9f91-cc561bf61ae4",
   "metadata": {},
   "outputs": [],
   "source": [
    "data_path = '/mnt/Backups/gbrench/repos/rg_uavsar/data'\n",
    "\n",
    "path_dic = {'swatch_00540':f'{data_path}/swatch_00540/geo',\n",
    "            'swatch_08301':f'{data_path}/swatch_08301/geo',\n",
    "            'swatch_09510':f'{data_path}/swatch_09510/geo',\n",
    "            'swatch_17304_s1':f'{data_path}/swatch_17304_s1/geo',\n",
    "            'swatch_17304_s2':f'{data_path}/swatch_17304_s2/geo',\n",
    "            'swatch_18525':f'{data_path}/swatch_18525/geo',\n",
    "            'swatch_26300':f'{data_path}/swatch_26300/geo',\n",
    "            'swatch_27518':f'{data_path}/swatch_27518/geo'}"
   ]
  },
  {
   "cell_type": "code",
   "execution_count": null,
   "id": "b3517c3d-b788-4ab3-a9bc-947bbd9b25da",
   "metadata": {},
   "outputs": [],
   "source": [
    "# function to rewrite coordinates from metadata\n",
    "def coord_range(ds):\n",
    "    latrange = np.linspace(float(ds.attrs['Y_FIRST']),\n",
    "                           ((float(ds.attrs['Y_STEP'])*float(ds.attrs['LENGTH']))+float(ds.attrs['Y_FIRST'])),\n",
    "                           int(ds.attrs['LENGTH']))\n",
    "    lonrange = np.linspace(float(ds.attrs['X_FIRST']),\n",
    "                           ((float(ds.attrs['X_STEP'])*float(ds.attrs['WIDTH']))+float(ds.attrs['X_FIRST'])),\n",
    "                           int(ds.attrs['WIDTH']))\n",
    "    return latrange, lonrange\n",
    "\n",
    "def mintpy2d_to_xarray(fn, crs):\n",
    "    ds = xr.open_dataset(fn, engine='h5netcdf', phony_dims='sort')\n",
    "    ds = ds.rename_dims({'phony_dim_0':'y',\n",
    "                         'phony_dim_1':'x'\n",
    "                        })\n",
    "    latrange, lonrange = coord_range(ds)\n",
    "    ds = ds.assign_coords({'y': ('y', latrange),\n",
    "                          'x': ('x', lonrange)})\n",
    "    ds = ds.rio.write_crs(crs)\n",
    "    \n",
    "    return ds"
   ]
  },
  {
   "cell_type": "code",
   "execution_count": null,
   "id": "f95c4b9b-f7fa-4fe9-bb4c-afd48cbb14a4",
   "metadata": {},
   "outputs": [],
   "source": [
    "def open_uavsar(swatch, path):\n",
    "    igram_ds = xr.open_dataset(f'{path}/{swatch}_20230725_20230925_unw_phase_m.tif').squeeze()\n",
    "    cor_ds = xr.open_dataset(f'{path}/{swatch}_20230725_20230925_cor.tif').squeeze()\n",
    "    geom_ds = mintpy2d_to_xarray(f'{path}/geo_geometryRadar.h5', crs='4326')\n",
    "    geom_ds['cor'] = (('y', 'x'), cor_ds.band_data.values)\n",
    "    geom_ds['displacement'] = (('y', 'x'), igram_ds.band_data.values)\n",
    "    # geom_ds.rio.write_nodata(np.nan, inplace=True)\n",
    "    # reproject to utm\n",
    "    geom_ds = geom_ds.rio.reproject('EPSG:32613', nodata=np.nan)\n",
    "    \n",
    "    return geom_ds"
   ]
  },
  {
   "cell_type": "code",
   "execution_count": 10,
   "id": "a04f8f16-959c-44f7-8023-0af5819a7c9f",
   "metadata": {},
   "outputs": [
    {
     "name": "stdout",
     "output_type": "stream",
     "text": [
      "swatch_00540 /mnt/Backups/gbrench/repos/rg_uavsar/data/swatch_00540\n",
      "swatch_08301 /mnt/Backups/gbrench/repos/rg_uavsar/data/swatch_08301\n",
      "swatch_09510 /mnt/Backups/gbrench/repos/rg_uavsar/data/swatch_09510\n",
      "swatch_17304_s1 /mnt/Backups/gbrench/repos/rg_uavsar/data/swatch_17304_s1\n",
      "swatch_17304_s2 /mnt/Backups/gbrench/repos/rg_uavsar/data/swatch_17304_s2\n",
      "swatch_18525 /mnt/Backups/gbrench/repos/rg_uavsar/data/swatch_18525\n",
      "swatch_26300 /mnt/Backups/gbrench/repos/rg_uavsar/data/swatch_26300\n",
      "swatch_27518 /mnt/Backups/gbrench/repos/rg_uavsar/data/swatch_27518\n"
     ]
    }
   ],
   "source": [
    "for key, item in path_dic.items():\n",
    "    print(key, item)"
   ]
  }
 ],
 "metadata": {
  "kernelspec": {
   "display_name": "Python 3 (ipykernel)",
   "language": "python",
   "name": "python3"
  },
  "language_info": {
   "codemirror_mode": {
    "name": "ipython",
    "version": 3
   },
   "file_extension": ".py",
   "mimetype": "text/x-python",
   "name": "python",
   "nbconvert_exporter": "python",
   "pygments_lexer": "ipython3",
   "version": "3.11.6"
  }
 },
 "nbformat": 4,
 "nbformat_minor": 5
}
