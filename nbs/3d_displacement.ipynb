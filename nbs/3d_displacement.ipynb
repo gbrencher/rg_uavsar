{
 "cells": [
  {
   "cell_type": "code",
   "execution_count": 1,
   "id": "b749dac2-6b1d-48a0-a580-923370b9a509",
   "metadata": {},
   "outputs": [],
   "source": [
    "import numpy as np\n",
    "import xarray as xr\n",
    "import rasterio as rio\n",
    "import rioxarray\n",
    "import matplotlib.pyplot as plt\n",
    "import pandas as pd\n",
    "import dask\n",
    "from glob import glob\n",
    "import dask.array as da\n",
    "from dask.distributed import Client\n",
    "import copy\n",
    "import zarr"
   ]
  },
  {
   "cell_type": "markdown",
   "id": "d6559244-9464-43ca-8bda-87712edf3e71",
   "metadata": {},
   "source": [
    "## read in data"
   ]
  },
  {
   "cell_type": "code",
   "execution_count": 2,
   "id": "d40f146e-b4a7-493d-9f91-cc561bf61ae4",
   "metadata": {},
   "outputs": [],
   "source": [
    "data_path = '/mnt/Backups/gbrench/repos/rg_uavsar/data'\n",
    "\n",
    "path_dic = {'swatch_00540':f'{data_path}/swatch_00540/geo',\n",
    "            'swatch_08301':f'{data_path}/swatch_08301/geo',\n",
    "            'swatch_09510':f'{data_path}/swatch_09510/geo',\n",
    "            'swatch_17304_s1':f'{data_path}/swatch_17304_s1/geo',\n",
    "            'swatch_17304_s2':f'{data_path}/swatch_17304_s2/geo',\n",
    "            'swatch_18525':f'{data_path}/swatch_18525/geo',\n",
    "            'swatch_26300':f'{data_path}/swatch_26300/geo',\n",
    "            'swatch_27518':f'{data_path}/swatch_27518/geo'}"
   ]
  },
  {
   "cell_type": "code",
   "execution_count": 3,
   "id": "a04f8f16-959c-44f7-8023-0af5819a7c9f",
   "metadata": {
    "scrolled": true
   },
   "outputs": [],
   "source": [
    "# count_map = xr.open_dataset(f'{data_path}/coverage_mosaic/uavsar-tile-0-count.tif')\n",
    "# count_map = count_map.rio.reproject('EPSG:32613')\n",
    "\n",
    "# # open all data and save to netcdfs\n",
    "# ds_dic = {}\n",
    "# for key, item in path_dic.items():\n",
    "#     print(f'opening {key}')\n",
    "#     ds = xr.open_dataset(f'{item}/{key}_20230725_20230925.nc').chunk({'x': 1000, 'y': 1000})\n",
    "#     ds = ds.rio.write_crs('32613')\n",
    "#     ds = ds.rio.reproject_match(count_map)\n",
    "#     # save to full size netcdf\n",
    "#     ds.to_netcdf(f'{data_path}/coverage_mosaic/{key}_20230725_20230925.nc')"
   ]
  },
  {
   "cell_type": "code",
   "execution_count": 4,
   "id": "b4b8f99c-a5d8-4a90-b9fc-6622c41044bf",
   "metadata": {},
   "outputs": [],
   "source": [
    "# # reopen data as single dataset and save to zarr file, chunked along time\n",
    "# fns = sorted(glob(f'{data_path}/coverage_mosaic/*_20230725_20230925.nc'))\n",
    "# ds = xr.open_mfdataset(fns, combine='nested', concat_dim=xr.DataArray(list(path_dic.keys()), dims='swatch', name='swatch'), chunks={'x': 1000, 'y': 1000})\n",
    "# ds = ds.drop_vars(['latitude', 'longitude', 'slantRangeDistance', 'displacement', 'rgi'])\n",
    "# ds = ds.chunk({'swatch': -1})\n",
    "\n",
    "# ds.to_zarr(f'{data_path}/combined/stack_20230725_20230925.zarr')"
   ]
  },
  {
   "cell_type": "code",
   "execution_count": 5,
   "id": "92b1859e-a275-4bab-baaa-07439fe38db8",
   "metadata": {},
   "outputs": [
    {
     "name": "stdout",
     "output_type": "stream",
     "text": [
      "http://127.0.0.1:8787/status\n"
     ]
    }
   ],
   "source": [
    "client = Client()  # This starts the Dask client\n",
    "print(client.dashboard_link)"
   ]
  },
  {
   "cell_type": "code",
   "execution_count": 6,
   "id": "ad875a03-71b0-437c-a2eb-d4838f366269",
   "metadata": {},
   "outputs": [],
   "source": [
    "# open data from zarr file\n",
    "ds = xr.open_dataset(f'{data_path}/combined/stack_20230725_20230925.zarr', chunks='auto',engine='zarr')\n",
    "ds = ds.rio.write_crs('EPSG:32613')"
   ]
  },
  {
   "cell_type": "markdown",
   "id": "a0c745a5-571a-4fcd-b12a-2eb6a612c096",
   "metadata": {},
   "source": [
    "## create geometry arrays"
   ]
  },
  {
   "cell_type": "markdown",
   "id": "1a154413-9f7d-4632-8fd3-0fa6c13d43f4",
   "metadata": {},
   "source": [
    "UAVSAR is left looking! "
   ]
  },
  {
   "cell_type": "code",
   "execution_count": 7,
   "id": "dfec288e-14d2-4509-a490-86b5fae70085",
   "metadata": {},
   "outputs": [],
   "source": [
    "# create LOS angle\n",
    "ds['losAngle'] = xr.where(ds.azimuthAngle > 0, 360 - ds.azimuthAngle, np.fabs(ds.azimuthAngle))\n",
    "# fix the two odd ones temporarily\n",
    "ds['losAngle'] = ds['losAngle'].where(ds.swatch != 'swatch_27518', 180 + ds.azimuthAngle)\n",
    "ds['losAngle'] = ds['losAngle'].where(ds.swatch != 'swatch_26300', 180 + ds.azimuthAngle)"
   ]
  },
  {
   "cell_type": "code",
   "execution_count": 8,
   "id": "7cf17c28-3d6a-4255-8eac-fdbf4e20c8dd",
   "metadata": {},
   "outputs": [],
   "source": [
    "# define unit vectors for LOS\n",
    "ds['n_hat'] = np.cos(np.radians(ds.losAngle))*np.sin(np.radians(ds.incidenceAngle))\n",
    "ds['e_hat'] = np.sin(np.radians(ds.losAngle))*np.sin(np.radians(ds.incidenceAngle))\n",
    "ds['u_hat'] = -np.cos(np.radians(ds.incidenceAngle))"
   ]
  },
  {
   "cell_type": "code",
   "execution_count": 9,
   "id": "bdb7d0fe-8cd3-45c1-b230-b103dc3c09fb",
   "metadata": {},
   "outputs": [],
   "source": [
    "# mask by coherence\n",
    "corr_value = 0\n",
    "\n",
    "ds['displacement_masked'] = ds.displacement_MuRP.where(ds.cor >= corr_value)\n",
    "ds['n_hat'] = ds['n_hat'].where(ds.cor >= corr_value)\n",
    "ds['e_hat'] = ds['e_hat'].where(ds.cor >= corr_value)\n",
    "ds['u_hat'] = ds['u_hat'].where(ds.cor >= corr_value)"
   ]
  },
  {
   "cell_type": "code",
   "execution_count": null,
   "id": "7a01b4f1-86ea-4cb1-ae56-dffdca42da16",
   "metadata": {},
   "outputs": [],
   "source": [
    "# plot for sanity check\n",
    "# my_slice = ds.isel(swatch=6, x=slice(3000, 4000), y=slice(6000, 7000))\n",
    "# f, ax = plt.subplots(1, 3, figsize=(10, 5))\n",
    "# my_slice.n_hat.plot.imshow(ax=ax[0], cbar_kwargs={'shrink':0.5})\n",
    "# ax[0].set_aspect('equal')\n",
    "# my_slice.e_hat.plot.imshow(ax=ax[1], cbar_kwargs={'shrink':0.5})\n",
    "# ax[1].set_aspect('equal')\n",
    "# my_slice.u_hat.plot.imshow(ax=ax[2], cbar_kwargs={'shrink':0.5})\n",
    "# ax[2].set_aspect('equal')\n",
    "# f.tight_layout()"
   ]
  },
  {
   "cell_type": "markdown",
   "id": "2bb3bb67-2b18-44b0-b1c4-14a0f7be2bb2",
   "metadata": {},
   "source": [
    "## calculate 3d displacement"
   ]
  },
  {
   "cell_type": "code",
   "execution_count": 10,
   "id": "2c4e439e-8387-4388-83fc-01e0219bcc70",
   "metadata": {},
   "outputs": [],
   "source": [
    "def calculate_pixel_displacement(n_hat, e_hat, u_hat, displacement, coherence=None):\n",
    "    # Remove NaN values\n",
    "    mask = np.isfinite(n_hat) & np.isfinite(e_hat) & np.isfinite(u_hat) & np.isfinite(displacement)\n",
    "    n_hat, e_hat, u_hat, displacement = [arr[mask] for arr in [n_hat, e_hat, u_hat, displacement]]\n",
    "    \n",
    "    if coherence is not None:\n",
    "        coherence = coherence[mask]\n",
    "        weights = coherence ** 2  # Square the coherence values to use as weights\n",
    "\n",
    "    # Check if there are at least three valid flight lines\n",
    "    if len(displacement) >= 3:\n",
    "        # Prepare the A matrix and b vector for the least squares calculation\n",
    "        A = np.column_stack([n_hat, e_hat, u_hat])\n",
    "        b = displacement\n",
    "\n",
    "        if coherence is not None:\n",
    "            # Apply weights\n",
    "            W = np.diag(weights)\n",
    "            A = W @ A\n",
    "            b = W @ b\n",
    "\n",
    "        # Solve for the displacements using least squares\n",
    "        solution, residuals, rank, s = np.linalg.lstsq(A, b, rcond=None)\n",
    "\n",
    "        # Save the results\n",
    "        y_displacement = np.array([solution[0]])\n",
    "        x_displacement = np.array([solution[1]])\n",
    "        z_displacement = np.array([solution[2]])\n",
    "        standard_error = np.array([np.sqrt(residuals / (len(b) - rank)) if residuals.size > 0 else np.nan])\n",
    "    else:\n",
    "        y_displacement = np.array([np.nan])\n",
    "        x_displacement = np.array([np.nan])\n",
    "        z_displacement = np.array([np.nan])\n",
    "        standard_error = np.array([np.nan])\n",
    "\n",
    "    # Return numpy arrays\n",
    "    return y_displacement, x_displacement, z_displacement, standard_error\n",
    "\n",
    "def calculate_displacement(dataset):\n",
    "    # Apply the calculate_pixel_displacement function to each pixel\n",
    "    results = xr.apply_ufunc(\n",
    "        calculate_pixel_displacement, \n",
    "        dataset.n_hat, dataset.e_hat, dataset.u_hat, dataset.displacement_masked, dataset.cor,\n",
    "        input_core_dims=[['swatch'], ['swatch'], ['swatch'], ['swatch'], ['swatch']],\n",
    "        output_core_dims=[[], [], [], []],  \n",
    "        vectorize=True, dask='parallelized'\n",
    "    )\n",
    "\n",
    "    # extract results\n",
    "    y_displacement, x_displacement, z_displacement, standard_error = results\n",
    "\n",
    "    # Persist the results\n",
    "    y_displacement, x_displacement, z_displacement, standard_error = dask.persist(y_displacement, x_displacement, z_displacement, standard_error)\n",
    "\n",
    "    return y_displacement, x_displacement, z_displacement, standard_error"
   ]
  },
  {
   "cell_type": "code",
   "execution_count": 11,
   "id": "e31dea88-cd38-4ee5-8776-dde8590351b7",
   "metadata": {
    "scrolled": true
   },
   "outputs": [],
   "source": [
    "# calculate components \n",
    "y_displacement, x_displacement, z_displacement, standard_error = calculate_displacement(ds)"
   ]
  },
  {
   "cell_type": "code",
   "execution_count": null,
   "id": "7a6cab81-23f9-46b6-87a7-1be3fd6ccf34",
   "metadata": {
    "scrolled": true
   },
   "outputs": [],
   "source": [
    "# total_displacement = np.sqrt(y_displacement**2 + x_displacement**2 + z_displacement**2)"
   ]
  },
  {
   "cell_type": "code",
   "execution_count": 12,
   "id": "7b5996f5-1419-4de4-9b9f-5814fb408e0e",
   "metadata": {
    "scrolled": true
   },
   "outputs": [],
   "source": [
    "def save_out(data_path, y_displacement, x_displacement, z_displacement, standard_error):\n",
    "    y_displacement.rio.to_raster(f'{data_path}/combined/ns_disp.tif', tiled=True, windowed=True, compress=\"LZW\")\n",
    "    x_displacement.rio.to_raster(f'{data_path}/combined/ew_disp.tif', tiled=True, windowed=True, compress=\"LZW\")\n",
    "    z_displacement.rio.to_raster(f'{data_path}/combined/ud_disp.tif', tiled=True, windowed=True, compress=\"LZW\")\n",
    "    standard_error.rio.to_raster(f'{data_path}/combined/standard_error_disp.tif', tiled=True, windowed=True, compress=\"LZW\")\n",
    "\n",
    "save_out(data_path, y_displacement, x_displacement, z_displacement, standard_error)"
   ]
  },
  {
   "cell_type": "code",
   "execution_count": null,
   "id": "72cbdb51-45dc-445c-867e-be4f422e2288",
   "metadata": {
    "scrolled": true
   },
   "outputs": [],
   "source": [
    "#total_displacement.rio.to_raster(f'{data_path}/combined/total_disp.tif', tiled=True, windowed=True, compress=\"LZW\")"
   ]
  },
  {
   "cell_type": "code",
   "execution_count": 13,
   "id": "c7f7bede-65b7-40ba-b2b9-f2c859337b0b",
   "metadata": {},
   "outputs": [],
   "source": [
    "client.close()"
   ]
  }
 ],
 "metadata": {
  "kernelspec": {
   "display_name": "Python 3 (ipykernel)",
   "language": "python",
   "name": "python3"
  },
  "language_info": {
   "codemirror_mode": {
    "name": "ipython",
    "version": 3
   },
   "file_extension": ".py",
   "mimetype": "text/x-python",
   "name": "python",
   "nbconvert_exporter": "python",
   "pygments_lexer": "ipython3",
   "version": "3.11.6"
  }
 },
 "nbformat": 4,
 "nbformat_minor": 5
}
