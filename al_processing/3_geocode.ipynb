{
 "cells": [
  {
   "cell_type": "markdown",
   "id": "d42dfe21-9916-4929-896b-e02991565316",
   "metadata": {},
   "source": [
    "### geocode\n"
   ]
  },
  {
   "cell_type": "code",
   "execution_count": 20,
   "id": "2c0491c4",
   "metadata": {},
   "outputs": [],
   "source": [
    "import numpy as np\n",
    "\n",
    "radarWavelength=0.238403545"
   ]
  },
  {
   "cell_type": "code",
   "execution_count": null,
   "id": "e3c191b9",
   "metadata": {},
   "outputs": [],
   "source": [
    "!geocode.py -h"
   ]
  },
  {
   "cell_type": "code",
   "execution_count": null,
   "id": "3ee0b4fa",
   "metadata": {},
   "outputs": [],
   "source": [
    "#method 1\n",
    "!geocode.py ./Igrams/*/filt*.unw -l ./inputs/geometryRadar.h5 \n",
    "!geocode.py ./Igrams/*/filt*.cor -l ./inputs/geometryRadar.h5 \n",
    "\n"
   ]
  },
  {
   "cell_type": "code",
   "execution_count": null,
   "id": "9891d417",
   "metadata": {},
   "outputs": [],
   "source": [
    "#method 2 (either this or method 1)\n",
    "# !geocode.py ./Igrams/*/filt*.unw --lat-file ./geom_reference/geometry8x3/lat.rdr --lon-file ./geom_reference/geometry8x3/lon.rdr\n",
    "# !geocode.py ./Igrams/*/filt*.cor --lat-file ./geom_reference/geometry8x3/lat.rdr --lon-file ./geom_reference/geometry8x3/lon.rdr\n",
    "\n"
   ]
  },
  {
   "cell_type": "code",
   "execution_count": null,
   "id": "be4f4c1b",
   "metadata": {},
   "outputs": [],
   "source": [
    "#generate cor mask\n",
    "!generate_mask.py geo*cor -m 0.7 -o geo_mask_CorPt7.h5"
   ]
  },
  {
   "cell_type": "code",
   "execution_count": null,
   "id": "600acd43",
   "metadata": {},
   "outputs": [],
   "source": [
    "!reference_point.py  geo_filt_20230725_20230925_snaphu.unw  -l  39.242805  -L -106.497245  -m geo_mask_CorPt7.h5"
   ]
  },
  {
   "cell_type": "code",
   "execution_count": null,
   "id": "43dcf46f",
   "metadata": {},
   "outputs": [],
   "source": [
    "!save_kmz.py geo_filt_20230725_20230925_snaphu.unw -m geo_mask_CorPt7.h5 -v -5 5"
   ]
  },
  {
   "cell_type": "code",
   "execution_count": null,
   "id": "bd21cd3d",
   "metadata": {},
   "outputs": [],
   "source": [
    "!mv geo*filt*unw* ./Igrams/20230725_20230925/\n",
    "!mv geo*filt*cor* ./Igrams/20230725_20230925/\n",
    "!mv geo*mask*.h5* ./Igrams/20230725_20230925/"
   ]
  },
  {
   "cell_type": "code",
   "execution_count": null,
   "id": "faf1b14e",
   "metadata": {},
   "outputs": [],
   "source": [
    "# gdal_translate -b 1 -of in_image output_image.tif\n",
    "# gdal_translate -of Gtiff in_image output_image.tif\n"
   ]
  },
  {
   "cell_type": "code",
   "execution_count": null,
   "id": "1820dc49",
   "metadata": {},
   "outputs": [],
   "source": [
    "# Read the unwrapped file\n",
    "src = rioxarray.open_rasterio(f'./unwrapped/{ref}_{sec}.unw.tif')\n",
    "merged_unw = src.rio.reproject(\"EPSG:4326\")[0] * wavelength / (-4 * np.pi)\n",
    "src = []\n",
    "\n",
    "# Plot using Matplotlib\n",
    "fig, ax = plt.subplots(figsize=[12,9])\n",
    "merged_unw_cm = merged_unw*100\n",
    "merged_unw_cm -= merged_unw_cm[refy, refx]              # Reference the data to a point\n",
    "cax = ax.imshow(merged_unw_cm, cmap='RdBu_r',interpolation='nearest', origin='upper', extent=bbox, vmin=np.min(merged_unw_cm), vmax=-np.min(merged_unw_cm))\n",
    "ax.plot(reflon, reflat, 'ks')\n",
    "ax.set_xlabel('Longitude')\n",
    "ax.set_ylabel('Latitude')\n",
    "ax.set_title(f'UNW_{ref}-{sec}_{orbitPass[0]}{pathNumber}',fontsize=12)\n",
    "cbar = fig.colorbar(cax,orientation='vertical',fraction=0.01,pad=0.02)\n",
    "cbar.set_label('LOS Displacement (cm)', rotation=270, labelpad=15)\n",
    "plt.show()"
   ]
  }
 ],
 "metadata": {
  "kernelspec": {
   "display_name": "Python 3 (ipykernel)",
   "language": "python",
   "name": "python3"
  },
  "language_info": {
   "codemirror_mode": {
    "name": "ipython",
    "version": 3
   },
   "file_extension": ".py",
   "mimetype": "text/x-python",
   "name": "python",
   "nbconvert_exporter": "python",
   "pygments_lexer": "ipython3",
   "version": "3.8.16"
  }
 },
 "nbformat": 4,
 "nbformat_minor": 5
}
