{
 "cells": [
  {
   "cell_type": "markdown",
   "id": "d42dfe21-9916-4929-896b-e02991565316",
   "metadata": {},
   "source": [
    "### geocode\n"
   ]
  },
  {
   "cell_type": "code",
   "execution_count": 1,
   "id": "2c0491c4",
   "metadata": {},
   "outputs": [],
   "source": [
    "import numpy as np\n",
    "import rasterio as rio\n",
    "import xarray as xr\n",
    "import rioxarray\n",
    "import matplotlib.pyplot as plt\n",
    "from osgeo import gdal, gdal_array\n",
    "from mintpy.utils import readfile, writefile"
   ]
  },
  {
   "cell_type": "code",
   "execution_count": 2,
   "id": "3ee0b4fa",
   "metadata": {
    "scrolled": true
   },
   "outputs": [
    {
     "name": "stdout",
     "output_type": "stream",
     "text": [
      "number of processor to be used: 1\n",
      "resampling software: pyresample\n",
      "read latitude / longitude from lookup table file: ../data/swatch_27518/inputs/geometryRadar.h5\n",
      "calculate output pixel size using approach 1 (same pixel area before/after resampling)\n",
      "output pixel size in (lat, lon) in degree: (-4.374737602135722e-05, 6.521692284088274e-05)\n",
      "output area extent in (S, N, W, E) in degree: (39.119284050389496, 39.3392896044009, -106.83027858014111, -106.28428250211724)\n",
      "output file row / column number: (5029, 8372)\n",
      "[1/1] preparing geometry for dest_box: (0, 0, 8372, 5029) --> full src_box: (0, 0, 3142, 9564)\n",
      "--------------------------------------------------\n",
      "resampling file: ../data/swatch_27518/Igrams/20230725_20230925/filt_20230725_20230925_snaphu.unw\n",
      "--------------------------------------------------1/1\n",
      "reading magnitude in block (0, 0, 3142, 9564) from filt_20230725_20230925_snaphu.unw ...\n",
      "nearest resampling with pyresample.kd_tree using 1 CPU cores in 43 segments ...\n",
      "--------------------------------------------------1/1\n",
      "reading phase     in block (0, 0, 3142, 9564) from filt_20230725_20230925_snaphu.unw ...\n",
      "nearest resampling with pyresample.kd_tree using 1 CPU cores in 43 segments ...\n",
      "write file: geo_filt_20230725_20230925_snaphu.unw\n",
      "write file: geo_filt_20230725_20230925_snaphu.unw.rsc\n",
      "time used: 00 mins 32.6 secs.\n",
      "\n",
      "number of processor to be used: 1\n",
      "resampling software: pyresample\n",
      "read latitude / longitude from lookup table file: ../data/swatch_27518/inputs/geometryRadar.h5\n",
      "calculate output pixel size using approach 1 (same pixel area before/after resampling)\n",
      "output pixel size in (lat, lon) in degree: (-4.374737602135722e-05, 6.521692284088274e-05)\n",
      "output area extent in (S, N, W, E) in degree: (39.119284050389496, 39.3392896044009, -106.83027858014111, -106.28428250211724)\n",
      "output file row / column number: (5029, 8372)\n",
      "[1/1] preparing geometry for dest_box: (0, 0, 8372, 5029) --> full src_box: (0, 0, 3142, 9564)\n",
      "--------------------------------------------------\n",
      "resampling file: ../data/swatch_27518/Igrams/20230725_20230925/filt_20230725_20230925.cor\n",
      "--------------------------------------------------1/1\n",
      "reading band1 in block (0, 0, 3142, 9564) from filt_20230725_20230925.cor ...\n",
      "nearest resampling with pyresample.kd_tree using 1 CPU cores in 43 segments ...\n",
      "write file: geo_filt_20230725_20230925.cor\n",
      "write file: geo_filt_20230725_20230925.cor.rsc\n",
      "time used: 00 mins 17.5 secs.\n",
      "\n",
      "number of processor to be used: 1\n",
      "resampling software: pyresample\n",
      "read latitude / longitude from lookup table file: ../data/swatch_27518/inputs/geometryRadar.h5\n",
      "calculate output pixel size using approach 1 (same pixel area before/after resampling)\n",
      "output pixel size in (lat, lon) in degree: (-4.374737602135722e-05, 6.521692284088274e-05)\n",
      "output area extent in (S, N, W, E) in degree: (39.119284050389496, 39.3392896044009, -106.83027858014111, -106.28428250211724)\n",
      "output file row / column number: (5029, 8372)\n",
      "[1/1] preparing geometry for dest_box: (0, 0, 8372, 5029) --> full src_box: (0, 0, 3142, 9564)\n",
      "--------------------------------------------------\n",
      "resampling file: ../data/swatch_27518/inputs/geometryRadar.h5\n",
      "--------------------------------------------------\n",
      "grab dataset structure from ref_file: ../data/swatch_27518/inputs/geometryRadar.h5\n",
      "create HDF5 file: geo_geometryRadar.h5 with w mode\n",
      "create dataset  : azimuthAngle       of float32                   in size of (5029, 8372)         with compression = lzf\n",
      "create dataset  : height             of float32                   in size of (5029, 8372)         with compression = lzf\n",
      "create dataset  : incidenceAngle     of float32                   in size of (5029, 8372)         with compression = lzf\n",
      "create dataset  : latitude           of float32                   in size of (5029, 8372)         with compression = lzf\n",
      "create dataset  : longitude          of float32                   in size of (5029, 8372)         with compression = lzf\n",
      "create dataset  : slantRangeDistance of float32                   in size of (5029, 8372)         with compression = lzf\n",
      "close  HDF5 file: geo_geometryRadar.h5\n",
      "--------------------------------------------------1/1\n",
      "reading azimuthAngle       in block (0, 0, 3142, 9564) from geometryRadar.h5 ...\n",
      "nearest resampling with pyresample.kd_tree using 1 CPU cores in 43 segments ...\n",
      "write data in block [0, 5029, 0, 8372] to file: geo_geometryRadar.h5\n",
      "--------------------------------------------------1/1\n",
      "reading height             in block (0, 0, 3142, 9564) from geometryRadar.h5 ...\n",
      "nearest resampling with pyresample.kd_tree using 1 CPU cores in 43 segments ...\n",
      "write data in block [0, 5029, 0, 8372] to file: geo_geometryRadar.h5\n",
      "--------------------------------------------------1/1\n",
      "reading incidenceAngle     in block (0, 0, 3142, 9564) from geometryRadar.h5 ...\n",
      "nearest resampling with pyresample.kd_tree using 1 CPU cores in 43 segments ...\n",
      "write data in block [0, 5029, 0, 8372] to file: geo_geometryRadar.h5\n",
      "--------------------------------------------------1/1\n",
      "reading latitude           in block (0, 0, 3142, 9564) from geometryRadar.h5 ...\n",
      "nearest resampling with pyresample.kd_tree using 1 CPU cores in 43 segments ...\n",
      "write data in block [0, 5029, 0, 8372] to file: geo_geometryRadar.h5\n",
      "--------------------------------------------------1/1\n",
      "reading longitude          in block (0, 0, 3142, 9564) from geometryRadar.h5 ...\n",
      "nearest resampling with pyresample.kd_tree using 1 CPU cores in 43 segments ...\n",
      "write data in block [0, 5029, 0, 8372] to file: geo_geometryRadar.h5\n",
      "--------------------------------------------------1/1\n",
      "reading slantRangeDistance in block (0, 0, 3142, 9564) from geometryRadar.h5 ...\n",
      "nearest resampling with pyresample.kd_tree using 1 CPU cores in 43 segments ...\n",
      "write data in block [0, 5029, 0, 8372] to file: geo_geometryRadar.h5\n",
      "time used: 01 mins 44.9 secs.\n",
      "\n"
     ]
    }
   ],
   "source": [
    "#method 1\n",
    "!/mnt/Backups/gbrench/sw/isce2/src/MintPy/src/mintpy/cli/geocode.py ../data/swatch_27518/Igrams/*/filt*.unw -l ../data/swatch_27518/inputs/geometryRadar.h5 \n",
    "!/mnt/Backups/gbrench/sw/isce2/src/MintPy/src/mintpy/cli/geocode.py ../data/swatch_27518/Igrams/*/filt*.cor -l ../data/swatch_27518/inputs/geometryRadar.h5 \n",
    "!/mnt/Backups/gbrench/sw/isce2/src/MintPy/src/mintpy/cli/geocode.py ../data/swatch_27518/inputs/geometryRadar.h5 -l ../data/swatch_27518/inputs/geometryRadar.h5 "
   ]
  },
  {
   "cell_type": "code",
   "execution_count": 3,
   "id": "2a0deb69-bf25-41f9-b0b8-a533851b3a20",
   "metadata": {},
   "outputs": [
    {
     "name": "stdout",
     "output_type": "stream",
     "text": [
      "write file: geo_filt_20230725_20230925.cor.xml\n",
      "write file: geo_filt_20230725_20230925.cor.vrt\n",
      "write file: geo_filt_20230725_20230925_snaphu.unw.xml\n",
      "write file: geo_filt_20230725_20230925_snaphu.unw.vrt\n"
     ]
    }
   ],
   "source": [
    "# generate xmls\n",
    "meta={'BANDS' : '1',\n",
    "      'DATA_TYPE': 'float32',\n",
    "      'FILE_TYPE': 'hgt',\n",
    "      'FILE_LENGTH': str(5029), \n",
    "      'LENGTH': str(5029),\n",
    "      'WIDTH': str(8372),\n",
    "      'length': str(5029),\n",
    "      'width': str(8372)}\n",
    "\n",
    "writefile.write_isce_xml(meta, 'geo_filt_20230725_20230925.cor')\n",
    "\n",
    "meta['BANDS'] = '2'\n",
    "meta['INTERLEAVE'] = 'BIL'\n",
    "\n",
    "writefile.write_isce_xml(meta, 'geo_filt_20230725_20230925_snaphu.unw')"
   ]
  },
  {
   "cell_type": "code",
   "execution_count": 4,
   "id": "3cdebcd6-a7fe-4a79-a696-b4f6d99de44c",
   "metadata": {},
   "outputs": [],
   "source": [
    "# function to rewrite coordinates from metadata\n",
    "def coord_range(ds):\n",
    "    latrange = np.linspace(float(ds.attrs['Y_FIRST']),\n",
    "                           ((float(ds.attrs['Y_STEP'])*float(ds.attrs['LENGTH']))+float(ds.attrs['Y_FIRST'])),\n",
    "                           int(ds.attrs['LENGTH']))\n",
    "    lonrange = np.linspace(float(ds.attrs['X_FIRST']),\n",
    "                           ((float(ds.attrs['X_STEP'])*float(ds.attrs['WIDTH']))+float(ds.attrs['X_FIRST'])),\n",
    "                           int(ds.attrs['WIDTH']))\n",
    "    return latrange, lonrange\n",
    "\n",
    "def mintpy2d_to_xarray(fn, crs):\n",
    "    ds = xr.open_dataset(fn, engine='h5netcdf', phony_dims='sort')\n",
    "    ds = ds.rename_dims({'phony_dim_0':'y',\n",
    "                         'phony_dim_1':'x'\n",
    "                        })\n",
    "    latrange, lonrange = coord_range(ds)\n",
    "    ds = ds.assign_coords({'y': ('y', latrange),\n",
    "                          'x': ('x', lonrange)})\n",
    "    ds = ds.rio.write_crs(crs)\n",
    "    \n",
    "    return ds"
   ]
  },
  {
   "cell_type": "code",
   "execution_count": 5,
   "id": "fd56eaf8-7f17-45d6-b014-5ca88873b448",
   "metadata": {},
   "outputs": [
    {
     "name": "stderr",
     "output_type": "stream",
     "text": [
      "/mnt/Backups/gbrench/sw/miniconda3/envs/insar/lib/python3.11/site-packages/rioxarray/_io.py:1136: NotGeoreferencedWarning: Dataset has no geotransform, gcps, or rpcs. The identity matrix will be returned.\n",
      "  warnings.warn(str(rio_warning.message), type(rio_warning.message))  # type: ignore\n",
      "/mnt/Backups/gbrench/sw/miniconda3/envs/insar/lib/python3.11/site-packages/rioxarray/_io.py:1136: NotGeoreferencedWarning: Dataset has no geotransform, gcps, or rpcs. The identity matrix will be returned.\n",
      "  warnings.warn(str(rio_warning.message), type(rio_warning.message))  # type: ignore\n",
      "/mnt/Backups/gbrench/sw/miniconda3/envs/insar/lib/python3.11/site-packages/rioxarray/_io.py:1136: NotGeoreferencedWarning: Dataset has no geotransform, gcps, or rpcs. The identity matrix will be returned.\n",
      "  warnings.warn(str(rio_warning.message), type(rio_warning.message))  # type: ignore\n",
      "/mnt/Backups/gbrench/sw/miniconda3/envs/insar/lib/python3.11/site-packages/rioxarray/_io.py:1136: NotGeoreferencedWarning: Dataset has no geotransform, gcps, or rpcs. The identity matrix will be returned.\n",
      "  warnings.warn(str(rio_warning.message), type(rio_warning.message))  # type: ignore\n",
      "/mnt/Backups/gbrench/sw/miniconda3/envs/insar/lib/python3.11/site-packages/rioxarray/_io.py:1136: NotGeoreferencedWarning: Dataset has no geotransform, gcps, or rpcs. The identity matrix will be returned.\n",
      "  warnings.warn(str(rio_warning.message), type(rio_warning.message))  # type: ignore\n"
     ]
    }
   ],
   "source": [
    "# open geocoded data\n",
    "igram_ds = rioxarray.open_rasterio('geo_filt_20230725_20230925_snaphu.unw.vrt', band_as_variable=True)\n",
    "igram_ds = igram_ds.rio.write_crs('4326')\n",
    "\n",
    "cor_ds = rioxarray.open_rasterio('geo_filt_20230725_20230925.cor.vrt', band_as_variable=True)\n",
    "cor_ds = cor_ds.rio.write_crs('4326')\n",
    "\n",
    "ds = mintpy2d_to_xarray('geo_geometryRadar.h5', crs='4326')"
   ]
  },
  {
   "cell_type": "code",
   "execution_count": 6,
   "id": "d903085e-0efb-4700-9002-69e8d333774d",
   "metadata": {},
   "outputs": [],
   "source": [
    "# add to dataset\n",
    "ds['cor'] = (('y', 'x'), cor_ds.band_1.values)\n",
    "ds['phase_rad'] = (('y', 'x'), igram_ds.band_2.values)\n",
    "\n",
    "# convert to meters \n",
    "radarWavelength=0.238403545\n",
    "ds['phase_m'] = ds['phase_rad']*radarWavelength/12.5663706"
   ]
  },
  {
   "cell_type": "code",
   "execution_count": 7,
   "id": "6414986d-2a8d-499d-85f9-bd008199689f",
   "metadata": {},
   "outputs": [],
   "source": [
    "# export datasets\n",
    "export_dir = '../data/swatch_27518/geo'\n",
    "ds.phase_m.rio.to_raster(f'{export_dir}/swatch_27518_20230725_20230925_unw_phase_m.tif')\n",
    "ds.cor.rio.to_raster(f'{export_dir}/swatch_27518_20230725_20230925_cor.tif')\n",
    "!mv geo_geometry*.h5 $export_dir\n",
    "\n",
    "# remove isce datasets\n",
    "!rm geo_filt*"
   ]
  },
  {
   "cell_type": "code",
   "execution_count": null,
   "id": "810047e3-511b-4b5d-a91e-acbfe2b0c842",
   "metadata": {},
   "outputs": [],
   "source": [
    "f, ax = plt.subplots(figsize=(15, 15))\n",
    "ax.imshow(ds['phase_m'].values[4000:5000, 500:2500], cmap='RdBu_r', vmin=-0.5, vmax=0.5, interpolation='none')\n",
    "ax.set_title('InSAR unwrapped phase')\n",
    "f.tight_layout()"
   ]
  }
 ],
 "metadata": {
  "kernelspec": {
   "display_name": "Python 3 (ipykernel)",
   "language": "python",
   "name": "python3"
  },
  "language_info": {
   "codemirror_mode": {
    "name": "ipython",
    "version": 3
   },
   "file_extension": ".py",
   "mimetype": "text/x-python",
   "name": "python",
   "nbconvert_exporter": "python",
   "pygments_lexer": "ipython3",
   "version": "3.11.6"
  }
 },
 "nbformat": 4,
 "nbformat_minor": 5
}
