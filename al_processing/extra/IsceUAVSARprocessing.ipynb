{
 "cells": [
  {
   "cell_type": "markdown",
   "metadata": {},
   "source": [
    "# ISCE UAVSAR PROCESSING #\n"
   ]
  },
  {
   "cell_type": "markdown",
   "metadata": {},
   "source": [
    "# Notebook initial setup #\n",
    "Copy the python scripts provided in https://github.com/taliboliver/Isce_UAVSAR to the stripmapstack folder from isce.\n",
    "    \n",
    "    prepareUAVSAR_coregStack_segments.py\n",
    "    unpackFrame_UAVSAR_segments.py\n",
    "    crossmul_uavsar.py"
   ]
  },
  {
   "cell_type": "code",
   "execution_count": 1,
   "metadata": {},
   "outputs": [],
   "source": [
    "import os\n",
    "import numpy as np\n",
    "import matplotlib.pyplot as plt\n",
    "import sys\n",
    "# from mintpy.utils import readfile, writefile\n",
    "# import gdal"
   ]
  },
  {
   "cell_type": "markdown",
   "metadata": {},
   "source": [
    "# Download segments #\n",
    "In the home directory, create a folder named download"
   ]
  },
  {
   "cell_type": "code",
   "execution_count": 2,
   "metadata": {},
   "outputs": [
    {
     "data": {
      "text/plain": [
       "'/u/sar-r1/handwerg/insar/Colorado/AspenArea/UAVSAR/swatch_00540_01_BC'"
      ]
     },
     "execution_count": 2,
     "metadata": {},
     "output_type": "execute_result"
    }
   ],
   "source": [
    "pwd"
   ]
  },
  {
   "cell_type": "code",
   "execution_count": 3,
   "metadata": {},
   "outputs": [],
   "source": [
    "# proj_dir  = os.path.expanduser('/u/sar-r1/handwerg/insar/Colorado/AspenArea/UAVSAR/swatch_00540_01_BC')\n",
    "# path2scripts ='~/tools/isce2/src/isce2/contrib/stack/stripmapStack'"
   ]
  },
  {
   "cell_type": "code",
   "execution_count": null,
   "metadata": {},
   "outputs": [],
   "source": [
    "!mkdir download"
   ]
  },
  {
   "cell_type": "markdown",
   "metadata": {},
   "source": [
    "Copy and paste the links into a .sh file and run the command from the terminal as shown below. Run the sh in the download folder (for this example our .sh file name is links.sh)."
   ]
  },
  {
   "cell_type": "code",
   "execution_count": null,
   "metadata": {},
   "outputs": [],
   "source": [
    "# cd download\n",
    "# vi links.sh  \n",
    "# Paste links \n",
    "# sh links.sh"
   ]
  },
  {
   "cell_type": "markdown",
   "metadata": {},
   "source": [
    "Verify download outputs "
   ]
  },
  {
   "cell_type": "code",
   "execution_count": null,
   "metadata": {},
   "outputs": [],
   "source": [
    "!ls download/                      #check downloaded files "
   ]
  },
  {
   "cell_type": "markdown",
   "metadata": {},
   "source": [
    "# Prepare SLC's #\n",
    "Now we prepare the SLC's for isce processing. The following command prepares the data and metadata into SLC folders named using the convention yyyymmddThhmm (year/month/day/T/hour/mins). We first use the command -h to see the usage instructions. "
   ]
  },
  {
   "cell_type": "code",
   "execution_count": 11,
   "metadata": {},
   "outputs": [
    {
     "name": "stdout",
     "output_type": "stream",
     "text": [
      "usage: prepareUAVSAR_coregStack_segments.py [-h] -i INPUT -d DOPFILE -o OUTPUT\n",
      "                                            [-s SEGMENT] [-t TEXT_CMD]\n",
      "\n",
      "Unzip Alos zip files.\n",
      "\n",
      "optional arguments:\n",
      "  -h, --help            show this help message and exit\n",
      "  -i INPUT, --input INPUT\n",
      "                        directory which has all dates as directories. Inside\n",
      "                        each date, zip files are expected.\n",
      "  -d DOPFILE, --dop_file DOPFILE\n",
      "                        Doppler file for the stack.\n",
      "  -o OUTPUT, --output OUTPUT\n",
      "                        output directory which will be used for unpacking.\n",
      "  -s SEGMENT, --segment SEGMENT\n",
      "                        segment of the UAVSAR stack to prepare. For \"s2\" use\n",
      "                        \"2\", etc. Default is \"1\"\n",
      "  -t TEXT_CMD, --text_cmd TEXT_CMD\n",
      "                        text command to be added to the beginning of each line\n",
      "                        of the run files. Example : source ~/.bash_profile;\n"
     ]
    }
   ],
   "source": [
    "!python ~/tools/isce2/src/isce2/contrib/stack/stripmapStack/prepareUAVSAR_coregStack_segments.py -h"
   ]
  },
  {
   "cell_type": "markdown",
   "metadata": {},
   "source": [
    "We now run the command following the specifications above. We need to define download folder, doppler file and output folder. **important note** make sure to copy the doppler file (.dop) to the home processing folder as well."
   ]
  },
  {
   "cell_type": "code",
   "execution_count": null,
   "metadata": {},
   "outputs": [],
   "source": [
    "!cp download/*.dop .\n",
    "!ls "
   ]
  },
  {
   "cell_type": "code",
   "execution_count": null,
   "metadata": {},
   "outputs": [],
   "source": [
    "!python ~/tools/isce2/src/isce2/contrib/stack/stripmapStack/prepareUAVSAR_coregStack_segments.py -i download/ -d swatch_00540_01_BC.dop -o SLC"
   ]
  },
  {
   "cell_type": "code",
   "execution_count": 12,
   "metadata": {},
   "outputs": [
    {
     "name": "stdout",
     "output_type": "stream",
     "text": [
      "SLC/20230725T1652:\n",
      "data.bak  swatch_00540_23009_008_230725_L090HH_01_BC.ann\n",
      "data.dat  swatch_00540_23009_008_230725_L090HH_01_BC_s1_1x1.slc\n",
      "data.dir  swatch_00540_23009_008_230725_L090HH_01_BC_s1_1x1.slc.vrt\n",
      "data.rsc  swatch_00540_23009_008_230725_L090HH_01_BC_s1_1x1.slc.xml\n",
      "\n",
      "SLC/20230925T1740:\n",
      "data.bak\n",
      "data.dat\n",
      "data.dir\n",
      "swatch_00540_23018_002_230925_L090HH_01_BC.ann\n",
      "swatch_00540_23018_002_230925_L090HH_01_BC_s1_1x1.slc\n",
      "swatch_00540_23018_002_230925_L090HH_01_BC_s1_1x1.slc.vrt\n",
      "swatch_00540_23018_002_230925_L090HH_01_BC_s1_1x1.slc.xml\n"
     ]
    }
   ],
   "source": [
    "!ls SLC/*          #We check the output "
   ]
  },
  {
   "cell_type": "markdown",
   "metadata": {},
   "source": [
    "We can also use mdx to plot results as follows:"
   ]
  },
  {
   "cell_type": "markdown",
   "metadata": {},
   "source": [
    "# Interferogram generation #\n",
    "We can now compute the interferograms. We use crossmul_uavsar.py to generate the interferograms. Use option -h to see usage instructions. "
   ]
  },
  {
   "cell_type": "code",
   "execution_count": 16,
   "metadata": {},
   "outputs": [
    {
     "name": "stdout",
     "output_type": "stream",
     "text": [
      "usage: crossmul_uavsar.py [-h] -s SLCDIR [-n NUMCONNECTIONS] [-o OUTDIR]\n",
      "                          [-a AZLOOKS] [-r RGLOOKS]\n",
      "\n",
      "Generate offset field between two Sentinel swaths\n",
      "\n",
      "optional arguments:\n",
      "  -h, --help            show this help message and exit\n",
      "  -s SLCDIR, --slc_dir SLCDIR\n",
      "                        Directory with all SLC subdirectories\n",
      "  -n NUMCONNECTIONS, --num_connections NUMCONNECTIONS\n",
      "                        Directory with all SLC subdirectories\n",
      "  -o OUTDIR, --outdir OUTDIR\n",
      "                        Prefix of output int and amp files\n",
      "  -a AZLOOKS, --alks AZLOOKS\n",
      "                        Azimuth looks\n",
      "  -r RGLOOKS, --rlks RGLOOKS\n",
      "                        Range looks\n"
     ]
    }
   ],
   "source": [
    "!python3 ~/tools/isce2/src/isce2/contrib/stack/stripmapStack/crossmul_uavsar.py -h"
   ]
  },
  {
   "cell_type": "code",
   "execution_count": null,
   "metadata": {},
   "outputs": [],
   "source": [
    "#Run igram step outside of the notebook so can use screens\n",
    "#!python3 ~/tools/isce2/src/isce2/contrib/stack/stripmapStack/crossmul_uavsar.py -s SLC/ -a 8 -r 3 -o Igrams\n"
   ]
  },
  {
   "cell_type": "markdown",
   "metadata": {},
   "source": [
    "Now we go to the crossmul folder to see the results."
   ]
  },
  {
   "cell_type": "code",
   "execution_count": 17,
   "metadata": {},
   "outputs": [
    {
     "name": "stdout",
     "output_type": "stream",
     "text": [
      "20230725T1652_20230925T1740.amp\n",
      "20230725T1652_20230925T1740.amp.vrt\n",
      "20230725T1652_20230925T1740.amp.xml\n",
      "20230725T1652_20230925T1740.coh\n",
      "20230725T1652_20230925T1740.coh.vrt\n",
      "20230725T1652_20230925T1740.coh.xml\n",
      "20230725T1652_20230925T1740.conncomp\n",
      "20230725T1652_20230925T1740.conncomp.vrt\n",
      "20230725T1652_20230925T1740.conncomp.xml\n",
      "20230725T1652_20230925T1740.int\n",
      "20230725T1652_20230925T1740.int.vrt\n",
      "20230725T1652_20230925T1740.int.xml\n",
      "20230725T1652_20230925T1740.unw_icu.unw\n",
      "20230725T1652_20230925T1740.unw_icu.unw.rsc\n",
      "20230725T1652_20230925T1740.unw_icu.unw.vrt\n",
      "20230725T1652_20230925T1740.unw_icu.unw.xml\n",
      "20230725T1652_20230925T1740.unw_snaphu.unw\n",
      "20230725T1652_20230925T1740.unw_snaphu.unw.conncomp\n",
      "20230725T1652_20230925T1740.unw_snaphu.unw.conncomp.vrt\n",
      "20230725T1652_20230925T1740.unw_snaphu.unw.conncomp.xml\n",
      "20230725T1652_20230925T1740.unw_snaphu.unw.rsc\n",
      "20230725T1652_20230925T1740.unw_snaphu.unw.vrt\n",
      "20230725T1652_20230925T1740.unw_snaphu.unw.xml\n",
      "referenceShelve\n"
     ]
    }
   ],
   "source": [
    "!ls Igrams/*"
   ]
  },
  {
   "cell_type": "markdown",
   "metadata": {},
   "source": [
    "# Unwrapping #\n",
    "\n",
    "We perform the phase unwrapping step using snaphu, however ICU can also be used. "
   ]
  },
  {
   "cell_type": "code",
   "execution_count": 20,
   "metadata": {},
   "outputs": [
    {
     "data": {
      "text/plain": [
       "'/u/sar-r1/handwerg/insar/Colorado/AspenArea/UAVSAR/swatch_00540_01_BC'"
      ]
     },
     "execution_count": 20,
     "metadata": {},
     "output_type": "execute_result"
    }
   ],
   "source": [
    "pwd"
   ]
  },
  {
   "cell_type": "code",
   "execution_count": 26,
   "metadata": {},
   "outputs": [],
   "source": [
    "!ls Igrams/ | awk -F \"/\" '{print $1}' >> datelist.txt\n",
    "!awk -F \"_\" '{print \"unwrap.py -i Igrams/\"$1\"_\"$2\"/\"$1\"_\"$2\".int -u Igrams/\"$1\"_\"$2\"/\"$1\"_\"$2\".unw -c Igrams/\"$1\"_\"$2\"/\"$1\"_\"$2\".coh -a 8 -r 3 -s SLC/\"$1\"/ -m snaphu\"}' datelist.txt >> unwrap.sh\n",
    "\n",
    "\n",
    "#Run igram step outside of the notebook so can use screens\n",
    "# !sh unwrap.sh"
   ]
  },
  {
   "cell_type": "code",
   "execution_count": 27,
   "metadata": {},
   "outputs": [
    {
     "name": "stdout",
     "output_type": "stream",
     "text": [
      "20230725T1652_20230925T1740.amp\n",
      "20230725T1652_20230925T1740.amp.vrt\n",
      "20230725T1652_20230925T1740.amp.xml\n",
      "20230725T1652_20230925T1740.coh\n",
      "20230725T1652_20230925T1740.coh.vrt\n",
      "20230725T1652_20230925T1740.coh.xml\n",
      "20230725T1652_20230925T1740.conncomp\n",
      "20230725T1652_20230925T1740.conncomp.vrt\n",
      "20230725T1652_20230925T1740.conncomp.xml\n",
      "20230725T1652_20230925T1740.int\n",
      "20230725T1652_20230925T1740.int.vrt\n",
      "20230725T1652_20230925T1740.int.xml\n",
      "20230725T1652_20230925T1740.unw_icu.unw\n",
      "20230725T1652_20230925T1740.unw_icu.unw.rsc\n",
      "20230725T1652_20230925T1740.unw_icu.unw.vrt\n",
      "20230725T1652_20230925T1740.unw_icu.unw.xml\n",
      "20230725T1652_20230925T1740.unw_snaphu.unw\n",
      "20230725T1652_20230925T1740.unw_snaphu.unw.conncomp\n",
      "20230725T1652_20230925T1740.unw_snaphu.unw.conncomp.vrt\n",
      "20230725T1652_20230925T1740.unw_snaphu.unw.conncomp.xml\n",
      "20230725T1652_20230925T1740.unw_snaphu.unw.rsc\n",
      "20230725T1652_20230925T1740.unw_snaphu.unw.vrt\n",
      "20230725T1652_20230925T1740.unw_snaphu.unw.xml\n",
      "referenceShelve\n"
     ]
    }
   ],
   "source": [
    "!ls Igrams/*   #We check the output"
   ]
  }
 ],
 "metadata": {
  "kernelspec": {
   "display_name": "Python 3",
   "language": "python",
   "name": "python3"
  },
  "language_info": {
   "codemirror_mode": {
    "name": "ipython",
    "version": 3
   },
   "file_extension": ".py",
   "mimetype": "text/x-python",
   "name": "python",
   "nbconvert_exporter": "python",
   "pygments_lexer": "ipython3",
   "version": "3.8.16"
  }
 },
 "nbformat": 4,
 "nbformat_minor": 2
}
