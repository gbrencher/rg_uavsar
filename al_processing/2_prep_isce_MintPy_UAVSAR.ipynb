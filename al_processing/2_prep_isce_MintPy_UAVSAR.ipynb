{
 "cells": [
  {
   "cell_type": "markdown",
   "id": "d42dfe21-9916-4929-896b-e02991565316",
   "metadata": {},
   "source": [
    "### Prep data and Load into MintPy \n"
   ]
  },
  {
   "cell_type": "code",
   "execution_count": null,
   "id": "e3c191b9",
   "metadata": {},
   "outputs": [],
   "source": [
    "!prep_isce.py -h"
   ]
  },
  {
   "cell_type": "code",
   "execution_count": 1,
   "id": "9891d417",
   "metadata": {},
   "outputs": [
    {
     "name": "stdout",
     "output_type": "stream",
     "text": [
      "extract metadata from ISCE/stripmapStack shelve file: ./Igrams/20230725_20230925/referenceShelve/data.dat\n",
      "extract metadata from geometry files: ['hgt.rdr', 'lat.rdr', 'lon.rdr', 'los.rdr']\n",
      "writing  ./Igrams/20230725_20230925/referenceShelve/data.rsc\n",
      "preparing RSC file for geometry files\n",
      "write file: /u/sar-r1/handwerg/insar/Colorado/AspenArea/UAVSAR/swatch_18525_01_BC/geom_reference/geometry8x3/hgt.rdr.rsc\n",
      "write file: /u/sar-r1/handwerg/insar/Colorado/AspenArea/UAVSAR/swatch_18525_01_BC/geom_reference/geometry8x3/lat.rdr.rsc\n",
      "write file: /u/sar-r1/handwerg/insar/Colorado/AspenArea/UAVSAR/swatch_18525_01_BC/geom_reference/geometry8x3/lon.rdr.rsc\n",
      "write file: /u/sar-r1/handwerg/insar/Colorado/AspenArea/UAVSAR/swatch_18525_01_BC/geom_reference/geometry8x3/los.rdr.rsc\n",
      "read perp baseline time-series from ./baselines/\n",
      "preparing RSC file for: ./Igrams/*/*.unw\n",
      "Done.\n"
     ]
    }
   ],
   "source": [
    "!prep_isce.py -f \"./Igrams/*/*.unw\" -m ./Igrams/*/referenceShelve/data.dat -b ./baselines/ -g ./geom_reference/geometry8x3/"
   ]
  },
  {
   "cell_type": "code",
   "execution_count": null,
   "id": "6066e92f",
   "metadata": {},
   "outputs": [],
   "source": [
    "!load_data.py -h"
   ]
  },
  {
   "cell_type": "code",
   "execution_count": 2,
   "id": "bd21cd3d",
   "metadata": {},
   "outputs": [
    {
     "name": "stdout",
     "output_type": "stream",
     "text": [
      "processor : isce\n",
      "SAR platform/sensor : unknown from project name \"None\"\n",
      "--------------------------------------------------\n",
      "prepare metadata files for isce products\n",
      "prep_isce.py -m ./Igrams/20230725_20230925/referenceShelve/data.dat -g /u/sar-r1/handwerg/insar/Colorado/AspenArea/UAVSAR/swatch_18525_01_BC/geom_reference/geometry8x3 -b ./baselines -f \"./Igrams/*/filt*.unw\" --geom-files hgt.rdr lat.rdr lon.rdr los.rdr los.rdr\n",
      "['./Igrams/20230725_20230925/referenceShelve/data.rsc'] exists and is newer than ['./Igrams/20230725_20230925/referenceShelve/data.dat'] --> skip.\n",
      "preparing RSC file for geometry files\n",
      "read perp baseline time-series from ./baselines\n",
      "preparing RSC file for: ./Igrams/*/filt*.unw\n",
      "Done.\n",
      "--------------------------------------------------\n",
      "updateMode : True\n",
      "compression: None\n",
      "multilook x/ystep: 1/1\n",
      "multilook method : nearest\n",
      "--------------------------------------------------\n",
      "searching geometry files info\n",
      "input data files:\n",
      "height          : ./geom_reference/geometry8x3/hgt.rdr\n",
      "latitude        : ./geom_reference/geometry8x3/lat.rdr\n",
      "longitude       : ./geom_reference/geometry8x3/lon.rdr\n",
      "incidenceAngle  : ./geom_reference/geometry8x3/los.rdr\n",
      "azimuthAngle    : ./geom_reference/geometry8x3/los.rdr\n",
      "--------------------------------------------------\n",
      "create directory: /u/sar-r1/handwerg/insar/Colorado/AspenArea/UAVSAR/swatch_18525_01_BC/inputs\n",
      "create HDF5 file /u/sar-r1/handwerg/insar/Colorado/AspenArea/UAVSAR/swatch_18525_01_BC/inputs/geometryRadar.h5 with w mode\n",
      "create dataset /height             of <class 'numpy.float32'>   in size of (10520, 3127) with compression = lzf\n",
      "create dataset /latitude           of <class 'numpy.float32'>   in size of (10520, 3127) with compression = lzf\n",
      "create dataset /longitude          of <class 'numpy.float32'>   in size of (10520, 3127) with compression = lzf\n",
      "create dataset /incidenceAngle     of <class 'numpy.float32'>   in size of (10520, 3127) with compression = lzf\n",
      "create dataset /azimuthAngle       of <class 'numpy.float32'>   in size of (10520, 3127) with compression = lzf\n",
      "prepare slantRangeDistance ...\n",
      "create dataset /slantRangeDistance of <class 'numpy.float32'>   in size of (10520, 3127) with compression = lzf\n",
      "Finished writing to /u/sar-r1/handwerg/insar/Colorado/AspenArea/UAVSAR/swatch_18525_01_BC/inputs/geometryRadar.h5\n",
      "--------------------------------------------------\n",
      "searching interferogram pairs info\n",
      "input data files:\n",
      "unwrapPhase     : ./Igrams/*/filt*.unw\n",
      "coherence       : ./Igrams/*/filt*.cor\n",
      "number of unwrapPhase     : 1\n",
      "number of coherence       : 1\n",
      "--------------------------------------------------\n",
      "create HDF5 file /u/sar-r1/handwerg/insar/Colorado/AspenArea/UAVSAR/swatch_18525_01_BC/inputs/ifgramStack.h5 with w mode\n",
      "create dataset /unwrapPhase of <class 'numpy.float32'>   in size of (1, 10520, 3127) with compression = None\n",
      "[==================================================] 20230725_20230925 \n",
      "create dataset /coherence   of <class 'numpy.float32'>   in size of (1, 10520, 3127) with compression = None\n",
      "[==================================================] 20230725_20230925 \n",
      "create dataset /date        of <class 'numpy.bytes_'>    in size of (1, 2)\n",
      "create dataset /bperp       of <class 'numpy.float32'>   in size of (1,)\n",
      "create dataset /dropIfgram  of <class 'numpy.bool_'>     in size of (1,)\n",
      "Finished writing to /u/sar-r1/handwerg/insar/Colorado/AspenArea/UAVSAR/swatch_18525_01_BC/inputs/ifgramStack.h5\n",
      "--------------------------------------------------\n",
      "searching ionosphere pairs info\n",
      "input data files:\n",
      "WARNING: No data files found for the required dataset: ['unwrapPhase']! Skip loading for ionosphere stack.\n",
      "--------------------------------------------------\n",
      "searching offset pairs info\n",
      "input data files:\n",
      "WARNING: No data files found for the required dataset: ['rangeOffset', 'azimuthOffset']! Skip loading for offset stack.\n",
      "time used: 00 mins 5.8 secs.\n",
      "\n"
     ]
    }
   ],
   "source": [
    "!load_data.py -t smallbaselineApp.cfg"
   ]
  },
  {
   "cell_type": "code",
   "execution_count": null,
   "id": "afe85b4b",
   "metadata": {},
   "outputs": [],
   "source": [
    "#Calculate spatial coherence.\n",
    "!temporal_average.py ifgramStack.h5 -d coherence -o avgSpatialCoh.h5\n"
   ]
  },
  {
   "cell_type": "markdown",
   "id": "5f676254-e7ea-4781-a48b-d8349f0f3bf3",
   "metadata": {},
   "source": [
    "### Final Notes:\n",
    "- Outputs can be multilooked using looks.py from ISCE or any other algorithm of choice. "
   ]
  },
  {
   "cell_type": "code",
   "execution_count": null,
   "id": "89d060fe-2f49-471b-a203-d50ba487188f",
   "metadata": {},
   "outputs": [],
   "source": [
    "# !bash ./run_multilook_geometry.sh 8 3 #desired azimuth and range looks "
   ]
  }
 ],
 "metadata": {
  "kernelspec": {
   "display_name": "Python 3 (ipykernel)",
   "language": "python",
   "name": "python3"
  },
  "language_info": {
   "codemirror_mode": {
    "name": "ipython",
    "version": 3
   },
   "file_extension": ".py",
   "mimetype": "text/x-python",
   "name": "python",
   "nbconvert_exporter": "python",
   "pygments_lexer": "ipython3",
   "version": "3.8.16"
  }
 },
 "nbformat": 4,
 "nbformat_minor": 5
}
