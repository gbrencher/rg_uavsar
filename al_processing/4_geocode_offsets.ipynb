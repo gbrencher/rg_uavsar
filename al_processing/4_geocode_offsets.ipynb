{
 "cells": [
  {
   "cell_type": "markdown",
   "id": "d42dfe21-9916-4929-896b-e02991565316",
   "metadata": {},
   "source": [
    "### geocode and generate masks\n"
   ]
  },
  {
   "cell_type": "code",
   "execution_count": null,
   "id": "e3c191b9",
   "metadata": {},
   "outputs": [],
   "source": [
    "!geocode.py -h"
   ]
  },
  {
   "cell_type": "code",
   "execution_count": 2,
   "id": "9891d417",
   "metadata": {},
   "outputs": [
    {
     "name": "stdout",
     "output_type": "stream",
     "text": [
      "number of processor to be used: 1\n",
      "resampling software: pyresample\n",
      "read latitude / longitude from lookup table file: ./geom_reference/geometry32x16/lat.rdr\n",
      "calculate output pixel size using approach 1 (same pixel area before/after resampling)\n",
      "WARNING: NOT all required metadata are found. Missing metadata: ['AZIMUTH_PIXEL_SIZE', 'HEADING', 'HEIGHT', 'RANGE_PIXEL_SIZE', 'STARTING_RANGE']. Switch to approach 2.\n",
      "calculate output pixel size using approach 2 (same matrix shape before/after resampling)\n",
      "output pixel size in (lat, lon) in degree: (-9.163253975712605e-05, 0.0009281911006590137)\n",
      "output area extent in (S, N, W, E) in degree: (39.11941524330044, 39.338508645859726, -106.83061851449564, -106.28391395620748)\n",
      "output file row / column number: (2391, 589)\n",
      "[1/1] preparing geometry for dest_box: (0, 0, 589, 2391) --> full src_box: (0, 0, 589, 2391)\n",
      "--------------------------------------------------\n",
      "resampling file: ./pixel_tracking/offset.bil\n",
      "--------------------------------------------------1/1\n",
      "reading azimuthOffset in block (0, 0, 589, 2391) from offset.bil ...\n",
      "nearest resampling with pyresample.kd_tree using 1 CPU cores in 2 segments ...\n",
      "--------------------------------------------------1/1\n",
      "reading rangeOffset   in block (0, 0, 589, 2391) from offset.bil ...\n",
      "nearest resampling with pyresample.kd_tree using 1 CPU cores in 2 segments ...\n",
      "write file: geo_offset.bil\n",
      "write file: geo_offset.bil.rsc\n",
      "write file: geo_offset.bil.xml\n",
      "write file: geo_offset.bil.vrt\n",
      "time used: 00 mins 1.2 secs.\n",
      "\n"
     ]
    }
   ],
   "source": [
    "!geocode.py ./pixel_tracking/offset.bil --lat-file ./geom_reference/geometry32x16/lat.rdr --lon-file ./geom_reference/geometry32x16/lon.rdr\n"
   ]
  },
  {
   "cell_type": "code",
   "execution_count": 3,
   "id": "708730ba",
   "metadata": {},
   "outputs": [
    {
     "name": "stdout",
     "output_type": "stream",
     "text": [
      "number of processor to be used: 1\n",
      "resampling software: pyresample\n",
      "read latitude / longitude from lookup table file: ./geom_reference/geometry32x16/lat.rdr\n",
      "calculate output pixel size using approach 1 (same pixel area before/after resampling)\n",
      "WARNING: NOT all required metadata are found. Missing metadata: ['AZIMUTH_PIXEL_SIZE', 'HEADING', 'HEIGHT', 'RANGE_PIXEL_SIZE', 'STARTING_RANGE']. Switch to approach 2.\n",
      "calculate output pixel size using approach 2 (same matrix shape before/after resampling)\n",
      "output pixel size in (lat, lon) in degree: (-9.163253975712605e-05, 0.0009281911006590137)\n",
      "output area extent in (S, N, W, E) in degree: (39.11941524330044, 39.338508645859726, -106.83061851449564, -106.28391395620748)\n",
      "output file row / column number: (2391, 589)\n",
      "[1/1] preparing geometry for dest_box: (0, 0, 589, 2391) --> full src_box: (0, 0, 589, 2391)\n",
      "--------------------------------------------------\n",
      "resampling file: ./pixel_tracking/snr.bil\n",
      "--------------------------------------------------1/1\n",
      "reading band1 in block (0, 0, 589, 2391) from snr.bil ...\n",
      "nearest resampling with pyresample.kd_tree using 1 CPU cores in 2 segments ...\n",
      "write file: geo_snr.bil\n",
      "write file: geo_snr.bil.rsc\n",
      "write file: geo_snr.bil.xml\n",
      "write file: geo_snr.bil.vrt\n",
      "time used: 00 mins 1.0 secs.\n",
      "\n"
     ]
    }
   ],
   "source": [
    "!geocode.py ./pixel_tracking/snr.bil --lat-file ./geom_reference/geometry32x16/lat.rdr --lon-file ./geom_reference/geometry32x16/lon.rdr\n"
   ]
  },
  {
   "cell_type": "code",
   "execution_count": null,
   "id": "58377ea3",
   "metadata": {},
   "outputs": [],
   "source": [
    "!generate_mask.py -h"
   ]
  },
  {
   "cell_type": "code",
   "execution_count": 4,
   "id": "4cc0f98e",
   "metadata": {},
   "outputs": [
    {
     "name": "stdout",
     "output_type": "stream",
     "text": [
      "input snr file: geo_snr.bil\n",
      "read geo_snr.bil\n",
      "create initial mask with the same size as the input file and all = 1\n",
      "all pixels with nan value = 0\n",
      "exclude pixels with value < 10.0\n",
      "create HDF5 file: geo_snrMask.h5 with w mode\n",
      "create dataset /mask of bool       in size of (2391, 589)          with compression=None\n",
      "finished writing to geo_snrMask.h5\n",
      "time used: 00 mins 0.0 secs.\n"
     ]
    }
   ],
   "source": [
    "!generate_mask.py geo_snr.bil -m 10 -o geo_snrMask.h5"
   ]
  },
  {
   "cell_type": "code",
   "execution_count": 13,
   "id": "bd21cd3d",
   "metadata": {},
   "outputs": [
    {
     "name": "stdout",
     "output_type": "stream",
     "text": [
      "mv: cannot stat ‘geo*_snr*bil*’: No such file or directory\n"
     ]
    },
    {
     "name": "stdout",
     "output_type": "stream",
     "text": [
      "mv: cannot stat ‘geo_snrMask*’: No such file or directory\n"
     ]
    }
   ],
   "source": [
    "!mv geo*_offset*bil* ./pixel_tracking/\n",
    "!mv geo*_snr*bil* ./pixel_tracking/\n",
    "!mv geo_snrMask* ./pixel_tracking/\n"
   ]
  },
  {
   "cell_type": "code",
   "execution_count": 12,
   "id": "fa8b478b",
   "metadata": {},
   "outputs": [
    {
     "name": "stdout",
     "output_type": "stream",
     "text": [
      "data   coverage in y/x: (0, 0, 589, 2391)\n",
      "subset coverage in y/x: (0, 0, 589, 2391)\n",
      "update LENGTH, WIDTH, Y/XMAX\n",
      "update/add SUBSET_XMIN/YMIN/XMAX/YMAX: 0/0/589/2391\n",
      "update Y/X_FIRST\n",
      "read mask from file: geo_snrMask.h5\n",
      "masking out pixels with zero value in file: ./pixel_tracking/geo_snrMask.h5\n",
      "Un-scalable display unit: cm\n",
      "colormap: jet\n",
      "plotting data ...\n",
      "figure size : [20.0, 8.0]\n",
      "no plot for reference point.\n",
      "writing /u/sar-r1/handwerg/insar/Colorado/AspenArea/UAVSAR/swatch_27518_01_BC/geo_offset.bil.png with dpi=600\n",
      "writing /u/sar-r1/handwerg/insar/Colorado/AspenArea/UAVSAR/swatch_27518_01_BC/geo_offset.bil_cbar.png\n",
      "writing /u/sar-r1/handwerg/insar/Colorado/AspenArea/UAVSAR/swatch_27518_01_BC/geo_offset.bil.kml\n",
      "remove /u/sar-r1/handwerg/insar/Colorado/AspenArea/UAVSAR/swatch_27518_01_BC/geo_offset.bil.kml\n",
      "remove /u/sar-r1/handwerg/insar/Colorado/AspenArea/UAVSAR/swatch_27518_01_BC/geo_offset.bil.png\n",
      "remove /u/sar-r1/handwerg/insar/Colorado/AspenArea/UAVSAR/swatch_27518_01_BC/geo_offset.bil_cbar.png\n",
      "merged all files to /u/sar-r1/handwerg/insar/Colorado/AspenArea/UAVSAR/swatch_27518_01_BC/geo_offset.bil.kmz\n"
     ]
    }
   ],
   "source": [
    "!save_kmz.py ./pixel_tracking/geo_offset.bil -m ./pixel_tracking/geo_snrMask.h5 -v -.6 .6"
   ]
  },
  {
   "cell_type": "code",
   "execution_count": 9,
   "id": "1dec0d8f",
   "metadata": {},
   "outputs": [],
   "source": [
    "#gdal_translate -b 1 -of ENVI input_image output_image\n",
    "#gdal_translate -of Gtiff in_image output_image.tif\n"
   ]
  }
 ],
 "metadata": {
  "kernelspec": {
   "display_name": "Python 3 (ipykernel)",
   "language": "python",
   "name": "python3"
  },
  "language_info": {
   "codemirror_mode": {
    "name": "ipython",
    "version": 3
   },
   "file_extension": ".py",
   "mimetype": "text/x-python",
   "name": "python",
   "nbconvert_exporter": "python",
   "pygments_lexer": "ipython3",
   "version": "3.8.16"
  }
 },
 "nbformat": 4,
 "nbformat_minor": 5
}
