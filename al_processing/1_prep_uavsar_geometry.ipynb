{
 "cells": [
  {
   "cell_type": "markdown",
   "id": "d42dfe21-9916-4929-896b-e02991565316",
   "metadata": {},
   "source": [
    "### Prepare geometry files for time series analysis \n",
    "1. concatenate multiple segments\n",
    "2. downsample to full resolution, and save to the isce2 format\n",
    "### Reference: \n",
    "- UAVSAR file format: https://uavsar.jpl.nasa.gov/science/documents/stack-format.html\n",
    "### Notes:\n",
    "- The notebook inputs require .lkv, .llh and one .ann files. \n",
    "- This notebook has been modified by Talib Oliver (https://github.com/taliboliver) from an original notebook created by Yunjun Zhang (https://github.com/yunjunz). "
   ]
  },
  {
   "cell_type": "code",
   "execution_count": 1,
   "id": "14885d98-1d36-4a07-a6b7-312b009875c4",
   "metadata": {},
   "outputs": [
    {
     "name": "stdout",
     "output_type": "stream",
     "text": [
      "Go to directory: /mnt/Backups/gbrench/repos/rg_uavsar/data/swatch_17304_s2/geom_reference\n"
     ]
    }
   ],
   "source": [
    "%matplotlib inline\n",
    "import os\n",
    "import glob\n",
    "import numpy as np\n",
    "from matplotlib import pyplot as plt\n",
    "from skimage.transform import resize\n",
    "from mintpy.utils import readfile, writefile\n",
    "plt.rcParams.update({'font.size': 12})\n",
    "\n",
    "proj_dir  = os.path.expanduser('/mnt/Backups/gbrench/repos/rg_uavsar/data/swatch_17304_s2/geom_reference')\n",
    "os.makedirs(proj_dir, exist_ok=True)\n",
    "\n",
    "os.chdir(proj_dir)\n",
    "print('Go to directory:', proj_dir)\n",
    "\n",
    "# inputs\n",
    "dload_dir  = os.path.expanduser('/mnt/Backups/gbrench/repos/rg_uavsar/data/swatch_17304_s2/download')\n",
    "\n",
    "# output dir\n",
    "geom_dir  = os.path.join(proj_dir, 'geometry1x1')\n",
    "os.makedirs(geom_dir, exist_ok=True)"
   ]
  },
  {
   "cell_type": "code",
   "execution_count": 2,
   "id": "47940567-6ff7-48d3-9206-76d9c49fa3a4",
   "metadata": {},
   "outputs": [
    {
     "name": "stdout",
     "output_type": "stream",
     "text": [
      "full size: 66664 x 9363\n"
     ]
    }
   ],
   "source": [
    "# # link: https://uavsar.jpl.nasa.gov/science/documents/stack-format.html\n",
    "# ann_file = glob.glob(os.path.join(dload_dir, '*.ann'))[0]\n",
    "# ann_dict = readfile.read_uavsar_ann(ann_file)\n",
    "# num_seg = int(ann_dict['Number of Segments'])\n",
    "# # size info\n",
    "# length, width = 0, 0\n",
    "# for i in range(1,num_seg+1):\n",
    "#     length += int(ann_dict[f'slc_{i}_1x1 Rows'])\n",
    "#     width = int(ann_dict[f'slc_{i}_1x1 Columns'])\n",
    "# print(f'full size: {length} x {width}')\n",
    "# # flight info\n",
    "# site, line = os.path.splitext(os.path.basename(ann_file))[0].split('_')[:2]\n",
    "# ver, bcorr = os.path.splitext(os.path.basename(ann_file))[0].split('_')[-2:]"
   ]
  },
  {
   "cell_type": "code",
   "execution_count": 2,
   "id": "7e8aa65e-081a-4c49-8aaa-4d610e0cf4b5",
   "metadata": {},
   "outputs": [
    {
     "name": "stdout",
     "output_type": "stream",
     "text": [
      "full size: 55432 x 9363\n"
     ]
    }
   ],
   "source": [
    "# link: https://uavsar.jpl.nasa.gov/science/documents/stack-format.html\n",
    "ann_file = glob.glob(os.path.join(dload_dir, '*.ann'))[0]\n",
    "ann_dict = readfile.read_uavsar_ann(ann_file)\n",
    "# size info\n",
    "length, width = 0, 0\n",
    "length += int(ann_dict[f'slc_2_1x1 Rows'])\n",
    "width = int(ann_dict[f'slc_2_1x1 Columns'])\n",
    "print(f'full size: {length} x {width}')\n",
    "# flight info\n",
    "site, line = os.path.splitext(os.path.basename(ann_file))[0].split('_')[:2]\n",
    "ver, bcorr = os.path.splitext(os.path.basename(ann_file))[0].split('_')[-2:]"
   ]
  },
  {
   "cell_type": "markdown",
   "id": "a4e0c43f-3fd7-45a6-9f25-ff6d548367ef",
   "metadata": {},
   "source": [
    "### 1. Concatenate the <code>*.lkv/llh</code> files"
   ]
  },
  {
   "cell_type": "code",
   "execution_count": 3,
   "id": "616a5e3b-07d5-4dde-b152-fc6b7094936f",
   "metadata": {},
   "outputs": [
    {
     "name": "stdout",
     "output_type": "stream",
     "text": [
      "read data from file swatch_17304_01_BC_s1_2x8.lkv and append to file swatch_17304_01_BC_2x8.lkv\n",
      "read data from file swatch_17304_01_BC_s1_2x8.llh and append to file swatch_17304_01_BC_2x8.llh\n"
     ]
    }
   ],
   "source": [
    "# # rerun = False\n",
    "# rerun = True\n",
    "# for fext in ['.lkv', '.llh']:\n",
    "#     out_file = os.path.join(dload_dir, f'{site}_{line}_{ver}_{bcorr}_2x8{fext}')\n",
    "#     if rerun or not os.path.isfile(out_file):\n",
    "#         for seg in range(1, num_seg+1):\n",
    "#             seg_file = os.path.join(dload_dir, f'{site}_{line}_{ver}_{bcorr}_s{seg}_2x8{fext}')\n",
    "#             with open(out_file, 'ab') as f:\n",
    "#                 print(f'read data from file {os.path.basename(seg_file)} and append to file {os.path.basename(out_file)}')\n",
    "#                 data = np.fromfile(seg_file, dtype=np.float32)\n",
    "#                 f.write(data)\n",
    "\n",
    "# # output file names\n",
    "# lkv_file = os.path.join(dload_dir, f'{site}_{line}_{ver}_{bcorr}_2x8.lkv')\n",
    "# llh_file = os.path.join(dload_dir, f'{site}_{line}_{ver}_{bcorr}_2x8.llh')"
   ]
  },
  {
   "cell_type": "code",
   "execution_count": 3,
   "id": "7ef8c519-b373-4150-bcbb-8f96da95a162",
   "metadata": {},
   "outputs": [
    {
     "name": "stdout",
     "output_type": "stream",
     "text": [
      "read data from file swatch_17304_01_BC_s2_2x8.lkv and append to file swatch_17304_01_BC_2x8.lkv\n",
      "read data from file swatch_17304_01_BC_s2_2x8.llh and append to file swatch_17304_01_BC_2x8.llh\n"
     ]
    }
   ],
   "source": [
    "# rerun = False\n",
    "rerun = True\n",
    "for fext in ['.lkv', '.llh']:\n",
    "    out_file = os.path.join(dload_dir, f'{site}_{line}_{ver}_{bcorr}_2x8{fext}')\n",
    "    if rerun or not os.path.isfile(out_file):\n",
    "        seg_file = os.path.join(dload_dir, f'{site}_{line}_{ver}_{bcorr}_s2_2x8{fext}')\n",
    "        with open(out_file, 'ab') as f:\n",
    "            print(f'read data from file {os.path.basename(seg_file)} and append to file {os.path.basename(out_file)}')\n",
    "            data = np.fromfile(seg_file, dtype=np.float32)\n",
    "            f.write(data)\n",
    "\n",
    "# output file names\n",
    "lkv_file = os.path.join(dload_dir, f'{site}_{line}_{ver}_{bcorr}_2x8.lkv')\n",
    "llh_file = os.path.join(dload_dir, f'{site}_{line}_{ver}_{bcorr}_2x8.llh')"
   ]
  },
  {
   "cell_type": "markdown",
   "id": "83949fc9-638f-4288-8492-d9b383f4a225",
   "metadata": {},
   "source": [
    "### 2. Crop, resize and convert to <code>ISCE-2</code> format"
   ]
  },
  {
   "cell_type": "code",
   "execution_count": 4,
   "id": "12d08a30-686d-4a98-90f0-46c32c400ffe",
   "metadata": {},
   "outputs": [
    {
     "name": "stdout",
     "output_type": "stream",
     "text": [
      "crop index: {'x_start': 0, 'y_start': 0, 'x_step': 1, 'y_step': 1, 'x_num': 4681, 'y_num': 6929}\n"
     ]
    }
   ],
   "source": [
    "x0, y0 = 0, 0\n",
    "rlooks, alooks = 2, 8 ## Current geometry file resolution,  #ALH Chng\n",
    "x_step = int(rlooks) ### Reading a 2*8 geometry file that needs to be downsampled #ALH Chng\n",
    "y_step = int(alooks) ###  #ALH Chng\n",
    "x_num = width // x_step\n",
    "y_num = length // y_step\n",
    "\n",
    "# crop index with respect to the multilooked geometry\n",
    "x0 = x0 // rlooks\n",
    "y0 = y0 // alooks\n",
    "x_step = x_step // rlooks\n",
    "y_step = y_step // alooks\n",
    "\n",
    "\n",
    "geom_dict = {\n",
    "    'x_start' : x0,\n",
    "    'y_start' : y0,\n",
    "    'x_step'  : x_step,\n",
    "    'y_step'  : y_step,\n",
    "    'x_num'   : x_num,\n",
    "    'y_num'   : y_num,\n",
    "}\n",
    "print(f'crop index: {geom_dict}')"
   ]
  },
  {
   "cell_type": "code",
   "execution_count": 5,
   "id": "75e7c3db-59d8-4c15-be94-36b674a8900a",
   "metadata": {},
   "outputs": [
    {
     "name": "stdout",
     "output_type": "stream",
     "text": [
      "Reading and resizeing done, file size and type is:  (55432, 9363) float32\n"
     ]
    }
   ],
   "source": [
    "# read and resize\n",
    "# kwargs = dict(output_shape=(length, width), order=1, mode='edge', preserve_range=True)\n",
    "lat   = readfile.read(llh_file, datasetName='latitude' )[0][y0::y_step, x0::x_step][:y_num, :x_num]\n",
    "lon   = readfile.read(llh_file, datasetName='longitude')[0][y0::y_step, x0::x_step][:y_num, :x_num]\n",
    "hgt   = readfile.read(llh_file, datasetName='height'   )[0][y0::y_step, x0::x_step][:y_num, :x_num]\n",
    "lkv_e = readfile.read(lkv_file, datasetName='east'     )[0][y0::y_step, x0::x_step][:y_num, :x_num]\n",
    "lkv_n = readfile.read(lkv_file, datasetName='north'    )[0][y0::y_step, x0::x_step][:y_num, :x_num]\n",
    "lkv_u = readfile.read(lkv_file, datasetName='up'       )[0][y0::y_step, x0::x_step][:y_num, :x_num]\n",
    "\n",
    "# Down sample data to full res size\n",
    "lat = resize(lat, (length, width), anti_aliasing=True)\n",
    "lon = resize(lon, (length, width), anti_aliasing=True)\n",
    "hgt = resize(hgt, (length, width), anti_aliasing=True)\n",
    "lkv_e = resize(lkv_e, (length, width), anti_aliasing=True)\n",
    "lkv_n = resize(lkv_n, (length, width), anti_aliasing=True)\n",
    "lkv_u = resize(lkv_u, (length, width), anti_aliasing=True)\n",
    "\n",
    "# normalize the look vector\n",
    "lkv_amp = np.sqrt(lkv_e**2 + lkv_n**2 + lkv_u**2)\n",
    "lkv_e /= lkv_amp\n",
    "lkv_n /= lkv_amp\n",
    "lkv_u /= lkv_amp\n",
    "\n",
    "# look vector to LOS incidence and azimuth angle\n",
    "inc_angle = np.rad2deg(np.arccos(lkv_u * -1))\n",
    "az_angle = np.rad2deg(np.arcsin(lkv_e / np.sin(np.deg2rad(inc_angle)) * -1))\n",
    "\n",
    "print ('Reading and resizeing done, file size and type is: ', lat.shape, lat.dtype)"
   ]
  },
  {
   "cell_type": "code",
   "execution_count": 6,
   "id": "e0083755-21a5-40c1-94a3-5369433862cd",
   "metadata": {},
   "outputs": [],
   "source": [
    "# # plot for visual inspection\n",
    "# fig, axs = plt.subplots(nrows=1, ncols=8, figsize=[15, 4.5], sharey=True)\n",
    "# data_list = [lat, lon, hgt, lkv_e, lkv_n, lkv_u, inc_angle, az_angle]\n",
    "# title_list = ['lat', 'lon', 'hgt', 'east', 'north', 'up', 'inc_angle', 'az_angle']\n",
    "# for ax, data, title in zip(axs, data_list, title_list):\n",
    "#     im = ax.imshow(data, interpolation='nearest');  fig.colorbar(im, ax=ax);  ax.set_title(title)\n",
    "# fig.tight_layout()\n",
    "# plt.show()"
   ]
  },
  {
   "cell_type": "code",
   "execution_count": 6,
   "id": "70b1a0dc-6790-43ae-b639-9b7a7ee632a4",
   "metadata": {},
   "outputs": [
    {
     "name": "stdout",
     "output_type": "stream",
     "text": [
      "write file: /mnt/Backups/gbrench/repos/rg_uavsar/data/swatch_17304_s2/geom_reference/geometry1x1/hgt.rdr\n",
      "write file: /mnt/Backups/gbrench/repos/rg_uavsar/data/swatch_17304_s2/geom_reference/geometry1x1/hgt.rdr.rsc\n",
      "write file: /mnt/Backups/gbrench/repos/rg_uavsar/data/swatch_17304_s2/geom_reference/geometry1x1/hgt.rdr.xml\n",
      "write file: /mnt/Backups/gbrench/repos/rg_uavsar/data/swatch_17304_s2/geom_reference/geometry1x1/hgt.rdr.vrt\n",
      "write file: /mnt/Backups/gbrench/repos/rg_uavsar/data/swatch_17304_s2/geom_reference/geometry1x1/lat.rdr\n",
      "write file: /mnt/Backups/gbrench/repos/rg_uavsar/data/swatch_17304_s2/geom_reference/geometry1x1/lat.rdr.rsc\n",
      "write file: /mnt/Backups/gbrench/repos/rg_uavsar/data/swatch_17304_s2/geom_reference/geometry1x1/lat.rdr.xml\n",
      "write file: /mnt/Backups/gbrench/repos/rg_uavsar/data/swatch_17304_s2/geom_reference/geometry1x1/lat.rdr.vrt\n",
      "write file: /mnt/Backups/gbrench/repos/rg_uavsar/data/swatch_17304_s2/geom_reference/geometry1x1/lon.rdr\n",
      "write file: /mnt/Backups/gbrench/repos/rg_uavsar/data/swatch_17304_s2/geom_reference/geometry1x1/lon.rdr.rsc\n",
      "write file: /mnt/Backups/gbrench/repos/rg_uavsar/data/swatch_17304_s2/geom_reference/geometry1x1/lon.rdr.xml\n",
      "write file: /mnt/Backups/gbrench/repos/rg_uavsar/data/swatch_17304_s2/geom_reference/geometry1x1/lon.rdr.vrt\n",
      "write file: /mnt/Backups/gbrench/repos/rg_uavsar/data/swatch_17304_s2/geom_reference/geometry1x1/los.rdr\n",
      "write file: /mnt/Backups/gbrench/repos/rg_uavsar/data/swatch_17304_s2/geom_reference/geometry1x1/los.rdr.rsc\n",
      "write file: /mnt/Backups/gbrench/repos/rg_uavsar/data/swatch_17304_s2/geom_reference/geometry1x1/los.rdr.xml\n",
      "write file: /mnt/Backups/gbrench/repos/rg_uavsar/data/swatch_17304_s2/geom_reference/geometry1x1/los.rdr.vrt\n"
     ]
    }
   ],
   "source": [
    "# output\n",
    "hgt_file = os.path.join(geom_dir, 'hgt.rdr')\n",
    "lat_file = os.path.join(geom_dir, 'lat.rdr')\n",
    "lon_file = os.path.join(geom_dir, 'lon.rdr')\n",
    "los_file = os.path.join(geom_dir, 'los.rdr')\n",
    "\n",
    "meta={'BANDS': '1',\n",
    "      'DATA_TYPE': 'float32',\n",
    "      'FILE_TYPE': 'hgt',\n",
    "      'FILE_LENGTH': str(lat.shape[0]), \n",
    "      'LENGTH': str(lat.shape[0]) ,\n",
    "      'WIDTH': str(lat.shape[1]),\n",
    "      'length': str(lat.shape[0]),\n",
    "      'width': str(lat.shape[1])}\n",
    "\n",
    "writefile.write(hgt, out_file=hgt_file, metadata=meta)  \n",
    "writefile.write_isce_xml(meta, hgt_file)\n",
    "writefile.write(lat, out_file=lat_file, metadata=meta)  \n",
    "writefile.write_isce_xml(meta, lat_file)\n",
    "writefile.write(lon, out_file=lon_file, metadata=meta)\n",
    "writefile.write_isce_xml(meta, lon_file)\n",
    "\n",
    "meta['BANDS'] = '2'\n",
    "meta['INTERLEAVE'] = 'BIL'\n",
    "\n",
    "ds_dict = {'incidenceAngle': inc_angle, 'azimuthAngle': az_angle}\n",
    "writefile.write(ds_dict, out_file=los_file, metadata=meta)  \n",
    "writefile.write_isce_xml(meta, los_file)"
   ]
  },
  {
   "cell_type": "markdown",
   "id": "5f676254-e7ea-4781-a48b-d8349f0f3bf3",
   "metadata": {},
   "source": [
    "### Final Notes:\n",
    "- Outputs can be multilooked using looks.py from ISCE or any other algorithm of choice. "
   ]
  },
  {
   "cell_type": "code",
   "execution_count": 8,
   "id": "89d060fe-2f49-471b-a203-d50ba487188f",
   "metadata": {},
   "outputs": [],
   "source": [
    "# !bash ./run_multilook_geometry.sh 8 3 #desired azimuth and range looks "
   ]
  }
 ],
 "metadata": {
  "kernelspec": {
   "display_name": "Python 3 (ipykernel)",
   "language": "python",
   "name": "python3"
  },
  "language_info": {
   "codemirror_mode": {
    "name": "ipython",
    "version": 3
   },
   "file_extension": ".py",
   "mimetype": "text/x-python",
   "name": "python",
   "nbconvert_exporter": "python",
   "pygments_lexer": "ipython3",
   "version": "3.11.6"
  }
 },
 "nbformat": 4,
 "nbformat_minor": 5
}
